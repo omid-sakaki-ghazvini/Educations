{
  "cells": [
    {
      "cell_type": "markdown",
      "metadata": {
        "id": "view-in-github",
        "colab_type": "text"
      },
      "source": [
        "<a href=\"https://colab.research.google.com/github/omid-sakaki-ghazvini/Educations/blob/main/%D8%AF%DB%8C%DA%A9%D8%B4%D9%86%D8%B1%DB%8C.ipynb\" target=\"_parent\"><img src=\"https://colab.research.google.com/assets/colab-badge.svg\" alt=\"Open In Colab\"/></a>"
      ]
    },
    {
      "cell_type": "markdown",
      "id": "8759a254",
      "metadata": {
        "id": "8759a254"
      },
      "source": [
        "# دیکشنری"
      ]
    },
    {
      "cell_type": "markdown",
      "id": "dc86bac0",
      "metadata": {
        "id": "dc86bac0"
      },
      "source": [
        "\n",
        "# دیکشنری: ساختار داده ای هست که مشابه لیستها هست با این تفاوت که برای دسترسی به اعضای آن از دو مقدار\n",
        "# key\n",
        "# value\n",
        "# استفاده میکنیم"
      ]
    },
    {
      "cell_type": "markdown",
      "id": "b9fee799",
      "metadata": {
        "id": "b9fee799"
      },
      "source": [
        "## **dictionary**"
      ]
    },
    {
      "cell_type": "markdown",
      "id": "e9d366fa",
      "metadata": {
        "id": "e9d366fa"
      },
      "source": [
        "## مثال:"
      ]
    },
    {
      "cell_type": "code",
      "execution_count": null,
      "id": "d0057b3c",
      "metadata": {
        "id": "d0057b3c"
      },
      "outputs": [],
      "source": [
        "a =[1,2,3] #list\n",
        "\n",
        "b =(1,2,3) #tuple"
      ]
    },
    {
      "cell_type": "code",
      "execution_count": null,
      "id": "225d996d",
      "metadata": {
        "id": "225d996d"
      },
      "outputs": [],
      "source": [
        "a = {'Ardabil' : 45 , 'Alborz' : 26 , 'Tehran' : 21 , 'Semnan' : 23}"
      ]
    },
    {
      "cell_type": "code",
      "execution_count": null,
      "id": "2a2f7ee0",
      "metadata": {
        "id": "2a2f7ee0",
        "outputId": "a7053a1b-f25d-4305-9bf1-34fb460311f6"
      },
      "outputs": [
        {
          "name": "stdout",
          "output_type": "stream",
          "text": [
            "<class 'dict'>\n",
            "4\n"
          ]
        }
      ],
      "source": [
        "print(type(a))\n",
        "print(len(a))"
      ]
    },
    {
      "cell_type": "code",
      "execution_count": null,
      "id": "ace72347",
      "metadata": {
        "id": "ace72347",
        "outputId": "992ab9d1-5423-4717-a045-554317b10509"
      },
      "outputs": [
        {
          "data": {
            "text/plain": [
              "26"
            ]
          },
          "execution_count": 3,
          "metadata": {},
          "output_type": "execute_result"
        }
      ],
      "source": [
        "a['Alborz']"
      ]
    },
    {
      "cell_type": "code",
      "execution_count": null,
      "id": "1e434750",
      "metadata": {
        "id": "1e434750",
        "outputId": "6c2b515f-6a94-4feb-ba81-74d798434e03"
      },
      "outputs": [
        {
          "data": {
            "text/plain": [
              "26"
            ]
          },
          "execution_count": 4,
          "metadata": {},
          "output_type": "execute_result"
        }
      ],
      "source": [
        "a.get('Alborz')"
      ]
    },
    {
      "cell_type": "code",
      "execution_count": null,
      "id": "d5171c46",
      "metadata": {
        "id": "d5171c46",
        "outputId": "9f3cd404-9bfe-4a4c-e35a-9f330b3d170e"
      },
      "outputs": [
        {
          "data": {
            "text/plain": [
              "dict_keys(['Ardabil', 'Alborz', 'Tehran', 'Semnan'])"
            ]
          },
          "execution_count": 5,
          "metadata": {},
          "output_type": "execute_result"
        }
      ],
      "source": [
        "a.keys()"
      ]
    },
    {
      "cell_type": "code",
      "execution_count": null,
      "id": "76e0ee4e",
      "metadata": {
        "id": "76e0ee4e",
        "outputId": "d263f4db-ec45-4689-87c7-5f7625126ac3"
      },
      "outputs": [
        {
          "data": {
            "text/plain": [
              "['Ardabil', 'Alborz', 'Tehran', 'Semnan']"
            ]
          },
          "execution_count": 6,
          "metadata": {},
          "output_type": "execute_result"
        }
      ],
      "source": [
        "list(a.keys())"
      ]
    },
    {
      "cell_type": "code",
      "execution_count": null,
      "id": "6eb6131a",
      "metadata": {
        "id": "6eb6131a",
        "outputId": "3e746c65-20b1-40c3-c929-8871bcbcb964"
      },
      "outputs": [
        {
          "data": {
            "text/plain": [
              "dict_values([45, 26, 21, 23])"
            ]
          },
          "execution_count": 7,
          "metadata": {},
          "output_type": "execute_result"
        }
      ],
      "source": [
        "a.values()"
      ]
    },
    {
      "cell_type": "code",
      "execution_count": null,
      "id": "212f1005",
      "metadata": {
        "id": "212f1005",
        "outputId": "21f5b7fa-aace-4e6b-cd85-4d15855590d0"
      },
      "outputs": [
        {
          "data": {
            "text/plain": [
              "[45, 26, 21, 23]"
            ]
          },
          "execution_count": 8,
          "metadata": {},
          "output_type": "execute_result"
        }
      ],
      "source": [
        "list(a.values())"
      ]
    },
    {
      "cell_type": "code",
      "execution_count": null,
      "id": "faf4cac9",
      "metadata": {
        "id": "faf4cac9",
        "outputId": "aff8974a-01eb-47e4-cfcf-8f37f9a446b4"
      },
      "outputs": [
        {
          "data": {
            "text/plain": [
              "dict_items([('Ardabil', 45), ('Alborz', 26), ('Tehran', 21), ('Semnan', 23)])"
            ]
          },
          "execution_count": 9,
          "metadata": {},
          "output_type": "execute_result"
        }
      ],
      "source": [
        "a.items()"
      ]
    },
    {
      "cell_type": "code",
      "execution_count": null,
      "id": "3638d98d",
      "metadata": {
        "id": "3638d98d",
        "outputId": "2b31b33d-b333-4d55-9b0c-6b9254a063a1"
      },
      "outputs": [
        {
          "data": {
            "text/plain": [
              "[('Ardabil', 45), ('Alborz', 26), ('Tehran', 21), ('Semnan', 23)]"
            ]
          },
          "execution_count": 10,
          "metadata": {},
          "output_type": "execute_result"
        }
      ],
      "source": [
        "list(a.items())"
      ]
    },
    {
      "cell_type": "code",
      "execution_count": null,
      "id": "73f10fbb",
      "metadata": {
        "id": "73f10fbb",
        "outputId": "8210a95d-f685-4b41-a608-0c807bdc87bc"
      },
      "outputs": [
        {
          "name": "stdout",
          "output_type": "stream",
          "text": [
            "1\n",
            "2\n",
            "3\n"
          ]
        }
      ],
      "source": [
        "b = (1,2,3)\n",
        "for i in b:\n",
        "    print(i)"
      ]
    },
    {
      "cell_type": "code",
      "execution_count": null,
      "id": "8f7902a6",
      "metadata": {
        "id": "8f7902a6",
        "outputId": "bfc53b15-0e04-4cb3-9500-6f1bbc55f289"
      },
      "outputs": [
        {
          "name": "stdout",
          "output_type": "stream",
          "text": [
            "Ardabil : 45\n",
            "Alborz : 26\n",
            "Tehran : 21\n",
            "Semnan : 23\n"
          ]
        }
      ],
      "source": [
        "for i,j in a.items():\n",
        "    print(i,':',j)"
      ]
    },
    {
      "cell_type": "code",
      "execution_count": null,
      "id": "bcd501ce",
      "metadata": {
        "id": "bcd501ce"
      },
      "outputs": [],
      "source": [
        "a = {'Ardabil' : 45 , 'Alborz' : 26 , 'Tehran' : 21 , 'Semnan' : 23}"
      ]
    },
    {
      "cell_type": "code",
      "execution_count": null,
      "id": "d0c9ba15",
      "metadata": {
        "id": "d0c9ba15",
        "outputId": "cdf99f8d-80ed-4154-d77e-8ff8f3f29d36"
      },
      "outputs": [
        {
          "data": {
            "text/plain": [
              "{'Ardabil': 45, 'Alborz': 26, 'Tehran': 21, 'Semnan': 23}"
            ]
          },
          "execution_count": 27,
          "metadata": {},
          "output_type": "execute_result"
        }
      ],
      "source": [
        "a"
      ]
    },
    {
      "cell_type": "code",
      "execution_count": null,
      "id": "4467e00c",
      "metadata": {
        "id": "4467e00c"
      },
      "outputs": [],
      "source": []
    },
    {
      "cell_type": "code",
      "execution_count": null,
      "id": "d3f3902c",
      "metadata": {
        "id": "d3f3902c",
        "outputId": "e5bc5cf6-2048-41c7-e5a9-2bfa5e3cfaa4"
      },
      "outputs": [
        {
          "ename": "KeyError",
          "evalue": "'Semnan'",
          "output_type": "error",
          "traceback": [
            "\u001b[1;31m---------------------------------------------------------------------------\u001b[0m",
            "\u001b[1;31mKeyError\u001b[0m                                  Traceback (most recent call last)",
            "Cell \u001b[1;32mIn[30], line 1\u001b[0m\n\u001b[1;32m----> 1\u001b[0m b \u001b[38;5;241m=\u001b[39m a\u001b[38;5;241m.\u001b[39mpop(\u001b[38;5;124m'\u001b[39m\u001b[38;5;124mSemnan\u001b[39m\u001b[38;5;124m'\u001b[39m)    \n\u001b[0;32m      2\u001b[0m \u001b[38;5;28mprint\u001b[39m(a)\n\u001b[0;32m      3\u001b[0m \u001b[38;5;28mprint\u001b[39m(b)\n",
            "\u001b[1;31mKeyError\u001b[0m: 'Semnan'"
          ]
        }
      ],
      "source": [
        "b = a.pop('Semnan')\n",
        "print(a)\n",
        "print(b)"
      ]
    },
    {
      "cell_type": "code",
      "execution_count": null,
      "id": "edd12589",
      "metadata": {
        "id": "edd12589",
        "outputId": "7e7df76a-0bba-4ce7-ca32-408bd044e77e"
      },
      "outputs": [
        {
          "name": "stdout",
          "output_type": "stream",
          "text": [
            "{'Ardabil': 45, 'Alborz': 26}\n",
            "('Tehran', 21)\n"
          ]
        }
      ],
      "source": [
        "b= a.popitem()\n",
        "print(a)\n",
        "print(b)"
      ]
    },
    {
      "cell_type": "code",
      "execution_count": null,
      "id": "99b4429e",
      "metadata": {
        "id": "99b4429e",
        "outputId": "0d63ed1c-533c-454e-81d5-f52458855ab5"
      },
      "outputs": [
        {
          "name": "stdout",
          "output_type": "stream",
          "text": [
            "{}\n"
          ]
        }
      ],
      "source": [
        "a.clear()\n",
        "print(a)"
      ]
    },
    {
      "cell_type": "code",
      "execution_count": null,
      "id": "76610e27",
      "metadata": {
        "id": "76610e27"
      },
      "outputs": [],
      "source": [
        "del a"
      ]
    },
    {
      "cell_type": "code",
      "execution_count": null,
      "id": "5d8c66b9",
      "metadata": {
        "id": "5d8c66b9",
        "outputId": "a94d4d55-aa75-4edd-9e33-b07f5268e0cf"
      },
      "outputs": [
        {
          "ename": "NameError",
          "evalue": "name 'a' is not defined",
          "output_type": "error",
          "traceback": [
            "\u001b[1;31m---------------------------------------------------------------------------\u001b[0m",
            "\u001b[1;31mNameError\u001b[0m                                 Traceback (most recent call last)",
            "Cell \u001b[1;32mIn[34], line 1\u001b[0m\n\u001b[1;32m----> 1\u001b[0m a\n",
            "\u001b[1;31mNameError\u001b[0m: name 'a' is not defined"
          ]
        }
      ],
      "source": [
        "a"
      ]
    },
    {
      "cell_type": "code",
      "execution_count": null,
      "id": "75fed4fa",
      "metadata": {
        "id": "75fed4fa"
      },
      "outputs": [],
      "source": []
    },
    {
      "cell_type": "code",
      "execution_count": null,
      "id": "fdbbddbc",
      "metadata": {
        "id": "fdbbddbc"
      },
      "outputs": [],
      "source": []
    },
    {
      "cell_type": "markdown",
      "id": "1badc73c",
      "metadata": {
        "id": "1badc73c"
      },
      "source": [
        "## تمرین 1 امتیازی:"
      ]
    },
    {
      "cell_type": "markdown",
      "id": "899a7a43",
      "metadata": {
        "id": "899a7a43"
      },
      "source": [
        "## یادآوری:"
      ]
    },
    {
      "cell_type": "code",
      "execution_count": null,
      "id": "ea50c3a0",
      "metadata": {
        "id": "ea50c3a0"
      },
      "outputs": [],
      "source": [
        "a = ['انگور', 'سیب', 'موز', 'انگور', 'پرتغال', 'سیب', 'موز', 'انگور']"
      ]
    },
    {
      "cell_type": "code",
      "execution_count": null,
      "id": "3089faec",
      "metadata": {
        "id": "3089faec"
      },
      "outputs": [],
      "source": [
        "def my_count(example):\n",
        "    num = 0\n",
        "    for i in a:\n",
        "        if i == example:\n",
        "            num = num + 1\n",
        "    return(num)"
      ]
    },
    {
      "cell_type": "code",
      "execution_count": null,
      "id": "c7cde6ae",
      "metadata": {
        "id": "c7cde6ae"
      },
      "outputs": [],
      "source": [
        "my_count('انگور')"
      ]
    },
    {
      "cell_type": "markdown",
      "id": "a585ebc3",
      "metadata": {
        "id": "a585ebc3"
      },
      "source": [
        "## input:"
      ]
    },
    {
      "cell_type": "code",
      "execution_count": null,
      "id": "2c355dd6",
      "metadata": {
        "id": "2c355dd6"
      },
      "outputs": [],
      "source": [
        "a = ['amir', 'omid', 'zahra', 'amir', 'ehsan', 'omid', 'zahra', 'amir']"
      ]
    },
    {
      "cell_type": "markdown",
      "id": "aaf2d5f7",
      "metadata": {
        "id": "aaf2d5f7"
      },
      "source": [
        "## output:"
      ]
    },
    {
      "cell_type": "code",
      "execution_count": null,
      "id": "d97f1ba1",
      "metadata": {
        "id": "d97f1ba1"
      },
      "outputs": [],
      "source": [
        "{'amir': 3, 'omid': 2, 'zahra': 2, 'ehsan': 1}"
      ]
    },
    {
      "cell_type": "code",
      "execution_count": null,
      "id": "beb317c8",
      "metadata": {
        "id": "beb317c8"
      },
      "outputs": [],
      "source": [
        "a = ['amir', 'omid', 'zahra', 'amir', 'ehsan', 'omid', 'zahra', 'amir']"
      ]
    },
    {
      "cell_type": "code",
      "execution_count": null,
      "id": "bd4f8bbc",
      "metadata": {
        "id": "bd4f8bbc"
      },
      "outputs": [],
      "source": []
    },
    {
      "cell_type": "code",
      "execution_count": null,
      "id": "4c24819e",
      "metadata": {
        "id": "4c24819e"
      },
      "outputs": [],
      "source": []
    },
    {
      "cell_type": "code",
      "execution_count": null,
      "id": "c4c4d2e7",
      "metadata": {
        "id": "c4c4d2e7"
      },
      "outputs": [],
      "source": [
        "def my_counter(example):\n",
        "    num = {}\n",
        "    for i in example :\n",
        "        if i not in num:\n",
        "            num[i] = 1\n",
        "        else:\n",
        "            num[i] = num[i] + 1\n",
        "    return(num)"
      ]
    },
    {
      "cell_type": "code",
      "execution_count": null,
      "id": "21e1da7a",
      "metadata": {
        "id": "21e1da7a",
        "outputId": "c2440e30-427a-49ce-c963-0347049ec945"
      },
      "outputs": [
        {
          "data": {
            "text/plain": [
              "{'amir': 3, 'omid': 2, 'zahra': 2, 'ehsan': 1}"
            ]
          },
          "execution_count": 37,
          "metadata": {},
          "output_type": "execute_result"
        }
      ],
      "source": [
        "my_counter(a)"
      ]
    },
    {
      "cell_type": "code",
      "execution_count": null,
      "id": "e3de0fd0",
      "metadata": {
        "id": "e3de0fd0"
      },
      "outputs": [],
      "source": []
    },
    {
      "cell_type": "markdown",
      "id": "eaa03ffe",
      "metadata": {
        "id": "eaa03ffe"
      },
      "source": [
        "## مثال:"
      ]
    },
    {
      "cell_type": "markdown",
      "id": "4f0807d2",
      "metadata": {
        "id": "4f0807d2"
      },
      "source": [
        "## input:"
      ]
    },
    {
      "cell_type": "markdown",
      "id": "8f910e21",
      "metadata": {
        "id": "8f910e21"
      },
      "source": [
        "    std    num1 num2\n",
        "    \n",
        " \tahmad \t12 \t20\n",
        " \tomid \t8 \t19\n",
        " \tamir \t10 \t13\n",
        " \tzahra \t18 \t10\n",
        " \tehsan \t15 \t11\n",
        " \tdorsa \t20 \t15"
      ]
    },
    {
      "cell_type": "code",
      "execution_count": null,
      "id": "055ad854",
      "metadata": {
        "id": "055ad854"
      },
      "outputs": [],
      "source": []
    },
    {
      "cell_type": "markdown",
      "id": "6eca4d71",
      "metadata": {
        "id": "6eca4d71"
      },
      "source": [
        "## output:"
      ]
    },
    {
      "cell_type": "markdown",
      "id": "497ebba4",
      "metadata": {
        "id": "497ebba4"
      },
      "source": [
        "    std \tave\n",
        "    \n",
        " \tahmad \t32\n",
        " \tomid \t27\n",
        " \tamir \t23\n",
        " \tzahra \t28\n",
        " \tehsan \t26\n",
        " \tdorsa \t35"
      ]
    },
    {
      "cell_type": "code",
      "execution_count": null,
      "id": "e7766846",
      "metadata": {
        "id": "e7766846"
      },
      "outputs": [],
      "source": []
    },
    {
      "cell_type": "code",
      "execution_count": null,
      "id": "4977ec65",
      "metadata": {
        "id": "4977ec65",
        "outputId": "e8d4c775-4347-471c-cf63-87f888f1e757"
      },
      "outputs": [
        {
          "data": {
            "text/plain": [
              "{'std': ['ahmad', 'omid', 'amir', 'zahra', 'ehsan', 'dorsa'],\n",
              " 'num1': [12, 8, 10, 18, 15, 20],\n",
              " 'num2': [20, 19, 13, 10, 11, 15]}"
            ]
          },
          "execution_count": 38,
          "metadata": {},
          "output_type": "execute_result"
        }
      ],
      "source": [
        "person = {'std' : ['ahmad', 'omid', 'amir', 'zahra', 'ehsan', 'dorsa'],\n",
        "          'num1' : [12, 8, 10, 18, 15, 20],\n",
        "          'num2' : [20, 19, 13, 10, 11, 15]}\n",
        "person"
      ]
    },
    {
      "cell_type": "code",
      "execution_count": null,
      "id": "f38f7969",
      "metadata": {
        "id": "f38f7969"
      },
      "outputs": [],
      "source": []
    },
    {
      "cell_type": "code",
      "execution_count": null,
      "id": "3c62a1c0",
      "metadata": {
        "id": "3c62a1c0",
        "outputId": "8d5b5b1c-f785-4d1c-ef4e-209246cb7155"
      },
      "outputs": [
        {
          "data": {
            "text/plain": [
              "('num2', [20, 19, 13, 10, 11, 15])"
            ]
          },
          "execution_count": 39,
          "metadata": {},
          "output_type": "execute_result"
        }
      ],
      "source": [
        "a = person.popitem()\n",
        "\n",
        "a"
      ]
    },
    {
      "cell_type": "code",
      "execution_count": null,
      "id": "477aa18b",
      "metadata": {
        "id": "477aa18b",
        "outputId": "147f338c-33ec-4af3-f093-bb4f403433e4"
      },
      "outputs": [
        {
          "data": {
            "text/plain": [
              "[20, 19, 13, 10, 11, 15]"
            ]
          },
          "execution_count": 40,
          "metadata": {},
          "output_type": "execute_result"
        }
      ],
      "source": [
        "a= a[1]\n",
        "\n",
        "a"
      ]
    },
    {
      "cell_type": "code",
      "execution_count": null,
      "id": "1a3bcac7",
      "metadata": {
        "id": "1a3bcac7"
      },
      "outputs": [],
      "source": []
    },
    {
      "cell_type": "code",
      "execution_count": null,
      "id": "63c42ef7",
      "metadata": {
        "id": "63c42ef7",
        "outputId": "c272e71a-b5bb-4ab9-e660-de0c4f4e7e88"
      },
      "outputs": [
        {
          "data": {
            "text/plain": [
              "('num1', [12, 8, 10, 18, 15, 20])"
            ]
          },
          "execution_count": 41,
          "metadata": {},
          "output_type": "execute_result"
        }
      ],
      "source": [
        "b=person.popitem()\n",
        "\n",
        "b"
      ]
    },
    {
      "cell_type": "code",
      "execution_count": null,
      "id": "8f31ca68",
      "metadata": {
        "id": "8f31ca68",
        "outputId": "3992c8ed-8b8b-47bf-eb5d-c86b957e015a"
      },
      "outputs": [
        {
          "data": {
            "text/plain": [
              "[12, 8, 10, 18, 15, 20]"
            ]
          },
          "execution_count": 42,
          "metadata": {},
          "output_type": "execute_result"
        }
      ],
      "source": [
        "b=b[1]\n",
        "b"
      ]
    },
    {
      "cell_type": "code",
      "execution_count": null,
      "id": "0617bc65",
      "metadata": {
        "id": "0617bc65"
      },
      "outputs": [],
      "source": []
    },
    {
      "cell_type": "code",
      "execution_count": null,
      "id": "fdd57c78",
      "metadata": {
        "id": "fdd57c78",
        "outputId": "a8fbb058-4934-48bb-abbf-589b11fcb016"
      },
      "outputs": [
        {
          "data": {
            "text/plain": [
              "['ahmad', 'omid', 'amir', 'zahra', 'ehsan', 'dorsa']"
            ]
          },
          "execution_count": 43,
          "metadata": {},
          "output_type": "execute_result"
        }
      ],
      "source": [
        "c=person.popitem()\n",
        "c=c[1]\n",
        "c"
      ]
    },
    {
      "cell_type": "code",
      "execution_count": null,
      "id": "1d037077",
      "metadata": {
        "id": "1d037077",
        "outputId": "5cc15d94-d950-41be-dd9b-9d64bc977216"
      },
      "outputs": [
        {
          "name": "stdout",
          "output_type": "stream",
          "text": [
            "[20, 19, 13, 10, 11, 15]\n",
            "[12, 8, 10, 18, 15, 20]\n",
            "['ahmad', 'omid', 'amir', 'zahra', 'ehsan', 'dorsa']\n"
          ]
        }
      ],
      "source": [
        "print(a)\n",
        "print(b)\n",
        "print(c)"
      ]
    },
    {
      "cell_type": "code",
      "execution_count": null,
      "id": "646ffbf3",
      "metadata": {
        "id": "646ffbf3"
      },
      "outputs": [],
      "source": [
        "d=zip(a,b,c)"
      ]
    },
    {
      "cell_type": "code",
      "execution_count": null,
      "id": "07a0a9ff",
      "metadata": {
        "id": "07a0a9ff",
        "outputId": "340ea73c-68a6-48bb-a701-047604c868ed"
      },
      "outputs": [
        {
          "data": {
            "text/plain": [
              "[(20, 12, 'ahmad'),\n",
              " (19, 8, 'omid'),\n",
              " (13, 10, 'amir'),\n",
              " (10, 18, 'zahra'),\n",
              " (11, 15, 'ehsan'),\n",
              " (15, 20, 'dorsa')]"
            ]
          },
          "execution_count": 46,
          "metadata": {},
          "output_type": "execute_result"
        }
      ],
      "source": [
        "d=list(d)\n",
        "d"
      ]
    },
    {
      "cell_type": "code",
      "execution_count": null,
      "id": "627f2a53",
      "metadata": {
        "id": "627f2a53",
        "outputId": "837db42b-9f3c-4a0c-a1f6-e312c36bb4ba"
      },
      "outputs": [
        {
          "data": {
            "text/plain": [
              "(20, 12, 'ahmad')"
            ]
          },
          "execution_count": 47,
          "metadata": {},
          "output_type": "execute_result"
        }
      ],
      "source": [
        "d[0]"
      ]
    },
    {
      "cell_type": "code",
      "execution_count": null,
      "id": "58ed7e4f",
      "metadata": {
        "id": "58ed7e4f",
        "outputId": "a8c5fbb7-ffae-465a-c9a9-9ac43b9e85ad"
      },
      "outputs": [
        {
          "data": {
            "text/plain": [
              "20"
            ]
          },
          "execution_count": 48,
          "metadata": {},
          "output_type": "execute_result"
        }
      ],
      "source": [
        "d[0][0]"
      ]
    },
    {
      "cell_type": "code",
      "execution_count": null,
      "id": "1f7c865d",
      "metadata": {
        "id": "1f7c865d",
        "outputId": "ba843133-5acc-4126-eaf2-f6357ca5a01c"
      },
      "outputs": [
        {
          "data": {
            "text/plain": [
              "12"
            ]
          },
          "execution_count": 49,
          "metadata": {},
          "output_type": "execute_result"
        }
      ],
      "source": [
        "d[0][1]"
      ]
    },
    {
      "cell_type": "code",
      "execution_count": null,
      "id": "e109401a",
      "metadata": {
        "id": "e109401a",
        "outputId": "02a072b1-85b8-43ce-e0df-4c2987f8ff4a"
      },
      "outputs": [
        {
          "data": {
            "text/plain": [
              "'ahmad'"
            ]
          },
          "execution_count": 50,
          "metadata": {},
          "output_type": "execute_result"
        }
      ],
      "source": [
        "d[0][2]"
      ]
    },
    {
      "cell_type": "code",
      "execution_count": null,
      "id": "7033a274",
      "metadata": {
        "id": "7033a274",
        "outputId": "d77494d8-32bc-438d-e158-aea8049e539f"
      },
      "outputs": [
        {
          "data": {
            "text/plain": [
              "32"
            ]
          },
          "execution_count": 51,
          "metadata": {},
          "output_type": "execute_result"
        }
      ],
      "source": [
        "x = d[0][0] + d[0][1]\n",
        "x"
      ]
    },
    {
      "cell_type": "code",
      "execution_count": null,
      "id": "24d99c8f",
      "metadata": {
        "id": "24d99c8f"
      },
      "outputs": [],
      "source": []
    },
    {
      "cell_type": "code",
      "execution_count": null,
      "id": "e0aff42f",
      "metadata": {
        "id": "e0aff42f"
      },
      "outputs": [],
      "source": [
        "def my_ave(this_dict):\n",
        "    std = []\n",
        "    ave = []\n",
        "\n",
        "    a = this_dict.popitem()\n",
        "    a = a[1]\n",
        "    b = this_dict.popitem()\n",
        "    b = b[1]\n",
        "    c = this_dict.popitem()\n",
        "    c = c[1]\n",
        "\n",
        "    d = zip(a,b,c)\n",
        "    d = list(d)\n",
        "\n",
        "    for i in range(len(a)):\n",
        "        x = d[i][0]\n",
        "        y = d[i][1]\n",
        "        ave.append(x + y)\n",
        "        std.append(d[i][2])\n",
        "    return(dict(std = std, ave = ave))"
      ]
    },
    {
      "cell_type": "code",
      "execution_count": null,
      "id": "2070c43a",
      "metadata": {
        "id": "2070c43a",
        "outputId": "1d41f2c1-358a-4279-f60e-289ddec41840"
      },
      "outputs": [
        {
          "data": {
            "text/plain": [
              "{'std': ['ahmad', 'omid', 'amir', 'zahra', 'ehsan', 'dorsa'],\n",
              " 'num1': [12, 8, 10, 18, 15, 20],\n",
              " 'num2': [20, 19, 13, 10, 11, 15]}"
            ]
          },
          "execution_count": 53,
          "metadata": {},
          "output_type": "execute_result"
        }
      ],
      "source": [
        "person = {'std' : ['ahmad', 'omid', 'amir', 'zahra', 'ehsan', 'dorsa'],\n",
        "          'num1' : [12, 8, 10, 18, 15, 20],\n",
        "          'num2' : [20, 19, 13, 10, 11, 15]}\n",
        "person"
      ]
    },
    {
      "cell_type": "code",
      "execution_count": null,
      "id": "f15af718",
      "metadata": {
        "id": "f15af718",
        "outputId": "6e043db8-be3d-4c64-d7e0-e9cb82a0b16f"
      },
      "outputs": [
        {
          "data": {
            "text/plain": [
              "{'std': ['ahmad', 'omid', 'amir', 'zahra', 'ehsan', 'dorsa'],\n",
              " 'ave': [32, 27, 23, 28, 26, 35]}"
            ]
          },
          "execution_count": 54,
          "metadata": {},
          "output_type": "execute_result"
        }
      ],
      "source": [
        "my_ave(person)"
      ]
    },
    {
      "cell_type": "code",
      "execution_count": null,
      "id": "bb164cc2",
      "metadata": {
        "id": "bb164cc2"
      },
      "outputs": [],
      "source": []
    },
    {
      "cell_type": "code",
      "execution_count": null,
      "id": "a0f15017",
      "metadata": {
        "id": "a0f15017"
      },
      "outputs": [],
      "source": []
    },
    {
      "cell_type": "markdown",
      "id": "f16cc129",
      "metadata": {
        "id": "f16cc129"
      },
      "source": [
        "## تمرین 4 امتیازی:"
      ]
    },
    {
      "cell_type": "markdown",
      "id": "8d1be602",
      "metadata": {
        "id": "8d1be602"
      },
      "source": [
        "## input:"
      ]
    },
    {
      "cell_type": "markdown",
      "id": "ea0af5c0",
      "metadata": {
        "id": "ea0af5c0"
      },
      "source": [
        "    std \tnum1 \tnum2\n",
        " \tahmad \t2 \t8\n",
        " \tomid \t8 \t19\n",
        " \tamir \t10 \t13\n",
        " \tzahra \t3 \t5\n",
        " \tehsan \t15 \t11\n",
        " \tdorsa \t20 \t15"
      ]
    },
    {
      "cell_type": "code",
      "execution_count": null,
      "id": "3759340e",
      "metadata": {
        "id": "3759340e"
      },
      "outputs": [],
      "source": []
    },
    {
      "cell_type": "markdown",
      "id": "ac579698",
      "metadata": {
        "id": "ac579698"
      },
      "source": [
        "## output:"
      ]
    },
    {
      "cell_type": "markdown",
      "id": "eac9846b",
      "metadata": {
        "id": "eac9846b"
      },
      "source": [
        "    std     ave passed\n",
        " \tahmad \t10 \tno\n",
        " \tomid \t27 \tyes\n",
        " \tamir \t23 \tyes\n",
        " \tzahra \t8 \tno\n",
        " \tehsan \t26 \tyes\n",
        " \tdorsa \t35 \tyes"
      ]
    },
    {
      "cell_type": "code",
      "execution_count": null,
      "id": "9c39ca44",
      "metadata": {
        "id": "9c39ca44"
      },
      "outputs": [],
      "source": []
    },
    {
      "cell_type": "code",
      "execution_count": null,
      "id": "59147106",
      "metadata": {
        "id": "59147106"
      },
      "outputs": [],
      "source": []
    },
    {
      "cell_type": "code",
      "execution_count": null,
      "id": "6efc7ed1",
      "metadata": {
        "id": "6efc7ed1",
        "outputId": "7e3585f5-da03-46c2-db0d-f6b1610f62d8"
      },
      "outputs": [
        {
          "data": {
            "text/plain": [
              "{'std': ['ahmad', 'omid', 'amir', 'zahra', 'ehsan', 'dorsa'],\n",
              " 'num1': [2, 8, 10, 3, 15, 20],\n",
              " 'num2': [8, 19, 13, 5, 11, 15]}"
            ]
          },
          "execution_count": 55,
          "metadata": {},
          "output_type": "execute_result"
        }
      ],
      "source": [
        "person = {'std' : ['ahmad', 'omid', 'amir', 'zahra', 'ehsan', 'dorsa'],\n",
        "          'num1' : [2, 8, 10, 3, 15, 20],\n",
        "          'num2' : [8, 19, 13, 5, 11, 15]}\n",
        "person"
      ]
    },
    {
      "cell_type": "code",
      "execution_count": null,
      "id": "f3f59398",
      "metadata": {
        "id": "f3f59398"
      },
      "outputs": [],
      "source": []
    },
    {
      "cell_type": "code",
      "execution_count": null,
      "id": "6d8abfed",
      "metadata": {
        "id": "6d8abfed"
      },
      "outputs": [],
      "source": [
        "def my_ave(this_dict):\n",
        "    std = []\n",
        "    ave = []\n",
        "    passed = []\n",
        "\n",
        "    a = this_dict.popitem()\n",
        "    a = a[1]\n",
        "    b = this_dict.popitem()\n",
        "    b = b[1]\n",
        "    c = this_dict.popitem()\n",
        "    c = c[1]\n",
        "\n",
        "    d = zip(a,b,c)\n",
        "    d = list(d)\n",
        "\n",
        "    for i in range(len(a)):\n",
        "        x = d[i][0]\n",
        "        y = d[i][1]\n",
        "        if (x+y)/2 >= 10:\n",
        "            passed.append('yes')\n",
        "            ave.append((x+y)/2)\n",
        "            std.append(d[i][2])\n",
        "        else:\n",
        "            passed.append('no')\n",
        "            ave.append((x+y)/2)\n",
        "            std.append(d[i][2])\n",
        "    return(dict(std=std, ave=ave, passed=passed))"
      ]
    },
    {
      "cell_type": "code",
      "execution_count": null,
      "id": "a781a584",
      "metadata": {
        "id": "a781a584"
      },
      "outputs": [],
      "source": []
    },
    {
      "cell_type": "code",
      "execution_count": null,
      "id": "b1a75dce",
      "metadata": {
        "id": "b1a75dce",
        "outputId": "c449bfad-9dff-4558-a5d6-bc2df2ae7091"
      },
      "outputs": [
        {
          "data": {
            "text/plain": [
              "{'std': ['ahmad', 'omid', 'amir', 'zahra', 'ehsan', 'dorsa'],\n",
              " 'ave': [5.0, 13.5, 11.5, 4.0, 13.0, 17.5],\n",
              " 'passed': ['no', 'yes', 'yes', 'no', 'yes', 'yes']}"
            ]
          },
          "execution_count": 57,
          "metadata": {},
          "output_type": "execute_result"
        }
      ],
      "source": [
        "my_ave(person)"
      ]
    }
  ],
  "metadata": {
    "kernelspec": {
      "display_name": "Python 3 (ipykernel)",
      "language": "python",
      "name": "python3"
    },
    "language_info": {
      "codemirror_mode": {
        "name": "ipython",
        "version": 3
      },
      "file_extension": ".py",
      "mimetype": "text/x-python",
      "name": "python",
      "nbconvert_exporter": "python",
      "pygments_lexer": "ipython3",
      "version": "3.11.5"
    },
    "colab": {
      "provenance": [],
      "include_colab_link": true
    }
  },
  "nbformat": 4,
  "nbformat_minor": 5
}