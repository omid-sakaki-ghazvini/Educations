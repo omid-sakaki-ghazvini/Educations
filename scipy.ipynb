{
  "cells": [
    {
      "cell_type": "markdown",
      "metadata": {
        "id": "view-in-github",
        "colab_type": "text"
      },
      "source": [
        "<a href=\"https://colab.research.google.com/github/omid-sakaki-ghazvini/Educations/blob/main/scipy.ipynb\" target=\"_parent\"><img src=\"https://colab.research.google.com/assets/colab-badge.svg\" alt=\"Open In Colab\"/></a>"
      ]
    },
    {
      "cell_type": "markdown",
      "id": "3d0bc3c9",
      "metadata": {
        "id": "3d0bc3c9"
      },
      "source": [
        "# scipy"
      ]
    },
    {
      "cell_type": "code",
      "execution_count": null,
      "id": "f41fdfe5",
      "metadata": {
        "id": "f41fdfe5"
      },
      "outputs": [],
      "source": [
        "import scipy"
      ]
    },
    {
      "cell_type": "markdown",
      "id": "7f67ab13",
      "metadata": {
        "id": "7f67ab13"
      },
      "source": [
        "## cluster:"
      ]
    },
    {
      "cell_type": "markdown",
      "id": "54bd0cde",
      "metadata": {
        "id": "54bd0cde"
      },
      "source": [
        "<div style=\"direction:rtl\">\n",
        "<font color='red' size=\"5px\">\n",
        " مثال:\n",
        "    </font>\n",
        "</div>"
      ]
    },
    {
      "cell_type": "code",
      "execution_count": null,
      "id": "3540e19b",
      "metadata": {
        "id": "3540e19b"
      },
      "outputs": [],
      "source": [
        "from scipy.cluster.vq import kmeans,vq,whiten"
      ]
    },
    {
      "cell_type": "code",
      "execution_count": null,
      "id": "fa2779ce",
      "metadata": {
        "id": "fa2779ce"
      },
      "outputs": [],
      "source": [
        "import numpy as np"
      ]
    },
    {
      "cell_type": "code",
      "execution_count": null,
      "id": "60192998",
      "metadata": {
        "id": "60192998"
      },
      "outputs": [],
      "source": [
        "rng = np.random.default_rng()"
      ]
    },
    {
      "cell_type": "code",
      "execution_count": null,
      "id": "8a9e1701",
      "metadata": {
        "id": "8a9e1701",
        "outputId": "5226f6aa-5c49-45f7-8c6f-977143fa8eb2"
      },
      "outputs": [
        {
          "data": {
            "text/plain": [
              "(100, 2)"
            ]
          },
          "execution_count": 5,
          "metadata": {},
          "output_type": "execute_result"
        }
      ],
      "source": [
        "a = rng.multivariate_normal([0, 0], [[4, 1], [1, 4]], size=100)\n",
        "a.shape"
      ]
    },
    {
      "cell_type": "code",
      "execution_count": null,
      "id": "4c4fb7f2",
      "metadata": {
        "id": "4c4fb7f2",
        "outputId": "70eb6ce3-a989-4e35-b1b1-9c1d21fdf8ae"
      },
      "outputs": [
        {
          "data": {
            "text/plain": [
              "(100, 2)"
            ]
          },
          "execution_count": 6,
          "metadata": {},
          "output_type": "execute_result"
        }
      ],
      "source": [
        "b = rng.multivariate_normal([30, 10],[[10, 2], [2, 1]], size=100)\n",
        "b.shape"
      ]
    },
    {
      "cell_type": "code",
      "execution_count": null,
      "id": "ce278b29",
      "metadata": {
        "id": "ce278b29"
      },
      "outputs": [],
      "source": [
        "data = np.concatenate((a, b))"
      ]
    },
    {
      "cell_type": "code",
      "execution_count": null,
      "id": "92e049c3",
      "metadata": {
        "id": "92e049c3",
        "outputId": "ded4784a-4b8c-4978-b7dc-cba8c6a319bd"
      },
      "outputs": [
        {
          "data": {
            "text/plain": [
              "(200, 2)"
            ]
          },
          "execution_count": 10,
          "metadata": {},
          "output_type": "execute_result"
        }
      ],
      "source": [
        "data.shape"
      ]
    },
    {
      "cell_type": "code",
      "execution_count": null,
      "id": "f53cae2d",
      "metadata": {
        "id": "f53cae2d"
      },
      "outputs": [],
      "source": [
        "whitened = whiten(data)"
      ]
    },
    {
      "cell_type": "code",
      "execution_count": null,
      "id": "f6581d2b",
      "metadata": {
        "id": "f6581d2b"
      },
      "outputs": [],
      "source": [
        "centroids, label = kmeans(whitened,2)"
      ]
    },
    {
      "cell_type": "code",
      "execution_count": null,
      "id": "6f4b708b",
      "metadata": {
        "id": "6f4b708b",
        "outputId": "bbbb1517-cfaf-4cf6-a17f-2548bdb2c1ab"
      },
      "outputs": [
        {
          "name": "stdout",
          "output_type": "stream",
          "text": [
            "[[1.97304597 1.92506101]\n",
            " [0.00218627 0.00960826]]\n"
          ]
        }
      ],
      "source": [
        "print(centroids)"
      ]
    },
    {
      "cell_type": "code",
      "execution_count": null,
      "id": "60095960",
      "metadata": {
        "id": "60095960",
        "outputId": "20a7bf2e-36ed-4451-8795-2b63f04abb2c"
      },
      "outputs": [
        {
          "name": "stdout",
          "output_type": "stream",
          "text": [
            "0.2818776974266474\n"
          ]
        }
      ],
      "source": [
        "print(label)"
      ]
    },
    {
      "cell_type": "code",
      "execution_count": null,
      "id": "060eb7d3",
      "metadata": {
        "id": "060eb7d3"
      },
      "outputs": [],
      "source": [
        "import matplotlib.pyplot as plt"
      ]
    },
    {
      "cell_type": "code",
      "execution_count": null,
      "id": "a7f1d896",
      "metadata": {
        "id": "a7f1d896",
        "outputId": "b6c36cf8-618d-4bfb-d57a-0f8321656539"
      },
      "outputs": [
        {
          "data": {
            "image/png": "[encoded data removed]",
            "text/plain": [
              "<Figure size 640x480 with 1 Axes>"
            ]
          },
          "metadata": {},
          "output_type": "display_data"
        }
      ],
      "source": [
        "plt.scatter(whitened[:, 0], whitened[:, 1])\n",
        "\n",
        "plt.scatter(centroids[:, 0], centroids[:, 1], c='r')\n",
        "\n",
        "plt.show()"
      ]
    },
    {
      "cell_type": "code",
      "execution_count": null,
      "id": "4869d3fb",
      "metadata": {
        "id": "4869d3fb"
      },
      "outputs": [],
      "source": [
        "test_data = rng.multivariate_normal([15, 5], [[6, 1], [1, 6]], size=10)"
      ]
    },
    {
      "cell_type": "code",
      "execution_count": null,
      "id": "21c30785",
      "metadata": {
        "id": "21c30785",
        "outputId": "ee1534b5-1549-4569-8125-75746a3f81a0"
      },
      "outputs": [
        {
          "name": "stdout",
          "output_type": "stream",
          "text": [
            "(10,)\n",
            "[0 0 0 0 0 0 0 0 0 0]\n"
          ]
        }
      ],
      "source": [
        "clx,_ = vq(test_data,centroids)\n",
        "\n",
        "print(clx.shape)\n",
        "print(clx)"
      ]
    },
    {
      "cell_type": "markdown",
      "id": "018a7083",
      "metadata": {
        "id": "018a7083"
      },
      "source": [
        "<div style=\"direction:rtl\">\n",
        "<font color='blue' size=\"5px\">\n",
        "تمرین 1 امتیازی: یک آرایه از اعداد تصادفی با 50 سطر و 5 ستون ایجاد کنید، سپس عملیات خوشبندی با 2 مرکز انجام داده و خروجی را نمایش دهید:\n",
        "    </font>\n",
        "</div>"
      ]
    },
    {
      "cell_type": "code",
      "execution_count": null,
      "id": "e68e85c8",
      "metadata": {
        "id": "e68e85c8",
        "outputId": "856df176-579c-4725-80b1-d98e255f387f"
      },
      "outputs": [
        {
          "name": "stdout",
          "output_type": "stream",
          "text": [
            "[[0.43654787 0.57774936 0.47578086 0.25270689 0.48059661]\n",
            " [0.69268335 0.51677982 0.4912412  0.76034752 0.58875837]]\n"
          ]
        }
      ],
      "source": [
        "data = np.random.rand(50,5)\n",
        "\n",
        "centroids,_ = kmeans(data,2)\n",
        "\n",
        "print(centroids)"
      ]
    },
    {
      "cell_type": "markdown",
      "id": "68706dca",
      "metadata": {
        "id": "68706dca"
      },
      "source": [
        "## FFTPack:"
      ]
    },
    {
      "cell_type": "markdown",
      "id": "28224c3c",
      "metadata": {
        "id": "28224c3c"
      },
      "source": [
        "<div style=\"direction:rtl\">\n",
        "<font color='red' size=\"5px\">\n",
        " مثال:\n",
        "    </font>\n",
        "</div>"
      ]
    },
    {
      "cell_type": "code",
      "execution_count": null,
      "id": "b2506b26",
      "metadata": {
        "id": "b2506b26"
      },
      "outputs": [],
      "source": [
        "from scipy.fftpack import fft, ifft"
      ]
    },
    {
      "cell_type": "code",
      "execution_count": null,
      "id": "826da9ef",
      "metadata": {
        "id": "826da9ef"
      },
      "outputs": [],
      "source": [
        "x = np.array([1.0, 2.0, 1.0, -1.0, 1.5])"
      ]
    },
    {
      "cell_type": "code",
      "execution_count": null,
      "id": "4942d265",
      "metadata": {
        "id": "4942d265",
        "outputId": "394fe3ea-4572-4838-e9cd-be1d8504197d"
      },
      "outputs": [
        {
          "name": "stdout",
          "output_type": "stream",
          "text": [
            "[ 4.5       -0.j          2.08155948-1.65109876j -1.83155948+1.60822041j\n",
            " -1.83155948-1.60822041j  2.08155948+1.65109876j]\n"
          ]
        }
      ],
      "source": [
        "y = fft(x)\n",
        "\n",
        "print (y)"
      ]
    },
    {
      "cell_type": "code",
      "execution_count": null,
      "id": "1df3af70",
      "metadata": {
        "id": "1df3af70",
        "outputId": "649dcb4a-3c31-4a61-f988-2dd84c56a498"
      },
      "outputs": [
        {
          "name": "stdout",
          "output_type": "stream",
          "text": [
            "[ 1. +0.j  2. +0.j  1. +0.j -1. +0.j  1.5+0.j]\n"
          ]
        }
      ],
      "source": [
        "yinv = ifft(y)\n",
        "\n",
        "print (yinv)"
      ]
    },
    {
      "cell_type": "code",
      "execution_count": null,
      "id": "0803e37b",
      "metadata": {
        "id": "0803e37b",
        "outputId": "ee7bbe74-b9a6-4538-9267-a7b99ba25669"
      },
      "outputs": [
        {
          "name": "stderr",
          "output_type": "stream",
          "text": [
            "C:\\Users\\pc\\anaconda3\\Lib\\site-packages\\matplotlib\\cbook\\__init__.py:1340: ComplexWarning: Casting complex values to real discards the imaginary part\n",
            "  return np.asarray(x, float)\n"
          ]
        },
        {
          "data": {
            "image/png": "[encoded data removed]",
            "text/plain": [
              "<Figure size 640x480 with 1 Axes>"
            ]
          },
          "metadata": {},
          "output_type": "display_data"
        }
      ],
      "source": [
        "plt.plot(x, 'b-', y, 'r--')\n",
        "\n",
        "plt.legend(('real', 'imaginary'))\n",
        "\n",
        "plt.show()"
      ]
    },
    {
      "cell_type": "code",
      "execution_count": null,
      "id": "b3b4fbdc",
      "metadata": {
        "id": "b3b4fbdc"
      },
      "outputs": [],
      "source": []
    }
  ],
  "metadata": {
    "kernelspec": {
      "display_name": "Python 3 (ipykernel)",
      "language": "python",
      "name": "python3"
    },
    "language_info": {
      "codemirror_mode": {
        "name": "ipython",
        "version": 3
      },
      "file_extension": ".py",
      "mimetype": "text/x-python",
      "name": "python",
      "nbconvert_exporter": "python",
      "pygments_lexer": "ipython3",
      "version": "3.11.5"
    },
    "colab": {
      "provenance": [],
      "include_colab_link": true
    }
  },
  "nbformat": 4,
  "nbformat_minor": 5
}