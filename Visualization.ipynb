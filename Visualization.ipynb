{
  "cells": [
    {
      "cell_type": "markdown",
      "metadata": {
        "id": "view-in-github",
        "colab_type": "text"
      },
      "source": [
        "<a href=\"https://colab.research.google.com/github/omid-sakaki-ghazvini/Educations/blob/main/Visualization.ipynb\" target=\"_parent\"><img src=\"https://colab.research.google.com/assets/colab-badge.svg\" alt=\"Open In Colab\"/></a>"
      ]
    },
    {
      "cell_type": "markdown",
      "id": "2249470f",
      "metadata": {
        "id": "2249470f"
      },
      "source": [
        "# Visualization:"
      ]
    },
    {
      "cell_type": "markdown",
      "id": "5fc8fbe1",
      "metadata": {
        "id": "5fc8fbe1"
      },
      "source": [
        "## Seaborn & Matplotlib:"
      ]
    },
    {
      "cell_type": "markdown",
      "id": "55930c06",
      "metadata": {
        "id": "55930c06"
      },
      "source": [
        "## load iris dataset :"
      ]
    },
    {
      "cell_type": "code",
      "execution_count": null,
      "id": "2134c8fb",
      "metadata": {
        "id": "2134c8fb"
      },
      "outputs": [],
      "source": [
        "####### Visualization #######\n",
        "\n",
        "import seaborn as sns\n",
        "\n",
        "import matplotlib.pyplot as plt\n",
        "\n",
        "\n",
        "####### import dataset #######\n",
        "\n",
        "from sklearn.datasets import load_iris"
      ]
    },
    {
      "cell_type": "code",
      "execution_count": null,
      "id": "08504b42",
      "metadata": {
        "id": "08504b42",
        "outputId": "b2e6ff2c-f39b-4db5-a1d9-f9594e54a76e"
      },
      "outputs": [
        {
          "data": {
            "text/plain": [
              "{'data': array([[5.1, 3.5, 1.4, 0.2],\n",
              "        [4.9, 3. , 1.4, 0.2],\n",
              "        [4.7, 3.2, 1.3, 0.2],\n",
              "        [4.6, 3.1, 1.5, 0.2],\n",
              "        [5. , 3.6, 1.4, 0.2],\n",
              "        [5.4, 3.9, 1.7, 0.4],\n",
              "        [4.6, 3.4, 1.4, 0.3],\n",
              "        [5. , 3.4, 1.5, 0.2],\n",
              "        [4.4, 2.9, 1.4, 0.2],\n",
              "        [4.9, 3.1, 1.5, 0.1],\n",
              "        [5.4, 3.7, 1.5, 0.2],\n",
              "        [4.8, 3.4, 1.6, 0.2],\n",
              "        [4.8, 3. , 1.4, 0.1],\n",
              "        [4.3, 3. , 1.1, 0.1],\n",
              "        [5.8, 4. , 1.2, 0.2],\n",
              "        [5.7, 4.4, 1.5, 0.4],\n",
              "        [5.4, 3.9, 1.3, 0.4],\n",
              "        [5.1, 3.5, 1.4, 0.3],\n",
              "        [5.7, 3.8, 1.7, 0.3],\n",
              "        [5.1, 3.8, 1.5, 0.3],\n",
              "        [5.4, 3.4, 1.7, 0.2],\n",
              "        [5.1, 3.7, 1.5, 0.4],\n",
              "        [4.6, 3.6, 1. , 0.2],\n",
              "        [5.1, 3.3, 1.7, 0.5],\n",
              "        [4.8, 3.4, 1.9, 0.2],\n",
              "        [5. , 3. , 1.6, 0.2],\n",
              "        [5. , 3.4, 1.6, 0.4],\n",
              "        [5.2, 3.5, 1.5, 0.2],\n",
              "        [5.2, 3.4, 1.4, 0.2],\n",
              "        [4.7, 3.2, 1.6, 0.2],\n",
              "        [4.8, 3.1, 1.6, 0.2],\n",
              "        [5.4, 3.4, 1.5, 0.4],\n",
              "        [5.2, 4.1, 1.5, 0.1],\n",
              "        [5.5, 4.2, 1.4, 0.2],\n",
              "        [4.9, 3.1, 1.5, 0.2],\n",
              "        [5. , 3.2, 1.2, 0.2],\n",
              "        [5.5, 3.5, 1.3, 0.2],\n",
              "        [4.9, 3.6, 1.4, 0.1],\n",
              "        [4.4, 3. , 1.3, 0.2],\n",
              "        [5.1, 3.4, 1.5, 0.2],\n",
              "        [5. , 3.5, 1.3, 0.3],\n",
              "        [4.5, 2.3, 1.3, 0.3],\n",
              "        [4.4, 3.2, 1.3, 0.2],\n",
              "        [5. , 3.5, 1.6, 0.6],\n",
              "        [5.1, 3.8, 1.9, 0.4],\n",
              "        [4.8, 3. , 1.4, 0.3],\n",
              "        [5.1, 3.8, 1.6, 0.2],\n",
              "        [4.6, 3.2, 1.4, 0.2],\n",
              "        [5.3, 3.7, 1.5, 0.2],\n",
              "        [5. , 3.3, 1.4, 0.2],\n",
              "        [7. , 3.2, 4.7, 1.4],\n",
              "        [6.4, 3.2, 4.5, 1.5],\n",
              "        [6.9, 3.1, 4.9, 1.5],\n",
              "        [5.5, 2.3, 4. , 1.3],\n",
              "        [6.5, 2.8, 4.6, 1.5],\n",
              "        [5.7, 2.8, 4.5, 1.3],\n",
              "        [6.3, 3.3, 4.7, 1.6],\n",
              "        [4.9, 2.4, 3.3, 1. ],\n",
              "        [6.6, 2.9, 4.6, 1.3],\n",
              "        [5.2, 2.7, 3.9, 1.4],\n",
              "        [5. , 2. , 3.5, 1. ],\n",
              "        [5.9, 3. , 4.2, 1.5],\n",
              "        [6. , 2.2, 4. , 1. ],\n",
              "        [6.1, 2.9, 4.7, 1.4],\n",
              "        [5.6, 2.9, 3.6, 1.3],\n",
              "        [6.7, 3.1, 4.4, 1.4],\n",
              "        [5.6, 3. , 4.5, 1.5],\n",
              "        [5.8, 2.7, 4.1, 1. ],\n",
              "        [6.2, 2.2, 4.5, 1.5],\n",
              "        [5.6, 2.5, 3.9, 1.1],\n",
              "        [5.9, 3.2, 4.8, 1.8],\n",
              "        [6.1, 2.8, 4. , 1.3],\n",
              "        [6.3, 2.5, 4.9, 1.5],\n",
              "        [6.1, 2.8, 4.7, 1.2],\n",
              "        [6.4, 2.9, 4.3, 1.3],\n",
              "        [6.6, 3. , 4.4, 1.4],\n",
              "        [6.8, 2.8, 4.8, 1.4],\n",
              "        [6.7, 3. , 5. , 1.7],\n",
              "        [6. , 2.9, 4.5, 1.5],\n",
              "        [5.7, 2.6, 3.5, 1. ],\n",
              "        [5.5, 2.4, 3.8, 1.1],\n",
              "        [5.5, 2.4, 3.7, 1. ],\n",
              "        [5.8, 2.7, 3.9, 1.2],\n",
              "        [6. , 2.7, 5.1, 1.6],\n",
              "        [5.4, 3. , 4.5, 1.5],\n",
              "        [6. , 3.4, 4.5, 1.6],\n",
              "        [6.7, 3.1, 4.7, 1.5],\n",
              "        [6.3, 2.3, 4.4, 1.3],\n",
              "        [5.6, 3. , 4.1, 1.3],\n",
              "        [5.5, 2.5, 4. , 1.3],\n",
              "        [5.5, 2.6, 4.4, 1.2],\n",
              "        [6.1, 3. , 4.6, 1.4],\n",
              "        [5.8, 2.6, 4. , 1.2],\n",
              "        [5. , 2.3, 3.3, 1. ],\n",
              "        [5.6, 2.7, 4.2, 1.3],\n",
              "        [5.7, 3. , 4.2, 1.2],\n",
              "        [5.7, 2.9, 4.2, 1.3],\n",
              "        [6.2, 2.9, 4.3, 1.3],\n",
              "        [5.1, 2.5, 3. , 1.1],\n",
              "        [5.7, 2.8, 4.1, 1.3],\n",
              "        [6.3, 3.3, 6. , 2.5],\n",
              "        [5.8, 2.7, 5.1, 1.9],\n",
              "        [7.1, 3. , 5.9, 2.1],\n",
              "        [6.3, 2.9, 5.6, 1.8],\n",
              "        [6.5, 3. , 5.8, 2.2],\n",
              "        [7.6, 3. , 6.6, 2.1],\n",
              "        [4.9, 2.5, 4.5, 1.7],\n",
              "        [7.3, 2.9, 6.3, 1.8],\n",
              "        [6.7, 2.5, 5.8, 1.8],\n",
              "        [7.2, 3.6, 6.1, 2.5],\n",
              "        [6.5, 3.2, 5.1, 2. ],\n",
              "        [6.4, 2.7, 5.3, 1.9],\n",
              "        [6.8, 3. , 5.5, 2.1],\n",
              "        [5.7, 2.5, 5. , 2. ],\n",
              "        [5.8, 2.8, 5.1, 2.4],\n",
              "        [6.4, 3.2, 5.3, 2.3],\n",
              "        [6.5, 3. , 5.5, 1.8],\n",
              "        [7.7, 3.8, 6.7, 2.2],\n",
              "        [7.7, 2.6, 6.9, 2.3],\n",
              "        [6. , 2.2, 5. , 1.5],\n",
              "        [6.9, 3.2, 5.7, 2.3],\n",
              "        [5.6, 2.8, 4.9, 2. ],\n",
              "        [7.7, 2.8, 6.7, 2. ],\n",
              "        [6.3, 2.7, 4.9, 1.8],\n",
              "        [6.7, 3.3, 5.7, 2.1],\n",
              "        [7.2, 3.2, 6. , 1.8],\n",
              "        [6.2, 2.8, 4.8, 1.8],\n",
              "        [6.1, 3. , 4.9, 1.8],\n",
              "        [6.4, 2.8, 5.6, 2.1],\n",
              "        [7.2, 3. , 5.8, 1.6],\n",
              "        [7.4, 2.8, 6.1, 1.9],\n",
              "        [7.9, 3.8, 6.4, 2. ],\n",
              "        [6.4, 2.8, 5.6, 2.2],\n",
              "        [6.3, 2.8, 5.1, 1.5],\n",
              "        [6.1, 2.6, 5.6, 1.4],\n",
              "        [7.7, 3. , 6.1, 2.3],\n",
              "        [6.3, 3.4, 5.6, 2.4],\n",
              "        [6.4, 3.1, 5.5, 1.8],\n",
              "        [6. , 3. , 4.8, 1.8],\n",
              "        [6.9, 3.1, 5.4, 2.1],\n",
              "        [6.7, 3.1, 5.6, 2.4],\n",
              "        [6.9, 3.1, 5.1, 2.3],\n",
              "        [5.8, 2.7, 5.1, 1.9],\n",
              "        [6.8, 3.2, 5.9, 2.3],\n",
              "        [6.7, 3.3, 5.7, 2.5],\n",
              "        [6.7, 3. , 5.2, 2.3],\n",
              "        [6.3, 2.5, 5. , 1.9],\n",
              "        [6.5, 3. , 5.2, 2. ],\n",
              "        [6.2, 3.4, 5.4, 2.3],\n",
              "        [5.9, 3. , 5.1, 1.8]]),\n",
              " 'target': array([0, 0, 0, 0, 0, 0, 0, 0, 0, 0, 0, 0, 0, 0, 0, 0, 0, 0, 0, 0, 0, 0,\n",
              "        0, 0, 0, 0, 0, 0, 0, 0, 0, 0, 0, 0, 0, 0, 0, 0, 0, 0, 0, 0, 0, 0,\n",
              "        0, 0, 0, 0, 0, 0, 1, 1, 1, 1, 1, 1, 1, 1, 1, 1, 1, 1, 1, 1, 1, 1,\n",
              "        1, 1, 1, 1, 1, 1, 1, 1, 1, 1, 1, 1, 1, 1, 1, 1, 1, 1, 1, 1, 1, 1,\n",
              "        1, 1, 1, 1, 1, 1, 1, 1, 1, 1, 1, 1, 2, 2, 2, 2, 2, 2, 2, 2, 2, 2,\n",
              "        2, 2, 2, 2, 2, 2, 2, 2, 2, 2, 2, 2, 2, 2, 2, 2, 2, 2, 2, 2, 2, 2,\n",
              "        2, 2, 2, 2, 2, 2, 2, 2, 2, 2, 2, 2, 2, 2, 2, 2, 2, 2]),\n",
              " 'frame': None,\n",
              " 'target_names': array(['setosa', 'versicolor', 'virginica'], dtype='<U10'),\n",
              " 'DESCR': '.. _iris_dataset:\\n\\nIris plants dataset\\n--------------------\\n\\n**Data Set Characteristics:**\\n\\n    :Number of Instances: 150 (50 in each of three classes)\\n    :Number of Attributes: 4 numeric, predictive attributes and the class\\n    :Attribute Information:\\n        - sepal length in cm\\n        - sepal width in cm\\n        - petal length in cm\\n        - petal width in cm\\n        - class:\\n                - Iris-Setosa\\n                - Iris-Versicolour\\n                - Iris-Virginica\\n                \\n    :Summary Statistics:\\n\\n    ============== ==== ==== ======= ===== ====================\\n                    Min  Max   Mean    SD   Class Correlation\\n    ============== ==== ==== ======= ===== ====================\\n    sepal length:   4.3  7.9   5.84   0.83    0.7826\\n    sepal width:    2.0  4.4   3.05   0.43   -0.4194\\n    petal length:   1.0  6.9   3.76   1.76    0.9490  (high!)\\n    petal width:    0.1  2.5   1.20   0.76    0.9565  (high!)\\n    ============== ==== ==== ======= ===== ====================\\n\\n    :Missing Attribute Values: None\\n    :Class Distribution: 33.3% for each of 3 classes.\\n    :Creator: R.A. Fisher\\n    :Donor: Michael Marshall (MARSHALL%PLU@io.arc.nasa.gov)\\n    :Date: July, 1988\\n\\nThe famous Iris database, first used by Sir R.A. Fisher. The dataset is taken\\nfrom Fisher\\'s paper. Note that it\\'s the same as in R, but not as in the UCI\\nMachine Learning Repository, which has two wrong data points.\\n\\nThis is perhaps the best known database to be found in the\\npattern recognition literature.  Fisher\\'s paper is a classic in the field and\\nis referenced frequently to this day.  (See Duda & Hart, for example.)  The\\ndata set contains 3 classes of 50 instances each, where each class refers to a\\ntype of iris plant.  One class is linearly separable from the other 2; the\\nlatter are NOT linearly separable from each other.\\n\\n.. topic:: References\\n\\n   - Fisher, R.A. \"The use of multiple measurements in taxonomic problems\"\\n     Annual Eugenics, 7, Part II, 179-188 (1936); also in \"Contributions to\\n     Mathematical Statistics\" (John Wiley, NY, 1950).\\n   - Duda, R.O., & Hart, P.E. (1973) Pattern Classification and Scene Analysis.\\n     (Q327.D83) John Wiley & Sons.  ISBN 0-471-22361-1.  See page 218.\\n   - Dasarathy, B.V. (1980) \"Nosing Around the Neighborhood: A New System\\n     Structure and Classification Rule for Recognition in Partially Exposed\\n     Environments\".  IEEE Transactions on Pattern Analysis and Machine\\n     Intelligence, Vol. PAMI-2, No. 1, 67-71.\\n   - Gates, G.W. (1972) \"The Reduced Nearest Neighbor Rule\".  IEEE Transactions\\n     on Information Theory, May 1972, 431-433.\\n   - See also: 1988 MLC Proceedings, 54-64.  Cheeseman et al\"s AUTOCLASS II\\n     conceptual clustering system finds 3 classes in the data.\\n   - Many, many more ...',\n",
              " 'feature_names': ['sepal length (cm)',\n",
              "  'sepal width (cm)',\n",
              "  'petal length (cm)',\n",
              "  'petal width (cm)'],\n",
              " 'filename': 'iris.csv',\n",
              " 'data_module': 'sklearn.datasets.data'}"
            ]
          },
          "execution_count": 3,
          "metadata": {},
          "output_type": "execute_result"
        }
      ],
      "source": [
        "import pandas as pd\n",
        "\n",
        "iris = load_iris()\n",
        "\n",
        "iris"
      ]
    },
    {
      "cell_type": "code",
      "execution_count": null,
      "id": "0ffd5ccb",
      "metadata": {
        "id": "0ffd5ccb",
        "outputId": "5fa1cf2d-5896-4562-dc3c-538ceeb5c3de"
      },
      "outputs": [
        {
          "data": {
            "text/html": [
              "<div>\n",
              "<style scoped>\n",
              "    .dataframe tbody tr th:only-of-type {\n",
              "        vertical-align: middle;\n",
              "    }\n",
              "\n",
              "    .dataframe tbody tr th {\n",
              "        vertical-align: top;\n",
              "    }\n",
              "\n",
              "    .dataframe thead th {\n",
              "        text-align: right;\n",
              "    }\n",
              "</style>\n",
              "<table border=\"1\" class=\"dataframe\">\n",
              "  <thead>\n",
              "    <tr style=\"text-align: right;\">\n",
              "      <th></th>\n",
              "      <th>sepal length (cm)</th>\n",
              "      <th>sepal width (cm)</th>\n",
              "      <th>petal length (cm)</th>\n",
              "      <th>petal width (cm)</th>\n",
              "    </tr>\n",
              "  </thead>\n",
              "  <tbody>\n",
              "    <tr>\n",
              "      <th>0</th>\n",
              "      <td>5.1</td>\n",
              "      <td>3.5</td>\n",
              "      <td>1.4</td>\n",
              "      <td>0.2</td>\n",
              "    </tr>\n",
              "    <tr>\n",
              "      <th>1</th>\n",
              "      <td>4.9</td>\n",
              "      <td>3.0</td>\n",
              "      <td>1.4</td>\n",
              "      <td>0.2</td>\n",
              "    </tr>\n",
              "    <tr>\n",
              "      <th>2</th>\n",
              "      <td>4.7</td>\n",
              "      <td>3.2</td>\n",
              "      <td>1.3</td>\n",
              "      <td>0.2</td>\n",
              "    </tr>\n",
              "    <tr>\n",
              "      <th>3</th>\n",
              "      <td>4.6</td>\n",
              "      <td>3.1</td>\n",
              "      <td>1.5</td>\n",
              "      <td>0.2</td>\n",
              "    </tr>\n",
              "    <tr>\n",
              "      <th>4</th>\n",
              "      <td>5.0</td>\n",
              "      <td>3.6</td>\n",
              "      <td>1.4</td>\n",
              "      <td>0.2</td>\n",
              "    </tr>\n",
              "    <tr>\n",
              "      <th>...</th>\n",
              "      <td>...</td>\n",
              "      <td>...</td>\n",
              "      <td>...</td>\n",
              "      <td>...</td>\n",
              "    </tr>\n",
              "    <tr>\n",
              "      <th>145</th>\n",
              "      <td>6.7</td>\n",
              "      <td>3.0</td>\n",
              "      <td>5.2</td>\n",
              "      <td>2.3</td>\n",
              "    </tr>\n",
              "    <tr>\n",
              "      <th>146</th>\n",
              "      <td>6.3</td>\n",
              "      <td>2.5</td>\n",
              "      <td>5.0</td>\n",
              "      <td>1.9</td>\n",
              "    </tr>\n",
              "    <tr>\n",
              "      <th>147</th>\n",
              "      <td>6.5</td>\n",
              "      <td>3.0</td>\n",
              "      <td>5.2</td>\n",
              "      <td>2.0</td>\n",
              "    </tr>\n",
              "    <tr>\n",
              "      <th>148</th>\n",
              "      <td>6.2</td>\n",
              "      <td>3.4</td>\n",
              "      <td>5.4</td>\n",
              "      <td>2.3</td>\n",
              "    </tr>\n",
              "    <tr>\n",
              "      <th>149</th>\n",
              "      <td>5.9</td>\n",
              "      <td>3.0</td>\n",
              "      <td>5.1</td>\n",
              "      <td>1.8</td>\n",
              "    </tr>\n",
              "  </tbody>\n",
              "</table>\n",
              "<p>150 rows × 4 columns</p>\n",
              "</div>"
            ],
            "text/plain": [
              "     sepal length (cm)  sepal width (cm)  petal length (cm)  petal width (cm)\n",
              "0                  5.1               3.5                1.4               0.2\n",
              "1                  4.9               3.0                1.4               0.2\n",
              "2                  4.7               3.2                1.3               0.2\n",
              "3                  4.6               3.1                1.5               0.2\n",
              "4                  5.0               3.6                1.4               0.2\n",
              "..                 ...               ...                ...               ...\n",
              "145                6.7               3.0                5.2               2.3\n",
              "146                6.3               2.5                5.0               1.9\n",
              "147                6.5               3.0                5.2               2.0\n",
              "148                6.2               3.4                5.4               2.3\n",
              "149                5.9               3.0                5.1               1.8\n",
              "\n",
              "[150 rows x 4 columns]"
            ]
          },
          "execution_count": 4,
          "metadata": {},
          "output_type": "execute_result"
        }
      ],
      "source": [
        "df_iris = pd.DataFrame(iris.data, columns = iris.feature_names)\n",
        "\n",
        "df_iris"
      ]
    },
    {
      "cell_type": "code",
      "execution_count": null,
      "id": "fe096d32",
      "metadata": {
        "id": "fe096d32"
      },
      "outputs": [],
      "source": [
        "df_iris['target'] = iris.target"
      ]
    },
    {
      "cell_type": "code",
      "execution_count": null,
      "id": "3cbf01aa",
      "metadata": {
        "id": "3cbf01aa",
        "outputId": "52cd5e92-b3dc-4887-afa9-d17f50a10b11"
      },
      "outputs": [
        {
          "data": {
            "text/html": [
              "<div>\n",
              "<style scoped>\n",
              "    .dataframe tbody tr th:only-of-type {\n",
              "        vertical-align: middle;\n",
              "    }\n",
              "\n",
              "    .dataframe tbody tr th {\n",
              "        vertical-align: top;\n",
              "    }\n",
              "\n",
              "    .dataframe thead th {\n",
              "        text-align: right;\n",
              "    }\n",
              "</style>\n",
              "<table border=\"1\" class=\"dataframe\">\n",
              "  <thead>\n",
              "    <tr style=\"text-align: right;\">\n",
              "      <th></th>\n",
              "      <th>sepal length (cm)</th>\n",
              "      <th>sepal width (cm)</th>\n",
              "      <th>petal length (cm)</th>\n",
              "      <th>petal width (cm)</th>\n",
              "      <th>target</th>\n",
              "    </tr>\n",
              "  </thead>\n",
              "  <tbody>\n",
              "    <tr>\n",
              "      <th>0</th>\n",
              "      <td>5.1</td>\n",
              "      <td>3.5</td>\n",
              "      <td>1.4</td>\n",
              "      <td>0.2</td>\n",
              "      <td>0</td>\n",
              "    </tr>\n",
              "    <tr>\n",
              "      <th>1</th>\n",
              "      <td>4.9</td>\n",
              "      <td>3.0</td>\n",
              "      <td>1.4</td>\n",
              "      <td>0.2</td>\n",
              "      <td>0</td>\n",
              "    </tr>\n",
              "    <tr>\n",
              "      <th>2</th>\n",
              "      <td>4.7</td>\n",
              "      <td>3.2</td>\n",
              "      <td>1.3</td>\n",
              "      <td>0.2</td>\n",
              "      <td>0</td>\n",
              "    </tr>\n",
              "    <tr>\n",
              "      <th>3</th>\n",
              "      <td>4.6</td>\n",
              "      <td>3.1</td>\n",
              "      <td>1.5</td>\n",
              "      <td>0.2</td>\n",
              "      <td>0</td>\n",
              "    </tr>\n",
              "    <tr>\n",
              "      <th>4</th>\n",
              "      <td>5.0</td>\n",
              "      <td>3.6</td>\n",
              "      <td>1.4</td>\n",
              "      <td>0.2</td>\n",
              "      <td>0</td>\n",
              "    </tr>\n",
              "    <tr>\n",
              "      <th>...</th>\n",
              "      <td>...</td>\n",
              "      <td>...</td>\n",
              "      <td>...</td>\n",
              "      <td>...</td>\n",
              "      <td>...</td>\n",
              "    </tr>\n",
              "    <tr>\n",
              "      <th>145</th>\n",
              "      <td>6.7</td>\n",
              "      <td>3.0</td>\n",
              "      <td>5.2</td>\n",
              "      <td>2.3</td>\n",
              "      <td>2</td>\n",
              "    </tr>\n",
              "    <tr>\n",
              "      <th>146</th>\n",
              "      <td>6.3</td>\n",
              "      <td>2.5</td>\n",
              "      <td>5.0</td>\n",
              "      <td>1.9</td>\n",
              "      <td>2</td>\n",
              "    </tr>\n",
              "    <tr>\n",
              "      <th>147</th>\n",
              "      <td>6.5</td>\n",
              "      <td>3.0</td>\n",
              "      <td>5.2</td>\n",
              "      <td>2.0</td>\n",
              "      <td>2</td>\n",
              "    </tr>\n",
              "    <tr>\n",
              "      <th>148</th>\n",
              "      <td>6.2</td>\n",
              "      <td>3.4</td>\n",
              "      <td>5.4</td>\n",
              "      <td>2.3</td>\n",
              "      <td>2</td>\n",
              "    </tr>\n",
              "    <tr>\n",
              "      <th>149</th>\n",
              "      <td>5.9</td>\n",
              "      <td>3.0</td>\n",
              "      <td>5.1</td>\n",
              "      <td>1.8</td>\n",
              "      <td>2</td>\n",
              "    </tr>\n",
              "  </tbody>\n",
              "</table>\n",
              "<p>150 rows × 5 columns</p>\n",
              "</div>"
            ],
            "text/plain": [
              "     sepal length (cm)  sepal width (cm)  petal length (cm)  petal width (cm)  \\\n",
              "0                  5.1               3.5                1.4               0.2   \n",
              "1                  4.9               3.0                1.4               0.2   \n",
              "2                  4.7               3.2                1.3               0.2   \n",
              "3                  4.6               3.1                1.5               0.2   \n",
              "4                  5.0               3.6                1.4               0.2   \n",
              "..                 ...               ...                ...               ...   \n",
              "145                6.7               3.0                5.2               2.3   \n",
              "146                6.3               2.5                5.0               1.9   \n",
              "147                6.5               3.0                5.2               2.0   \n",
              "148                6.2               3.4                5.4               2.3   \n",
              "149                5.9               3.0                5.1               1.8   \n",
              "\n",
              "     target  \n",
              "0         0  \n",
              "1         0  \n",
              "2         0  \n",
              "3         0  \n",
              "4         0  \n",
              "..      ...  \n",
              "145       2  \n",
              "146       2  \n",
              "147       2  \n",
              "148       2  \n",
              "149       2  \n",
              "\n",
              "[150 rows x 5 columns]"
            ]
          },
          "execution_count": 6,
          "metadata": {},
          "output_type": "execute_result"
        }
      ],
      "source": [
        "df_iris"
      ]
    },
    {
      "cell_type": "code",
      "execution_count": null,
      "id": "9f7fda22",
      "metadata": {
        "id": "9f7fda22"
      },
      "outputs": [],
      "source": [
        "target_names = {\n",
        "    0:'setosa',\n",
        "    1:'versicolor',\n",
        "    2:'virginica'\n",
        "}"
      ]
    },
    {
      "cell_type": "code",
      "execution_count": null,
      "id": "d2973dfb",
      "metadata": {
        "id": "d2973dfb",
        "outputId": "fbfb2288-dfad-487f-c930-a2c5bd6e120d"
      },
      "outputs": [
        {
          "data": {
            "text/html": [
              "<div>\n",
              "<style scoped>\n",
              "    .dataframe tbody tr th:only-of-type {\n",
              "        vertical-align: middle;\n",
              "    }\n",
              "\n",
              "    .dataframe tbody tr th {\n",
              "        vertical-align: top;\n",
              "    }\n",
              "\n",
              "    .dataframe thead th {\n",
              "        text-align: right;\n",
              "    }\n",
              "</style>\n",
              "<table border=\"1\" class=\"dataframe\">\n",
              "  <thead>\n",
              "    <tr style=\"text-align: right;\">\n",
              "      <th></th>\n",
              "      <th>sepal length (cm)</th>\n",
              "      <th>sepal width (cm)</th>\n",
              "      <th>petal length (cm)</th>\n",
              "      <th>petal width (cm)</th>\n",
              "      <th>target</th>\n",
              "      <th>target_names</th>\n",
              "    </tr>\n",
              "  </thead>\n",
              "  <tbody>\n",
              "    <tr>\n",
              "      <th>0</th>\n",
              "      <td>5.1</td>\n",
              "      <td>3.5</td>\n",
              "      <td>1.4</td>\n",
              "      <td>0.2</td>\n",
              "      <td>0</td>\n",
              "      <td>setosa</td>\n",
              "    </tr>\n",
              "    <tr>\n",
              "      <th>1</th>\n",
              "      <td>4.9</td>\n",
              "      <td>3.0</td>\n",
              "      <td>1.4</td>\n",
              "      <td>0.2</td>\n",
              "      <td>0</td>\n",
              "      <td>setosa</td>\n",
              "    </tr>\n",
              "    <tr>\n",
              "      <th>2</th>\n",
              "      <td>4.7</td>\n",
              "      <td>3.2</td>\n",
              "      <td>1.3</td>\n",
              "      <td>0.2</td>\n",
              "      <td>0</td>\n",
              "      <td>setosa</td>\n",
              "    </tr>\n",
              "    <tr>\n",
              "      <th>3</th>\n",
              "      <td>4.6</td>\n",
              "      <td>3.1</td>\n",
              "      <td>1.5</td>\n",
              "      <td>0.2</td>\n",
              "      <td>0</td>\n",
              "      <td>setosa</td>\n",
              "    </tr>\n",
              "    <tr>\n",
              "      <th>4</th>\n",
              "      <td>5.0</td>\n",
              "      <td>3.6</td>\n",
              "      <td>1.4</td>\n",
              "      <td>0.2</td>\n",
              "      <td>0</td>\n",
              "      <td>setosa</td>\n",
              "    </tr>\n",
              "    <tr>\n",
              "      <th>...</th>\n",
              "      <td>...</td>\n",
              "      <td>...</td>\n",
              "      <td>...</td>\n",
              "      <td>...</td>\n",
              "      <td>...</td>\n",
              "      <td>...</td>\n",
              "    </tr>\n",
              "    <tr>\n",
              "      <th>145</th>\n",
              "      <td>6.7</td>\n",
              "      <td>3.0</td>\n",
              "      <td>5.2</td>\n",
              "      <td>2.3</td>\n",
              "      <td>2</td>\n",
              "      <td>virginica</td>\n",
              "    </tr>\n",
              "    <tr>\n",
              "      <th>146</th>\n",
              "      <td>6.3</td>\n",
              "      <td>2.5</td>\n",
              "      <td>5.0</td>\n",
              "      <td>1.9</td>\n",
              "      <td>2</td>\n",
              "      <td>virginica</td>\n",
              "    </tr>\n",
              "    <tr>\n",
              "      <th>147</th>\n",
              "      <td>6.5</td>\n",
              "      <td>3.0</td>\n",
              "      <td>5.2</td>\n",
              "      <td>2.0</td>\n",
              "      <td>2</td>\n",
              "      <td>virginica</td>\n",
              "    </tr>\n",
              "    <tr>\n",
              "      <th>148</th>\n",
              "      <td>6.2</td>\n",
              "      <td>3.4</td>\n",
              "      <td>5.4</td>\n",
              "      <td>2.3</td>\n",
              "      <td>2</td>\n",
              "      <td>virginica</td>\n",
              "    </tr>\n",
              "    <tr>\n",
              "      <th>149</th>\n",
              "      <td>5.9</td>\n",
              "      <td>3.0</td>\n",
              "      <td>5.1</td>\n",
              "      <td>1.8</td>\n",
              "      <td>2</td>\n",
              "      <td>virginica</td>\n",
              "    </tr>\n",
              "  </tbody>\n",
              "</table>\n",
              "<p>150 rows × 6 columns</p>\n",
              "</div>"
            ],
            "text/plain": [
              "     sepal length (cm)  sepal width (cm)  petal length (cm)  petal width (cm)  \\\n",
              "0                  5.1               3.5                1.4               0.2   \n",
              "1                  4.9               3.0                1.4               0.2   \n",
              "2                  4.7               3.2                1.3               0.2   \n",
              "3                  4.6               3.1                1.5               0.2   \n",
              "4                  5.0               3.6                1.4               0.2   \n",
              "..                 ...               ...                ...               ...   \n",
              "145                6.7               3.0                5.2               2.3   \n",
              "146                6.3               2.5                5.0               1.9   \n",
              "147                6.5               3.0                5.2               2.0   \n",
              "148                6.2               3.4                5.4               2.3   \n",
              "149                5.9               3.0                5.1               1.8   \n",
              "\n",
              "     target target_names  \n",
              "0         0       setosa  \n",
              "1         0       setosa  \n",
              "2         0       setosa  \n",
              "3         0       setosa  \n",
              "4         0       setosa  \n",
              "..      ...          ...  \n",
              "145       2    virginica  \n",
              "146       2    virginica  \n",
              "147       2    virginica  \n",
              "148       2    virginica  \n",
              "149       2    virginica  \n",
              "\n",
              "[150 rows x 6 columns]"
            ]
          },
          "execution_count": 8,
          "metadata": {},
          "output_type": "execute_result"
        }
      ],
      "source": [
        "df_iris['target_names'] = df_iris['target'].map(target_names)\n",
        "\n",
        "df_iris"
      ]
    },
    {
      "cell_type": "code",
      "execution_count": null,
      "id": "0276aea2",
      "metadata": {
        "id": "0276aea2",
        "outputId": "0b54b48e-771c-4a0a-8814-b1e22d397eab"
      },
      "outputs": [
        {
          "data": {
            "text/plain": [
              "(150, 6)"
            ]
          },
          "execution_count": 9,
          "metadata": {},
          "output_type": "execute_result"
        }
      ],
      "source": [
        "df_iris.shape"
      ]
    },
    {
      "cell_type": "code",
      "execution_count": null,
      "id": "38322b87",
      "metadata": {
        "id": "38322b87",
        "outputId": "270a4b57-b2d8-4304-e44e-ca992ed008a6"
      },
      "outputs": [
        {
          "name": "stdout",
          "output_type": "stream",
          "text": [
            "<class 'pandas.core.frame.DataFrame'>\n",
            "RangeIndex: 150 entries, 0 to 149\n",
            "Data columns (total 6 columns):\n",
            " #   Column             Non-Null Count  Dtype  \n",
            "---  ------             --------------  -----  \n",
            " 0   sepal length (cm)  150 non-null    float64\n",
            " 1   sepal width (cm)   150 non-null    float64\n",
            " 2   petal length (cm)  150 non-null    float64\n",
            " 3   petal width (cm)   150 non-null    float64\n",
            " 4   target             150 non-null    int32  \n",
            " 5   target_names       150 non-null    object \n",
            "dtypes: float64(4), int32(1), object(1)\n",
            "memory usage: 6.6+ KB\n"
          ]
        }
      ],
      "source": [
        "df_iris.info()"
      ]
    },
    {
      "cell_type": "code",
      "execution_count": null,
      "id": "26502945",
      "metadata": {
        "id": "26502945",
        "outputId": "1fe1583e-e248-46bc-cf1c-b9d32e5c2e9c"
      },
      "outputs": [
        {
          "data": {
            "text/html": [
              "<div>\n",
              "<style scoped>\n",
              "    .dataframe tbody tr th:only-of-type {\n",
              "        vertical-align: middle;\n",
              "    }\n",
              "\n",
              "    .dataframe tbody tr th {\n",
              "        vertical-align: top;\n",
              "    }\n",
              "\n",
              "    .dataframe thead th {\n",
              "        text-align: right;\n",
              "    }\n",
              "</style>\n",
              "<table border=\"1\" class=\"dataframe\">\n",
              "  <thead>\n",
              "    <tr style=\"text-align: right;\">\n",
              "      <th></th>\n",
              "      <th>sepal length (cm)</th>\n",
              "      <th>sepal width (cm)</th>\n",
              "      <th>petal length (cm)</th>\n",
              "      <th>petal width (cm)</th>\n",
              "      <th>target</th>\n",
              "    </tr>\n",
              "  </thead>\n",
              "  <tbody>\n",
              "    <tr>\n",
              "      <th>count</th>\n",
              "      <td>150.000000</td>\n",
              "      <td>150.000000</td>\n",
              "      <td>150.000000</td>\n",
              "      <td>150.000000</td>\n",
              "      <td>150.000000</td>\n",
              "    </tr>\n",
              "    <tr>\n",
              "      <th>mean</th>\n",
              "      <td>5.843333</td>\n",
              "      <td>3.057333</td>\n",
              "      <td>3.758000</td>\n",
              "      <td>1.199333</td>\n",
              "      <td>1.000000</td>\n",
              "    </tr>\n",
              "    <tr>\n",
              "      <th>std</th>\n",
              "      <td>0.828066</td>\n",
              "      <td>0.435866</td>\n",
              "      <td>1.765298</td>\n",
              "      <td>0.762238</td>\n",
              "      <td>0.819232</td>\n",
              "    </tr>\n",
              "    <tr>\n",
              "      <th>min</th>\n",
              "      <td>4.300000</td>\n",
              "      <td>2.000000</td>\n",
              "      <td>1.000000</td>\n",
              "      <td>0.100000</td>\n",
              "      <td>0.000000</td>\n",
              "    </tr>\n",
              "    <tr>\n",
              "      <th>25%</th>\n",
              "      <td>5.100000</td>\n",
              "      <td>2.800000</td>\n",
              "      <td>1.600000</td>\n",
              "      <td>0.300000</td>\n",
              "      <td>0.000000</td>\n",
              "    </tr>\n",
              "    <tr>\n",
              "      <th>50%</th>\n",
              "      <td>5.800000</td>\n",
              "      <td>3.000000</td>\n",
              "      <td>4.350000</td>\n",
              "      <td>1.300000</td>\n",
              "      <td>1.000000</td>\n",
              "    </tr>\n",
              "    <tr>\n",
              "      <th>75%</th>\n",
              "      <td>6.400000</td>\n",
              "      <td>3.300000</td>\n",
              "      <td>5.100000</td>\n",
              "      <td>1.800000</td>\n",
              "      <td>2.000000</td>\n",
              "    </tr>\n",
              "    <tr>\n",
              "      <th>max</th>\n",
              "      <td>7.900000</td>\n",
              "      <td>4.400000</td>\n",
              "      <td>6.900000</td>\n",
              "      <td>2.500000</td>\n",
              "      <td>2.000000</td>\n",
              "    </tr>\n",
              "  </tbody>\n",
              "</table>\n",
              "</div>"
            ],
            "text/plain": [
              "       sepal length (cm)  sepal width (cm)  petal length (cm)  \\\n",
              "count         150.000000        150.000000         150.000000   \n",
              "mean            5.843333          3.057333           3.758000   \n",
              "std             0.828066          0.435866           1.765298   \n",
              "min             4.300000          2.000000           1.000000   \n",
              "25%             5.100000          2.800000           1.600000   \n",
              "50%             5.800000          3.000000           4.350000   \n",
              "75%             6.400000          3.300000           5.100000   \n",
              "max             7.900000          4.400000           6.900000   \n",
              "\n",
              "       petal width (cm)      target  \n",
              "count        150.000000  150.000000  \n",
              "mean           1.199333    1.000000  \n",
              "std            0.762238    0.819232  \n",
              "min            0.100000    0.000000  \n",
              "25%            0.300000    0.000000  \n",
              "50%            1.300000    1.000000  \n",
              "75%            1.800000    2.000000  \n",
              "max            2.500000    2.000000  "
            ]
          },
          "execution_count": 11,
          "metadata": {},
          "output_type": "execute_result"
        }
      ],
      "source": [
        "df_iris.describe()"
      ]
    },
    {
      "cell_type": "markdown",
      "id": "70c463d3",
      "metadata": {
        "id": "70c463d3"
      },
      "source": [
        "## Line Charts:  "
      ]
    },
    {
      "cell_type": "markdown",
      "id": "f055feb3",
      "metadata": {
        "id": "f055feb3"
      },
      "source": [
        "<div style=\"direction:rtl\">\n",
        "<font color='red' size=\"5px\">\n",
        " مثال:\n",
        "    </font>\n",
        "</div>"
      ]
    },
    {
      "cell_type": "code",
      "execution_count": null,
      "id": "9294a03c",
      "metadata": {
        "id": "9294a03c"
      },
      "outputs": [],
      "source": [
        "plt.figure(figsize=(16,6))\n",
        "\n",
        "plt.ylabel('feature')\n",
        "\n",
        "plt.xlabel('data')\n",
        "\n",
        "plt.title(\"iris dataset\")\n",
        "\n",
        "sns.lineplot(data=df_iris);"
      ]
    },
    {
      "cell_type": "markdown",
      "id": "6b4134cb",
      "metadata": {
        "id": "6b4134cb"
      },
      "source": [
        "<div style=\"direction:rtl\">\n",
        "<font color='blue' size=\"5px\">\n",
        "تمرین 1 امتیازی: دیتاستی مانند قطعه کد زیر ایجاد کرده و سپس نمودار lineplot آن را رسم نمایید:\n",
        "    </font>\n",
        "</div>"
      ]
    },
    {
      "cell_type": "code",
      "execution_count": null,
      "id": "98c61854",
      "metadata": {
        "id": "98c61854"
      },
      "outputs": [],
      "source": [
        "import numpy as np\n",
        "import pandas as pd"
      ]
    },
    {
      "cell_type": "code",
      "execution_count": null,
      "id": "6ee38a59",
      "metadata": {
        "id": "6ee38a59"
      },
      "outputs": [],
      "source": [
        "a = np.random.randint(10,100, size=(1, 20))\n",
        "b = np.random.randint(20,40, size=(1, 20))\n",
        "\n",
        "a = list(a.flatten())\n",
        "b = list(b.flatten())\n",
        "\n",
        "target = []\n",
        "for i in range(len(a)):\n",
        "    target.append(0)\n",
        "\n",
        "data = {'length': a, 'width': b, 'target': target}\n",
        "\n",
        "df1 = pd.DataFrame(data)\n",
        "\n",
        "df1"
      ]
    },
    {
      "cell_type": "code",
      "execution_count": null,
      "id": "2149a48c",
      "metadata": {
        "id": "2149a48c"
      },
      "outputs": [],
      "source": [
        "a = np.random.randint(50,200, size=(1, 20))\n",
        "b = np.random.randint(10,20, size=(1, 20))\n",
        "\n",
        "a = list(a.flatten())\n",
        "b = list(b.flatten())\n",
        "\n",
        "target = []\n",
        "for i in range(len(a)):\n",
        "    target.append(1)\n",
        "\n",
        "data = {'length': a, 'width': b, 'target': target}\n",
        "\n",
        "df2 = pd.DataFrame(data)\n",
        "\n",
        "df2"
      ]
    },
    {
      "cell_type": "code",
      "execution_count": null,
      "id": "10b0f415",
      "metadata": {
        "id": "10b0f415"
      },
      "outputs": [],
      "source": [
        "df = pd.concat([df1, df2], ignore_index = True)\n",
        "df.shape"
      ]
    },
    {
      "cell_type": "code",
      "execution_count": null,
      "id": "41f7f7b8",
      "metadata": {
        "id": "41f7f7b8"
      },
      "outputs": [],
      "source": [
        "target_names = {\n",
        "    0:'apple',\n",
        "    1:'orange'\n",
        "}"
      ]
    },
    {
      "cell_type": "code",
      "execution_count": null,
      "id": "13aa079c",
      "metadata": {
        "id": "13aa079c"
      },
      "outputs": [],
      "source": [
        "df['target_names'] = df['target'].map(target_names)\n",
        "\n",
        "df"
      ]
    },
    {
      "cell_type": "code",
      "execution_count": null,
      "id": "99d710be",
      "metadata": {
        "id": "99d710be"
      },
      "outputs": [],
      "source": [
        "plt.figure(figsize=(16,6))\n",
        "\n",
        "plt.title(\"test dataset\")\n",
        "\n",
        "sns.lineplot(data=df);"
      ]
    },
    {
      "cell_type": "markdown",
      "id": "86c46935",
      "metadata": {
        "id": "86c46935"
      },
      "source": [
        "## Bar chart:"
      ]
    },
    {
      "cell_type": "markdown",
      "id": "fbd865bf",
      "metadata": {
        "id": "fbd865bf"
      },
      "source": [
        "<div style=\"direction:rtl\">\n",
        "<font color='red' size=\"5px\">\n",
        " مثال:\n",
        "    </font>\n",
        "</div>"
      ]
    },
    {
      "cell_type": "code",
      "execution_count": null,
      "id": "90870402",
      "metadata": {
        "id": "90870402"
      },
      "outputs": [],
      "source": [
        "plt.figure(figsize=(10,6))\n",
        "\n",
        "plt.title(\"iris dataset\")\n",
        "\n",
        "sns.barplot(x=df_iris.target_names, y=df_iris['sepal length (cm)'])\n",
        "\n",
        "plt.ylabel(\"sepal length (cm)\")"
      ]
    },
    {
      "cell_type": "code",
      "execution_count": null,
      "id": "958c4548",
      "metadata": {
        "id": "958c4548"
      },
      "outputs": [],
      "source": [
        "fig, axes = plt.subplots(2, 2, sharex=True, figsize=(10,5))\n",
        "\n",
        "plt.suptitle(\"iris dataset\")\n",
        "\n",
        "#sepal length\n",
        "sns.barplot(data=df_iris ,x='target_names', y='sepal length (cm)', ax=axes[0,0]);\n",
        "\n",
        "#sepal width\n",
        "sns.barplot(data=df_iris ,x='target_names', y='sepal width (cm)', ax=axes[0,1]);\n",
        "\n",
        "#petal length\n",
        "sns.barplot(data=df_iris ,x='target_names', y='petal length (cm)', ax=axes[1,0]);\n",
        "\n",
        "#petal width\n",
        "sns.barplot(data=df_iris ,x='target_names', y='petal width (cm)', ax=axes[1,1]);"
      ]
    },
    {
      "cell_type": "markdown",
      "id": "116c7a58",
      "metadata": {
        "id": "116c7a58"
      },
      "source": [
        "<div style=\"direction:rtl\">\n",
        "<font color='blue' size=\"5px\">\n",
        "تمرین 2 امتیازی: برای دیتاست ایجاد شده در تمرین اول، نمودار barplot آن را رسم نمایید:\n",
        "    </font>\n",
        "</div>"
      ]
    },
    {
      "cell_type": "code",
      "execution_count": null,
      "id": "bfeace30",
      "metadata": {
        "id": "bfeace30"
      },
      "outputs": [],
      "source": [
        "fig, axes = plt.subplots(1,2, sharex=True, figsize=(10,5))\n",
        "\n",
        "plt.suptitle(\"test dataset\")\n",
        "\n",
        "sns.barplot(data=df ,x='target_names', y='length', ax=axes[0]);\n",
        "\n",
        "sns.barplot(data=df ,x='target_names', y='width', ax=axes[1]);"
      ]
    },
    {
      "cell_type": "markdown",
      "id": "b06e645e",
      "metadata": {
        "id": "b06e645e"
      },
      "source": [
        "## Scatter plots:"
      ]
    },
    {
      "cell_type": "markdown",
      "id": "189c7f19",
      "metadata": {
        "id": "189c7f19"
      },
      "source": [
        "<div style=\"direction:rtl\">\n",
        "<font color='red' size=\"5px\">\n",
        " مثال:\n",
        "    </font>\n",
        "</div>"
      ]
    },
    {
      "cell_type": "code",
      "execution_count": null,
      "id": "a06209a1",
      "metadata": {
        "id": "a06209a1"
      },
      "outputs": [],
      "source": [
        "fig, axes = plt.subplots(2, 2, sharex=True, figsize=(10,5))\n",
        "\n",
        "plt.suptitle(\"iris dataset\")\n",
        "\n",
        "#sepal\n",
        "sns.scatterplot(data=df_iris ,x='sepal width (cm)', y='sepal length (cm)', ax=axes[0,0]);\n",
        "\n",
        "#petal\n",
        "sns.scatterplot(data=df_iris ,x='petal width (cm)', y='petal length (cm)', ax=axes[0,1]);\n",
        "\n",
        "#sepal length & petal length\n",
        "sns.scatterplot(data=df_iris ,x='sepal length (cm)', y='petal length (cm)', ax=axes[1,0]);\n",
        "\n",
        "#sepal width & petal width\n",
        "sns.scatterplot(data=df_iris ,x='sepal width (cm)', y='petal width (cm)', ax=axes[1,1]);"
      ]
    },
    {
      "cell_type": "markdown",
      "id": "04fee225",
      "metadata": {
        "id": "04fee225"
      },
      "source": [
        "<div style=\"direction:rtl\">\n",
        "<font color='blue' size=\"5px\">\n",
        "تمرین 3 امتیازی: برای دیتاست ایجاد شده در تمرین اول، نمودار scatterplot آن را رسم نمایید:\n",
        "    </font>\n",
        "</div>"
      ]
    },
    {
      "cell_type": "code",
      "execution_count": null,
      "id": "bec397dc",
      "metadata": {
        "id": "bec397dc"
      },
      "outputs": [],
      "source": [
        "figsize=(10,5)\n",
        "\n",
        "plt.suptitle(\"test dataset\")\n",
        "\n",
        "sns.scatterplot(data=df ,x='width', y='length');"
      ]
    },
    {
      "cell_type": "code",
      "execution_count": null,
      "id": "21a7857d",
      "metadata": {
        "id": "21a7857d"
      },
      "outputs": [],
      "source": [
        "fig, axes = plt.subplots(2, 2, sharex=True, figsize=(10,5))\n",
        "\n",
        "plt.suptitle(\"iris dataset\")\n",
        "\n",
        "#sepal\n",
        "sns.regplot(data=df_iris ,x='sepal width (cm)', y='sepal length (cm)', ax=axes[0,0]);\n",
        "\n",
        "#petal\n",
        "sns.regplot(data=df_iris ,x='petal width (cm)', y='petal length (cm)', ax=axes[0,1]);\n",
        "\n",
        "#sepal length & petal length\n",
        "sns.regplot(data=df_iris ,x='sepal length (cm)', y='petal length (cm)', ax=axes[1,0]);\n",
        "\n",
        "#sepal width & petal width\n",
        "sns.regplot(data=df_iris ,x='sepal width (cm)', y='petal width (cm)', ax=axes[1,1]);"
      ]
    },
    {
      "cell_type": "markdown",
      "id": "da314939",
      "metadata": {
        "id": "da314939"
      },
      "source": [
        "<div style=\"direction:rtl\">\n",
        "<font color='blue' size=\"5px\">\n",
        "تمرین 4 امتیازی: برای دیتاست ایجاد شده در تمرین اول، نمودار regplot آن را رسم نمایید:\n",
        "    </font>\n",
        "</div>"
      ]
    },
    {
      "cell_type": "code",
      "execution_count": null,
      "id": "fa27d84a",
      "metadata": {
        "id": "fa27d84a"
      },
      "outputs": [],
      "source": [
        "figsize=(10,5)\n",
        "\n",
        "plt.suptitle(\"test dataset\")\n",
        "\n",
        "sns.regplot(data=df ,x='width', y='length');"
      ]
    },
    {
      "cell_type": "code",
      "execution_count": null,
      "id": "be64ae48",
      "metadata": {
        "id": "be64ae48"
      },
      "outputs": [],
      "source": [
        "fig, axes = plt.subplots(2, 2, sharex=True, figsize=(10,5))\n",
        "\n",
        "plt.suptitle(\"iris dataset\")\n",
        "\n",
        "#sepal\n",
        "sns.scatterplot(data=df_iris ,x='sepal width (cm)', y='sepal length (cm)', hue='target_names', ax=axes[0,0]);\n",
        "\n",
        "#petal\n",
        "sns.scatterplot(data=df_iris ,x='petal width (cm)', y='petal length (cm)', hue='target_names', ax=axes[0,1]);\n",
        "\n",
        "#sepal length & petal length\n",
        "sns.scatterplot(data=df_iris ,x='sepal length (cm)', y='petal length (cm)', hue='target_names',ax=axes[1,0]);\n",
        "\n",
        "#sepal width & petal width\n",
        "sns.scatterplot(data=df_iris ,x='sepal width (cm)', y='petal width (cm)', hue='target_names', ax=axes[1,1]);"
      ]
    },
    {
      "cell_type": "code",
      "execution_count": null,
      "id": "da339685",
      "metadata": {
        "id": "da339685"
      },
      "outputs": [],
      "source": [
        "figsize=(10,5)\n",
        "\n",
        "plt.suptitle(\"test dataset\")\n",
        "\n",
        "sns.scatterplot(data=df ,x='width', y='length', hue='target_names');"
      ]
    },
    {
      "cell_type": "markdown",
      "id": "01e4d23e",
      "metadata": {
        "id": "01e4d23e"
      },
      "source": [
        "## Histograms:"
      ]
    },
    {
      "cell_type": "markdown",
      "id": "87e666a2",
      "metadata": {
        "id": "87e666a2"
      },
      "source": [
        "<div style=\"direction:rtl\">\n",
        "<font color='red' size=\"5px\">\n",
        " مثال:\n",
        "    </font>\n",
        "</div>"
      ]
    },
    {
      "cell_type": "code",
      "execution_count": null,
      "id": "c095c23a",
      "metadata": {
        "id": "c095c23a"
      },
      "outputs": [],
      "source": [
        "fig, axes = plt.subplots(2, 2, sharex=True, figsize=(10,5))\n",
        "\n",
        "plt.suptitle(\"iris dataset\")\n",
        "\n",
        "#sepal length\n",
        "sns.histplot(df_iris['sepal length (cm)'], ax=axes[0,0]);\n",
        "\n",
        "#sepal width\n",
        "sns.histplot(df_iris['sepal width (cm)'], ax=axes[0,1]);\n",
        "\n",
        "#petal length\n",
        "sns.histplot(df_iris['petal length (cm)'], ax=axes[1,0]);\n",
        "\n",
        "#petal width\n",
        "sns.histplot(df_iris['petal width (cm)'], ax=axes[1,1]);"
      ]
    },
    {
      "cell_type": "markdown",
      "id": "6bf5b04a",
      "metadata": {
        "id": "6bf5b04a"
      },
      "source": [
        "<div style=\"direction:rtl\">\n",
        "<font color='blue' size=\"5px\">\n",
        "تمرین 5 امتیازی: برای دیتاست ایجاد شده در تمرین اول، نمودار histplot آن را رسم نمایید:\n",
        "    </font>\n",
        "</div>"
      ]
    },
    {
      "cell_type": "code",
      "execution_count": null,
      "id": "c2bf6c1f",
      "metadata": {
        "id": "c2bf6c1f"
      },
      "outputs": [],
      "source": [
        "fig, axes = plt.subplots(1, 2, sharex=True, figsize=(10,5))\n",
        "\n",
        "plt.suptitle(\"test dataset\")\n",
        "\n",
        "sns.histplot(df['length'], ax=axes[0]);\n",
        "\n",
        "sns.histplot(df['width'], ax=axes[1]);"
      ]
    },
    {
      "cell_type": "markdown",
      "id": "066a2815",
      "metadata": {
        "id": "066a2815"
      },
      "source": [
        "## Density plots:"
      ]
    },
    {
      "cell_type": "markdown",
      "id": "2f516455",
      "metadata": {
        "id": "2f516455"
      },
      "source": [
        "<div style=\"direction:rtl\">\n",
        "<font color='red' size=\"5px\">\n",
        " مثال:\n",
        "    </font>\n",
        "</div>"
      ]
    },
    {
      "cell_type": "code",
      "execution_count": null,
      "id": "e8f02c4f",
      "metadata": {
        "id": "e8f02c4f"
      },
      "outputs": [],
      "source": [
        "fig, axes = plt.subplots(2, 2, sharex=True, figsize=(10,5))\n",
        "\n",
        "plt.suptitle(\"iris dataset\")\n",
        "\n",
        "#sepal length\n",
        "sns.kdeplot(data=df_iris['sepal length (cm)'], shade=True, ax=axes[0,0]);\n",
        "\n",
        "#sepal width\n",
        "sns.kdeplot(data=df_iris['sepal width (cm)'], shade=True, ax=axes[0,1]);\n",
        "\n",
        "#petal length\n",
        "sns.kdeplot(data=df_iris['petal length (cm)'], shade=True, ax=axes[1,0]);\n",
        "\n",
        "#petal width\n",
        "sns.kdeplot(data=df_iris['petal width (cm)'], shade=True, ax=axes[1,1]);"
      ]
    },
    {
      "cell_type": "markdown",
      "id": "2869ff1b",
      "metadata": {
        "id": "2869ff1b"
      },
      "source": [
        "<div style=\"direction:rtl\">\n",
        "<font color='blue' size=\"5px\">\n",
        "تمرین 6 امتیازی: برای دیتاست ایجاد شده در تمرین اول، نمودار kdeplot آن را رسم نمایید:\n",
        "    </font>\n",
        "</div>"
      ]
    },
    {
      "cell_type": "code",
      "execution_count": null,
      "id": "809a96e9",
      "metadata": {
        "id": "809a96e9"
      },
      "outputs": [],
      "source": [
        "fig, axes = plt.subplots(1, 2, sharex=True, figsize=(10,5))\n",
        "\n",
        "plt.suptitle(\"test dataset\")\n",
        "\n",
        "sns.kdeplot(df['length'], shade=True, ax=axes[0]);\n",
        "\n",
        "sns.kdeplot(df['width'], shade=True, ax=axes[1]);"
      ]
    },
    {
      "cell_type": "code",
      "execution_count": null,
      "id": "16739ee7",
      "metadata": {
        "id": "16739ee7"
      },
      "outputs": [],
      "source": [
        "fig, axes = plt.subplots(2, 2, sharex=True, figsize=(10,5))\n",
        "\n",
        "plt.suptitle(\"iris dataset\")\n",
        "\n",
        "#sepal length\n",
        "sns.boxplot(x=df_iris.target_names, y=df_iris['sepal length (cm)'], ax=axes[0,0]);\n",
        "\n",
        "#sepal width\n",
        "sns.boxplot(x=df_iris.target_names, y=df_iris['sepal width (cm)'], ax=axes[0,1]);\n",
        "\n",
        "#petal length\n",
        "sns.boxplot(x=df_iris.target_names, y=df_iris['petal length (cm)'], ax=axes[1,0]);\n",
        "\n",
        "#petal width\n",
        "sns.boxplot(x=df_iris.target_names, y=df_iris['petal width (cm)'], ax=axes[1,1]);"
      ]
    },
    {
      "cell_type": "markdown",
      "id": "da068b11",
      "metadata": {
        "id": "da068b11"
      },
      "source": [
        "<div style=\"direction:rtl\">\n",
        "<font color='blue' size=\"5px\">\n",
        "تمرین 7 امتیازی: برای دیتاست ایجاد شده در تمرین اول، نمودار boxplot آن را رسم نمایید:\n",
        "    </font>\n",
        "</div>"
      ]
    },
    {
      "cell_type": "code",
      "execution_count": null,
      "id": "47f60126",
      "metadata": {
        "id": "47f60126"
      },
      "outputs": [],
      "source": [
        "fig, axes = plt.subplots(1, 2, sharex=True, figsize=(10,5))\n",
        "\n",
        "plt.suptitle(\"test dataset\")\n",
        "\n",
        "sns.boxplot(x=df.target_names, y=df['length'], ax=axes[0]);\n",
        "\n",
        "sns.boxplot(x=df.target_names, y=df['width'], ax=axes[1]);"
      ]
    },
    {
      "cell_type": "markdown",
      "id": "d22a2f35",
      "metadata": {
        "id": "d22a2f35"
      },
      "source": [
        "## 2D KDE plots:"
      ]
    },
    {
      "cell_type": "markdown",
      "id": "1bec2b89",
      "metadata": {
        "id": "1bec2b89"
      },
      "source": [
        "<div style=\"direction:rtl\">\n",
        "<font color='red' size=\"5px\">\n",
        " مثال:\n",
        "    </font>\n",
        "</div>"
      ]
    },
    {
      "cell_type": "code",
      "execution_count": null,
      "id": "c08b233f",
      "metadata": {
        "id": "c08b233f"
      },
      "outputs": [],
      "source": [
        "plt.figure(figsize=(10,6))\n",
        "\n",
        "plt.suptitle(\"iris dataset\")\n",
        "\n",
        "#sepal length & petal length\n",
        "sns.jointplot(data=df_iris ,x='sepal length (cm)', y='petal length (cm)', kind=\"kde\");\n",
        "\n",
        "#sepal width & petal width\n",
        "sns.jointplot(data=df_iris ,x='sepal width (cm)', y='petal width (cm)', kind=\"kde\");"
      ]
    },
    {
      "cell_type": "markdown",
      "id": "c98204ce",
      "metadata": {
        "id": "c98204ce"
      },
      "source": [
        "<div style=\"direction:rtl\">\n",
        "<font color='blue' size=\"5px\">\n",
        "تمرین 8 امتیازی: برای دیتاست ایجاد شده در تمرین اول، نمودار jointplot آن را رسم نمایید:\n",
        "    </font>\n",
        "</div>"
      ]
    },
    {
      "cell_type": "code",
      "execution_count": null,
      "id": "43f8365d",
      "metadata": {
        "id": "43f8365d"
      },
      "outputs": [],
      "source": [
        "figsize=(10,5)\n",
        "\n",
        "plt.suptitle(\"test dataset\")\n",
        "\n",
        "sns.jointplot(data=df, x=df['length'], y=df['width'], kind=\"kde\");"
      ]
    },
    {
      "cell_type": "markdown",
      "id": "4fbab593",
      "metadata": {
        "id": "4fbab593"
      },
      "source": [
        "## Color-coded plots:"
      ]
    },
    {
      "cell_type": "markdown",
      "id": "d3837bb4",
      "metadata": {
        "id": "d3837bb4"
      },
      "source": [
        "<div style=\"direction:rtl\">\n",
        "<font color='red' size=\"5px\">\n",
        " مثال:\n",
        "    </font>\n",
        "</div>"
      ]
    },
    {
      "cell_type": "code",
      "execution_count": null,
      "id": "e11db7b8",
      "metadata": {
        "id": "e11db7b8"
      },
      "outputs": [],
      "source": [
        "fig, axes = plt.subplots(2, 2, sharex=True, figsize=(10,5))\n",
        "\n",
        "plt.suptitle(\"iris dataset\")\n",
        "\n",
        "#sepal length\n",
        "sns.histplot(data=df_iris, x='sepal length (cm)', hue='target_names', ax=axes[0,0]);\n",
        "\n",
        "#sepal width\n",
        "sns.histplot(data=df_iris, x='sepal width (cm)', hue='target_names', ax=axes[0,1]);\n",
        "\n",
        "#petal length\n",
        "sns.histplot(data=df_iris, x='petal length (cm)', hue='target_names', ax=axes[1,0]);\n",
        "\n",
        "#petal width\n",
        "sns.histplot(data=df_iris, x='petal width (cm)', hue='target_names', ax=axes[1,1]);"
      ]
    },
    {
      "cell_type": "markdown",
      "id": "9e7dd6cf",
      "metadata": {
        "id": "9e7dd6cf"
      },
      "source": [
        "<div style=\"direction:rtl\">\n",
        "<font color='blue' size=\"5px\">\n",
        "تمرین 9 امتیازی: برای دیتاست ایجاد شده در تمرین اول، نمودار histplot آن را رسم نمایید:\n",
        "    </font>\n",
        "</div>"
      ]
    },
    {
      "cell_type": "code",
      "execution_count": null,
      "id": "b4a5ebba",
      "metadata": {
        "id": "b4a5ebba"
      },
      "outputs": [],
      "source": [
        "fig, axes = plt.subplots(1, 2, sharex=True, figsize=(10,5))\n",
        "\n",
        "plt.suptitle(\"test dataset\")\n",
        "\n",
        "sns.histplot(data=df, x=df['length'], hue='target_names', ax=axes[0]);\n",
        "\n",
        "sns.histplot(data=df, x=df['width'], hue='target_names', ax=axes[1]);"
      ]
    },
    {
      "cell_type": "code",
      "execution_count": null,
      "id": "05bfdc45",
      "metadata": {
        "id": "05bfdc45"
      },
      "outputs": [],
      "source": [
        "fig, axes = plt.subplots(2, 2, sharex=True, figsize=(10,5))\n",
        "\n",
        "plt.suptitle(\"iris dataset\")\n",
        "\n",
        "#sepal length\n",
        "sns.kdeplot(data=df_iris, x='sepal length (cm)', hue='target_names', shade=True, ax=axes[0,0]);\n",
        "\n",
        "#sepal width\n",
        "sns.kdeplot(data=df_iris, x='sepal width (cm)', hue='target_names', shade=True, ax=axes[0,1]);\n",
        "\n",
        "#petal length\n",
        "sns.kdeplot(data=df_iris, x='petal length (cm)', hue='target_names', shade=True, ax=axes[1,0]);\n",
        "\n",
        "#petal width\n",
        "sns.kdeplot(data=df_iris, x='petal width (cm)', hue='target_names', shade=True, ax=axes[1,1]);"
      ]
    },
    {
      "cell_type": "markdown",
      "id": "8cd42590",
      "metadata": {
        "id": "8cd42590"
      },
      "source": [
        "<div style=\"direction:rtl\">\n",
        "<font color='blue' size=\"5px\">\n",
        "تمرین 10 امتیازی: برای دیتاست ایجاد شده در تمرین اول، نمودار kdeplot آن را رسم نمایید:\n",
        "    </font>\n",
        "</div>"
      ]
    },
    {
      "cell_type": "code",
      "execution_count": null,
      "id": "4e861019",
      "metadata": {
        "id": "4e861019"
      },
      "outputs": [],
      "source": [
        "fig, axes = plt.subplots(1, 2, sharex=True, figsize=(10,5))\n",
        "\n",
        "plt.suptitle(\"test dataset\")\n",
        "\n",
        "sns.kdeplot(data=df, x=df['length'], hue='target_names', shade=True, ax=axes[0]);\n",
        "\n",
        "sns.kdeplot(data=df, x=df['width'], hue='target_names', shade=True, ax=axes[1]);"
      ]
    }
  ],
  "metadata": {
    "kernelspec": {
      "display_name": "Python 3 (ipykernel)",
      "language": "python",
      "name": "python3"
    },
    "language_info": {
      "codemirror_mode": {
        "name": "ipython",
        "version": 3
      },
      "file_extension": ".py",
      "mimetype": "text/x-python",
      "name": "python",
      "nbconvert_exporter": "python",
      "pygments_lexer": "ipython3",
      "version": "3.11.5"
    },
    "colab": {
      "provenance": [],
      "include_colab_link": true
    }
  },
  "nbformat": 4,
  "nbformat_minor": 5
}