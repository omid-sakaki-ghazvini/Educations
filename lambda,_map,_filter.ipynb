{
  "cells": [
    {
      "cell_type": "markdown",
      "metadata": {
        "id": "view-in-github",
        "colab_type": "text"
      },
      "source": [
        "<a href=\"https://colab.research.google.com/github/omid-sakaki-ghazvini/Educations/blob/main/lambda%2C_map%2C_filter.ipynb\" target=\"_parent\"><img src=\"https://colab.research.google.com/assets/colab-badge.svg\" alt=\"Open In Colab\"/></a>"
      ]
    },
    {
      "cell_type": "markdown",
      "id": "b31ac5d8",
      "metadata": {
        "id": "b31ac5d8"
      },
      "source": [
        "## lambda:"
      ]
    },
    {
      "cell_type": "markdown",
      "id": "20caf46c",
      "metadata": {
        "id": "20caf46c"
      },
      "source": [
        "## lambda arguments : expression"
      ]
    },
    {
      "cell_type": "markdown",
      "id": "b49e2e84",
      "metadata": {
        "id": "b49e2e84"
      },
      "source": [
        "## مثال اول:"
      ]
    },
    {
      "cell_type": "code",
      "execution_count": null,
      "id": "7130b069",
      "metadata": {
        "id": "7130b069"
      },
      "outputs": [],
      "source": [
        "def test1(a,b):\n",
        "\n",
        "    x = a + b\n",
        "\n",
        "    return(x)"
      ]
    },
    {
      "cell_type": "code",
      "execution_count": null,
      "id": "a903db2f",
      "metadata": {
        "id": "a903db2f",
        "outputId": "03673dcb-b616-4731-c21a-b5ffa5b1d1ad"
      },
      "outputs": [
        {
          "data": {
            "text/plain": [
              "5"
            ]
          },
          "execution_count": 2,
          "metadata": {},
          "output_type": "execute_result"
        }
      ],
      "source": [
        "test1(2,3)"
      ]
    },
    {
      "cell_type": "code",
      "execution_count": null,
      "id": "94e7a1f0",
      "metadata": {
        "id": "94e7a1f0"
      },
      "outputs": [],
      "source": [
        "test2 = lambda a, b : a + b"
      ]
    },
    {
      "cell_type": "code",
      "execution_count": null,
      "id": "8ef0846c",
      "metadata": {
        "id": "8ef0846c",
        "outputId": "c801a061-a88e-4a38-81d0-805762e84747"
      },
      "outputs": [
        {
          "data": {
            "text/plain": [
              "5"
            ]
          },
          "execution_count": 4,
          "metadata": {},
          "output_type": "execute_result"
        }
      ],
      "source": [
        "test2(2,3)"
      ]
    },
    {
      "cell_type": "markdown",
      "id": "ec89f0da",
      "metadata": {
        "id": "ec89f0da"
      },
      "source": [
        "## تمرین 1 امتیازی:"
      ]
    },
    {
      "cell_type": "markdown",
      "id": "dfa3787d",
      "metadata": {
        "id": "dfa3787d"
      },
      "source": [
        "## با استفاده از لامبدا، تابعی بنویسید که 3 عدد را از ورودی گرفته و سپس حاصل تفریق آنها را در خروجی نمایش دهد  "
      ]
    },
    {
      "cell_type": "code",
      "execution_count": null,
      "id": "07a179b5",
      "metadata": {
        "id": "07a179b5"
      },
      "outputs": [],
      "source": [
        "def test3(a,b,c):\n",
        "    return(a-b-c)"
      ]
    },
    {
      "cell_type": "code",
      "execution_count": null,
      "id": "752a0062",
      "metadata": {
        "id": "752a0062",
        "outputId": "786c81e1-73c5-4044-bc5e-d5e778784852"
      },
      "outputs": [
        {
          "data": {
            "text/plain": [
              "3"
            ]
          },
          "execution_count": 6,
          "metadata": {},
          "output_type": "execute_result"
        }
      ],
      "source": [
        "test3(10,5,2)"
      ]
    },
    {
      "cell_type": "code",
      "execution_count": null,
      "id": "45da26a4",
      "metadata": {
        "id": "45da26a4"
      },
      "outputs": [],
      "source": []
    },
    {
      "cell_type": "code",
      "execution_count": null,
      "id": "049ff81b",
      "metadata": {
        "id": "049ff81b"
      },
      "outputs": [],
      "source": [
        "test4 = lambda a, b, c : a - b - c"
      ]
    },
    {
      "cell_type": "code",
      "execution_count": null,
      "id": "89fc2e2c",
      "metadata": {
        "id": "89fc2e2c",
        "outputId": "15a9db76-ba1a-4aae-9b4c-b05dcbcdba20"
      },
      "outputs": [
        {
          "data": {
            "text/plain": [
              "3"
            ]
          },
          "execution_count": 8,
          "metadata": {},
          "output_type": "execute_result"
        }
      ],
      "source": [
        "test4(10,5,2)"
      ]
    },
    {
      "cell_type": "code",
      "execution_count": null,
      "id": "ffa0d787",
      "metadata": {
        "id": "ffa0d787"
      },
      "outputs": [],
      "source": []
    },
    {
      "cell_type": "markdown",
      "id": "ea43a222",
      "metadata": {
        "id": "ea43a222"
      },
      "source": [
        "## تمرین 2 امتیازی:"
      ]
    },
    {
      "cell_type": "markdown",
      "id": "f2fe4847",
      "metadata": {
        "id": "f2fe4847"
      },
      "source": [
        "## با استفاده از لامبدا یک تابع تعریف شود که آن تابع اعداد با اعشار زیاد دریافت کرده و اعداد را با 2 رقم اعشار گرد کرده و در خروجی نمایش دهد"
      ]
    },
    {
      "cell_type": "code",
      "execution_count": null,
      "id": "6dde9665",
      "metadata": {
        "id": "6dde9665"
      },
      "outputs": [],
      "source": [
        "def test5(a):\n",
        "    return(round(a, ndigits=2))"
      ]
    },
    {
      "cell_type": "code",
      "execution_count": null,
      "id": "57cc88ed",
      "metadata": {
        "id": "57cc88ed",
        "outputId": "42e5cb2c-53a4-4c9d-c898-22231af07a14"
      },
      "outputs": [
        {
          "data": {
            "text/plain": [
              "3.46"
            ]
          },
          "execution_count": 10,
          "metadata": {},
          "output_type": "execute_result"
        }
      ],
      "source": [
        "test5(3.456789)"
      ]
    },
    {
      "cell_type": "code",
      "execution_count": null,
      "id": "19841989",
      "metadata": {
        "id": "19841989"
      },
      "outputs": [],
      "source": []
    },
    {
      "cell_type": "code",
      "execution_count": null,
      "id": "d1aadf6b",
      "metadata": {
        "id": "d1aadf6b"
      },
      "outputs": [],
      "source": [
        "test6 = lambda a : round(a, ndigits=2)"
      ]
    },
    {
      "cell_type": "code",
      "execution_count": null,
      "id": "993a0c8d",
      "metadata": {
        "id": "993a0c8d",
        "outputId": "8f460782-e0bd-41bd-8d5b-0ea5a12fdea2"
      },
      "outputs": [
        {
          "data": {
            "text/plain": [
              "3.46"
            ]
          },
          "execution_count": 12,
          "metadata": {},
          "output_type": "execute_result"
        }
      ],
      "source": [
        "test6(3.456789)"
      ]
    },
    {
      "cell_type": "code",
      "execution_count": null,
      "id": "9448c272",
      "metadata": {
        "id": "9448c272"
      },
      "outputs": [],
      "source": []
    },
    {
      "cell_type": "markdown",
      "id": "0acfc9c4",
      "metadata": {
        "id": "0acfc9c4"
      },
      "source": [
        "## تمرین 3 امتیازی:"
      ]
    },
    {
      "cell_type": "markdown",
      "id": "250e0ded",
      "metadata": {
        "id": "250e0ded"
      },
      "source": [
        "## کد زیر را تحلیل نمایید"
      ]
    },
    {
      "cell_type": "code",
      "execution_count": null,
      "id": "1674ae08",
      "metadata": {
        "id": "1674ae08",
        "outputId": "540ca2f5-7fa2-417a-fdad-d2887a479372"
      },
      "outputs": [
        {
          "name": "stdout",
          "output_type": "stream",
          "text": [
            "7\n"
          ]
        }
      ],
      "source": [
        "d = {'a':3, 'b':7, 'c':5}\n",
        "\n",
        "print( d[max(d.keys() , key = (lambda k: d[k]))] )"
      ]
    },
    {
      "cell_type": "code",
      "execution_count": null,
      "id": "968d95df",
      "metadata": {
        "id": "968d95df"
      },
      "outputs": [],
      "source": []
    },
    {
      "cell_type": "markdown",
      "id": "1022038a",
      "metadata": {
        "id": "1022038a"
      },
      "source": [
        "## map:"
      ]
    },
    {
      "cell_type": "markdown",
      "id": "94aa40f1",
      "metadata": {
        "id": "94aa40f1"
      },
      "source": [
        "## map(function_object, iterable1, iterable2,...)"
      ]
    },
    {
      "cell_type": "markdown",
      "id": "0a1fbf41",
      "metadata": {
        "id": "0a1fbf41"
      },
      "source": [
        "## مثال دوم:"
      ]
    },
    {
      "cell_type": "code",
      "execution_count": null,
      "id": "375cab8c",
      "metadata": {
        "id": "375cab8c"
      },
      "outputs": [],
      "source": [
        "def test9(lst):\n",
        "    temp = []\n",
        "    for i in lst:\n",
        "        x = i.upper()\n",
        "        temp.append(x)\n",
        "    return(temp)"
      ]
    },
    {
      "cell_type": "code",
      "execution_count": null,
      "id": "261154c5",
      "metadata": {
        "id": "261154c5"
      },
      "outputs": [],
      "source": [
        "a = ['ali', 'reza']"
      ]
    },
    {
      "cell_type": "code",
      "execution_count": null,
      "id": "2fea9749",
      "metadata": {
        "id": "2fea9749",
        "outputId": "e750de24-8039-4662-d3a5-a5c12bb456b1"
      },
      "outputs": [
        {
          "data": {
            "text/plain": [
              "['ALI', 'REZA']"
            ]
          },
          "execution_count": 16,
          "metadata": {},
          "output_type": "execute_result"
        }
      ],
      "source": [
        "test9(a)"
      ]
    },
    {
      "cell_type": "code",
      "execution_count": null,
      "id": "45f70a82",
      "metadata": {
        "id": "45f70a82",
        "outputId": "5b6f58ed-c57a-4ad2-c391-0bc464b66399"
      },
      "outputs": [
        {
          "data": {
            "text/plain": [
              "['ALI', 'REZA']"
            ]
          },
          "execution_count": 17,
          "metadata": {},
          "output_type": "execute_result"
        }
      ],
      "source": [
        "list(map(str.upper, a))"
      ]
    },
    {
      "cell_type": "markdown",
      "id": "7015d3e2",
      "metadata": {
        "id": "7015d3e2"
      },
      "source": [
        "## مثال سوم:"
      ]
    },
    {
      "cell_type": "code",
      "execution_count": null,
      "id": "74b20f4d",
      "metadata": {
        "id": "74b20f4d"
      },
      "outputs": [],
      "source": [
        "def test7(x):\n",
        "      return x * 2"
      ]
    },
    {
      "cell_type": "markdown",
      "id": "d2dd991f",
      "metadata": {
        "id": "d2dd991f"
      },
      "source": [
        "input:[1, 2, 3, 4]"
      ]
    },
    {
      "cell_type": "markdown",
      "id": "65a28249",
      "metadata": {
        "id": "65a28249"
      },
      "source": [
        "output:[2, 4, 6, 8]"
      ]
    },
    {
      "cell_type": "code",
      "execution_count": null,
      "id": "039766b6",
      "metadata": {
        "id": "039766b6"
      },
      "outputs": [],
      "source": [
        "a = map(test7, [1, 2, 3, 4])"
      ]
    },
    {
      "cell_type": "code",
      "execution_count": null,
      "id": "64298fea",
      "metadata": {
        "id": "64298fea",
        "outputId": "3574fb31-bd0d-4cf3-a4e6-de78e5483bd3"
      },
      "outputs": [
        {
          "data": {
            "text/plain": [
              "[2, 4, 6, 8]"
            ]
          },
          "execution_count": 22,
          "metadata": {},
          "output_type": "execute_result"
        }
      ],
      "source": [
        "list(a)"
      ]
    },
    {
      "cell_type": "markdown",
      "id": "556e0d1b",
      "metadata": {
        "id": "556e0d1b"
      },
      "source": [
        "## تمرین 4 امتیازی:"
      ]
    },
    {
      "cell_type": "markdown",
      "id": "816a1430",
      "metadata": {
        "id": "816a1430"
      },
      "source": [
        "## در مثال بالا به جای تابع معمولی از لامبدا استفاده کنید"
      ]
    },
    {
      "cell_type": "code",
      "execution_count": null,
      "id": "3c776c6a",
      "metadata": {
        "id": "3c776c6a"
      },
      "outputs": [],
      "source": [
        "test8 = list(map(lambda x : x *2, [1, 2, 3, 4]))"
      ]
    },
    {
      "cell_type": "code",
      "execution_count": null,
      "id": "2097b2d3",
      "metadata": {
        "id": "2097b2d3",
        "outputId": "c59e5866-89ea-4648-97a2-3579d4afe1ad"
      },
      "outputs": [
        {
          "data": {
            "text/plain": [
              "[2, 4, 6, 8]"
            ]
          },
          "execution_count": 24,
          "metadata": {},
          "output_type": "execute_result"
        }
      ],
      "source": [
        "test8"
      ]
    },
    {
      "cell_type": "markdown",
      "id": "9def3b93",
      "metadata": {
        "id": "9def3b93"
      },
      "source": [
        "## تمرین 5 امتیازی:"
      ]
    },
    {
      "cell_type": "code",
      "execution_count": null,
      "id": "5b2beed2",
      "metadata": {
        "id": "5b2beed2"
      },
      "outputs": [],
      "source": [
        "a = (35, 42, 65 , 12)\n",
        "b = (True, False, True, False)"
      ]
    },
    {
      "cell_type": "code",
      "execution_count": null,
      "id": "bfa60a73",
      "metadata": {
        "id": "bfa60a73",
        "outputId": "640d39eb-0c4b-4f33-fc2c-5657ce9de60f"
      },
      "outputs": [
        {
          "data": {
            "text/plain": [
              "[(35, True), (42, False), (65, True), (12, False)]"
            ]
          },
          "execution_count": 26,
          "metadata": {},
          "output_type": "execute_result"
        }
      ],
      "source": [
        "list(zip(a,b))"
      ]
    },
    {
      "cell_type": "markdown",
      "id": "c9077717",
      "metadata": {
        "id": "c9077717"
      },
      "source": [
        "## در مثال بالا به جای زیپ از لامبدا و مپ استفاده کنید"
      ]
    },
    {
      "cell_type": "code",
      "execution_count": null,
      "id": "0424f50a",
      "metadata": {
        "id": "0424f50a",
        "outputId": "e4780550-e3b9-46fe-d6de-bdaf575fc260"
      },
      "outputs": [
        {
          "data": {
            "text/plain": [
              "[(35, True), (42, False), (65, True), (12, False)]"
            ]
          },
          "execution_count": 27,
          "metadata": {},
          "output_type": "execute_result"
        }
      ],
      "source": [
        "list(map(lambda x,y : (x,y), a , b))"
      ]
    },
    {
      "cell_type": "markdown",
      "id": "338cc026",
      "metadata": {
        "id": "338cc026"
      },
      "source": [
        "## تمرین 6 امتیازی:"
      ]
    },
    {
      "cell_type": "code",
      "execution_count": null,
      "id": "1bad7b6e",
      "metadata": {
        "id": "1bad7b6e"
      },
      "outputs": [],
      "source": [
        "a = [3, 2, 1]\n",
        "b = [6, 4, 7]"
      ]
    },
    {
      "cell_type": "code",
      "execution_count": null,
      "id": "3391a667",
      "metadata": {
        "id": "3391a667"
      },
      "outputs": [],
      "source": [
        "def test9(a,b):\n",
        "    s = []\n",
        "    for i in range(len(a)):\n",
        "        x = a[i] + b[i]\n",
        "        s.append(x)\n",
        "    return(s)"
      ]
    },
    {
      "cell_type": "code",
      "execution_count": null,
      "id": "51ad055e",
      "metadata": {
        "id": "51ad055e",
        "outputId": "e9b497ea-8974-4bcf-87f1-a9e5be33224a"
      },
      "outputs": [
        {
          "data": {
            "text/plain": [
              "[9, 6, 8]"
            ]
          },
          "execution_count": 30,
          "metadata": {},
          "output_type": "execute_result"
        }
      ],
      "source": [
        "test9(a,b)"
      ]
    },
    {
      "cell_type": "markdown",
      "id": "2a7d4d9e",
      "metadata": {
        "id": "2a7d4d9e"
      },
      "source": [
        "## تابع فوق را با لامبدا و مپ بازنویسی نمایید:"
      ]
    },
    {
      "cell_type": "code",
      "execution_count": null,
      "id": "e7746b99",
      "metadata": {
        "id": "e7746b99",
        "outputId": "20c81db4-8b34-4cc8-d270-e68534110875"
      },
      "outputs": [
        {
          "data": {
            "text/plain": [
              "[9, 6, 8]"
            ]
          },
          "execution_count": 31,
          "metadata": {},
          "output_type": "execute_result"
        }
      ],
      "source": [
        "list(map(lambda x, y: x+y, a , b))"
      ]
    },
    {
      "cell_type": "markdown",
      "id": "255dccfd",
      "metadata": {
        "id": "255dccfd"
      },
      "source": [
        "## تمرین 7 امتیازی :"
      ]
    },
    {
      "cell_type": "markdown",
      "id": "582e5431",
      "metadata": {
        "id": "582e5431"
      },
      "source": [
        "## کد زیر را تحلیل نمایید:"
      ]
    },
    {
      "cell_type": "code",
      "execution_count": null,
      "id": "58643eec",
      "metadata": {
        "id": "58643eec"
      },
      "outputs": [],
      "source": [
        "def f(x):\n",
        "    return x + 5\n",
        "\n",
        "def g(y):\n",
        "    return y * 2\n",
        "\n",
        "def test10(lst):\n",
        "    temp = []\n",
        "    for i in lst:\n",
        "        a = f(i)\n",
        "        b = g(i)\n",
        "        c = [a , b]\n",
        "        temp.append(c)\n",
        "    return(temp)"
      ]
    },
    {
      "cell_type": "code",
      "execution_count": null,
      "id": "ab4d7a02",
      "metadata": {
        "id": "ab4d7a02"
      },
      "outputs": [],
      "source": [
        "lst = [1, 2, 3]"
      ]
    },
    {
      "cell_type": "code",
      "execution_count": null,
      "id": "98634361",
      "metadata": {
        "id": "98634361",
        "outputId": "6bdf07fd-afa7-4c5e-cd83-f74a32e864b2"
      },
      "outputs": [
        {
          "data": {
            "text/plain": [
              "[[6, 2], [7, 4], [8, 6]]"
            ]
          },
          "execution_count": 34,
          "metadata": {},
          "output_type": "execute_result"
        }
      ],
      "source": [
        "test10(lst)"
      ]
    },
    {
      "cell_type": "markdown",
      "id": "ad4f02e2",
      "metadata": {
        "id": "ad4f02e2"
      },
      "source": [
        "## کد بالا را با لامبدا و مپ بازنویسی نمایید:"
      ]
    },
    {
      "cell_type": "code",
      "execution_count": null,
      "id": "2b3a41a1",
      "metadata": {
        "id": "2b3a41a1"
      },
      "outputs": [],
      "source": [
        "def f(x):\n",
        "    return x + 5\n",
        "\n",
        "def g(y):\n",
        "    return y * 2"
      ]
    },
    {
      "cell_type": "code",
      "execution_count": null,
      "id": "ba4eaadf",
      "metadata": {
        "id": "ba4eaadf"
      },
      "outputs": [],
      "source": [
        "funcs = [f, g]"
      ]
    },
    {
      "cell_type": "code",
      "execution_count": null,
      "id": "d69f7af2",
      "metadata": {
        "id": "d69f7af2",
        "outputId": "320565cb-b9bb-4472-9112-65f15065918d"
      },
      "outputs": [
        {
          "name": "stdout",
          "output_type": "stream",
          "text": [
            "[6, 2]\n",
            "[7, 4]\n",
            "[8, 6]\n"
          ]
        }
      ],
      "source": [
        "for i in lst:\n",
        "    print(list(map(lambda a : a(i), funcs)))"
      ]
    },
    {
      "cell_type": "code",
      "execution_count": null,
      "id": "2a96901f",
      "metadata": {
        "id": "2a96901f"
      },
      "outputs": [],
      "source": []
    },
    {
      "cell_type": "markdown",
      "id": "e9a97c3a",
      "metadata": {
        "id": "e9a97c3a"
      },
      "source": [
        "## filter:"
      ]
    },
    {
      "cell_type": "markdown",
      "id": "7e6264b6",
      "metadata": {
        "id": "7e6264b6"
      },
      "source": [
        "## مثال:"
      ]
    },
    {
      "cell_type": "code",
      "execution_count": null,
      "id": "0257f4d2",
      "metadata": {
        "id": "0257f4d2"
      },
      "outputs": [],
      "source": [
        "a = [-1, 2, -3, 4, -5]"
      ]
    },
    {
      "cell_type": "code",
      "execution_count": null,
      "id": "9998e861",
      "metadata": {
        "id": "9998e861"
      },
      "outputs": [],
      "source": [
        "def test11(num):\n",
        "    for i in num:\n",
        "        if i < 0:\n",
        "            del num[num.index(i)]\n",
        "    return(num)"
      ]
    },
    {
      "cell_type": "code",
      "execution_count": null,
      "id": "1446d0cb",
      "metadata": {
        "id": "1446d0cb",
        "outputId": "ab2c3eb7-55b1-4911-dbbb-53185fe4c8ed"
      },
      "outputs": [
        {
          "data": {
            "text/plain": [
              "[2, 4]"
            ]
          },
          "execution_count": 40,
          "metadata": {},
          "output_type": "execute_result"
        }
      ],
      "source": [
        "test11(a)"
      ]
    },
    {
      "cell_type": "code",
      "execution_count": null,
      "id": "37823299",
      "metadata": {
        "id": "37823299"
      },
      "outputs": [],
      "source": []
    },
    {
      "cell_type": "code",
      "execution_count": null,
      "id": "519ca715",
      "metadata": {
        "id": "519ca715"
      },
      "outputs": [],
      "source": [
        "a = [-1, 2, -3, 4, -5]"
      ]
    },
    {
      "cell_type": "code",
      "execution_count": null,
      "id": "088f839f",
      "metadata": {
        "id": "088f839f",
        "outputId": "2ddf72ba-55e7-46b8-8908-89a9298e738c"
      },
      "outputs": [
        {
          "data": {
            "text/plain": [
              "[2, 4]"
            ]
          },
          "execution_count": 42,
          "metadata": {},
          "output_type": "execute_result"
        }
      ],
      "source": [
        "list(filter(lambda x: x>0, a))"
      ]
    },
    {
      "cell_type": "markdown",
      "id": "01616cbd",
      "metadata": {
        "id": "01616cbd"
      },
      "source": [
        "## تمرین:"
      ]
    },
    {
      "cell_type": "markdown",
      "id": "4d2d973e",
      "metadata": {
        "id": "4d2d973e"
      },
      "source": [
        "## input:"
      ]
    },
    {
      "cell_type": "code",
      "execution_count": null,
      "id": "604caf0b",
      "metadata": {
        "id": "604caf0b"
      },
      "outputs": [],
      "source": [
        "lis = [2, 7, '', 9, {}, 8, [], 12]"
      ]
    },
    {
      "cell_type": "markdown",
      "id": "63faea8e",
      "metadata": {
        "id": "63faea8e"
      },
      "source": [
        "## output:"
      ]
    },
    {
      "cell_type": "code",
      "execution_count": null,
      "id": "154bafe7",
      "metadata": {
        "id": "154bafe7"
      },
      "outputs": [],
      "source": [
        "[2, 7, 9, 8, 12]"
      ]
    },
    {
      "cell_type": "code",
      "execution_count": null,
      "id": "314c281a",
      "metadata": {
        "id": "314c281a"
      },
      "outputs": [],
      "source": []
    },
    {
      "cell_type": "code",
      "execution_count": null,
      "id": "e9959f3e",
      "metadata": {
        "id": "e9959f3e"
      },
      "outputs": [],
      "source": [
        "print(list(filter(None,lis)))"
      ]
    }
  ],
  "metadata": {
    "kernelspec": {
      "display_name": "Python 3 (ipykernel)",
      "language": "python",
      "name": "python3"
    },
    "language_info": {
      "codemirror_mode": {
        "name": "ipython",
        "version": 3
      },
      "file_extension": ".py",
      "mimetype": "text/x-python",
      "name": "python",
      "nbconvert_exporter": "python",
      "pygments_lexer": "ipython3",
      "version": "3.11.5"
    },
    "colab": {
      "provenance": [],
      "include_colab_link": true
    }
  },
  "nbformat": 4,
  "nbformat_minor": 5
}