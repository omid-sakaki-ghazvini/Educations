{
  "cells": [
    {
      "cell_type": "markdown",
      "metadata": {
        "id": "view-in-github",
        "colab_type": "text"
      },
      "source": [
        "<a href=\"https://colab.research.google.com/github/omid-sakaki-ghazvini/Educations/blob/main/%D9%85%D8%AC%D9%85%D9%88%D8%B9%D9%87.ipynb\" target=\"_parent\"><img src=\"https://colab.research.google.com/assets/colab-badge.svg\" alt=\"Open In Colab\"/></a>"
      ]
    },
    {
      "cell_type": "markdown",
      "id": "40ac913d",
      "metadata": {
        "id": "40ac913d"
      },
      "source": [
        "## **مجموعه**:"
      ]
    },
    {
      "cell_type": "markdown",
      "id": "ea39caa1",
      "metadata": {
        "id": "ea39caa1"
      },
      "source": [
        "## این ساختار داده، برای داده های منحصربفرد و بدون ترتیب بکار میرود. عملیات معمول مجموعه های ریاضی اعم از اشتراک و اجتماع را به راحتی پشتیبانی میکند."
      ]
    },
    {
      "cell_type": "code",
      "execution_count": null,
      "id": "05f211bf",
      "metadata": {
        "id": "05f211bf"
      },
      "outputs": [],
      "source": []
    },
    {
      "cell_type": "code",
      "execution_count": null,
      "id": "a7f264a9",
      "metadata": {
        "id": "a7f264a9"
      },
      "outputs": [],
      "source": [
        "a = {'amir', 'omid' , 'zahra'}"
      ]
    },
    {
      "cell_type": "code",
      "execution_count": null,
      "id": "48eefd80",
      "metadata": {
        "id": "48eefd80"
      },
      "outputs": [],
      "source": [
        "print(type(a))\n",
        "print(len(a))"
      ]
    },
    {
      "cell_type": "code",
      "execution_count": null,
      "id": "660374e1",
      "metadata": {
        "id": "660374e1"
      },
      "outputs": [],
      "source": [
        "b = set(('amir', 'omid' , 'zahra'))"
      ]
    },
    {
      "cell_type": "code",
      "execution_count": null,
      "id": "ce57a6ee",
      "metadata": {
        "id": "ce57a6ee"
      },
      "outputs": [],
      "source": [
        "print(type(a))\n",
        "print(len(a))"
      ]
    },
    {
      "cell_type": "code",
      "execution_count": null,
      "id": "882b5165",
      "metadata": {
        "id": "882b5165"
      },
      "outputs": [],
      "source": [
        "print(a == b)"
      ]
    },
    {
      "cell_type": "code",
      "execution_count": null,
      "id": "b47bc74d",
      "metadata": {
        "id": "b47bc74d"
      },
      "outputs": [],
      "source": [
        "a.add('ahmad')\n",
        "a"
      ]
    },
    {
      "cell_type": "code",
      "execution_count": null,
      "id": "51726f03",
      "metadata": {
        "id": "51726f03"
      },
      "outputs": [],
      "source": [
        "a.add('ehsan')\n",
        "a"
      ]
    },
    {
      "cell_type": "code",
      "execution_count": null,
      "id": "50a11e2f",
      "metadata": {
        "id": "50a11e2f"
      },
      "outputs": [],
      "source": [
        "b.update(['ahmad','ehsan'])\n",
        "b"
      ]
    },
    {
      "cell_type": "code",
      "execution_count": null,
      "id": "4c3809ed",
      "metadata": {
        "id": "4c3809ed"
      },
      "outputs": [],
      "source": [
        "a.remove('ahmad')\n",
        "a"
      ]
    },
    {
      "cell_type": "code",
      "execution_count": null,
      "id": "51c0cdba",
      "metadata": {
        "id": "51c0cdba"
      },
      "outputs": [],
      "source": [
        "c = set((1, 16, 2, 20, 14, 3))\n",
        "c"
      ]
    },
    {
      "cell_type": "code",
      "execution_count": null,
      "id": "f1ce0cd6",
      "metadata": {
        "id": "f1ce0cd6"
      },
      "outputs": [],
      "source": []
    },
    {
      "cell_type": "code",
      "execution_count": null,
      "id": "3d1d00f4",
      "metadata": {
        "id": "3d1d00f4"
      },
      "outputs": [],
      "source": [
        "A = {1, 2, 3, 4, 5}\n",
        "B = {2, 4, 7}"
      ]
    },
    {
      "cell_type": "code",
      "execution_count": null,
      "id": "89fedea8",
      "metadata": {
        "id": "89fedea8"
      },
      "outputs": [],
      "source": [
        "print(A-B)\n",
        "print(B-A)"
      ]
    },
    {
      "cell_type": "code",
      "execution_count": null,
      "id": "41712953",
      "metadata": {
        "id": "41712953"
      },
      "outputs": [],
      "source": [
        "print(A.difference(B))\n",
        "print(B.difference(A))"
      ]
    },
    {
      "cell_type": "code",
      "execution_count": null,
      "id": "a507255a",
      "metadata": {
        "id": "a507255a"
      },
      "outputs": [],
      "source": [
        "print(A ^ B)"
      ]
    },
    {
      "cell_type": "code",
      "execution_count": null,
      "id": "7144f0fa",
      "metadata": {
        "id": "7144f0fa"
      },
      "outputs": [],
      "source": [
        "print(A.symmetric_difference(B))"
      ]
    },
    {
      "cell_type": "code",
      "execution_count": null,
      "id": "76d78dfb",
      "metadata": {
        "id": "76d78dfb"
      },
      "outputs": [],
      "source": [
        "print(A & B)"
      ]
    },
    {
      "cell_type": "code",
      "execution_count": null,
      "id": "b834a403",
      "metadata": {
        "id": "b834a403"
      },
      "outputs": [],
      "source": [
        "print(A.intersection(B))"
      ]
    },
    {
      "cell_type": "code",
      "execution_count": null,
      "id": "6cae283c",
      "metadata": {
        "id": "6cae283c"
      },
      "outputs": [],
      "source": [
        "print(A | B)"
      ]
    },
    {
      "cell_type": "code",
      "execution_count": null,
      "id": "a27a7a41",
      "metadata": {
        "id": "a27a7a41"
      },
      "outputs": [],
      "source": [
        "print(A.union(B))"
      ]
    },
    {
      "cell_type": "markdown",
      "id": "6cd90a71",
      "metadata": {
        "id": "6cd90a71"
      },
      "source": [
        "## تمرین 1 امتیازی:"
      ]
    },
    {
      "cell_type": "code",
      "execution_count": null,
      "id": "80a85e28",
      "metadata": {
        "id": "80a85e28"
      },
      "outputs": [],
      "source": [
        "d1 = {'a':1 , 'b':3 , 'c':2}\n",
        "d2 = {'a':2 , 'b':3 , 'c':1}\n",
        "\n",
        "s1 = set(d1.items())\n",
        "\n",
        "s2 = set(d2.items())\n",
        "\n",
        "s = s1 & s2\n",
        "print(s)"
      ]
    },
    {
      "cell_type": "code",
      "execution_count": null,
      "id": "ae428c13",
      "metadata": {
        "id": "ae428c13"
      },
      "outputs": [],
      "source": []
    }
  ],
  "metadata": {
    "kernelspec": {
      "display_name": "Python 3 (ipykernel)",
      "language": "python",
      "name": "python3"
    },
    "language_info": {
      "codemirror_mode": {
        "name": "ipython",
        "version": 3
      },
      "file_extension": ".py",
      "mimetype": "text/x-python",
      "name": "python",
      "nbconvert_exporter": "python",
      "pygments_lexer": "ipython3",
      "version": "3.11.5"
    },
    "colab": {
      "provenance": [],
      "include_colab_link": true
    }
  },
  "nbformat": 4,
  "nbformat_minor": 5
}