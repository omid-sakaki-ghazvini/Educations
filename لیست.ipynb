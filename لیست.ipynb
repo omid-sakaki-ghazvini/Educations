{
  "cells": [
    {
      "cell_type": "markdown",
      "metadata": {
        "id": "view-in-github",
        "colab_type": "text"
      },
      "source": [
        "<a href=\"https://colab.research.google.com/github/omid-sakaki-ghazvini/Educations/blob/main/%D9%84%DB%8C%D8%B3%D8%AA.ipynb\" target=\"_parent\"><img src=\"https://colab.research.google.com/assets/colab-badge.svg\" alt=\"Open In Colab\"/></a>"
      ]
    },
    {
      "cell_type": "markdown",
      "id": "7dda4753",
      "metadata": {
        "id": "7dda4753"
      },
      "source": [
        "# یادآوری:"
      ]
    },
    {
      "cell_type": "code",
      "execution_count": 1,
      "id": "7995b256",
      "metadata": {
        "id": "7995b256"
      },
      "outputs": [],
      "source": [
        "a = 2               #شماره دانشجویی\n",
        "b = 12.88           #معدل دانشجو\n",
        "c = 'ali'           #نام دانشجو\n",
        "d = True            #وضعیت قبولی"
      ]
    },
    {
      "cell_type": "code",
      "execution_count": null,
      "id": "d79bbe90",
      "metadata": {
        "id": "d79bbe90",
        "outputId": "0e6a7fa7-db66-48a5-8274-e2d8029725d7"
      },
      "outputs": [
        {
          "name": "stdout",
          "output_type": "stream",
          "text": [
            "شماره دانشجویی:  2 \n",
            " معدل کل:  12.88 \n",
            " نام دانشجو:  ali \n",
            " وضعیت قبولی:  True\n"
          ]
        }
      ],
      "source": [
        "print('شماره دانشجویی: ', a,'\\n',\n",
        "\n",
        "      'معدل کل: ', b,'\\n',\n",
        "\n",
        "      'نام دانشجو: ', c,'\\n',\n",
        "\n",
        "      'وضعیت قبولی: ', d)"
      ]
    },
    {
      "cell_type": "code",
      "execution_count": null,
      "id": "38860f7e",
      "metadata": {
        "id": "38860f7e",
        "outputId": "f4d08a18-291e-4bab-d9db-79867709f64a"
      },
      "outputs": [
        {
          "name": "stdout",
          "output_type": "stream",
          "text": [
            "<class 'int'> <class 'float'> <class 'str'> <class 'bool'>\n"
          ]
        }
      ],
      "source": [
        "print(type(a), type(b), type(c), type(d))"
      ]
    },
    {
      "cell_type": "code",
      "execution_count": null,
      "id": "0d3bb62e",
      "metadata": {
        "id": "0d3bb62e"
      },
      "outputs": [],
      "source": []
    },
    {
      "cell_type": "markdown",
      "id": "4f406fa4",
      "metadata": {
        "id": "4f406fa4"
      },
      "source": [
        "# ساختمان داده:"
      ]
    },
    {
      "cell_type": "markdown",
      "id": "4ba80dc1",
      "metadata": {
        "id": "4ba80dc1"
      },
      "source": [
        "## ساختمان داده ها یک راه سازماندهی و ذخیره سازی داده ها هستند تا بتوان با سهولت و کارآیی بیشتری با داده ها کار کرد."
      ]
    },
    {
      "cell_type": "markdown",
      "id": "7df0d049",
      "metadata": {
        "id": "7df0d049"
      },
      "source": [
        "# **لیست:** یک ساختمان داده با خاصیت تغییر اندازه است. داده های درون یک لیست میتواند انواع مختلفی داشته باشد"
      ]
    },
    {
      "cell_type": "markdown",
      "id": "97154ca7",
      "metadata": {
        "id": "97154ca7"
      },
      "source": [
        "## لیست :"
      ]
    },
    {
      "cell_type": "markdown",
      "id": "6fd4e97b",
      "metadata": {
        "id": "6fd4e97b"
      },
      "source": [
        "## مثال 1 :"
      ]
    },
    {
      "cell_type": "code",
      "execution_count": null,
      "id": "d8774417",
      "metadata": {
        "id": "d8774417"
      },
      "outputs": [],
      "source": [
        "b = 1"
      ]
    },
    {
      "cell_type": "code",
      "execution_count": null,
      "id": "c41d3de4",
      "metadata": {
        "id": "c41d3de4",
        "outputId": "e065416d-a252-4d80-b93c-fc0d8ca45584"
      },
      "outputs": [
        {
          "data": {
            "text/plain": [
              "int"
            ]
          },
          "execution_count": 5,
          "metadata": {},
          "output_type": "execute_result"
        }
      ],
      "source": [
        "type(b)"
      ]
    },
    {
      "cell_type": "code",
      "execution_count": null,
      "id": "8344b9aa",
      "metadata": {
        "id": "8344b9aa"
      },
      "outputs": [],
      "source": [
        "a = [ 1 ]"
      ]
    },
    {
      "cell_type": "code",
      "execution_count": null,
      "id": "0915f9db",
      "metadata": {
        "id": "0915f9db",
        "outputId": "1fb402a4-fc33-4b83-b083-a31a1f2f77a1"
      },
      "outputs": [
        {
          "name": "stdout",
          "output_type": "stream",
          "text": [
            "[1, 2, 3, 4]\n"
          ]
        }
      ],
      "source": [
        "print(a)"
      ]
    },
    {
      "cell_type": "code",
      "execution_count": null,
      "id": "6c1ec1a7",
      "metadata": {
        "id": "6c1ec1a7",
        "outputId": "cca3dd69-e549-4106-e064-cba1713529cd"
      },
      "outputs": [
        {
          "name": "stdout",
          "output_type": "stream",
          "text": [
            "<class 'list'>\n"
          ]
        }
      ],
      "source": [
        "print(type(a))"
      ]
    },
    {
      "cell_type": "code",
      "execution_count": null,
      "id": "f62bcf39",
      "metadata": {
        "id": "f62bcf39",
        "outputId": "d68f3b9f-d25b-42e5-e8f1-bff418c669c7"
      },
      "outputs": [
        {
          "name": "stdout",
          "output_type": "stream",
          "text": [
            "4\n"
          ]
        }
      ],
      "source": [
        "print(len(a))"
      ]
    },
    {
      "cell_type": "markdown",
      "id": "b33869f6",
      "metadata": {
        "id": "b33869f6"
      },
      "source": [
        "## مثال 2 :"
      ]
    },
    {
      "cell_type": "code",
      "execution_count": null,
      "id": "856b4982",
      "metadata": {
        "id": "856b4982"
      },
      "outputs": [],
      "source": [
        "b = [ \"one\", \"two\", \"Three\", \"four\" ]"
      ]
    },
    {
      "cell_type": "code",
      "execution_count": null,
      "id": "0472749b",
      "metadata": {
        "id": "0472749b",
        "outputId": "baa77ff8-34c8-4a00-bfb9-a45fe98a7395"
      },
      "outputs": [
        {
          "name": "stdout",
          "output_type": "stream",
          "text": [
            "['one', 'two', 'Three', 'four']\n"
          ]
        }
      ],
      "source": [
        "print(b)"
      ]
    },
    {
      "cell_type": "code",
      "execution_count": null,
      "id": "d18b7cf1",
      "metadata": {
        "id": "d18b7cf1",
        "outputId": "14820f88-90a5-47d8-e580-3e5e88cd7913"
      },
      "outputs": [
        {
          "name": "stdout",
          "output_type": "stream",
          "text": [
            "<class 'list'>\n"
          ]
        }
      ],
      "source": [
        "print(type(b))"
      ]
    },
    {
      "cell_type": "code",
      "execution_count": null,
      "id": "f2d2fd7e",
      "metadata": {
        "id": "f2d2fd7e"
      },
      "outputs": [],
      "source": [
        "print(len(b))"
      ]
    },
    {
      "cell_type": "markdown",
      "id": "2fc53ff9",
      "metadata": {
        "id": "2fc53ff9"
      },
      "source": [
        "## مثال 3 :"
      ]
    },
    {
      "cell_type": "code",
      "execution_count": null,
      "id": "28e2bdf6",
      "metadata": {
        "id": "28e2bdf6"
      },
      "outputs": [],
      "source": [
        "c = [ [ 5, 1, 7, 4 ] , [ 1, 2, 3, 4] ]"
      ]
    },
    {
      "cell_type": "code",
      "execution_count": null,
      "id": "68a643b6",
      "metadata": {
        "id": "68a643b6",
        "outputId": "bf57653d-4d19-486e-ec52-7dc52527e1e6"
      },
      "outputs": [
        {
          "name": "stdout",
          "output_type": "stream",
          "text": [
            "[[5, 1, 7, 4], [1, 2, 3, 4]]\n"
          ]
        }
      ],
      "source": [
        "print(c)"
      ]
    },
    {
      "cell_type": "code",
      "execution_count": null,
      "id": "12c38242",
      "metadata": {
        "id": "12c38242",
        "outputId": "11ae4c02-d573-4173-9be4-1a4c8ae3d285"
      },
      "outputs": [
        {
          "name": "stdout",
          "output_type": "stream",
          "text": [
            "<class 'list'>\n"
          ]
        }
      ],
      "source": [
        "print(type(c))"
      ]
    },
    {
      "cell_type": "code",
      "execution_count": null,
      "id": "06e4dc35",
      "metadata": {
        "id": "06e4dc35",
        "outputId": "1fb667bc-c586-42d9-8fe2-85f44e84d7d5"
      },
      "outputs": [
        {
          "name": "stdout",
          "output_type": "stream",
          "text": [
            "2\n"
          ]
        }
      ],
      "source": [
        "print(len(c))"
      ]
    },
    {
      "cell_type": "markdown",
      "id": "2ddec14f",
      "metadata": {
        "id": "2ddec14f"
      },
      "source": [
        "## مثال 4 :"
      ]
    },
    {
      "cell_type": "code",
      "execution_count": null,
      "id": "2c34a8b0",
      "metadata": {
        "id": "2c34a8b0"
      },
      "outputs": [],
      "source": [
        "d = [2, 12.88, 'ali', True]"
      ]
    },
    {
      "cell_type": "code",
      "execution_count": null,
      "id": "64481c3d",
      "metadata": {
        "id": "64481c3d",
        "outputId": "93cb4058-4504-42ef-c8b9-076aedc30422"
      },
      "outputs": [
        {
          "name": "stdout",
          "output_type": "stream",
          "text": [
            "[2, 12.88, 'ali', True]\n"
          ]
        }
      ],
      "source": [
        "print(d)"
      ]
    },
    {
      "cell_type": "code",
      "execution_count": null,
      "id": "5ab0120c",
      "metadata": {
        "id": "5ab0120c",
        "outputId": "1d46a661-a480-49a5-d8ba-8cc947a2a66a"
      },
      "outputs": [
        {
          "name": "stdout",
          "output_type": "stream",
          "text": [
            "<class 'list'>\n"
          ]
        }
      ],
      "source": [
        "print(type(d))"
      ]
    },
    {
      "cell_type": "code",
      "execution_count": null,
      "id": "a2e794eb",
      "metadata": {
        "id": "a2e794eb",
        "outputId": "bbdaf09b-0e96-43b3-8374-30859a31a3f6"
      },
      "outputs": [
        {
          "name": "stdout",
          "output_type": "stream",
          "text": [
            "4\n"
          ]
        }
      ],
      "source": [
        "print(len(d))"
      ]
    },
    {
      "cell_type": "markdown",
      "id": "c9646406",
      "metadata": {
        "id": "c9646406"
      },
      "source": [
        "## تمرین 1 امتیازی :  "
      ]
    },
    {
      "cell_type": "code",
      "execution_count": null,
      "id": "1a5d53d1",
      "metadata": {
        "id": "1a5d53d1"
      },
      "outputs": [],
      "source": [
        "e = [1 , 2]\n",
        "f = [1 , 2, 3]"
      ]
    },
    {
      "cell_type": "code",
      "execution_count": null,
      "id": "ab46750b",
      "metadata": {
        "id": "ab46750b",
        "outputId": "6914a3ac-8ddb-4f0d-9496-027d51ff33ca"
      },
      "outputs": [
        {
          "data": {
            "text/plain": [
              "0"
            ]
          },
          "execution_count": 28,
          "metadata": {},
          "output_type": "execute_result"
        }
      ],
      "source": [
        "e.index(1)"
      ]
    },
    {
      "cell_type": "code",
      "execution_count": null,
      "id": "b004db90",
      "metadata": {
        "id": "b004db90",
        "outputId": "acf3e963-3148-4474-c9ce-a5d9ae035d3f"
      },
      "outputs": [
        {
          "data": {
            "text/plain": [
              "1"
            ]
          },
          "execution_count": 29,
          "metadata": {},
          "output_type": "execute_result"
        }
      ],
      "source": [
        "e.index(2)"
      ]
    },
    {
      "cell_type": "code",
      "execution_count": null,
      "id": "a0799448",
      "metadata": {
        "id": "a0799448",
        "outputId": "d854b2c8-c8e9-42f2-8b58-3fea24ff583e"
      },
      "outputs": [
        {
          "data": {
            "text/plain": [
              "0"
            ]
          },
          "execution_count": 30,
          "metadata": {},
          "output_type": "execute_result"
        }
      ],
      "source": [
        "f.index(1)"
      ]
    },
    {
      "cell_type": "code",
      "execution_count": null,
      "id": "e04d3ea8",
      "metadata": {
        "id": "e04d3ea8",
        "outputId": "4db3e908-8e1f-4605-f408-bcc8d6bf28a5"
      },
      "outputs": [
        {
          "data": {
            "text/plain": [
              "1"
            ]
          },
          "execution_count": 31,
          "metadata": {},
          "output_type": "execute_result"
        }
      ],
      "source": [
        "f.index(2)"
      ]
    },
    {
      "cell_type": "code",
      "execution_count": null,
      "id": "830d2115",
      "metadata": {
        "id": "830d2115",
        "outputId": "3f386828-5315-4b58-e0b8-d107403a5a69"
      },
      "outputs": [
        {
          "name": "stdout",
          "output_type": "stream",
          "text": [
            "False\n"
          ]
        }
      ],
      "source": [
        "print(e == f)"
      ]
    },
    {
      "cell_type": "markdown",
      "id": "a9320b22",
      "metadata": {
        "id": "a9320b22"
      },
      "source": [
        "## مثال 5 :"
      ]
    },
    {
      "cell_type": "code",
      "execution_count": null,
      "id": "fc61643d",
      "metadata": {
        "id": "fc61643d"
      },
      "outputs": [],
      "source": [
        "g = ['amir', 'dorsa', 'ayda', 'mohammad']"
      ]
    },
    {
      "cell_type": "code",
      "execution_count": null,
      "id": "fb2e3247",
      "metadata": {
        "id": "fb2e3247",
        "outputId": "f361cacf-f396-44d7-ff64-54ed6af92819"
      },
      "outputs": [
        {
          "name": "stdout",
          "output_type": "stream",
          "text": [
            "amir\n"
          ]
        }
      ],
      "source": [
        "print(g[0])"
      ]
    },
    {
      "cell_type": "code",
      "execution_count": null,
      "id": "c9b57801",
      "metadata": {
        "id": "c9b57801",
        "outputId": "58e526a6-ae07-4508-85d8-e20b233e883c"
      },
      "outputs": [
        {
          "name": "stdout",
          "output_type": "stream",
          "text": [
            "dorsa\n"
          ]
        }
      ],
      "source": [
        "print(g[1])"
      ]
    },
    {
      "cell_type": "code",
      "execution_count": null,
      "id": "f3f1030f",
      "metadata": {
        "id": "f3f1030f",
        "outputId": "54e3199b-3f31-48b9-c374-46dda60f2428"
      },
      "outputs": [
        {
          "name": "stdout",
          "output_type": "stream",
          "text": [
            "ayda\n"
          ]
        }
      ],
      "source": [
        "print(g[2])"
      ]
    },
    {
      "cell_type": "code",
      "execution_count": null,
      "id": "08ae5cc8",
      "metadata": {
        "id": "08ae5cc8",
        "outputId": "3f181984-db7b-4b2d-8873-f7778a0da25a"
      },
      "outputs": [
        {
          "name": "stdout",
          "output_type": "stream",
          "text": [
            "mohammad\n"
          ]
        }
      ],
      "source": [
        "print(g[3])"
      ]
    },
    {
      "cell_type": "code",
      "execution_count": null,
      "id": "90f08e20",
      "metadata": {
        "id": "90f08e20",
        "outputId": "db36bdd6-a11a-40f5-95dd-116f79d4a53f"
      },
      "outputs": [
        {
          "name": "stdout",
          "output_type": "stream",
          "text": [
            "['dorsa', 'ayda']\n"
          ]
        }
      ],
      "source": [
        "print(g[1:3])"
      ]
    },
    {
      "cell_type": "code",
      "execution_count": null,
      "id": "3e74959e",
      "metadata": {
        "id": "3e74959e",
        "outputId": "7290c191-92df-441f-9bf9-ee8fdd53d95e"
      },
      "outputs": [
        {
          "name": "stdout",
          "output_type": "stream",
          "text": [
            "['amir', 'dorsa']\n"
          ]
        }
      ],
      "source": [
        "print(g[:2])"
      ]
    },
    {
      "cell_type": "code",
      "execution_count": null,
      "id": "af43824e",
      "metadata": {
        "id": "af43824e"
      },
      "outputs": [],
      "source": [
        "g = ['amir', 'dorsa', 'ayda', 'mohammad']"
      ]
    },
    {
      "cell_type": "code",
      "execution_count": null,
      "id": "9a1cf402",
      "metadata": {
        "id": "9a1cf402",
        "outputId": "06f2e905-52ae-43af-b039-9adda07300b3"
      },
      "outputs": [
        {
          "name": "stdout",
          "output_type": "stream",
          "text": [
            "['ayda', 'mohammad']\n"
          ]
        }
      ],
      "source": [
        "print(g[2:])"
      ]
    },
    {
      "cell_type": "code",
      "execution_count": null,
      "id": "7c8d34cf",
      "metadata": {
        "id": "7c8d34cf",
        "outputId": "8f9a2b2b-918b-406b-8591-d2e172fde6b3"
      },
      "outputs": [
        {
          "name": "stdout",
          "output_type": "stream",
          "text": [
            "['dorsa', 'ayda']\n"
          ]
        }
      ],
      "source": [
        "print(g[1:-1])"
      ]
    },
    {
      "cell_type": "code",
      "execution_count": null,
      "id": "e3b6cd6a",
      "metadata": {
        "id": "e3b6cd6a",
        "outputId": "6d8c42a3-cd59-4d73-a230-eca56de75d1a"
      },
      "outputs": [
        {
          "name": "stdout",
          "output_type": "stream",
          "text": [
            "['mohammad', 'ayda', 'dorsa', 'amir']\n"
          ]
        }
      ],
      "source": [
        "print(g[::-1])"
      ]
    },
    {
      "cell_type": "code",
      "execution_count": null,
      "id": "e7270793",
      "metadata": {
        "id": "e7270793",
        "outputId": "09c77e88-fb49-48d0-e441-72fedb3cbebf"
      },
      "outputs": [
        {
          "name": "stdout",
          "output_type": "stream",
          "text": [
            "['mohammad', 'dorsa']\n"
          ]
        }
      ],
      "source": [
        "print(g[::-2])"
      ]
    },
    {
      "cell_type": "code",
      "execution_count": null,
      "id": "a4de7594",
      "metadata": {
        "id": "a4de7594",
        "outputId": "562eb39c-d3c3-483c-b369-04f0db63c8a3"
      },
      "outputs": [
        {
          "name": "stdout",
          "output_type": "stream",
          "text": [
            "['mohammad', 'amir']\n"
          ]
        }
      ],
      "source": [
        "print(g[::-3])"
      ]
    },
    {
      "cell_type": "code",
      "execution_count": null,
      "id": "9b04cbd8",
      "metadata": {
        "id": "9b04cbd8"
      },
      "outputs": [],
      "source": []
    },
    {
      "cell_type": "code",
      "execution_count": null,
      "id": "60245774",
      "metadata": {
        "id": "60245774",
        "outputId": "b4e43b69-ba26-40f0-d8b8-dcd9ecf883e2"
      },
      "outputs": [
        {
          "data": {
            "text/plain": [
              "0"
            ]
          },
          "execution_count": 51,
          "metadata": {},
          "output_type": "execute_result"
        }
      ],
      "source": [
        "g.index('amir')"
      ]
    },
    {
      "cell_type": "code",
      "execution_count": null,
      "id": "05850f30",
      "metadata": {
        "id": "05850f30",
        "outputId": "f8fba54e-e7f1-4ad6-efcc-e997368adb7a"
      },
      "outputs": [
        {
          "data": {
            "text/plain": [
              "2"
            ]
          },
          "execution_count": 52,
          "metadata": {},
          "output_type": "execute_result"
        }
      ],
      "source": [
        "g.index('ayda')"
      ]
    },
    {
      "cell_type": "code",
      "source": [
        "g = ['amir', 'dorsa', 'ayda', 'mohammad']"
      ],
      "metadata": {
        "id": "sP4mn2d3qfYE"
      },
      "id": "sP4mn2d3qfYE",
      "execution_count": null,
      "outputs": []
    },
    {
      "cell_type": "code",
      "execution_count": null,
      "id": "140b587d",
      "metadata": {
        "id": "140b587d",
        "outputId": "5a4fbaea-41ec-44d9-d1d8-ec688b20b0e0"
      },
      "outputs": [
        {
          "data": {
            "text/plain": [
              "['amir', 'dorsa', 'ayda', 'mohammad']"
            ]
          },
          "execution_count": 54,
          "metadata": {},
          "output_type": "execute_result"
        }
      ],
      "source": [
        "g"
      ]
    },
    {
      "cell_type": "code",
      "execution_count": null,
      "id": "c1996516",
      "metadata": {
        "id": "c1996516",
        "outputId": "85847b52-282f-4eb4-ba5f-66b0ffbf0f66"
      },
      "outputs": [
        {
          "name": "stdout",
          "output_type": "stream",
          "text": [
            "hello,  amir\n",
            "hello,  dorsa\n",
            "hello,  ayda\n",
            "hello,  mohammad\n"
          ]
        }
      ],
      "source": [
        "for i in g:\n",
        "    print('hello, ', i)"
      ]
    },
    {
      "cell_type": "code",
      "execution_count": null,
      "id": "6416f3d3",
      "metadata": {
        "id": "6416f3d3"
      },
      "outputs": [],
      "source": [
        "g = ['amir', 'dorsa', 'ayda', 'mohammad']"
      ]
    },
    {
      "cell_type": "code",
      "execution_count": null,
      "id": "0c6e278a",
      "metadata": {
        "id": "0c6e278a",
        "outputId": "63f89497-dc76-4409-997f-00bc168901f4"
      },
      "outputs": [
        {
          "name": "stdout",
          "output_type": "stream",
          "text": [
            "amir\n",
            "<class 'str'>\n",
            "dorsa\n",
            "<class 'str'>\n"
          ]
        }
      ],
      "source": [
        "for i in range(0,2):\n",
        "    print(g[i])\n",
        "    print(type(g[i]))"
      ]
    },
    {
      "cell_type": "code",
      "execution_count": null,
      "id": "7fda4ce8",
      "metadata": {
        "id": "7fda4ce8",
        "outputId": "8ddb3fa1-d2fa-4a86-88ab-9a87185a3194"
      },
      "outputs": [
        {
          "name": "stdout",
          "output_type": "stream",
          "text": [
            "['amir', 'dorsa']\n"
          ]
        },
        {
          "data": {
            "text/plain": [
              "list"
            ]
          },
          "execution_count": 60,
          "metadata": {},
          "output_type": "execute_result"
        }
      ],
      "source": [
        "l = g[0:2]\n",
        "print(l)\n",
        "type(l)"
      ]
    },
    {
      "cell_type": "code",
      "execution_count": null,
      "id": "bfffe431",
      "metadata": {
        "id": "bfffe431"
      },
      "outputs": [],
      "source": [
        "g[1] = 'omid'"
      ]
    },
    {
      "cell_type": "code",
      "execution_count": null,
      "id": "bd692109",
      "metadata": {
        "id": "bd692109",
        "outputId": "d82de64b-d090-401f-ca8b-120ca1458461"
      },
      "outputs": [
        {
          "data": {
            "text/plain": [
              "['amir', 'omid', 'ayda', 'mohammad']"
            ]
          },
          "execution_count": 62,
          "metadata": {},
          "output_type": "execute_result"
        }
      ],
      "source": [
        "g"
      ]
    },
    {
      "cell_type": "code",
      "execution_count": null,
      "id": "9417b7d3",
      "metadata": {
        "id": "9417b7d3"
      },
      "outputs": [],
      "source": []
    },
    {
      "cell_type": "code",
      "execution_count": null,
      "id": "9c2ad988",
      "metadata": {
        "id": "9c2ad988"
      },
      "outputs": [],
      "source": []
    },
    {
      "cell_type": "markdown",
      "id": "1ddeaab3",
      "metadata": {
        "id": "1ddeaab3"
      },
      "source": [
        "## تمرین 1 امتیازی :"
      ]
    },
    {
      "cell_type": "markdown",
      "id": "75155ef7",
      "metadata": {
        "id": "75155ef7"
      },
      "source": [
        "## تابعی بنویسید که یک لیست را دریافت کرده و جای اولین و آخرین عضو آن لیست را عوض نماید"
      ]
    },
    {
      "cell_type": "code",
      "execution_count": null,
      "id": "e21f2d26",
      "metadata": {
        "id": "e21f2d26"
      },
      "outputs": [],
      "source": [
        "g = ['amir', 'dorsa', 'ayda', 'mohammad']"
      ]
    },
    {
      "cell_type": "code",
      "execution_count": null,
      "id": "7ad4e365",
      "metadata": {
        "id": "7ad4e365"
      },
      "outputs": [],
      "source": [
        "['mohammad', 'dorsa', 'ayda', 'amir']"
      ]
    },
    {
      "cell_type": "code",
      "execution_count": null,
      "id": "cc4a9173",
      "metadata": {
        "id": "cc4a9173"
      },
      "outputs": [],
      "source": []
    },
    {
      "cell_type": "code",
      "execution_count": null,
      "id": "72b96328",
      "metadata": {
        "id": "72b96328"
      },
      "outputs": [],
      "source": []
    },
    {
      "cell_type": "code",
      "execution_count": null,
      "id": "c9094f07",
      "metadata": {
        "id": "c9094f07"
      },
      "outputs": [],
      "source": [
        "def edit_list(my_list):\n",
        "    for i in range(len(my_list)):\n",
        "        if i == 0:\n",
        "            temp = my_list[0]\n",
        "            my_list[0] = my_list[-1]\n",
        "            my_list[-1] = temp\n",
        "    return(my_list)"
      ]
    },
    {
      "cell_type": "code",
      "execution_count": null,
      "id": "690b0229",
      "metadata": {
        "id": "690b0229",
        "outputId": "c7b02e4c-36dc-496e-8875-16dd3541cce8"
      },
      "outputs": [
        {
          "data": {
            "text/plain": [
              "['mohammad', 'omid', 'ayda', 'amir']"
            ]
          },
          "execution_count": 64,
          "metadata": {},
          "output_type": "execute_result"
        }
      ],
      "source": [
        "edit_list(g)"
      ]
    },
    {
      "cell_type": "code",
      "execution_count": null,
      "id": "f9457a74",
      "metadata": {
        "id": "f9457a74"
      },
      "outputs": [],
      "source": []
    },
    {
      "cell_type": "code",
      "execution_count": null,
      "id": "06fb5f34",
      "metadata": {
        "id": "06fb5f34"
      },
      "outputs": [],
      "source": []
    },
    {
      "cell_type": "markdown",
      "id": "e326527a",
      "metadata": {
        "id": "e326527a"
      },
      "source": [
        "## مثال 6 :"
      ]
    },
    {
      "cell_type": "code",
      "execution_count": null,
      "id": "e87ef866",
      "metadata": {
        "id": "e87ef866"
      },
      "outputs": [],
      "source": [
        "h = [1, 2, 3, 4]"
      ]
    },
    {
      "cell_type": "code",
      "execution_count": null,
      "id": "ee6fac43",
      "metadata": {
        "id": "ee6fac43"
      },
      "outputs": [],
      "source": [
        "k = h * 2"
      ]
    },
    {
      "cell_type": "code",
      "execution_count": null,
      "id": "6185ec4e",
      "metadata": {
        "id": "6185ec4e",
        "outputId": "49eaa6ff-2a3c-46d7-9895-7e71785a54d9"
      },
      "outputs": [
        {
          "data": {
            "text/plain": [
              "[1, 2, 3, 4, 1, 2, 3, 4]"
            ]
          },
          "execution_count": 67,
          "metadata": {},
          "output_type": "execute_result"
        }
      ],
      "source": [
        "k"
      ]
    },
    {
      "cell_type": "code",
      "execution_count": null,
      "id": "f98236de",
      "metadata": {
        "id": "f98236de",
        "outputId": "944eea87-5719-4b31-fbff-59218a1358c7"
      },
      "outputs": [
        {
          "data": {
            "text/plain": [
              "list"
            ]
          },
          "execution_count": 68,
          "metadata": {},
          "output_type": "execute_result"
        }
      ],
      "source": [
        "type(k)"
      ]
    },
    {
      "cell_type": "code",
      "execution_count": null,
      "id": "427bbac5",
      "metadata": {
        "id": "427bbac5",
        "outputId": "cae66f1b-85e5-42e3-dcb5-8db5f9ed1a0c"
      },
      "outputs": [
        {
          "data": {
            "text/plain": [
              "list"
            ]
          },
          "execution_count": 69,
          "metadata": {},
          "output_type": "execute_result"
        }
      ],
      "source": [
        "type(h)"
      ]
    },
    {
      "cell_type": "code",
      "execution_count": null,
      "id": "9b5e1e3f",
      "metadata": {
        "id": "9b5e1e3f"
      },
      "outputs": [],
      "source": [
        "l = h + k"
      ]
    },
    {
      "cell_type": "code",
      "execution_count": null,
      "id": "fb08cce5",
      "metadata": {
        "id": "fb08cce5",
        "outputId": "dbb057e7-2d17-4176-bd9d-efd413a72871"
      },
      "outputs": [
        {
          "data": {
            "text/plain": [
              "[1, 2, 3, 4, 1, 2, 3, 4, 1, 2, 3, 4]"
            ]
          },
          "execution_count": 71,
          "metadata": {},
          "output_type": "execute_result"
        }
      ],
      "source": [
        "l"
      ]
    },
    {
      "cell_type": "code",
      "execution_count": null,
      "id": "5419a632",
      "metadata": {
        "id": "5419a632"
      },
      "outputs": [],
      "source": []
    },
    {
      "cell_type": "code",
      "execution_count": null,
      "id": "79df96bb",
      "metadata": {
        "id": "79df96bb"
      },
      "outputs": [],
      "source": []
    },
    {
      "cell_type": "code",
      "execution_count": null,
      "id": "ae18b58b",
      "metadata": {
        "id": "ae18b58b",
        "outputId": "c1bd9b62-91e4-4acd-a8e6-68b1eab7d3f5"
      },
      "outputs": [
        {
          "data": {
            "text/plain": [
              "False"
            ]
          },
          "execution_count": 73,
          "metadata": {},
          "output_type": "execute_result"
        }
      ],
      "source": [
        "5 in h"
      ]
    },
    {
      "cell_type": "code",
      "execution_count": null,
      "id": "bb1cb351",
      "metadata": {
        "id": "bb1cb351",
        "outputId": "0750a3c7-92b1-4487-c494-1fd41209fd25"
      },
      "outputs": [
        {
          "name": "stdout",
          "output_type": "stream",
          "text": [
            "True\n"
          ]
        }
      ],
      "source": [
        "print( 6 not in k)"
      ]
    },
    {
      "cell_type": "markdown",
      "id": "e546f8c2",
      "metadata": {
        "id": "e546f8c2"
      },
      "source": [
        "## تمرین 2 امتیازی  :"
      ]
    },
    {
      "cell_type": "code",
      "execution_count": null,
      "id": "97cda8de",
      "metadata": {
        "id": "97cda8de",
        "outputId": "839d469d-e12e-4bf3-c907-93f8272c752f"
      },
      "outputs": [
        {
          "name": "stdout",
          "output_type": "stream",
          "text": [
            "20\n"
          ]
        }
      ],
      "source": [
        "a = [10 , -1 , 5 , 20 , -11 , 15]\n",
        "b = 0\n",
        "\n",
        "for i in a:\n",
        "    if i > b:\n",
        "        b = i\n",
        "\n",
        "print(b)"
      ]
    },
    {
      "cell_type": "code",
      "execution_count": null,
      "id": "99e0fa35",
      "metadata": {
        "id": "99e0fa35"
      },
      "outputs": [],
      "source": []
    },
    {
      "cell_type": "code",
      "execution_count": null,
      "id": "16b6793a",
      "metadata": {
        "id": "16b6793a"
      },
      "outputs": [],
      "source": []
    },
    {
      "cell_type": "markdown",
      "id": "8b4ce242",
      "metadata": {
        "id": "8b4ce242"
      },
      "source": [
        "## مثال 7 :"
      ]
    },
    {
      "cell_type": "code",
      "execution_count": null,
      "id": "e8b2c0e6",
      "metadata": {
        "id": "e8b2c0e6",
        "outputId": "687fab84-cf5b-4a7c-c4ed-413dabed7146"
      },
      "outputs": [
        {
          "data": {
            "text/plain": [
              "20"
            ]
          },
          "execution_count": 76,
          "metadata": {},
          "output_type": "execute_result"
        }
      ],
      "source": [
        "max(a)"
      ]
    },
    {
      "cell_type": "code",
      "execution_count": null,
      "id": "8a3e8cec",
      "metadata": {
        "id": "8a3e8cec"
      },
      "outputs": [],
      "source": [
        "a = [10 , -1 , 5 , 20 , -11 , 15]"
      ]
    },
    {
      "cell_type": "code",
      "execution_count": null,
      "id": "cd393d3a",
      "metadata": {
        "id": "cd393d3a",
        "outputId": "7e981ac7-5867-48ed-9f1b-71771ce02415"
      },
      "outputs": [
        {
          "data": {
            "text/plain": [
              "-11"
            ]
          },
          "execution_count": 77,
          "metadata": {},
          "output_type": "execute_result"
        }
      ],
      "source": [
        "min(a)"
      ]
    },
    {
      "cell_type": "code",
      "execution_count": null,
      "id": "a213bfe6",
      "metadata": {
        "id": "a213bfe6"
      },
      "outputs": [],
      "source": []
    },
    {
      "cell_type": "code",
      "execution_count": null,
      "id": "d67a5a16",
      "metadata": {
        "id": "d67a5a16"
      },
      "outputs": [],
      "source": []
    },
    {
      "cell_type": "code",
      "execution_count": null,
      "id": "2e82d8f9",
      "metadata": {
        "id": "2e82d8f9"
      },
      "outputs": [],
      "source": [
        "for i in a:\n",
        "    if i > b:\n",
        "        b = i\n",
        "\n",
        "print(b)"
      ]
    },
    {
      "cell_type": "code",
      "execution_count": null,
      "id": "140e7b91",
      "metadata": {
        "id": "140e7b91",
        "outputId": "9b19062b-08a0-4a47-cf9d-024aa309c75a"
      },
      "outputs": [
        {
          "data": {
            "text/plain": [
              "-11"
            ]
          },
          "execution_count": 78,
          "metadata": {},
          "output_type": "execute_result"
        }
      ],
      "source": [
        "min(a)"
      ]
    },
    {
      "cell_type": "markdown",
      "id": "43247bc2",
      "metadata": {
        "id": "43247bc2"
      },
      "source": [
        "## تمرین 3 امتیازی :"
      ]
    },
    {
      "cell_type": "markdown",
      "id": "435b2b2b",
      "metadata": {
        "id": "435b2b2b"
      },
      "source": [
        "## تابعی بنویسید که لیست زیر را دریافت کرده و مقدار کمینه را نمایش دهد"
      ]
    },
    {
      "cell_type": "code",
      "execution_count": null,
      "id": "62e0605e",
      "metadata": {
        "id": "62e0605e"
      },
      "outputs": [],
      "source": [
        "a = [10 , -1 , 5 , 20 , -11 , 15]"
      ]
    },
    {
      "cell_type": "code",
      "execution_count": null,
      "id": "d8479815",
      "metadata": {
        "id": "d8479815"
      },
      "outputs": [],
      "source": []
    },
    {
      "cell_type": "code",
      "execution_count": null,
      "id": "193e2e9a",
      "metadata": {
        "id": "193e2e9a"
      },
      "outputs": [],
      "source": []
    },
    {
      "cell_type": "code",
      "execution_count": null,
      "id": "b09d4279",
      "metadata": {
        "id": "b09d4279"
      },
      "outputs": [],
      "source": [
        "def my_min(my_list):\n",
        "    temp = 0\n",
        "\n",
        "    for i in my_list:\n",
        "        if i < temp:\n",
        "            temp = i\n",
        "\n",
        "    return(temp)"
      ]
    },
    {
      "cell_type": "code",
      "execution_count": null,
      "id": "f9ec4e9e",
      "metadata": {
        "id": "f9ec4e9e"
      },
      "outputs": [],
      "source": [
        "a = [10 , -1 , 5 , 20 , -11 , 15]"
      ]
    },
    {
      "cell_type": "code",
      "execution_count": null,
      "id": "c5940550",
      "metadata": {
        "id": "c5940550",
        "outputId": "e1babfc7-930e-4fb9-c911-807c242a8615"
      },
      "outputs": [
        {
          "data": {
            "text/plain": [
              "-11"
            ]
          },
          "execution_count": 87,
          "metadata": {},
          "output_type": "execute_result"
        }
      ],
      "source": [
        "my_min(a)"
      ]
    },
    {
      "cell_type": "code",
      "execution_count": null,
      "id": "f9c51c3b",
      "metadata": {
        "id": "f9c51c3b",
        "outputId": "d24f0934-616d-4632-c7bf-83f8c0b150da"
      },
      "outputs": [
        {
          "data": {
            "text/plain": [
              "-11"
            ]
          },
          "execution_count": 88,
          "metadata": {},
          "output_type": "execute_result"
        }
      ],
      "source": [
        "min(a)"
      ]
    },
    {
      "cell_type": "code",
      "execution_count": null,
      "id": "025697d5",
      "metadata": {
        "id": "025697d5"
      },
      "outputs": [],
      "source": []
    },
    {
      "cell_type": "markdown",
      "id": "ec7d9c30",
      "metadata": {
        "id": "ec7d9c30"
      },
      "source": [
        "## مثال 8 :"
      ]
    },
    {
      "cell_type": "code",
      "execution_count": null,
      "id": "666f5ea1",
      "metadata": {
        "id": "666f5ea1"
      },
      "outputs": [],
      "source": [
        "a = [1, 2, 3]"
      ]
    },
    {
      "cell_type": "code",
      "execution_count": null,
      "id": "10da0035",
      "metadata": {
        "id": "10da0035",
        "outputId": "7a2df18f-8243-4500-d1d1-1bdc3fa905bd"
      },
      "outputs": [
        {
          "data": {
            "text/plain": [
              "6"
            ]
          },
          "execution_count": 90,
          "metadata": {},
          "output_type": "execute_result"
        }
      ],
      "source": [
        "sum(a)"
      ]
    },
    {
      "cell_type": "code",
      "execution_count": null,
      "id": "32f70cc6",
      "metadata": {
        "id": "32f70cc6"
      },
      "outputs": [],
      "source": []
    },
    {
      "cell_type": "code",
      "execution_count": null,
      "id": "113582b6",
      "metadata": {
        "id": "113582b6"
      },
      "outputs": [],
      "source": []
    },
    {
      "cell_type": "markdown",
      "id": "769c0d12",
      "metadata": {
        "id": "769c0d12"
      },
      "source": [
        "## تمرین 4 امتیازی :"
      ]
    },
    {
      "cell_type": "markdown",
      "id": "1244e909",
      "metadata": {
        "id": "1244e909"
      },
      "source": [
        "## تابع جمع را پیاده سازی نمایید"
      ]
    },
    {
      "cell_type": "code",
      "execution_count": null,
      "id": "fc6f0338",
      "metadata": {
        "id": "fc6f0338"
      },
      "outputs": [],
      "source": []
    },
    {
      "cell_type": "code",
      "execution_count": null,
      "id": "06422201",
      "metadata": {
        "id": "06422201"
      },
      "outputs": [],
      "source": []
    },
    {
      "cell_type": "code",
      "execution_count": null,
      "id": "900d0f25",
      "metadata": {
        "id": "900d0f25"
      },
      "outputs": [],
      "source": [
        "a = [1, 2, 3]"
      ]
    },
    {
      "cell_type": "code",
      "execution_count": null,
      "id": "da33e806",
      "metadata": {
        "id": "da33e806"
      },
      "outputs": [],
      "source": [
        "def my_sum(my_list):\n",
        "    temp = 0\n",
        "\n",
        "    for i in my_list:\n",
        "        temp = temp + i\n",
        "\n",
        "    return(temp)"
      ]
    },
    {
      "cell_type": "code",
      "execution_count": null,
      "id": "b5a5a5ee",
      "metadata": {
        "id": "b5a5a5ee",
        "outputId": "d274e599-32b4-463e-d800-40493cb300ff"
      },
      "outputs": [
        {
          "data": {
            "text/plain": [
              "6"
            ]
          },
          "execution_count": 93,
          "metadata": {},
          "output_type": "execute_result"
        }
      ],
      "source": [
        "my_sum(a)"
      ]
    },
    {
      "cell_type": "code",
      "execution_count": null,
      "id": "979d0546",
      "metadata": {
        "id": "979d0546",
        "outputId": "c7e56bb9-5d6c-445d-f1a5-d4902ba6bcc1"
      },
      "outputs": [
        {
          "data": {
            "text/plain": [
              "6"
            ]
          },
          "execution_count": 94,
          "metadata": {},
          "output_type": "execute_result"
        }
      ],
      "source": [
        "sum(a)"
      ]
    },
    {
      "cell_type": "code",
      "execution_count": null,
      "id": "ccd5027e",
      "metadata": {
        "id": "ccd5027e"
      },
      "outputs": [],
      "source": []
    },
    {
      "cell_type": "markdown",
      "id": "152ae8fe",
      "metadata": {
        "id": "152ae8fe"
      },
      "source": [
        "## مثال 9 :"
      ]
    },
    {
      "cell_type": "code",
      "execution_count": null,
      "id": "0546b983",
      "metadata": {
        "id": "0546b983"
      },
      "outputs": [],
      "source": [
        "a = ['انگور', 'سیب', 'موز', 'انگور', 'پرتغال']"
      ]
    },
    {
      "cell_type": "code",
      "execution_count": null,
      "id": "e2ab5c81",
      "metadata": {
        "id": "e2ab5c81",
        "outputId": "c0b72660-fa14-4604-89d8-7f988b386987"
      },
      "outputs": [
        {
          "data": {
            "text/plain": [
              "2"
            ]
          },
          "execution_count": 96,
          "metadata": {},
          "output_type": "execute_result"
        }
      ],
      "source": [
        "a.count('انگور')"
      ]
    },
    {
      "cell_type": "code",
      "execution_count": null,
      "id": "e8da7904",
      "metadata": {
        "id": "e8da7904",
        "outputId": "b24e908b-5cfe-48a9-f355-e69bd98705ca"
      },
      "outputs": [
        {
          "data": {
            "text/plain": [
              "1"
            ]
          },
          "execution_count": 97,
          "metadata": {},
          "output_type": "execute_result"
        }
      ],
      "source": [
        "a.count('سیب')"
      ]
    },
    {
      "cell_type": "code",
      "execution_count": null,
      "id": "44cea08c",
      "metadata": {
        "id": "44cea08c",
        "outputId": "e7bffbf7-ea1e-48d0-fbd7-86b819a573f8"
      },
      "outputs": [
        {
          "data": {
            "text/plain": [
              "0"
            ]
          },
          "execution_count": 98,
          "metadata": {},
          "output_type": "execute_result"
        }
      ],
      "source": [
        "a.count('گلابی')"
      ]
    },
    {
      "cell_type": "code",
      "execution_count": null,
      "id": "7673b137",
      "metadata": {
        "id": "7673b137"
      },
      "outputs": [],
      "source": []
    },
    {
      "cell_type": "markdown",
      "id": "653f7944",
      "metadata": {
        "id": "653f7944"
      },
      "source": [
        "## تمرین 4 امتیازی :"
      ]
    },
    {
      "cell_type": "markdown",
      "id": "ddfcbd44",
      "metadata": {
        "id": "ddfcbd44"
      },
      "source": [
        "## پیاده سازی کنید count تابع"
      ]
    },
    {
      "cell_type": "code",
      "execution_count": null,
      "id": "e269c87f",
      "metadata": {
        "id": "e269c87f"
      },
      "outputs": [],
      "source": [
        "a = ['انگور', 'سیب', 'موز', 'انگور', 'پرتغال']"
      ]
    },
    {
      "cell_type": "code",
      "execution_count": null,
      "id": "a1a210fd",
      "metadata": {
        "id": "a1a210fd"
      },
      "outputs": [],
      "source": []
    },
    {
      "cell_type": "code",
      "execution_count": null,
      "id": "d7418211",
      "metadata": {
        "id": "d7418211",
        "outputId": "d3a2c1d6-dc39-4908-b7f9-058d8ae15ea9"
      },
      "outputs": [
        {
          "data": {
            "text/plain": [
              "2"
            ]
          },
          "execution_count": 8,
          "metadata": {},
          "output_type": "execute_result"
        }
      ],
      "source": [
        "my_count('انگور')"
      ]
    },
    {
      "cell_type": "code",
      "execution_count": null,
      "id": "5329725d",
      "metadata": {
        "id": "5329725d",
        "outputId": "76333af1-bb49-4ca0-9681-57996a907c99"
      },
      "outputs": [
        {
          "data": {
            "text/plain": [
              "1"
            ]
          },
          "execution_count": 9,
          "metadata": {},
          "output_type": "execute_result"
        }
      ],
      "source": [
        "my_count('سیب')"
      ]
    },
    {
      "cell_type": "code",
      "execution_count": null,
      "id": "3c05bc03",
      "metadata": {
        "id": "3c05bc03",
        "outputId": "40598ba9-fd25-4816-e8f2-0a193d84a5ff"
      },
      "outputs": [
        {
          "data": {
            "text/plain": [
              "0"
            ]
          },
          "execution_count": 10,
          "metadata": {},
          "output_type": "execute_result"
        }
      ],
      "source": [
        "my_count('گلابی')"
      ]
    },
    {
      "cell_type": "code",
      "execution_count": null,
      "id": "466abc11",
      "metadata": {
        "id": "466abc11"
      },
      "outputs": [],
      "source": []
    },
    {
      "cell_type": "code",
      "execution_count": null,
      "id": "164e7d2f",
      "metadata": {
        "id": "164e7d2f"
      },
      "outputs": [],
      "source": []
    },
    {
      "cell_type": "code",
      "execution_count": null,
      "id": "0b8a1c01",
      "metadata": {
        "id": "0b8a1c01"
      },
      "outputs": [],
      "source": []
    },
    {
      "cell_type": "code",
      "execution_count": null,
      "id": "455c52c1",
      "metadata": {
        "id": "455c52c1"
      },
      "outputs": [],
      "source": [
        "a = ['انگور', 'سیب', 'موز', 'انگور', 'پرتغال']"
      ]
    },
    {
      "cell_type": "code",
      "execution_count": null,
      "id": "7696f77f",
      "metadata": {
        "id": "7696f77f"
      },
      "outputs": [],
      "source": [
        "example = 'انگور'"
      ]
    },
    {
      "cell_type": "code",
      "execution_count": null,
      "id": "6b4d2306",
      "metadata": {
        "id": "6b4d2306"
      },
      "outputs": [],
      "source": [
        "def my_count(example):\n",
        "    num = 0\n",
        "    for i in a:\n",
        "        if i == example:\n",
        "            num = num + 1\n",
        "    return(num)"
      ]
    },
    {
      "cell_type": "code",
      "execution_count": null,
      "id": "a23265d5",
      "metadata": {
        "id": "a23265d5",
        "outputId": "7293791e-980b-4e56-d8aa-5e4fedfe6895"
      },
      "outputs": [
        {
          "data": {
            "text/plain": [
              "2"
            ]
          },
          "execution_count": 101,
          "metadata": {},
          "output_type": "execute_result"
        }
      ],
      "source": [
        "my_count('انگور')"
      ]
    },
    {
      "cell_type": "code",
      "execution_count": null,
      "id": "5d42e2d9",
      "metadata": {
        "id": "5d42e2d9",
        "outputId": "3f5b719d-ed17-420c-d21e-834edcb3b0ba"
      },
      "outputs": [
        {
          "data": {
            "text/plain": [
              "2"
            ]
          },
          "execution_count": 103,
          "metadata": {},
          "output_type": "execute_result"
        }
      ],
      "source": [
        "a.count('انگور')"
      ]
    },
    {
      "cell_type": "code",
      "execution_count": null,
      "id": "f2bb42cb",
      "metadata": {
        "id": "f2bb42cb"
      },
      "outputs": [],
      "source": []
    },
    {
      "cell_type": "code",
      "execution_count": null,
      "id": "d7ea554c",
      "metadata": {
        "id": "d7ea554c"
      },
      "outputs": [],
      "source": []
    },
    {
      "cell_type": "code",
      "execution_count": null,
      "id": "589fa566",
      "metadata": {
        "id": "589fa566"
      },
      "outputs": [],
      "source": []
    },
    {
      "cell_type": "markdown",
      "id": "f4343647",
      "metadata": {
        "id": "f4343647"
      },
      "source": [
        "## مثال 10 :"
      ]
    },
    {
      "cell_type": "code",
      "execution_count": null,
      "id": "7fbc2f41",
      "metadata": {
        "id": "7fbc2f41"
      },
      "outputs": [],
      "source": [
        "b = [2, 14, 6 , 16 , 3]"
      ]
    },
    {
      "cell_type": "code",
      "execution_count": null,
      "id": "a014229b",
      "metadata": {
        "id": "a014229b"
      },
      "outputs": [],
      "source": [
        "b.insert(2, 10)"
      ]
    },
    {
      "cell_type": "code",
      "execution_count": null,
      "id": "ab13ccd7",
      "metadata": {
        "id": "ab13ccd7",
        "outputId": "0696c366-504f-49f7-9e21-33b50a8fead1"
      },
      "outputs": [
        {
          "name": "stdout",
          "output_type": "stream",
          "text": [
            "[2, 14, 10, 6, 16, 3]\n"
          ]
        }
      ],
      "source": [
        "print(b)"
      ]
    },
    {
      "cell_type": "code",
      "execution_count": null,
      "id": "7a366d81",
      "metadata": {
        "id": "7a366d81"
      },
      "outputs": [],
      "source": [
        "b.remove(10)"
      ]
    },
    {
      "cell_type": "code",
      "execution_count": null,
      "id": "13e944fb",
      "metadata": {
        "id": "13e944fb",
        "outputId": "2dfec4d3-b85d-4e42-fe31-d77528285bf9"
      },
      "outputs": [
        {
          "name": "stdout",
          "output_type": "stream",
          "text": [
            "[2, 14, 6, 16, 3]\n"
          ]
        }
      ],
      "source": [
        "print(b)"
      ]
    },
    {
      "cell_type": "code",
      "execution_count": null,
      "id": "2ed653a5",
      "metadata": {
        "id": "2ed653a5"
      },
      "outputs": [],
      "source": [
        "b.sort()"
      ]
    },
    {
      "cell_type": "code",
      "execution_count": null,
      "id": "95155b2a",
      "metadata": {
        "id": "95155b2a",
        "outputId": "8df0e221-ef3f-43e8-899d-d381740d5962"
      },
      "outputs": [
        {
          "name": "stdout",
          "output_type": "stream",
          "text": [
            "[2, 3, 6, 14, 16]\n"
          ]
        }
      ],
      "source": [
        "print(b)"
      ]
    },
    {
      "cell_type": "code",
      "execution_count": null,
      "id": "b2f6923d",
      "metadata": {
        "id": "b2f6923d"
      },
      "outputs": [],
      "source": [
        "del b[2]"
      ]
    },
    {
      "cell_type": "code",
      "execution_count": null,
      "id": "987b6086",
      "metadata": {
        "id": "987b6086",
        "outputId": "97fd7590-e915-4d45-f875-fce7ad22150f"
      },
      "outputs": [
        {
          "name": "stdout",
          "output_type": "stream",
          "text": [
            "[2, 3, 14, 16]\n"
          ]
        }
      ],
      "source": [
        "print(b)"
      ]
    },
    {
      "cell_type": "code",
      "execution_count": null,
      "id": "e1d8fbed",
      "metadata": {
        "id": "e1d8fbed"
      },
      "outputs": [],
      "source": []
    },
    {
      "cell_type": "code",
      "execution_count": null,
      "id": "a6d105e0",
      "metadata": {
        "id": "a6d105e0"
      },
      "outputs": [],
      "source": []
    },
    {
      "cell_type": "code",
      "execution_count": null,
      "id": "d5de4e93",
      "metadata": {
        "id": "d5de4e93"
      },
      "outputs": [],
      "source": []
    },
    {
      "cell_type": "code",
      "execution_count": null,
      "id": "a813dfb8",
      "metadata": {
        "id": "a813dfb8"
      },
      "outputs": [],
      "source": []
    },
    {
      "cell_type": "markdown",
      "id": "b6bdcd6b",
      "metadata": {
        "id": "b6bdcd6b"
      },
      "source": [
        "## تمرین 5 امتیازی:"
      ]
    },
    {
      "cell_type": "markdown",
      "id": "cde13de5",
      "metadata": {
        "id": "cde13de5"
      },
      "source": [
        "## پیاده سازی کنید remove تابع"
      ]
    },
    {
      "cell_type": "code",
      "execution_count": null,
      "id": "c8965064",
      "metadata": {
        "id": "c8965064"
      },
      "outputs": [],
      "source": [
        "a = [2, 14, 6 , 16 , 3]"
      ]
    },
    {
      "cell_type": "markdown",
      "id": "f6aa3dd7",
      "metadata": {
        "id": "f6aa3dd7"
      },
      "source": [
        "## تابعی پیاده سازی کنید که لیست بالا را دریافت کرده و عدد مورد نظر کاربر را حذف نماید:"
      ]
    },
    {
      "cell_type": "code",
      "execution_count": null,
      "id": "0034c04e",
      "metadata": {
        "id": "0034c04e"
      },
      "outputs": [],
      "source": [
        "a = [2, 14, 6 , 16 , 3]"
      ]
    },
    {
      "cell_type": "code",
      "execution_count": null,
      "id": "e4df70d1",
      "metadata": {
        "id": "e4df70d1",
        "outputId": "5e40927a-d5df-4fa3-afe8-62ad2b388bdb"
      },
      "outputs": [
        {
          "data": {
            "text/plain": [
              "[2, 6, 16, 3]"
            ]
          },
          "execution_count": 116,
          "metadata": {},
          "output_type": "execute_result"
        }
      ],
      "source": [
        "my_remove(14,a)"
      ]
    },
    {
      "cell_type": "code",
      "execution_count": null,
      "id": "779b684b",
      "metadata": {
        "id": "779b684b"
      },
      "outputs": [],
      "source": []
    },
    {
      "cell_type": "code",
      "execution_count": null,
      "id": "3dbbda82",
      "metadata": {
        "id": "3dbbda82"
      },
      "outputs": [],
      "source": []
    },
    {
      "cell_type": "code",
      "execution_count": null,
      "id": "648f6e53",
      "metadata": {
        "id": "648f6e53"
      },
      "outputs": [],
      "source": [
        "def my_remove(a,b):\n",
        "    for i in b:\n",
        "        if i == a:\n",
        "            del b[b.index(a)]\n",
        "    return(b)"
      ]
    },
    {
      "cell_type": "code",
      "execution_count": null,
      "id": "7900e48b",
      "metadata": {
        "id": "7900e48b"
      },
      "outputs": [],
      "source": []
    },
    {
      "cell_type": "code",
      "execution_count": null,
      "id": "763f6614",
      "metadata": {
        "id": "763f6614"
      },
      "outputs": [],
      "source": []
    },
    {
      "cell_type": "code",
      "execution_count": null,
      "id": "54afb224",
      "metadata": {
        "id": "54afb224"
      },
      "outputs": [],
      "source": []
    },
    {
      "cell_type": "markdown",
      "id": "b282dd78",
      "metadata": {
        "id": "b282dd78"
      },
      "source": [
        "## مثال 11 :"
      ]
    },
    {
      "cell_type": "code",
      "execution_count": null,
      "id": "cdee7730",
      "metadata": {
        "id": "cdee7730"
      },
      "outputs": [],
      "source": [
        "a = [1, 2, 3]\n",
        "b = [4, 5, 6]"
      ]
    },
    {
      "cell_type": "code",
      "execution_count": null,
      "id": "e0248a97",
      "metadata": {
        "id": "e0248a97"
      },
      "outputs": [],
      "source": [
        "a.extend(b)"
      ]
    },
    {
      "cell_type": "code",
      "execution_count": null,
      "id": "f27dbc41",
      "metadata": {
        "id": "f27dbc41",
        "outputId": "24abb3d7-6a68-4c7b-943c-19bfa5c5ea2a"
      },
      "outputs": [
        {
          "name": "stdout",
          "output_type": "stream",
          "text": [
            "6\n",
            "[1, 2, 3, 4, 5, 6]\n"
          ]
        }
      ],
      "source": [
        "print(len(a))\n",
        "print(a)"
      ]
    },
    {
      "cell_type": "code",
      "execution_count": null,
      "id": "63cb3383",
      "metadata": {
        "id": "63cb3383"
      },
      "outputs": [],
      "source": []
    },
    {
      "cell_type": "code",
      "execution_count": null,
      "id": "127ae69f",
      "metadata": {
        "id": "127ae69f"
      },
      "outputs": [],
      "source": [
        "a = [1, 2, 3]\n",
        "b = [4, 5, 6]"
      ]
    },
    {
      "cell_type": "code",
      "execution_count": null,
      "id": "a372a305",
      "metadata": {
        "id": "a372a305"
      },
      "outputs": [],
      "source": [
        "b.extend(a)"
      ]
    },
    {
      "cell_type": "code",
      "execution_count": null,
      "id": "fad56d1f",
      "metadata": {
        "id": "fad56d1f",
        "outputId": "07a43a4b-9cc5-423f-aa44-05b5caf89bfe"
      },
      "outputs": [
        {
          "name": "stdout",
          "output_type": "stream",
          "text": [
            "6\n",
            "[4, 5, 6, 1, 2, 3]\n"
          ]
        }
      ],
      "source": [
        "print(len(b))\n",
        "print(b)"
      ]
    },
    {
      "cell_type": "code",
      "execution_count": null,
      "id": "9b92b8fa",
      "metadata": {
        "id": "9b92b8fa"
      },
      "outputs": [],
      "source": []
    },
    {
      "cell_type": "code",
      "execution_count": null,
      "id": "61b3b03a",
      "metadata": {
        "id": "61b3b03a"
      },
      "outputs": [],
      "source": [
        "a = [1, 2, 3]\n",
        "b = [4, 5, 6]"
      ]
    },
    {
      "cell_type": "code",
      "execution_count": null,
      "id": "0a4a54df",
      "metadata": {
        "id": "0a4a54df"
      },
      "outputs": [],
      "source": [
        "a.append(b)"
      ]
    },
    {
      "cell_type": "code",
      "execution_count": null,
      "id": "7fb47198",
      "metadata": {
        "id": "7fb47198",
        "outputId": "a1b70e10-2253-41b0-be48-6b7eca245130"
      },
      "outputs": [
        {
          "name": "stdout",
          "output_type": "stream",
          "text": [
            "4\n",
            "[1, 2, 3, [4, 5, 6]]\n"
          ]
        }
      ],
      "source": [
        "print(len(a))\n",
        "print(a)"
      ]
    },
    {
      "cell_type": "code",
      "execution_count": null,
      "id": "08b7596d",
      "metadata": {
        "id": "08b7596d"
      },
      "outputs": [],
      "source": []
    },
    {
      "cell_type": "code",
      "execution_count": null,
      "id": "0c14d807",
      "metadata": {
        "id": "0c14d807"
      },
      "outputs": [],
      "source": [
        "a = [1, 2, 3]"
      ]
    },
    {
      "cell_type": "code",
      "execution_count": null,
      "id": "1a1b805b",
      "metadata": {
        "id": "1a1b805b"
      },
      "outputs": [],
      "source": [
        "a.append(4)"
      ]
    },
    {
      "cell_type": "code",
      "execution_count": null,
      "id": "731e65d6",
      "metadata": {
        "id": "731e65d6",
        "outputId": "82b2a496-7e9e-4bb8-cb43-1d380caceee0"
      },
      "outputs": [
        {
          "name": "stdout",
          "output_type": "stream",
          "text": [
            "4\n",
            "[1, 2, 3, 4]\n"
          ]
        }
      ],
      "source": [
        "print(len(a))\n",
        "print(a)"
      ]
    },
    {
      "cell_type": "code",
      "execution_count": null,
      "id": "d67131e2",
      "metadata": {
        "id": "d67131e2"
      },
      "outputs": [],
      "source": []
    },
    {
      "cell_type": "code",
      "execution_count": null,
      "id": "45a83f2e",
      "metadata": {
        "id": "45a83f2e"
      },
      "outputs": [],
      "source": []
    },
    {
      "cell_type": "markdown",
      "id": "5a657b78",
      "metadata": {
        "id": "5a657b78"
      },
      "source": [
        "## تمرین 6 امتیازی :"
      ]
    },
    {
      "cell_type": "markdown",
      "id": "947c77c8",
      "metadata": {
        "id": "947c77c8"
      },
      "source": [
        "## input :  "
      ]
    },
    {
      "cell_type": "code",
      "execution_count": null,
      "id": "4b7f5dd1",
      "metadata": {
        "id": "4b7f5dd1"
      },
      "outputs": [],
      "source": [
        "a = [35, 42, 65 , 12]\n",
        "b = [True, False, True, False]"
      ]
    },
    {
      "cell_type": "markdown",
      "id": "befeec01",
      "metadata": {
        "id": "befeec01"
      },
      "source": [
        "## output:"
      ]
    },
    {
      "cell_type": "code",
      "execution_count": null,
      "id": "5e8d1183",
      "metadata": {
        "id": "5e8d1183"
      },
      "outputs": [],
      "source": [
        "[[35, True], [42, False], [65, True], [12, False]]"
      ]
    },
    {
      "cell_type": "code",
      "execution_count": null,
      "id": "396b54c9",
      "metadata": {
        "id": "396b54c9"
      },
      "outputs": [],
      "source": []
    },
    {
      "cell_type": "code",
      "execution_count": null,
      "id": "28eb83e3",
      "metadata": {
        "id": "28eb83e3"
      },
      "outputs": [],
      "source": []
    },
    {
      "cell_type": "code",
      "execution_count": null,
      "id": "7ed78420",
      "metadata": {
        "id": "7ed78420"
      },
      "outputs": [],
      "source": [
        "def my_def(a, b):\n",
        "    z = []\n",
        "    for i in range(len(a)):\n",
        "        x = a[i]\n",
        "        y = b[i]\n",
        "\n",
        "        temp = [x,y]\n",
        "        z.append(temp)\n",
        "    return(z)"
      ]
    },
    {
      "cell_type": "code",
      "execution_count": null,
      "id": "bfe498f4",
      "metadata": {
        "id": "bfe498f4"
      },
      "outputs": [],
      "source": []
    },
    {
      "cell_type": "code",
      "execution_count": null,
      "id": "2671fe23",
      "metadata": {
        "id": "2671fe23",
        "outputId": "d06e662d-60cf-4266-fbac-099b1d5ad81c"
      },
      "outputs": [
        {
          "name": "stdout",
          "output_type": "stream",
          "text": [
            "[[35, True], [42, False], [65, True], [12, False]]\n"
          ]
        }
      ],
      "source": [
        "c = my_def(a,b)\n",
        "print(c)"
      ]
    },
    {
      "cell_type": "code",
      "execution_count": null,
      "id": "af8d2169",
      "metadata": {
        "id": "af8d2169"
      },
      "outputs": [],
      "source": []
    },
    {
      "cell_type": "code",
      "execution_count": null,
      "id": "79f3cc41",
      "metadata": {
        "id": "79f3cc41"
      },
      "outputs": [],
      "source": []
    },
    {
      "cell_type": "markdown",
      "id": "092ffd1a",
      "metadata": {
        "id": "092ffd1a"
      },
      "source": [
        "## تمرین 7 امتیازی:"
      ]
    },
    {
      "cell_type": "markdown",
      "id": "f022990b",
      "metadata": {
        "id": "f022990b"
      },
      "source": [
        "## input:"
      ]
    },
    {
      "cell_type": "code",
      "execution_count": null,
      "id": "d5ab3a36",
      "metadata": {
        "id": "d5ab3a36"
      },
      "outputs": [],
      "source": [
        "a = [35, 42, 65 , 12]\n",
        "b = [True, False, True, False]"
      ]
    },
    {
      "cell_type": "markdown",
      "id": "2d3b4cc1",
      "metadata": {
        "id": "2d3b4cc1"
      },
      "source": [
        "## output:"
      ]
    },
    {
      "cell_type": "code",
      "execution_count": null,
      "id": "f41014ff",
      "metadata": {
        "id": "f41014ff"
      },
      "outputs": [],
      "source": [
        "[35, True]  : Yes\n",
        "[42, False]  : No\n",
        "[65, True]  : Yes\n",
        "[12, False]  : No"
      ]
    },
    {
      "cell_type": "markdown",
      "id": "5998932e",
      "metadata": {
        "id": "5998932e"
      },
      "source": [
        "## در تعریف این تابع حتما از تابع تعریف شده در تمرین قبلی استفاده نمایید"
      ]
    },
    {
      "cell_type": "code",
      "execution_count": null,
      "id": "2d222294",
      "metadata": {
        "id": "2d222294"
      },
      "outputs": [],
      "source": []
    },
    {
      "cell_type": "code",
      "execution_count": null,
      "id": "381f5a65",
      "metadata": {
        "id": "381f5a65"
      },
      "outputs": [],
      "source": []
    },
    {
      "cell_type": "code",
      "execution_count": null,
      "id": "a0f9e50b",
      "metadata": {
        "id": "a0f9e50b"
      },
      "outputs": [],
      "source": [
        "def my_def2(a, b):\n",
        "    c = my_def(a, b)\n",
        "    for i in c:\n",
        "        x = i[0]\n",
        "        y = i[1]\n",
        "        if x >= 35 and y:\n",
        "            print(i, ' : Yes')\n",
        "        else:\n",
        "            print(i, ' : No')"
      ]
    },
    {
      "cell_type": "code",
      "execution_count": null,
      "id": "7d441078",
      "metadata": {
        "id": "7d441078"
      },
      "outputs": [],
      "source": [
        "my_def2(a,b)"
      ]
    },
    {
      "cell_type": "code",
      "execution_count": null,
      "id": "394c380c",
      "metadata": {
        "id": "394c380c"
      },
      "outputs": [],
      "source": []
    }
  ],
  "metadata": {
    "kernelspec": {
      "display_name": "Python 3 (ipykernel)",
      "language": "python",
      "name": "python3"
    },
    "language_info": {
      "codemirror_mode": {
        "name": "ipython",
        "version": 3
      },
      "file_extension": ".py",
      "mimetype": "text/x-python",
      "name": "python",
      "nbconvert_exporter": "python",
      "pygments_lexer": "ipython3",
      "version": "3.11.5"
    },
    "colab": {
      "provenance": [],
      "include_colab_link": true
    }
  },
  "nbformat": 4,
  "nbformat_minor": 5
}