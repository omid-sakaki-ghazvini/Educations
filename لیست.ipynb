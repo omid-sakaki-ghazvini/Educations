{
 "cells": [
  {
   "cell_type": "markdown",
   "id": "7dda4753",
   "metadata": {},
   "source": [
    "# یادآوری:"
   ]
  },
  {
   "cell_type": "code",
   "execution_count": 1,
   "id": "7995b256",
   "metadata": {},
   "outputs": [],
   "source": [
    "a = 2               #شماره دانشجویی\n",
    "b = 12.88           #معدل دانشجو\n",
    "c = 'ali'           #نام دانشجو\n",
    "d = True            #وضعیت قبولی"
   ]
  },
  {
   "cell_type": "code",
   "execution_count": 2,
   "id": "d79bbe90",
   "metadata": {},
   "outputs": [
    {
     "name": "stdout",
     "output_type": "stream",
     "text": [
      "شماره دانشجویی:  2 \n",
      " معدل کل:  12.88 \n",
      " نام دانشجو:  ali \n",
      " وضعیت قبولی:  True\n"
     ]
    }
   ],
   "source": [
    "print('شماره دانشجویی: ', a,'\\n',\n",
    "      \n",
    "      'معدل کل: ', b,'\\n',\n",
    "      \n",
    "      'نام دانشجو: ', c,'\\n',\n",
    "      \n",
    "      'وضعیت قبولی: ', d)"
   ]
  },
  {
   "cell_type": "code",
   "execution_count": 3,
   "id": "38860f7e",
   "metadata": {},
   "outputs": [
    {
     "name": "stdout",
     "output_type": "stream",
     "text": [
      "<class 'int'> <class 'float'> <class 'str'> <class 'bool'>\n"
     ]
    }
   ],
   "source": [
    "print(type(a), type(b), type(c), type(d))"
   ]
  },
  {
   "cell_type": "code",
   "execution_count": null,
   "id": "1e12be40",
   "metadata": {},
   "outputs": [],
   "source": []
  },
  {
   "cell_type": "code",
   "execution_count": null,
   "id": "b1c71e96",
   "metadata": {},
   "outputs": [],
   "source": []
  },
  {
   "cell_type": "code",
   "execution_count": null,
   "id": "95324ccc",
   "metadata": {},
   "outputs": [],
   "source": []
  },
  {
   "cell_type": "code",
   "execution_count": null,
   "id": "5af52647",
   "metadata": {},
   "outputs": [],
   "source": []
  },
  {
   "cell_type": "code",
   "execution_count": null,
   "id": "d39e2ca7",
   "metadata": {},
   "outputs": [],
   "source": []
  },
  {
   "cell_type": "code",
   "execution_count": null,
   "id": "a2b5b56d",
   "metadata": {},
   "outputs": [],
   "source": []
  },
  {
   "cell_type": "code",
   "execution_count": null,
   "id": "395dda0a",
   "metadata": {},
   "outputs": [],
   "source": []
  },
  {
   "cell_type": "code",
   "execution_count": null,
   "id": "976f11b7",
   "metadata": {},
   "outputs": [],
   "source": []
  },
  {
   "cell_type": "code",
   "execution_count": null,
   "id": "0d3bb62e",
   "metadata": {},
   "outputs": [],
   "source": []
  },
  {
   "cell_type": "markdown",
   "id": "4f406fa4",
   "metadata": {},
   "source": [
    "# ساختمان داده: "
   ]
  },
  {
   "cell_type": "markdown",
   "id": "4ba80dc1",
   "metadata": {},
   "source": [
    "## ساختمان داده ها یک راه سازماندهی و ذخیره سازی داده ها هستند تا بتوان با سهولت و کارآیی بیشتری با داده ها کار کرد. "
   ]
  },
  {
   "cell_type": "markdown",
   "id": "d4a847ba",
   "metadata": {},
   "source": [
    "# انواع ساختمان داده: "
   ]
  },
  {
   "cell_type": "markdown",
   "id": "e01d4167",
   "metadata": {},
   "source": [
    "## 1- لیست\n",
    "## 2- تاپل\n",
    "## 3- دیکشنری\n",
    "## 4- مجموعه"
   ]
  },
  {
   "cell_type": "markdown",
   "id": "7df0d049",
   "metadata": {},
   "source": [
    "# لیست: یک ساختمان داده با خاصیت تغییر اندازه است. داده های درون یک لیست میتواند انواع مختلفی داشته باشد.\n",
    "\n",
    "# تاپل: همانند لیست ها هستند با این تفاوت که تاپل بعد از مقداردهی قابل تغییر نیست. مزیت استفاده از تاپل ها به جای لیست ها، سادگی و عدم تغییرپذیری آنهاست.\n",
    "\n",
    "# دیکشنری: ساختار داده ای هست که از دو مقدار \n",
    "# key\n",
    "# value\n",
    "# تشکیل شده است. شبیه لیست ها هستند با این تفاوت که برای دسترسی به مقادیر درون ساختار داده، به جای اندیس از \n",
    "# key \n",
    "# استفاده مینماییم\n",
    "\n",
    "# مجموعه: این ساختار داده، برای داده های منحصربفرد و بدون ترتیب بکار میرود. عملیات معمول مجموعه های ریاضی اعم از اشتراک و اجتماع را به راحتی پشتیبانی میکند."
   ]
  },
  {
   "cell_type": "code",
   "execution_count": null,
   "id": "62068345",
   "metadata": {},
   "outputs": [],
   "source": []
  },
  {
   "cell_type": "code",
   "execution_count": null,
   "id": "de8de093",
   "metadata": {},
   "outputs": [],
   "source": []
  },
  {
   "cell_type": "code",
   "execution_count": null,
   "id": "d46162f3",
   "metadata": {},
   "outputs": [],
   "source": []
  },
  {
   "cell_type": "markdown",
   "id": "97154ca7",
   "metadata": {},
   "source": [
    "## لیست : "
   ]
  },
  {
   "cell_type": "markdown",
   "id": "6fd4e97b",
   "metadata": {},
   "source": [
    "## مثال 1 : "
   ]
  },
  {
   "cell_type": "code",
   "execution_count": 4,
   "id": "d8774417",
   "metadata": {},
   "outputs": [],
   "source": [
    "b = 1"
   ]
  },
  {
   "cell_type": "code",
   "execution_count": 5,
   "id": "c41d3de4",
   "metadata": {},
   "outputs": [
    {
     "data": {
      "text/plain": [
       "int"
      ]
     },
     "execution_count": 5,
     "metadata": {},
     "output_type": "execute_result"
    }
   ],
   "source": [
    "type(b)"
   ]
  },
  {
   "cell_type": "code",
   "execution_count": 6,
   "id": "8344b9aa",
   "metadata": {},
   "outputs": [],
   "source": [
    "a = [ 1, 2, 3, 4]"
   ]
  },
  {
   "cell_type": "code",
   "execution_count": 7,
   "id": "0915f9db",
   "metadata": {},
   "outputs": [
    {
     "name": "stdout",
     "output_type": "stream",
     "text": [
      "[1, 2, 3, 4]\n"
     ]
    }
   ],
   "source": [
    "print(a)"
   ]
  },
  {
   "cell_type": "code",
   "execution_count": 8,
   "id": "6c1ec1a7",
   "metadata": {},
   "outputs": [
    {
     "name": "stdout",
     "output_type": "stream",
     "text": [
      "<class 'list'>\n"
     ]
    }
   ],
   "source": [
    "print(type(a))"
   ]
  },
  {
   "cell_type": "code",
   "execution_count": 9,
   "id": "f62bcf39",
   "metadata": {},
   "outputs": [
    {
     "name": "stdout",
     "output_type": "stream",
     "text": [
      "4\n"
     ]
    }
   ],
   "source": [
    "print(len(a))"
   ]
  },
  {
   "cell_type": "code",
   "execution_count": null,
   "id": "3fa04c77",
   "metadata": {},
   "outputs": [],
   "source": []
  },
  {
   "cell_type": "code",
   "execution_count": null,
   "id": "e62dcd55",
   "metadata": {},
   "outputs": [],
   "source": []
  },
  {
   "cell_type": "code",
   "execution_count": null,
   "id": "789b49c1",
   "metadata": {},
   "outputs": [],
   "source": []
  },
  {
   "cell_type": "code",
   "execution_count": null,
   "id": "ea4d9e5d",
   "metadata": {},
   "outputs": [],
   "source": []
  },
  {
   "cell_type": "code",
   "execution_count": null,
   "id": "23231180",
   "metadata": {},
   "outputs": [],
   "source": []
  },
  {
   "cell_type": "code",
   "execution_count": null,
   "id": "f8d9b742",
   "metadata": {},
   "outputs": [],
   "source": []
  },
  {
   "cell_type": "code",
   "execution_count": null,
   "id": "b365422f",
   "metadata": {},
   "outputs": [],
   "source": []
  },
  {
   "cell_type": "markdown",
   "id": "b33869f6",
   "metadata": {},
   "source": [
    "## مثال 2 : "
   ]
  },
  {
   "cell_type": "code",
   "execution_count": 10,
   "id": "856b4982",
   "metadata": {},
   "outputs": [],
   "source": [
    "b = [ \"one\", \"two\", \"Three\", \"four\" ]"
   ]
  },
  {
   "cell_type": "code",
   "execution_count": 11,
   "id": "0472749b",
   "metadata": {},
   "outputs": [
    {
     "name": "stdout",
     "output_type": "stream",
     "text": [
      "['one', 'two', 'Three', 'four']\n"
     ]
    }
   ],
   "source": [
    "print(b)"
   ]
  },
  {
   "cell_type": "code",
   "execution_count": 12,
   "id": "d18b7cf1",
   "metadata": {},
   "outputs": [
    {
     "name": "stdout",
     "output_type": "stream",
     "text": [
      "<class 'list'>\n"
     ]
    }
   ],
   "source": [
    "print(type(b))"
   ]
  },
  {
   "cell_type": "code",
   "execution_count": null,
   "id": "f2d2fd7e",
   "metadata": {},
   "outputs": [],
   "source": [
    "print(len(b))"
   ]
  },
  {
   "cell_type": "code",
   "execution_count": null,
   "id": "9da9473b",
   "metadata": {},
   "outputs": [],
   "source": []
  },
  {
   "cell_type": "code",
   "execution_count": null,
   "id": "5dedf95e",
   "metadata": {},
   "outputs": [],
   "source": []
  },
  {
   "cell_type": "code",
   "execution_count": null,
   "id": "6ec7c0d2",
   "metadata": {},
   "outputs": [],
   "source": []
  },
  {
   "cell_type": "code",
   "execution_count": null,
   "id": "815d60ae",
   "metadata": {},
   "outputs": [],
   "source": []
  },
  {
   "cell_type": "code",
   "execution_count": null,
   "id": "d6b171c6",
   "metadata": {},
   "outputs": [],
   "source": []
  },
  {
   "cell_type": "code",
   "execution_count": null,
   "id": "1fb75d82",
   "metadata": {},
   "outputs": [],
   "source": []
  },
  {
   "cell_type": "markdown",
   "id": "2fc53ff9",
   "metadata": {},
   "source": [
    "## مثال 3 : "
   ]
  },
  {
   "cell_type": "code",
   "execution_count": 13,
   "id": "28e2bdf6",
   "metadata": {},
   "outputs": [],
   "source": [
    "c = [ [ 5, 1, 7, 4 ] , [ 1, 2, 3, 4] ]"
   ]
  },
  {
   "cell_type": "code",
   "execution_count": 14,
   "id": "68a643b6",
   "metadata": {},
   "outputs": [
    {
     "name": "stdout",
     "output_type": "stream",
     "text": [
      "[[5, 1, 7, 4], [1, 2, 3, 4]]\n"
     ]
    }
   ],
   "source": [
    "print(c)"
   ]
  },
  {
   "cell_type": "code",
   "execution_count": 15,
   "id": "12c38242",
   "metadata": {},
   "outputs": [
    {
     "name": "stdout",
     "output_type": "stream",
     "text": [
      "<class 'list'>\n"
     ]
    }
   ],
   "source": [
    "print(type(c))"
   ]
  },
  {
   "cell_type": "code",
   "execution_count": 16,
   "id": "06e4dc35",
   "metadata": {},
   "outputs": [
    {
     "name": "stdout",
     "output_type": "stream",
     "text": [
      "2\n"
     ]
    }
   ],
   "source": [
    "print(len(c))"
   ]
  },
  {
   "cell_type": "code",
   "execution_count": null,
   "id": "20226e46",
   "metadata": {},
   "outputs": [],
   "source": []
  },
  {
   "cell_type": "code",
   "execution_count": null,
   "id": "b13b89b1",
   "metadata": {},
   "outputs": [],
   "source": []
  },
  {
   "cell_type": "code",
   "execution_count": null,
   "id": "b2708ada",
   "metadata": {},
   "outputs": [],
   "source": []
  },
  {
   "cell_type": "code",
   "execution_count": null,
   "id": "13310672",
   "metadata": {},
   "outputs": [],
   "source": []
  },
  {
   "cell_type": "markdown",
   "id": "2ddec14f",
   "metadata": {},
   "source": [
    "## مثال 4 : "
   ]
  },
  {
   "cell_type": "code",
   "execution_count": 17,
   "id": "2c34a8b0",
   "metadata": {},
   "outputs": [],
   "source": [
    "d = [2, 12.88, 'ali', True] "
   ]
  },
  {
   "cell_type": "code",
   "execution_count": 18,
   "id": "64481c3d",
   "metadata": {},
   "outputs": [
    {
     "name": "stdout",
     "output_type": "stream",
     "text": [
      "[2, 12.88, 'ali', True]\n"
     ]
    }
   ],
   "source": [
    "print(d)"
   ]
  },
  {
   "cell_type": "code",
   "execution_count": 19,
   "id": "5ab0120c",
   "metadata": {},
   "outputs": [
    {
     "name": "stdout",
     "output_type": "stream",
     "text": [
      "<class 'list'>\n"
     ]
    }
   ],
   "source": [
    "print(type(d))"
   ]
  },
  {
   "cell_type": "code",
   "execution_count": 20,
   "id": "a2e794eb",
   "metadata": {},
   "outputs": [
    {
     "name": "stdout",
     "output_type": "stream",
     "text": [
      "4\n"
     ]
    }
   ],
   "source": [
    "print(len(d))"
   ]
  },
  {
   "cell_type": "code",
   "execution_count": null,
   "id": "ab312e34",
   "metadata": {},
   "outputs": [],
   "source": []
  },
  {
   "cell_type": "code",
   "execution_count": null,
   "id": "17a77e11",
   "metadata": {},
   "outputs": [],
   "source": []
  },
  {
   "cell_type": "code",
   "execution_count": null,
   "id": "b576a0e3",
   "metadata": {},
   "outputs": [],
   "source": []
  },
  {
   "cell_type": "code",
   "execution_count": null,
   "id": "4f36da9d",
   "metadata": {},
   "outputs": [],
   "source": []
  },
  {
   "cell_type": "code",
   "execution_count": null,
   "id": "7f1d5f32",
   "metadata": {},
   "outputs": [],
   "source": []
  },
  {
   "cell_type": "code",
   "execution_count": null,
   "id": "b6f224ca",
   "metadata": {},
   "outputs": [],
   "source": []
  },
  {
   "cell_type": "code",
   "execution_count": null,
   "id": "016b00fb",
   "metadata": {},
   "outputs": [],
   "source": []
  },
  {
   "cell_type": "code",
   "execution_count": null,
   "id": "bd0653e6",
   "metadata": {},
   "outputs": [],
   "source": []
  },
  {
   "cell_type": "markdown",
   "id": "c9646406",
   "metadata": {},
   "source": [
    "## تمرین 1 امتیازی :  "
   ]
  },
  {
   "cell_type": "code",
   "execution_count": 33,
   "id": "1a5d53d1",
   "metadata": {},
   "outputs": [],
   "source": [
    "e = [1 , 2]\n",
    "f = [1 , 2, 3]"
   ]
  },
  {
   "cell_type": "code",
   "execution_count": 28,
   "id": "ab46750b",
   "metadata": {},
   "outputs": [
    {
     "data": {
      "text/plain": [
       "0"
      ]
     },
     "execution_count": 28,
     "metadata": {},
     "output_type": "execute_result"
    }
   ],
   "source": [
    "e.index(1)"
   ]
  },
  {
   "cell_type": "code",
   "execution_count": 29,
   "id": "b004db90",
   "metadata": {},
   "outputs": [
    {
     "data": {
      "text/plain": [
       "1"
      ]
     },
     "execution_count": 29,
     "metadata": {},
     "output_type": "execute_result"
    }
   ],
   "source": [
    "e.index(2)"
   ]
  },
  {
   "cell_type": "code",
   "execution_count": 30,
   "id": "a0799448",
   "metadata": {},
   "outputs": [
    {
     "data": {
      "text/plain": [
       "0"
      ]
     },
     "execution_count": 30,
     "metadata": {},
     "output_type": "execute_result"
    }
   ],
   "source": [
    "f.index(1)"
   ]
  },
  {
   "cell_type": "code",
   "execution_count": 31,
   "id": "e04d3ea8",
   "metadata": {},
   "outputs": [
    {
     "data": {
      "text/plain": [
       "1"
      ]
     },
     "execution_count": 31,
     "metadata": {},
     "output_type": "execute_result"
    }
   ],
   "source": [
    "f.index(2)"
   ]
  },
  {
   "cell_type": "code",
   "execution_count": 34,
   "id": "830d2115",
   "metadata": {},
   "outputs": [
    {
     "name": "stdout",
     "output_type": "stream",
     "text": [
      "False\n"
     ]
    }
   ],
   "source": [
    "print(e == f)"
   ]
  },
  {
   "cell_type": "code",
   "execution_count": null,
   "id": "2cece53c",
   "metadata": {},
   "outputs": [],
   "source": []
  },
  {
   "cell_type": "code",
   "execution_count": null,
   "id": "76d2a854",
   "metadata": {},
   "outputs": [],
   "source": []
  },
  {
   "cell_type": "code",
   "execution_count": null,
   "id": "1f2ce140",
   "metadata": {},
   "outputs": [],
   "source": []
  },
  {
   "cell_type": "code",
   "execution_count": null,
   "id": "4503386c",
   "metadata": {},
   "outputs": [],
   "source": []
  },
  {
   "cell_type": "code",
   "execution_count": null,
   "id": "6ffa9c9a",
   "metadata": {},
   "outputs": [],
   "source": []
  },
  {
   "cell_type": "code",
   "execution_count": null,
   "id": "fb8033db",
   "metadata": {},
   "outputs": [],
   "source": []
  },
  {
   "cell_type": "markdown",
   "id": "a9320b22",
   "metadata": {},
   "source": [
    "## مثال 5 : "
   ]
  },
  {
   "cell_type": "code",
   "execution_count": 35,
   "id": "fc61643d",
   "metadata": {},
   "outputs": [],
   "source": [
    "g = ['amir', 'dorsa', 'ayda', 'mohammad']"
   ]
  },
  {
   "cell_type": "code",
   "execution_count": 36,
   "id": "fb2e3247",
   "metadata": {},
   "outputs": [
    {
     "name": "stdout",
     "output_type": "stream",
     "text": [
      "amir\n"
     ]
    }
   ],
   "source": [
    "print(g[0])"
   ]
  },
  {
   "cell_type": "code",
   "execution_count": 37,
   "id": "c9b57801",
   "metadata": {},
   "outputs": [
    {
     "name": "stdout",
     "output_type": "stream",
     "text": [
      "dorsa\n"
     ]
    }
   ],
   "source": [
    "print(g[1])"
   ]
  },
  {
   "cell_type": "code",
   "execution_count": 38,
   "id": "f3f1030f",
   "metadata": {},
   "outputs": [
    {
     "name": "stdout",
     "output_type": "stream",
     "text": [
      "ayda\n"
     ]
    }
   ],
   "source": [
    "print(g[2])"
   ]
  },
  {
   "cell_type": "code",
   "execution_count": 39,
   "id": "08ae5cc8",
   "metadata": {},
   "outputs": [
    {
     "name": "stdout",
     "output_type": "stream",
     "text": [
      "mohammad\n"
     ]
    }
   ],
   "source": [
    "print(g[3])"
   ]
  },
  {
   "cell_type": "code",
   "execution_count": 40,
   "id": "90f08e20",
   "metadata": {},
   "outputs": [
    {
     "name": "stdout",
     "output_type": "stream",
     "text": [
      "['dorsa', 'ayda']\n"
     ]
    }
   ],
   "source": [
    "print(g[1:3])"
   ]
  },
  {
   "cell_type": "code",
   "execution_count": 41,
   "id": "3e74959e",
   "metadata": {},
   "outputs": [
    {
     "name": "stdout",
     "output_type": "stream",
     "text": [
      "['amir', 'dorsa']\n"
     ]
    }
   ],
   "source": [
    "print(g[:2])"
   ]
  },
  {
   "cell_type": "code",
   "execution_count": null,
   "id": "af43824e",
   "metadata": {},
   "outputs": [],
   "source": [
    "g = ['amir', 'dorsa', 'ayda', 'mohammad']"
   ]
  },
  {
   "cell_type": "code",
   "execution_count": 42,
   "id": "9a1cf402",
   "metadata": {},
   "outputs": [
    {
     "name": "stdout",
     "output_type": "stream",
     "text": [
      "['ayda', 'mohammad']\n"
     ]
    }
   ],
   "source": [
    "print(g[2:])"
   ]
  },
  {
   "cell_type": "code",
   "execution_count": 45,
   "id": "7c8d34cf",
   "metadata": {},
   "outputs": [
    {
     "name": "stdout",
     "output_type": "stream",
     "text": [
      "['dorsa', 'ayda']\n"
     ]
    }
   ],
   "source": [
    "print(g[1:-1])"
   ]
  },
  {
   "cell_type": "code",
   "execution_count": 48,
   "id": "e3b6cd6a",
   "metadata": {},
   "outputs": [
    {
     "name": "stdout",
     "output_type": "stream",
     "text": [
      "['mohammad', 'ayda', 'dorsa', 'amir']\n"
     ]
    }
   ],
   "source": [
    "print(g[::-1])"
   ]
  },
  {
   "cell_type": "code",
   "execution_count": 49,
   "id": "e7270793",
   "metadata": {},
   "outputs": [
    {
     "name": "stdout",
     "output_type": "stream",
     "text": [
      "['mohammad', 'dorsa']\n"
     ]
    }
   ],
   "source": [
    "print(g[::-2])"
   ]
  },
  {
   "cell_type": "code",
   "execution_count": 50,
   "id": "a4de7594",
   "metadata": {},
   "outputs": [
    {
     "name": "stdout",
     "output_type": "stream",
     "text": [
      "['mohammad', 'amir']\n"
     ]
    }
   ],
   "source": [
    "print(g[::-3])"
   ]
  },
  {
   "cell_type": "code",
   "execution_count": null,
   "id": "9b04cbd8",
   "metadata": {},
   "outputs": [],
   "source": []
  },
  {
   "cell_type": "code",
   "execution_count": 51,
   "id": "60245774",
   "metadata": {},
   "outputs": [
    {
     "data": {
      "text/plain": [
       "0"
      ]
     },
     "execution_count": 51,
     "metadata": {},
     "output_type": "execute_result"
    }
   ],
   "source": [
    "g.index('amir')"
   ]
  },
  {
   "cell_type": "code",
   "execution_count": 52,
   "id": "05850f30",
   "metadata": {},
   "outputs": [
    {
     "data": {
      "text/plain": [
       "2"
      ]
     },
     "execution_count": 52,
     "metadata": {},
     "output_type": "execute_result"
    }
   ],
   "source": [
    "g.index('ayda')"
   ]
  },
  {
   "cell_type": "code",
   "execution_count": null,
   "id": "0bcba980",
   "metadata": {},
   "outputs": [],
   "source": []
  },
  {
   "cell_type": "code",
   "execution_count": null,
   "id": "24bb3a16",
   "metadata": {},
   "outputs": [],
   "source": []
  },
  {
   "cell_type": "code",
   "execution_count": null,
   "id": "dd7c634e",
   "metadata": {},
   "outputs": [],
   "source": []
  },
  {
   "cell_type": "code",
   "execution_count": null,
   "id": "53256d13",
   "metadata": {},
   "outputs": [],
   "source": []
  },
  {
   "cell_type": "code",
   "execution_count": null,
   "id": "79556b74",
   "metadata": {},
   "outputs": [],
   "source": []
  },
  {
   "cell_type": "code",
   "execution_count": null,
   "id": "372cc8ba",
   "metadata": {},
   "outputs": [],
   "source": []
  },
  {
   "cell_type": "code",
   "execution_count": null,
   "id": "eaa381fd",
   "metadata": {},
   "outputs": [],
   "source": []
  },
  {
   "cell_type": "code",
   "execution_count": 53,
   "id": "14b6917b",
   "metadata": {},
   "outputs": [],
   "source": [
    "g = ['amir', 'dorsa', 'ayda', 'mohammad']"
   ]
  },
  {
   "cell_type": "code",
   "execution_count": 54,
   "id": "140b587d",
   "metadata": {},
   "outputs": [
    {
     "data": {
      "text/plain": [
       "['amir', 'dorsa', 'ayda', 'mohammad']"
      ]
     },
     "execution_count": 54,
     "metadata": {},
     "output_type": "execute_result"
    }
   ],
   "source": [
    "g"
   ]
  },
  {
   "cell_type": "code",
   "execution_count": 55,
   "id": "c1996516",
   "metadata": {},
   "outputs": [
    {
     "name": "stdout",
     "output_type": "stream",
     "text": [
      "hello,  amir\n",
      "hello,  dorsa\n",
      "hello,  ayda\n",
      "hello,  mohammad\n"
     ]
    }
   ],
   "source": [
    "for i in g:\n",
    "    print('hello, ', i)"
   ]
  },
  {
   "cell_type": "code",
   "execution_count": null,
   "id": "2e65debd",
   "metadata": {},
   "outputs": [],
   "source": []
  },
  {
   "cell_type": "code",
   "execution_count": null,
   "id": "6a9a776b",
   "metadata": {},
   "outputs": [],
   "source": []
  },
  {
   "cell_type": "code",
   "execution_count": null,
   "id": "e8736d48",
   "metadata": {},
   "outputs": [],
   "source": []
  },
  {
   "cell_type": "code",
   "execution_count": null,
   "id": "59721f6c",
   "metadata": {},
   "outputs": [],
   "source": []
  },
  {
   "cell_type": "code",
   "execution_count": null,
   "id": "15d23b63",
   "metadata": {},
   "outputs": [],
   "source": []
  },
  {
   "cell_type": "code",
   "execution_count": null,
   "id": "471ee710",
   "metadata": {},
   "outputs": [],
   "source": []
  },
  {
   "cell_type": "code",
   "execution_count": null,
   "id": "f7a26870",
   "metadata": {},
   "outputs": [],
   "source": []
  },
  {
   "cell_type": "code",
   "execution_count": null,
   "id": "72945d44",
   "metadata": {},
   "outputs": [],
   "source": []
  },
  {
   "cell_type": "code",
   "execution_count": null,
   "id": "064804dc",
   "metadata": {},
   "outputs": [],
   "source": []
  },
  {
   "cell_type": "code",
   "execution_count": null,
   "id": "fc5b7241",
   "metadata": {},
   "outputs": [],
   "source": []
  },
  {
   "cell_type": "code",
   "execution_count": null,
   "id": "892b744d",
   "metadata": {},
   "outputs": [],
   "source": []
  },
  {
   "cell_type": "code",
   "execution_count": null,
   "id": "6416f3d3",
   "metadata": {},
   "outputs": [],
   "source": [
    "g = ['amir', 'dorsa', 'ayda', 'mohammad']"
   ]
  },
  {
   "cell_type": "code",
   "execution_count": 58,
   "id": "0c6e278a",
   "metadata": {},
   "outputs": [
    {
     "name": "stdout",
     "output_type": "stream",
     "text": [
      "amir\n",
      "<class 'str'>\n",
      "dorsa\n",
      "<class 'str'>\n"
     ]
    }
   ],
   "source": [
    "for i in range(0,2):\n",
    "    print(g[i])\n",
    "    print(type(g[i]))"
   ]
  },
  {
   "cell_type": "code",
   "execution_count": 60,
   "id": "7fda4ce8",
   "metadata": {},
   "outputs": [
    {
     "name": "stdout",
     "output_type": "stream",
     "text": [
      "['amir', 'dorsa']\n"
     ]
    },
    {
     "data": {
      "text/plain": [
       "list"
      ]
     },
     "execution_count": 60,
     "metadata": {},
     "output_type": "execute_result"
    }
   ],
   "source": [
    "l = g[0:2]\n",
    "print(l)\n",
    "type(l)"
   ]
  },
  {
   "cell_type": "code",
   "execution_count": null,
   "id": "935a6e00",
   "metadata": {},
   "outputs": [],
   "source": []
  },
  {
   "cell_type": "code",
   "execution_count": null,
   "id": "3978a8a6",
   "metadata": {},
   "outputs": [],
   "source": []
  },
  {
   "cell_type": "code",
   "execution_count": null,
   "id": "100d3919",
   "metadata": {},
   "outputs": [],
   "source": []
  },
  {
   "cell_type": "code",
   "execution_count": null,
   "id": "53754fba",
   "metadata": {},
   "outputs": [],
   "source": []
  },
  {
   "cell_type": "code",
   "execution_count": 61,
   "id": "bfffe431",
   "metadata": {},
   "outputs": [],
   "source": [
    "g[1] = 'omid'"
   ]
  },
  {
   "cell_type": "code",
   "execution_count": 62,
   "id": "bd692109",
   "metadata": {},
   "outputs": [
    {
     "data": {
      "text/plain": [
       "['amir', 'omid', 'ayda', 'mohammad']"
      ]
     },
     "execution_count": 62,
     "metadata": {},
     "output_type": "execute_result"
    }
   ],
   "source": [
    "g"
   ]
  },
  {
   "cell_type": "code",
   "execution_count": null,
   "id": "9417b7d3",
   "metadata": {},
   "outputs": [],
   "source": []
  },
  {
   "cell_type": "code",
   "execution_count": null,
   "id": "9c2ad988",
   "metadata": {},
   "outputs": [],
   "source": []
  },
  {
   "cell_type": "markdown",
   "id": "1ddeaab3",
   "metadata": {},
   "source": [
    "## تمرین 1 امتیازی : "
   ]
  },
  {
   "cell_type": "markdown",
   "id": "75155ef7",
   "metadata": {},
   "source": [
    "## تابعی بنویسید که یک لیست را دریافت کرده و جای اولین و آخرین عضو آن لیست را عوض نماید "
   ]
  },
  {
   "cell_type": "code",
   "execution_count": null,
   "id": "e21f2d26",
   "metadata": {},
   "outputs": [],
   "source": [
    "g = ['amir', 'dorsa', 'ayda', 'mohammad']"
   ]
  },
  {
   "cell_type": "code",
   "execution_count": null,
   "id": "7ad4e365",
   "metadata": {},
   "outputs": [],
   "source": [
    "['mohammad', 'dorsa', 'ayda', 'amir']"
   ]
  },
  {
   "cell_type": "code",
   "execution_count": null,
   "id": "33941bed",
   "metadata": {},
   "outputs": [],
   "source": []
  },
  {
   "cell_type": "code",
   "execution_count": null,
   "id": "522d0abd",
   "metadata": {},
   "outputs": [],
   "source": []
  },
  {
   "cell_type": "code",
   "execution_count": null,
   "id": "cc4a9173",
   "metadata": {},
   "outputs": [],
   "source": []
  },
  {
   "cell_type": "code",
   "execution_count": null,
   "id": "72b96328",
   "metadata": {},
   "outputs": [],
   "source": []
  },
  {
   "cell_type": "code",
   "execution_count": 63,
   "id": "c9094f07",
   "metadata": {},
   "outputs": [],
   "source": [
    "def edit_list(my_list):\n",
    "    for i in range(len(my_list)):\n",
    "        if i == 0:\n",
    "            temp = my_list[0]\n",
    "            my_list[0] = my_list[-1]\n",
    "            my_list[-1] = temp\n",
    "    return(my_list) "
   ]
  },
  {
   "cell_type": "code",
   "execution_count": 64,
   "id": "690b0229",
   "metadata": {},
   "outputs": [
    {
     "data": {
      "text/plain": [
       "['mohammad', 'omid', 'ayda', 'amir']"
      ]
     },
     "execution_count": 64,
     "metadata": {},
     "output_type": "execute_result"
    }
   ],
   "source": [
    "edit_list(g)"
   ]
  },
  {
   "cell_type": "code",
   "execution_count": null,
   "id": "7820d787",
   "metadata": {},
   "outputs": [],
   "source": []
  },
  {
   "cell_type": "code",
   "execution_count": null,
   "id": "84f864b2",
   "metadata": {},
   "outputs": [],
   "source": []
  },
  {
   "cell_type": "code",
   "execution_count": null,
   "id": "f63910dc",
   "metadata": {},
   "outputs": [],
   "source": []
  },
  {
   "cell_type": "code",
   "execution_count": null,
   "id": "09da5470",
   "metadata": {},
   "outputs": [],
   "source": []
  },
  {
   "cell_type": "code",
   "execution_count": null,
   "id": "cead6f21",
   "metadata": {},
   "outputs": [],
   "source": []
  },
  {
   "cell_type": "code",
   "execution_count": null,
   "id": "f9457a74",
   "metadata": {},
   "outputs": [],
   "source": []
  },
  {
   "cell_type": "code",
   "execution_count": null,
   "id": "06fb5f34",
   "metadata": {},
   "outputs": [],
   "source": []
  },
  {
   "cell_type": "markdown",
   "id": "e326527a",
   "metadata": {},
   "source": [
    "## مثال 6 : "
   ]
  },
  {
   "cell_type": "code",
   "execution_count": 65,
   "id": "e87ef866",
   "metadata": {},
   "outputs": [],
   "source": [
    "h = [1, 2, 3, 4]"
   ]
  },
  {
   "cell_type": "code",
   "execution_count": 66,
   "id": "ee6fac43",
   "metadata": {},
   "outputs": [],
   "source": [
    "k = h * 2"
   ]
  },
  {
   "cell_type": "code",
   "execution_count": 67,
   "id": "6185ec4e",
   "metadata": {},
   "outputs": [
    {
     "data": {
      "text/plain": [
       "[1, 2, 3, 4, 1, 2, 3, 4]"
      ]
     },
     "execution_count": 67,
     "metadata": {},
     "output_type": "execute_result"
    }
   ],
   "source": [
    "k"
   ]
  },
  {
   "cell_type": "code",
   "execution_count": 68,
   "id": "f98236de",
   "metadata": {},
   "outputs": [
    {
     "data": {
      "text/plain": [
       "list"
      ]
     },
     "execution_count": 68,
     "metadata": {},
     "output_type": "execute_result"
    }
   ],
   "source": [
    "type(k)"
   ]
  },
  {
   "cell_type": "code",
   "execution_count": 69,
   "id": "427bbac5",
   "metadata": {},
   "outputs": [
    {
     "data": {
      "text/plain": [
       "list"
      ]
     },
     "execution_count": 69,
     "metadata": {},
     "output_type": "execute_result"
    }
   ],
   "source": [
    "type(h)"
   ]
  },
  {
   "cell_type": "code",
   "execution_count": 70,
   "id": "9b5e1e3f",
   "metadata": {},
   "outputs": [],
   "source": [
    "l = h + k"
   ]
  },
  {
   "cell_type": "code",
   "execution_count": 71,
   "id": "fb08cce5",
   "metadata": {},
   "outputs": [
    {
     "data": {
      "text/plain": [
       "[1, 2, 3, 4, 1, 2, 3, 4, 1, 2, 3, 4]"
      ]
     },
     "execution_count": 71,
     "metadata": {},
     "output_type": "execute_result"
    }
   ],
   "source": [
    "l"
   ]
  },
  {
   "cell_type": "code",
   "execution_count": null,
   "id": "5419a632",
   "metadata": {},
   "outputs": [],
   "source": []
  },
  {
   "cell_type": "code",
   "execution_count": null,
   "id": "79df96bb",
   "metadata": {},
   "outputs": [],
   "source": []
  },
  {
   "cell_type": "code",
   "execution_count": 73,
   "id": "ae18b58b",
   "metadata": {},
   "outputs": [
    {
     "data": {
      "text/plain": [
       "False"
      ]
     },
     "execution_count": 73,
     "metadata": {},
     "output_type": "execute_result"
    }
   ],
   "source": [
    "5 in h"
   ]
  },
  {
   "cell_type": "code",
   "execution_count": null,
   "id": "2a8f3556",
   "metadata": {},
   "outputs": [],
   "source": []
  },
  {
   "cell_type": "code",
   "execution_count": null,
   "id": "beed0b77",
   "metadata": {},
   "outputs": [],
   "source": []
  },
  {
   "cell_type": "code",
   "execution_count": null,
   "id": "285a98bb",
   "metadata": {},
   "outputs": [],
   "source": []
  },
  {
   "cell_type": "code",
   "execution_count": null,
   "id": "f0bc146f",
   "metadata": {},
   "outputs": [],
   "source": []
  },
  {
   "cell_type": "code",
   "execution_count": 74,
   "id": "bb1cb351",
   "metadata": {},
   "outputs": [
    {
     "name": "stdout",
     "output_type": "stream",
     "text": [
      "True\n"
     ]
    }
   ],
   "source": [
    "print( 6 not in k)"
   ]
  },
  {
   "cell_type": "code",
   "execution_count": null,
   "id": "f8d48010",
   "metadata": {},
   "outputs": [],
   "source": []
  },
  {
   "cell_type": "code",
   "execution_count": null,
   "id": "01667290",
   "metadata": {},
   "outputs": [],
   "source": []
  },
  {
   "cell_type": "code",
   "execution_count": null,
   "id": "5e24de07",
   "metadata": {},
   "outputs": [],
   "source": []
  },
  {
   "cell_type": "code",
   "execution_count": null,
   "id": "d1a7cc73",
   "metadata": {},
   "outputs": [],
   "source": []
  },
  {
   "cell_type": "code",
   "execution_count": null,
   "id": "29c06cf7",
   "metadata": {},
   "outputs": [],
   "source": []
  },
  {
   "cell_type": "code",
   "execution_count": null,
   "id": "927011af",
   "metadata": {},
   "outputs": [],
   "source": []
  },
  {
   "cell_type": "markdown",
   "id": "e546f8c2",
   "metadata": {},
   "source": [
    "## تمرین 2 امتیازی  : "
   ]
  },
  {
   "cell_type": "code",
   "execution_count": 75,
   "id": "97cda8de",
   "metadata": {},
   "outputs": [
    {
     "name": "stdout",
     "output_type": "stream",
     "text": [
      "20\n"
     ]
    }
   ],
   "source": [
    "a = [10 , -1 , 5 , 20 , -11 , 15]\n",
    "b = 0\n",
    "\n",
    "for i in a:\n",
    "    if i > b:\n",
    "        b = i\n",
    "\n",
    "print(b)"
   ]
  },
  {
   "cell_type": "code",
   "execution_count": null,
   "id": "99e0fa35",
   "metadata": {},
   "outputs": [],
   "source": []
  },
  {
   "cell_type": "code",
   "execution_count": null,
   "id": "16b6793a",
   "metadata": {},
   "outputs": [],
   "source": []
  },
  {
   "cell_type": "markdown",
   "id": "8b4ce242",
   "metadata": {},
   "source": [
    "## مثال 7 : "
   ]
  },
  {
   "cell_type": "code",
   "execution_count": 76,
   "id": "e8b2c0e6",
   "metadata": {},
   "outputs": [
    {
     "data": {
      "text/plain": [
       "20"
      ]
     },
     "execution_count": 76,
     "metadata": {},
     "output_type": "execute_result"
    }
   ],
   "source": [
    "max(a)"
   ]
  },
  {
   "cell_type": "code",
   "execution_count": null,
   "id": "30dc99cb",
   "metadata": {},
   "outputs": [],
   "source": []
  },
  {
   "cell_type": "code",
   "execution_count": null,
   "id": "2ed10d09",
   "metadata": {},
   "outputs": [],
   "source": []
  },
  {
   "cell_type": "code",
   "execution_count": null,
   "id": "80f5e06a",
   "metadata": {},
   "outputs": [],
   "source": []
  },
  {
   "cell_type": "code",
   "execution_count": null,
   "id": "8a3e8cec",
   "metadata": {},
   "outputs": [],
   "source": [
    "a = [10 , -1 , 5 , 20 , -11 , 15]"
   ]
  },
  {
   "cell_type": "code",
   "execution_count": 77,
   "id": "cd393d3a",
   "metadata": {},
   "outputs": [
    {
     "data": {
      "text/plain": [
       "-11"
      ]
     },
     "execution_count": 77,
     "metadata": {},
     "output_type": "execute_result"
    }
   ],
   "source": [
    "min(a)"
   ]
  },
  {
   "cell_type": "code",
   "execution_count": null,
   "id": "4b7b0303",
   "metadata": {},
   "outputs": [],
   "source": []
  },
  {
   "cell_type": "code",
   "execution_count": null,
   "id": "a213bfe6",
   "metadata": {},
   "outputs": [],
   "source": []
  },
  {
   "cell_type": "code",
   "execution_count": null,
   "id": "d67a5a16",
   "metadata": {},
   "outputs": [],
   "source": []
  },
  {
   "cell_type": "code",
   "execution_count": null,
   "id": "2e82d8f9",
   "metadata": {},
   "outputs": [],
   "source": [
    "for i in a:\n",
    "    if i > b:\n",
    "        b = i\n",
    "\n",
    "print(b)"
   ]
  },
  {
   "cell_type": "code",
   "execution_count": 78,
   "id": "140e7b91",
   "metadata": {},
   "outputs": [
    {
     "data": {
      "text/plain": [
       "-11"
      ]
     },
     "execution_count": 78,
     "metadata": {},
     "output_type": "execute_result"
    }
   ],
   "source": [
    "min(a)"
   ]
  },
  {
   "cell_type": "markdown",
   "id": "43247bc2",
   "metadata": {},
   "source": [
    "## تمرین 3 امتیازی : "
   ]
  },
  {
   "cell_type": "markdown",
   "id": "435b2b2b",
   "metadata": {},
   "source": [
    "## تابعی بنویسید که لیست زیر را دریافت کرده و مقدار کمینه را نمایش دهد "
   ]
  },
  {
   "cell_type": "code",
   "execution_count": 79,
   "id": "62e0605e",
   "metadata": {},
   "outputs": [],
   "source": [
    "a = [10 , -1 , 5 , 20 , -11 , 15]"
   ]
  },
  {
   "cell_type": "code",
   "execution_count": null,
   "id": "289780e6",
   "metadata": {},
   "outputs": [],
   "source": []
  },
  {
   "cell_type": "code",
   "execution_count": null,
   "id": "0cf1f95c",
   "metadata": {},
   "outputs": [],
   "source": []
  },
  {
   "cell_type": "code",
   "execution_count": null,
   "id": "acc200b7",
   "metadata": {},
   "outputs": [],
   "source": []
  },
  {
   "cell_type": "code",
   "execution_count": null,
   "id": "d8479815",
   "metadata": {},
   "outputs": [],
   "source": []
  },
  {
   "cell_type": "code",
   "execution_count": null,
   "id": "193e2e9a",
   "metadata": {},
   "outputs": [],
   "source": []
  },
  {
   "cell_type": "code",
   "execution_count": 86,
   "id": "b09d4279",
   "metadata": {},
   "outputs": [],
   "source": [
    "def my_min(my_list):\n",
    "    temp = 0\n",
    "    \n",
    "    for i in my_list:\n",
    "        if i < temp:\n",
    "            temp = i\n",
    "    \n",
    "    return(temp)"
   ]
  },
  {
   "cell_type": "code",
   "execution_count": 81,
   "id": "f9ec4e9e",
   "metadata": {},
   "outputs": [],
   "source": [
    "a = [10 , -1 , 5 , 20 , -11 , 15]"
   ]
  },
  {
   "cell_type": "code",
   "execution_count": 87,
   "id": "c5940550",
   "metadata": {},
   "outputs": [
    {
     "data": {
      "text/plain": [
       "-11"
      ]
     },
     "execution_count": 87,
     "metadata": {},
     "output_type": "execute_result"
    }
   ],
   "source": [
    "my_min(a)"
   ]
  },
  {
   "cell_type": "code",
   "execution_count": 88,
   "id": "f9c51c3b",
   "metadata": {},
   "outputs": [
    {
     "data": {
      "text/plain": [
       "-11"
      ]
     },
     "execution_count": 88,
     "metadata": {},
     "output_type": "execute_result"
    }
   ],
   "source": [
    "min(a)"
   ]
  },
  {
   "cell_type": "code",
   "execution_count": null,
   "id": "025697d5",
   "metadata": {},
   "outputs": [],
   "source": []
  },
  {
   "cell_type": "markdown",
   "id": "ec7d9c30",
   "metadata": {},
   "source": [
    "## مثال 8 : "
   ]
  },
  {
   "cell_type": "code",
   "execution_count": 89,
   "id": "666f5ea1",
   "metadata": {},
   "outputs": [],
   "source": [
    "a = [1, 2, 3]"
   ]
  },
  {
   "cell_type": "code",
   "execution_count": 90,
   "id": "10da0035",
   "metadata": {},
   "outputs": [
    {
     "data": {
      "text/plain": [
       "6"
      ]
     },
     "execution_count": 90,
     "metadata": {},
     "output_type": "execute_result"
    }
   ],
   "source": [
    "sum(a)"
   ]
  },
  {
   "cell_type": "code",
   "execution_count": null,
   "id": "32f70cc6",
   "metadata": {},
   "outputs": [],
   "source": []
  },
  {
   "cell_type": "code",
   "execution_count": null,
   "id": "113582b6",
   "metadata": {},
   "outputs": [],
   "source": []
  },
  {
   "cell_type": "markdown",
   "id": "769c0d12",
   "metadata": {},
   "source": [
    "## تمرین 4 امتیازی : "
   ]
  },
  {
   "cell_type": "markdown",
   "id": "1244e909",
   "metadata": {},
   "source": [
    "## تابع جمع را پیاده سازی نمایید "
   ]
  },
  {
   "cell_type": "code",
   "execution_count": null,
   "id": "98f8a081",
   "metadata": {},
   "outputs": [],
   "source": []
  },
  {
   "cell_type": "code",
   "execution_count": null,
   "id": "fd1f4970",
   "metadata": {},
   "outputs": [],
   "source": []
  },
  {
   "cell_type": "code",
   "execution_count": null,
   "id": "fc6f0338",
   "metadata": {},
   "outputs": [],
   "source": []
  },
  {
   "cell_type": "code",
   "execution_count": null,
   "id": "06422201",
   "metadata": {},
   "outputs": [],
   "source": []
  },
  {
   "cell_type": "code",
   "execution_count": 91,
   "id": "900d0f25",
   "metadata": {},
   "outputs": [],
   "source": [
    "a = [1, 2, 3]"
   ]
  },
  {
   "cell_type": "code",
   "execution_count": 92,
   "id": "da33e806",
   "metadata": {},
   "outputs": [],
   "source": [
    "def my_sum(my_list):\n",
    "    temp = 0\n",
    "    \n",
    "    for i in my_list:\n",
    "        temp = temp + i\n",
    "    \n",
    "    return(temp)"
   ]
  },
  {
   "cell_type": "code",
   "execution_count": 93,
   "id": "b5a5a5ee",
   "metadata": {},
   "outputs": [
    {
     "data": {
      "text/plain": [
       "6"
      ]
     },
     "execution_count": 93,
     "metadata": {},
     "output_type": "execute_result"
    }
   ],
   "source": [
    "my_sum(a)"
   ]
  },
  {
   "cell_type": "code",
   "execution_count": 94,
   "id": "979d0546",
   "metadata": {},
   "outputs": [
    {
     "data": {
      "text/plain": [
       "6"
      ]
     },
     "execution_count": 94,
     "metadata": {},
     "output_type": "execute_result"
    }
   ],
   "source": [
    "sum(a)"
   ]
  },
  {
   "cell_type": "code",
   "execution_count": null,
   "id": "ed9dfe22",
   "metadata": {},
   "outputs": [],
   "source": []
  },
  {
   "cell_type": "code",
   "execution_count": null,
   "id": "2539aea5",
   "metadata": {},
   "outputs": [],
   "source": []
  },
  {
   "cell_type": "code",
   "execution_count": null,
   "id": "a945ab52",
   "metadata": {},
   "outputs": [],
   "source": []
  },
  {
   "cell_type": "code",
   "execution_count": null,
   "id": "45e265b1",
   "metadata": {},
   "outputs": [],
   "source": []
  },
  {
   "cell_type": "code",
   "execution_count": null,
   "id": "6a17b1da",
   "metadata": {},
   "outputs": [],
   "source": []
  },
  {
   "cell_type": "code",
   "execution_count": null,
   "id": "139da4c6",
   "metadata": {},
   "outputs": [],
   "source": []
  },
  {
   "cell_type": "code",
   "execution_count": null,
   "id": "5e128290",
   "metadata": {},
   "outputs": [],
   "source": []
  },
  {
   "cell_type": "code",
   "execution_count": null,
   "id": "cbc2a598",
   "metadata": {},
   "outputs": [],
   "source": []
  },
  {
   "cell_type": "code",
   "execution_count": null,
   "id": "ccd5027e",
   "metadata": {},
   "outputs": [],
   "source": []
  },
  {
   "cell_type": "markdown",
   "id": "152ae8fe",
   "metadata": {},
   "source": [
    "## مثال 9 : "
   ]
  },
  {
   "cell_type": "code",
   "execution_count": 95,
   "id": "0546b983",
   "metadata": {},
   "outputs": [],
   "source": [
    "a = ['انگور', 'سیب', 'موز', 'انگور', 'پرتغال']"
   ]
  },
  {
   "cell_type": "code",
   "execution_count": 96,
   "id": "e2ab5c81",
   "metadata": {},
   "outputs": [
    {
     "data": {
      "text/plain": [
       "2"
      ]
     },
     "execution_count": 96,
     "metadata": {},
     "output_type": "execute_result"
    }
   ],
   "source": [
    "a.count('انگور')"
   ]
  },
  {
   "cell_type": "code",
   "execution_count": 97,
   "id": "e8da7904",
   "metadata": {},
   "outputs": [
    {
     "data": {
      "text/plain": [
       "1"
      ]
     },
     "execution_count": 97,
     "metadata": {},
     "output_type": "execute_result"
    }
   ],
   "source": [
    "a.count('سیب')"
   ]
  },
  {
   "cell_type": "code",
   "execution_count": 98,
   "id": "44cea08c",
   "metadata": {},
   "outputs": [
    {
     "data": {
      "text/plain": [
       "0"
      ]
     },
     "execution_count": 98,
     "metadata": {},
     "output_type": "execute_result"
    }
   ],
   "source": [
    "a.count('گلابی')"
   ]
  },
  {
   "cell_type": "code",
   "execution_count": null,
   "id": "95923984",
   "metadata": {},
   "outputs": [],
   "source": []
  },
  {
   "cell_type": "code",
   "execution_count": null,
   "id": "6325fe01",
   "metadata": {},
   "outputs": [],
   "source": []
  },
  {
   "cell_type": "code",
   "execution_count": null,
   "id": "b2f765c3",
   "metadata": {},
   "outputs": [],
   "source": []
  },
  {
   "cell_type": "code",
   "execution_count": null,
   "id": "80341084",
   "metadata": {},
   "outputs": [],
   "source": []
  },
  {
   "cell_type": "code",
   "execution_count": null,
   "id": "7673b137",
   "metadata": {},
   "outputs": [],
   "source": []
  },
  {
   "cell_type": "markdown",
   "id": "653f7944",
   "metadata": {},
   "source": [
    "## تمرین 4 امتیازی : "
   ]
  },
  {
   "cell_type": "markdown",
   "id": "ddfcbd44",
   "metadata": {},
   "source": [
    "## پیاده سازی کنید count تابع "
   ]
  },
  {
   "cell_type": "code",
   "execution_count": 6,
   "id": "e269c87f",
   "metadata": {},
   "outputs": [],
   "source": [
    "a = ['انگور', 'سیب', 'موز', 'انگور', 'پرتغال']"
   ]
  },
  {
   "cell_type": "code",
   "execution_count": null,
   "id": "a1a210fd",
   "metadata": {},
   "outputs": [],
   "source": []
  },
  {
   "cell_type": "code",
   "execution_count": 8,
   "id": "d7418211",
   "metadata": {},
   "outputs": [
    {
     "data": {
      "text/plain": [
       "2"
      ]
     },
     "execution_count": 8,
     "metadata": {},
     "output_type": "execute_result"
    }
   ],
   "source": [
    "my_count('انگور')"
   ]
  },
  {
   "cell_type": "code",
   "execution_count": 9,
   "id": "5329725d",
   "metadata": {},
   "outputs": [
    {
     "data": {
      "text/plain": [
       "1"
      ]
     },
     "execution_count": 9,
     "metadata": {},
     "output_type": "execute_result"
    }
   ],
   "source": [
    "my_count('سیب')"
   ]
  },
  {
   "cell_type": "code",
   "execution_count": 10,
   "id": "3c05bc03",
   "metadata": {},
   "outputs": [
    {
     "data": {
      "text/plain": [
       "0"
      ]
     },
     "execution_count": 10,
     "metadata": {},
     "output_type": "execute_result"
    }
   ],
   "source": [
    "my_count('گلابی')"
   ]
  },
  {
   "cell_type": "code",
   "execution_count": null,
   "id": "466abc11",
   "metadata": {},
   "outputs": [],
   "source": []
  },
  {
   "cell_type": "code",
   "execution_count": null,
   "id": "164e7d2f",
   "metadata": {},
   "outputs": [],
   "source": []
  },
  {
   "cell_type": "code",
   "execution_count": null,
   "id": "0b8a1c01",
   "metadata": {},
   "outputs": [],
   "source": []
  },
  {
   "cell_type": "code",
   "execution_count": 99,
   "id": "455c52c1",
   "metadata": {},
   "outputs": [],
   "source": [
    "a = ['انگور', 'سیب', 'موز', 'انگور', 'پرتغال']"
   ]
  },
  {
   "cell_type": "code",
   "execution_count": null,
   "id": "7696f77f",
   "metadata": {},
   "outputs": [],
   "source": [
    "example = 'انگور'"
   ]
  },
  {
   "cell_type": "code",
   "execution_count": 100,
   "id": "6b4d2306",
   "metadata": {},
   "outputs": [],
   "source": [
    "def my_count(example):\n",
    "    num = 0\n",
    "    for i in a:\n",
    "        if i == example:\n",
    "            num = num + 1\n",
    "    return(num)"
   ]
  },
  {
   "cell_type": "code",
   "execution_count": 101,
   "id": "a23265d5",
   "metadata": {},
   "outputs": [
    {
     "data": {
      "text/plain": [
       "2"
      ]
     },
     "execution_count": 101,
     "metadata": {},
     "output_type": "execute_result"
    }
   ],
   "source": [
    "my_count('انگور')"
   ]
  },
  {
   "cell_type": "code",
   "execution_count": 103,
   "id": "5d42e2d9",
   "metadata": {},
   "outputs": [
    {
     "data": {
      "text/plain": [
       "2"
      ]
     },
     "execution_count": 103,
     "metadata": {},
     "output_type": "execute_result"
    }
   ],
   "source": [
    "a.count('انگور')"
   ]
  },
  {
   "cell_type": "code",
   "execution_count": null,
   "id": "f2bb42cb",
   "metadata": {},
   "outputs": [],
   "source": []
  },
  {
   "cell_type": "code",
   "execution_count": null,
   "id": "d7ea554c",
   "metadata": {},
   "outputs": [],
   "source": []
  },
  {
   "cell_type": "code",
   "execution_count": null,
   "id": "589fa566",
   "metadata": {},
   "outputs": [],
   "source": []
  },
  {
   "cell_type": "markdown",
   "id": "f4343647",
   "metadata": {},
   "source": [
    "## مثال 10 : "
   ]
  },
  {
   "cell_type": "code",
   "execution_count": 104,
   "id": "7fbc2f41",
   "metadata": {},
   "outputs": [],
   "source": [
    "b = [2, 14, 6 , 16 , 3]"
   ]
  },
  {
   "cell_type": "code",
   "execution_count": 105,
   "id": "a014229b",
   "metadata": {},
   "outputs": [],
   "source": [
    "b.insert(2, 10)"
   ]
  },
  {
   "cell_type": "code",
   "execution_count": 106,
   "id": "ab13ccd7",
   "metadata": {},
   "outputs": [
    {
     "name": "stdout",
     "output_type": "stream",
     "text": [
      "[2, 14, 10, 6, 16, 3]\n"
     ]
    }
   ],
   "source": [
    "print(b)"
   ]
  },
  {
   "cell_type": "code",
   "execution_count": 107,
   "id": "7a366d81",
   "metadata": {},
   "outputs": [],
   "source": [
    "b.remove(10)"
   ]
  },
  {
   "cell_type": "code",
   "execution_count": 108,
   "id": "13e944fb",
   "metadata": {},
   "outputs": [
    {
     "name": "stdout",
     "output_type": "stream",
     "text": [
      "[2, 14, 6, 16, 3]\n"
     ]
    }
   ],
   "source": [
    "print(b)"
   ]
  },
  {
   "cell_type": "code",
   "execution_count": 109,
   "id": "2ed653a5",
   "metadata": {},
   "outputs": [],
   "source": [
    "b.sort()"
   ]
  },
  {
   "cell_type": "code",
   "execution_count": 110,
   "id": "95155b2a",
   "metadata": {},
   "outputs": [
    {
     "name": "stdout",
     "output_type": "stream",
     "text": [
      "[2, 3, 6, 14, 16]\n"
     ]
    }
   ],
   "source": [
    "print(b)"
   ]
  },
  {
   "cell_type": "code",
   "execution_count": 111,
   "id": "b2f6923d",
   "metadata": {},
   "outputs": [],
   "source": [
    "del b[2]"
   ]
  },
  {
   "cell_type": "code",
   "execution_count": 112,
   "id": "987b6086",
   "metadata": {},
   "outputs": [
    {
     "name": "stdout",
     "output_type": "stream",
     "text": [
      "[2, 3, 14, 16]\n"
     ]
    }
   ],
   "source": [
    "print(b)"
   ]
  },
  {
   "cell_type": "code",
   "execution_count": null,
   "id": "e1d8fbed",
   "metadata": {},
   "outputs": [],
   "source": []
  },
  {
   "cell_type": "code",
   "execution_count": null,
   "id": "a6d105e0",
   "metadata": {},
   "outputs": [],
   "source": []
  },
  {
   "cell_type": "code",
   "execution_count": null,
   "id": "d5de4e93",
   "metadata": {},
   "outputs": [],
   "source": []
  },
  {
   "cell_type": "code",
   "execution_count": null,
   "id": "a813dfb8",
   "metadata": {},
   "outputs": [],
   "source": []
  },
  {
   "cell_type": "markdown",
   "id": "b6bdcd6b",
   "metadata": {},
   "source": [
    "## تمرین 5 امتیازی: "
   ]
  },
  {
   "cell_type": "markdown",
   "id": "cde13de5",
   "metadata": {},
   "source": [
    "## پیاده سازی کنید remove تابع "
   ]
  },
  {
   "cell_type": "code",
   "execution_count": null,
   "id": "c8965064",
   "metadata": {},
   "outputs": [],
   "source": [
    "a = [2, 14, 6 , 16 , 3]"
   ]
  },
  {
   "cell_type": "markdown",
   "id": "f6aa3dd7",
   "metadata": {},
   "source": [
    "## تابعی پیاده سازی کنید که لیست بالا را دریافت کرده و عدد مورد نظر کاربر را حذف نماید: "
   ]
  },
  {
   "cell_type": "code",
   "execution_count": 113,
   "id": "0034c04e",
   "metadata": {},
   "outputs": [],
   "source": [
    "a = [2, 14, 6 , 16 , 3]"
   ]
  },
  {
   "cell_type": "code",
   "execution_count": 116,
   "id": "e4df70d1",
   "metadata": {},
   "outputs": [
    {
     "data": {
      "text/plain": [
       "[2, 6, 16, 3]"
      ]
     },
     "execution_count": 116,
     "metadata": {},
     "output_type": "execute_result"
    }
   ],
   "source": [
    "my_remove(14,a)"
   ]
  },
  {
   "cell_type": "code",
   "execution_count": null,
   "id": "baf7757a",
   "metadata": {},
   "outputs": [],
   "source": []
  },
  {
   "cell_type": "code",
   "execution_count": null,
   "id": "f3974901",
   "metadata": {},
   "outputs": [],
   "source": []
  },
  {
   "cell_type": "code",
   "execution_count": null,
   "id": "68d5911e",
   "metadata": {},
   "outputs": [],
   "source": []
  },
  {
   "cell_type": "code",
   "execution_count": null,
   "id": "779b684b",
   "metadata": {},
   "outputs": [],
   "source": []
  },
  {
   "cell_type": "code",
   "execution_count": null,
   "id": "3dbbda82",
   "metadata": {},
   "outputs": [],
   "source": []
  },
  {
   "cell_type": "code",
   "execution_count": 115,
   "id": "648f6e53",
   "metadata": {},
   "outputs": [],
   "source": [
    "def my_remove(a,b):\n",
    "    for i in b:\n",
    "        if i == a:\n",
    "            del b[b.index(a)]\n",
    "    return(b)"
   ]
  },
  {
   "cell_type": "code",
   "execution_count": null,
   "id": "7900e48b",
   "metadata": {},
   "outputs": [],
   "source": []
  },
  {
   "cell_type": "code",
   "execution_count": null,
   "id": "763f6614",
   "metadata": {},
   "outputs": [],
   "source": []
  },
  {
   "cell_type": "code",
   "execution_count": null,
   "id": "54afb224",
   "metadata": {},
   "outputs": [],
   "source": []
  },
  {
   "cell_type": "markdown",
   "id": "b282dd78",
   "metadata": {},
   "source": [
    "## مثال 11 :"
   ]
  },
  {
   "cell_type": "code",
   "execution_count": 1,
   "id": "cdee7730",
   "metadata": {},
   "outputs": [],
   "source": [
    "a = [1, 2, 3]\n",
    "b = [4, 5, 6]"
   ]
  },
  {
   "cell_type": "code",
   "execution_count": 2,
   "id": "e0248a97",
   "metadata": {},
   "outputs": [],
   "source": [
    "a.extend(b)"
   ]
  },
  {
   "cell_type": "code",
   "execution_count": 3,
   "id": "f27dbc41",
   "metadata": {},
   "outputs": [
    {
     "name": "stdout",
     "output_type": "stream",
     "text": [
      "6\n",
      "[1, 2, 3, 4, 5, 6]\n"
     ]
    }
   ],
   "source": [
    "print(len(a))\n",
    "print(a)"
   ]
  },
  {
   "cell_type": "code",
   "execution_count": null,
   "id": "63cb3383",
   "metadata": {},
   "outputs": [],
   "source": []
  },
  {
   "cell_type": "code",
   "execution_count": 4,
   "id": "127ae69f",
   "metadata": {},
   "outputs": [],
   "source": [
    "a = [1, 2, 3]\n",
    "b = [4, 5, 6]"
   ]
  },
  {
   "cell_type": "code",
   "execution_count": 5,
   "id": "a372a305",
   "metadata": {},
   "outputs": [],
   "source": [
    "b.extend(a)"
   ]
  },
  {
   "cell_type": "code",
   "execution_count": 6,
   "id": "fad56d1f",
   "metadata": {},
   "outputs": [
    {
     "name": "stdout",
     "output_type": "stream",
     "text": [
      "6\n",
      "[4, 5, 6, 1, 2, 3]\n"
     ]
    }
   ],
   "source": [
    "print(len(b))\n",
    "print(b)"
   ]
  },
  {
   "cell_type": "code",
   "execution_count": null,
   "id": "9b92b8fa",
   "metadata": {},
   "outputs": [],
   "source": []
  },
  {
   "cell_type": "code",
   "execution_count": 7,
   "id": "61b3b03a",
   "metadata": {},
   "outputs": [],
   "source": [
    "a = [1, 2, 3]\n",
    "b = [4, 5, 6]"
   ]
  },
  {
   "cell_type": "code",
   "execution_count": 8,
   "id": "0a4a54df",
   "metadata": {},
   "outputs": [],
   "source": [
    "a.append(b)"
   ]
  },
  {
   "cell_type": "code",
   "execution_count": 9,
   "id": "7fb47198",
   "metadata": {},
   "outputs": [
    {
     "name": "stdout",
     "output_type": "stream",
     "text": [
      "4\n",
      "[1, 2, 3, [4, 5, 6]]\n"
     ]
    }
   ],
   "source": [
    "print(len(a))\n",
    "print(a)"
   ]
  },
  {
   "cell_type": "code",
   "execution_count": null,
   "id": "08b7596d",
   "metadata": {},
   "outputs": [],
   "source": []
  },
  {
   "cell_type": "code",
   "execution_count": 10,
   "id": "0c14d807",
   "metadata": {},
   "outputs": [],
   "source": [
    "a = [1, 2, 3]"
   ]
  },
  {
   "cell_type": "code",
   "execution_count": 11,
   "id": "1a1b805b",
   "metadata": {},
   "outputs": [],
   "source": [
    "a.append(4)"
   ]
  },
  {
   "cell_type": "code",
   "execution_count": 12,
   "id": "731e65d6",
   "metadata": {},
   "outputs": [
    {
     "name": "stdout",
     "output_type": "stream",
     "text": [
      "4\n",
      "[1, 2, 3, 4]\n"
     ]
    }
   ],
   "source": [
    "print(len(a))\n",
    "print(a)"
   ]
  },
  {
   "cell_type": "code",
   "execution_count": null,
   "id": "d67131e2",
   "metadata": {},
   "outputs": [],
   "source": []
  },
  {
   "cell_type": "code",
   "execution_count": null,
   "id": "45a83f2e",
   "metadata": {},
   "outputs": [],
   "source": []
  },
  {
   "cell_type": "markdown",
   "id": "5a657b78",
   "metadata": {},
   "source": [
    "## تمرین 6 امتیازی : "
   ]
  },
  {
   "cell_type": "markdown",
   "id": "947c77c8",
   "metadata": {},
   "source": [
    "## input :  "
   ]
  },
  {
   "cell_type": "code",
   "execution_count": 13,
   "id": "4b7f5dd1",
   "metadata": {},
   "outputs": [],
   "source": [
    "a = [35, 42, 65 , 12]\n",
    "b = [True, False, True, False]"
   ]
  },
  {
   "cell_type": "markdown",
   "id": "befeec01",
   "metadata": {},
   "source": [
    "## output: "
   ]
  },
  {
   "cell_type": "code",
   "execution_count": null,
   "id": "5e8d1183",
   "metadata": {},
   "outputs": [],
   "source": [
    "[[35, True], [42, False], [65, True], [12, False]]"
   ]
  },
  {
   "cell_type": "code",
   "execution_count": null,
   "id": "d215356d",
   "metadata": {},
   "outputs": [],
   "source": []
  },
  {
   "cell_type": "code",
   "execution_count": null,
   "id": "3faa8b0f",
   "metadata": {},
   "outputs": [],
   "source": []
  },
  {
   "cell_type": "code",
   "execution_count": null,
   "id": "4b02b603",
   "metadata": {},
   "outputs": [],
   "source": []
  },
  {
   "cell_type": "code",
   "execution_count": null,
   "id": "93c99bdf",
   "metadata": {},
   "outputs": [],
   "source": []
  },
  {
   "cell_type": "code",
   "execution_count": null,
   "id": "401e1571",
   "metadata": {},
   "outputs": [],
   "source": []
  },
  {
   "cell_type": "code",
   "execution_count": null,
   "id": "ae37bfd3",
   "metadata": {},
   "outputs": [],
   "source": []
  },
  {
   "cell_type": "code",
   "execution_count": null,
   "id": "396b54c9",
   "metadata": {},
   "outputs": [],
   "source": []
  },
  {
   "cell_type": "code",
   "execution_count": null,
   "id": "28eb83e3",
   "metadata": {},
   "outputs": [],
   "source": []
  },
  {
   "cell_type": "code",
   "execution_count": 14,
   "id": "7ed78420",
   "metadata": {},
   "outputs": [],
   "source": [
    "def my_def(a, b):\n",
    "    z = []\n",
    "    for i in range(len(a)):\n",
    "        x = a[i]\n",
    "        y = b[i]\n",
    "        \n",
    "        temp = [x,y]\n",
    "        z.append(temp)\n",
    "    return(z)"
   ]
  },
  {
   "cell_type": "code",
   "execution_count": null,
   "id": "bfe498f4",
   "metadata": {},
   "outputs": [],
   "source": []
  },
  {
   "cell_type": "code",
   "execution_count": 15,
   "id": "2671fe23",
   "metadata": {},
   "outputs": [
    {
     "name": "stdout",
     "output_type": "stream",
     "text": [
      "[[35, True], [42, False], [65, True], [12, False]]\n"
     ]
    }
   ],
   "source": [
    "c = my_def(a,b)\n",
    "print(c)"
   ]
  },
  {
   "cell_type": "code",
   "execution_count": null,
   "id": "4f4e2e7a",
   "metadata": {},
   "outputs": [],
   "source": []
  },
  {
   "cell_type": "code",
   "execution_count": null,
   "id": "a70a23e7",
   "metadata": {},
   "outputs": [],
   "source": []
  },
  {
   "cell_type": "code",
   "execution_count": null,
   "id": "dcb9e643",
   "metadata": {},
   "outputs": [],
   "source": []
  },
  {
   "cell_type": "code",
   "execution_count": null,
   "id": "af8d2169",
   "metadata": {},
   "outputs": [],
   "source": []
  },
  {
   "cell_type": "code",
   "execution_count": null,
   "id": "79f3cc41",
   "metadata": {},
   "outputs": [],
   "source": []
  },
  {
   "cell_type": "markdown",
   "id": "092ffd1a",
   "metadata": {},
   "source": [
    "## تمرین 7 امتیازی: "
   ]
  },
  {
   "cell_type": "markdown",
   "id": "f022990b",
   "metadata": {},
   "source": [
    "## input: "
   ]
  },
  {
   "cell_type": "code",
   "execution_count": null,
   "id": "d5ab3a36",
   "metadata": {},
   "outputs": [],
   "source": [
    "a = [35, 42, 65 , 12]\n",
    "b = [True, False, True, False]"
   ]
  },
  {
   "cell_type": "markdown",
   "id": "2d3b4cc1",
   "metadata": {},
   "source": [
    "## output: "
   ]
  },
  {
   "cell_type": "code",
   "execution_count": null,
   "id": "f41014ff",
   "metadata": {},
   "outputs": [],
   "source": [
    "[35, True]  : Yes\n",
    "[42, False]  : No\n",
    "[65, True]  : Yes\n",
    "[12, False]  : No"
   ]
  },
  {
   "cell_type": "markdown",
   "id": "5998932e",
   "metadata": {},
   "source": [
    "## در تعریف این تابع حتما از تابع تعریف شده در تمرین قبلی استفاده نمایید "
   ]
  },
  {
   "cell_type": "code",
   "execution_count": null,
   "id": "3673f69f",
   "metadata": {},
   "outputs": [],
   "source": []
  },
  {
   "cell_type": "code",
   "execution_count": null,
   "id": "b3507c8d",
   "metadata": {},
   "outputs": [],
   "source": []
  },
  {
   "cell_type": "code",
   "execution_count": null,
   "id": "022bcb69",
   "metadata": {},
   "outputs": [],
   "source": []
  },
  {
   "cell_type": "code",
   "execution_count": null,
   "id": "05d77365",
   "metadata": {},
   "outputs": [],
   "source": []
  },
  {
   "cell_type": "code",
   "execution_count": null,
   "id": "2d222294",
   "metadata": {},
   "outputs": [],
   "source": []
  },
  {
   "cell_type": "code",
   "execution_count": null,
   "id": "381f5a65",
   "metadata": {},
   "outputs": [],
   "source": []
  },
  {
   "cell_type": "code",
   "execution_count": null,
   "id": "a0f9e50b",
   "metadata": {},
   "outputs": [],
   "source": [
    "def my_def2(a, b):\n",
    "    c = my_def(a, b)\n",
    "    for i in c:\n",
    "        x = i[0]\n",
    "        y = i[1]\n",
    "        if x >= 35 and y:\n",
    "            print(i, ' : Yes')\n",
    "        else:\n",
    "            print(i, ' : No')"
   ]
  },
  {
   "cell_type": "code",
   "execution_count": null,
   "id": "7d441078",
   "metadata": {},
   "outputs": [],
   "source": [
    "my_def2(a,b)"
   ]
  },
  {
   "cell_type": "code",
   "execution_count": null,
   "id": "394c380c",
   "metadata": {},
   "outputs": [],
   "source": []
  },
  {
   "cell_type": "code",
   "execution_count": null,
   "id": "120d810a",
   "metadata": {},
   "outputs": [],
   "source": []
  },
  {
   "cell_type": "code",
   "execution_count": null,
   "id": "983b7d64",
   "metadata": {},
   "outputs": [],
   "source": []
  },
  {
   "cell_type": "code",
   "execution_count": null,
   "id": "f79af389",
   "metadata": {},
   "outputs": [],
   "source": []
  },
  {
   "cell_type": "code",
   "execution_count": null,
   "id": "6bbe8d78",
   "metadata": {},
   "outputs": [],
   "source": []
  },
  {
   "cell_type": "code",
   "execution_count": null,
   "id": "e6a52673",
   "metadata": {},
   "outputs": [],
   "source": []
  },
  {
   "cell_type": "markdown",
   "id": "57fba555",
   "metadata": {},
   "source": [
    "## سوال دوم آزمون: "
   ]
  },
  {
   "cell_type": "markdown",
   "id": "a322388b",
   "metadata": {},
   "source": [
    "## تابعی بنویسید که لیستی همانند لیست زیر را دریافت کرده و مقادیر تکراری را حذف نماید "
   ]
  },
  {
   "cell_type": "markdown",
   "id": "8e1f92e0",
   "metadata": {},
   "source": [
    "## input: "
   ]
  },
  {
   "cell_type": "code",
   "execution_count": null,
   "id": "c92bca25",
   "metadata": {},
   "outputs": [],
   "source": [
    "a = ['ahmad', 'omid', 'ali', 'reza', 'omid', 'amir', 'ahmad']"
   ]
  },
  {
   "cell_type": "markdown",
   "id": "68dcc8e6",
   "metadata": {},
   "source": [
    "## output: "
   ]
  },
  {
   "cell_type": "code",
   "execution_count": null,
   "id": "b786273f",
   "metadata": {},
   "outputs": [],
   "source": [
    "['ahmad', 'omid', 'ali', 'reza', 'amir']"
   ]
  },
  {
   "cell_type": "code",
   "execution_count": null,
   "id": "ffc32cb9",
   "metadata": {},
   "outputs": [],
   "source": []
  },
  {
   "cell_type": "code",
   "execution_count": null,
   "id": "fc919267",
   "metadata": {},
   "outputs": [],
   "source": []
  },
  {
   "cell_type": "code",
   "execution_count": null,
   "id": "6f06c05b",
   "metadata": {},
   "outputs": [],
   "source": []
  },
  {
   "cell_type": "code",
   "execution_count": null,
   "id": "b01fab42",
   "metadata": {},
   "outputs": [],
   "source": []
  },
  {
   "cell_type": "code",
   "execution_count": null,
   "id": "2454b1cc",
   "metadata": {},
   "outputs": [],
   "source": []
  },
  {
   "cell_type": "code",
   "execution_count": null,
   "id": "7b12875e",
   "metadata": {},
   "outputs": [],
   "source": []
  },
  {
   "cell_type": "code",
   "execution_count": null,
   "id": "245538c3",
   "metadata": {},
   "outputs": [],
   "source": [
    "def my_def3(my_list):\n",
    "    temp = []\n",
    "    for i in my_list:\n",
    "        if i not in temp:\n",
    "            temp.append(i)\n",
    "    return(temp)"
   ]
  },
  {
   "cell_type": "code",
   "execution_count": null,
   "id": "e74f5fc6",
   "metadata": {},
   "outputs": [],
   "source": [
    "my_def3(a)"
   ]
  }
 ],
 "metadata": {
  "kernelspec": {
   "display_name": "Python 3 (ipykernel)",
   "language": "python",
   "name": "python3"
  },
  "language_info": {
   "codemirror_mode": {
    "name": "ipython",
    "version": 3
   },
   "file_extension": ".py",
   "mimetype": "text/x-python",
   "name": "python",
   "nbconvert_exporter": "python",
   "pygments_lexer": "ipython3",
   "version": "3.11.5"
  }
 },
 "nbformat": 4,
 "nbformat_minor": 5
}
