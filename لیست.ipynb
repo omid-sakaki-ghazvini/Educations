{
  "cells": [
    {
      "cell_type": "markdown",
      "metadata": {
        "id": "view-in-github",
        "colab_type": "text"
      },
      "source": [
        "<a href=\"https://colab.research.google.com/github/omid-sakaki-ghazvini/Educations/blob/main/%D9%84%DB%8C%D8%B3%D8%AA.ipynb\" target=\"_parent\"><img src=\"https://colab.research.google.com/assets/colab-badge.svg\" alt=\"Open In Colab\"/></a>"
      ]
    },
    {
      "cell_type": "markdown",
      "id": "7dda4753",
      "metadata": {
        "id": "7dda4753"
      },
      "source": [
        "# یادآوری:"
      ]
    },
    {
      "cell_type": "code",
      "execution_count": null,
      "id": "7995b256",
      "metadata": {
        "id": "7995b256"
      },
      "outputs": [],
      "source": [
        "a = 2               #شماره دانشجویی\n",
        "b = 12.88           #معدل دانشجو\n",
        "c = 'ali'           #نام دانشجو\n",
        "d = True            #وضعیت قبولی"
      ]
    },
    {
      "cell_type": "code",
      "execution_count": null,
      "id": "d79bbe90",
      "metadata": {
        "id": "d79bbe90",
        "outputId": "d87c0d7c-1986-4257-c73e-c05c74cc5fb8"
      },
      "outputs": [
        {
          "name": "stdout",
          "output_type": "stream",
          "text": [
            "شماره دانشجویی:  2 \n",
            " معدل کل:  12.88 \n",
            " نام دانشجو:  ali \n",
            " وضعیت قبولی:  True\n"
          ]
        }
      ],
      "source": [
        "print('شماره دانشجویی: ', a,'\\n',\n",
        "\n",
        "      'معدل کل: ', b,'\\n',\n",
        "\n",
        "      'نام دانشجو: ', c,'\\n',\n",
        "\n",
        "      'وضعیت قبولی: ', d)"
      ]
    },
    {
      "cell_type": "code",
      "execution_count": null,
      "id": "38860f7e",
      "metadata": {
        "id": "38860f7e",
        "outputId": "52ed7531-5d42-4e7d-82e2-edaa5a1186a1"
      },
      "outputs": [
        {
          "name": "stdout",
          "output_type": "stream",
          "text": [
            "<class 'int'> <class 'float'> <class 'str'> <class 'bool'>\n"
          ]
        }
      ],
      "source": [
        "print(type(a), type(b), type(c), type(d))"
      ]
    },
    {
      "cell_type": "markdown",
      "id": "4f406fa4",
      "metadata": {
        "id": "4f406fa4"
      },
      "source": [
        "# **ساختمان داده:**\n",
        "## ساختمان داده ها یک راه سازماندهی و ذخیره سازی داده ها هستند تا بتوان با سهولت و کارآیی بیشتری با داده ها کار کرد\n",
        "\n",
        "# **لیست:** یک ساختمان داده با خاصیت تغییر اندازه است. داده های درون یک لیست میتواند انواع مختلفی داشته باشد."
      ]
    },
    {
      "cell_type": "markdown",
      "id": "97154ca7",
      "metadata": {
        "id": "97154ca7"
      },
      "source": [
        "## **لیست :**"
      ]
    },
    {
      "cell_type": "markdown",
      "id": "6fd4e97b",
      "metadata": {
        "id": "6fd4e97b"
      },
      "source": [
        "## مثال 1 :"
      ]
    },
    {
      "cell_type": "code",
      "execution_count": null,
      "id": "d8774417",
      "metadata": {
        "id": "d8774417"
      },
      "outputs": [],
      "source": [
        "b = 1"
      ]
    },
    {
      "cell_type": "code",
      "execution_count": null,
      "id": "c41d3de4",
      "metadata": {
        "id": "c41d3de4",
        "outputId": "b296cfb7-f53d-49a5-fc0b-f8d8ef164527"
      },
      "outputs": [
        {
          "data": {
            "text/plain": [
              "int"
            ]
          },
          "execution_count": 5,
          "metadata": {},
          "output_type": "execute_result"
        }
      ],
      "source": [
        "type(b)"
      ]
    },
    {
      "cell_type": "code",
      "execution_count": 1,
      "id": "8344b9aa",
      "metadata": {
        "id": "8344b9aa"
      },
      "outputs": [],
      "source": [
        "a = [ 1 ]"
      ]
    },
    {
      "cell_type": "code",
      "execution_count": null,
      "id": "0915f9db",
      "metadata": {
        "id": "0915f9db",
        "outputId": "c41e193e-04c3-4aca-c7c1-f4b0b08c2ed4"
      },
      "outputs": [
        {
          "name": "stdout",
          "output_type": "stream",
          "text": [
            "[1, 2, 3, 4]\n"
          ]
        }
      ],
      "source": [
        "print(a)"
      ]
    },
    {
      "cell_type": "code",
      "execution_count": null,
      "id": "6c1ec1a7",
      "metadata": {
        "id": "6c1ec1a7",
        "outputId": "3f5d8dd2-5b60-48eb-b90e-44db58210bea"
      },
      "outputs": [
        {
          "name": "stdout",
          "output_type": "stream",
          "text": [
            "<class 'list'>\n"
          ]
        }
      ],
      "source": [
        "print(type(a))"
      ]
    },
    {
      "cell_type": "code",
      "execution_count": null,
      "id": "f62bcf39",
      "metadata": {
        "id": "f62bcf39",
        "outputId": "d41f59bf-69ef-4d49-ee82-61e4eb0b02d7"
      },
      "outputs": [
        {
          "name": "stdout",
          "output_type": "stream",
          "text": [
            "4\n"
          ]
        }
      ],
      "source": [
        "print(len(a))"
      ]
    },
    {
      "cell_type": "markdown",
      "id": "b33869f6",
      "metadata": {
        "id": "b33869f6"
      },
      "source": [
        "## مثال 2 :"
      ]
    },
    {
      "cell_type": "code",
      "execution_count": null,
      "id": "856b4982",
      "metadata": {
        "id": "856b4982"
      },
      "outputs": [],
      "source": [
        "b = [ \"one\", \"two\", \"Three\", \"four\" ]"
      ]
    },
    {
      "cell_type": "code",
      "execution_count": null,
      "id": "0472749b",
      "metadata": {
        "id": "0472749b",
        "outputId": "384630ca-dd69-428c-ea35-974dd663cf78"
      },
      "outputs": [
        {
          "name": "stdout",
          "output_type": "stream",
          "text": [
            "['one', 'two', 'Three', 'four']\n"
          ]
        }
      ],
      "source": [
        "print(b)"
      ]
    },
    {
      "cell_type": "code",
      "execution_count": null,
      "id": "d18b7cf1",
      "metadata": {
        "id": "d18b7cf1",
        "outputId": "b1d79d84-b29b-42db-f0e7-af5700c6f942"
      },
      "outputs": [
        {
          "name": "stdout",
          "output_type": "stream",
          "text": [
            "<class 'list'>\n"
          ]
        }
      ],
      "source": [
        "print(type(b))"
      ]
    },
    {
      "cell_type": "code",
      "execution_count": null,
      "id": "f2d2fd7e",
      "metadata": {
        "id": "f2d2fd7e"
      },
      "outputs": [],
      "source": [
        "print(len(b))"
      ]
    },
    {
      "cell_type": "markdown",
      "id": "2fc53ff9",
      "metadata": {
        "id": "2fc53ff9"
      },
      "source": [
        "## مثال 3 :"
      ]
    },
    {
      "cell_type": "code",
      "execution_count": null,
      "id": "28e2bdf6",
      "metadata": {
        "id": "28e2bdf6"
      },
      "outputs": [],
      "source": [
        "c = [ [ 5, 1, 7, 4 ] , [ 1, 2, 3, 4] ]"
      ]
    },
    {
      "cell_type": "code",
      "execution_count": null,
      "id": "68a643b6",
      "metadata": {
        "id": "68a643b6",
        "outputId": "3938d168-f3d5-4df8-c4d1-06609bc4dbeb"
      },
      "outputs": [
        {
          "name": "stdout",
          "output_type": "stream",
          "text": [
            "[[5, 1, 7, 4], [1, 2, 3, 4]]\n"
          ]
        }
      ],
      "source": [
        "print(c)"
      ]
    },
    {
      "cell_type": "code",
      "execution_count": null,
      "id": "12c38242",
      "metadata": {
        "id": "12c38242",
        "outputId": "f4b3e480-1204-4f0d-d04c-21e108eaf76a"
      },
      "outputs": [
        {
          "name": "stdout",
          "output_type": "stream",
          "text": [
            "<class 'list'>\n"
          ]
        }
      ],
      "source": [
        "print(type(c))"
      ]
    },
    {
      "cell_type": "code",
      "execution_count": null,
      "id": "06e4dc35",
      "metadata": {
        "id": "06e4dc35",
        "outputId": "7e09b488-8b43-4c50-fea8-ae9c942c080d"
      },
      "outputs": [
        {
          "name": "stdout",
          "output_type": "stream",
          "text": [
            "2\n"
          ]
        }
      ],
      "source": [
        "print(len(c))"
      ]
    },
    {
      "cell_type": "markdown",
      "id": "2ddec14f",
      "metadata": {
        "id": "2ddec14f"
      },
      "source": [
        "## مثال 4 :"
      ]
    },
    {
      "cell_type": "code",
      "execution_count": null,
      "id": "2c34a8b0",
      "metadata": {
        "id": "2c34a8b0"
      },
      "outputs": [],
      "source": [
        "d = [2, 12.88, 'ali', True]"
      ]
    },
    {
      "cell_type": "code",
      "execution_count": null,
      "id": "64481c3d",
      "metadata": {
        "id": "64481c3d",
        "outputId": "7b86bcb0-390f-431a-b306-cc86593b1d7a"
      },
      "outputs": [
        {
          "name": "stdout",
          "output_type": "stream",
          "text": [
            "[2, 12.88, 'ali', True]\n"
          ]
        }
      ],
      "source": [
        "print(d)"
      ]
    },
    {
      "cell_type": "code",
      "execution_count": null,
      "id": "5ab0120c",
      "metadata": {
        "id": "5ab0120c",
        "outputId": "f7990559-3746-4a51-f248-1864ed6fe1db"
      },
      "outputs": [
        {
          "name": "stdout",
          "output_type": "stream",
          "text": [
            "<class 'list'>\n"
          ]
        }
      ],
      "source": [
        "print(type(d))"
      ]
    },
    {
      "cell_type": "code",
      "execution_count": null,
      "id": "a2e794eb",
      "metadata": {
        "id": "a2e794eb",
        "outputId": "99a1cdee-9a32-493c-b114-e6df9da266dc"
      },
      "outputs": [
        {
          "name": "stdout",
          "output_type": "stream",
          "text": [
            "4\n"
          ]
        }
      ],
      "source": [
        "print(len(d))"
      ]
    },
    {
      "cell_type": "markdown",
      "id": "c9646406",
      "metadata": {
        "id": "c9646406"
      },
      "source": [
        "## تمرین 1 امتیازی :  "
      ]
    },
    {
      "cell_type": "code",
      "execution_count": null,
      "id": "1a5d53d1",
      "metadata": {
        "id": "1a5d53d1"
      },
      "outputs": [],
      "source": [
        "e = [1 , 2]\n",
        "f = [1 , 2, 3]"
      ]
    },
    {
      "cell_type": "code",
      "execution_count": null,
      "id": "ab46750b",
      "metadata": {
        "id": "ab46750b",
        "outputId": "e4ca226c-b330-4029-bf51-6e61f70a4f59"
      },
      "outputs": [
        {
          "data": {
            "text/plain": [
              "0"
            ]
          },
          "execution_count": 28,
          "metadata": {},
          "output_type": "execute_result"
        }
      ],
      "source": [
        "e.index(1)"
      ]
    },
    {
      "cell_type": "code",
      "execution_count": null,
      "id": "b004db90",
      "metadata": {
        "id": "b004db90",
        "outputId": "08ff46f9-1872-4611-bfd8-2698544e04bc"
      },
      "outputs": [
        {
          "data": {
            "text/plain": [
              "1"
            ]
          },
          "execution_count": 29,
          "metadata": {},
          "output_type": "execute_result"
        }
      ],
      "source": [
        "e.index(2)"
      ]
    },
    {
      "cell_type": "code",
      "execution_count": null,
      "id": "a0799448",
      "metadata": {
        "id": "a0799448",
        "outputId": "0340ab5e-6063-47dd-d404-80c33014418e"
      },
      "outputs": [
        {
          "data": {
            "text/plain": [
              "0"
            ]
          },
          "execution_count": 30,
          "metadata": {},
          "output_type": "execute_result"
        }
      ],
      "source": [
        "f.index(1)"
      ]
    },
    {
      "cell_type": "code",
      "execution_count": null,
      "id": "e04d3ea8",
      "metadata": {
        "id": "e04d3ea8",
        "outputId": "882a379d-0781-4add-9c8f-ae3a61fbb136"
      },
      "outputs": [
        {
          "data": {
            "text/plain": [
              "1"
            ]
          },
          "execution_count": 31,
          "metadata": {},
          "output_type": "execute_result"
        }
      ],
      "source": [
        "f.index(2)"
      ]
    },
    {
      "cell_type": "code",
      "execution_count": null,
      "id": "830d2115",
      "metadata": {
        "id": "830d2115",
        "outputId": "cbf67b23-d61e-4413-8d30-b1560e9b42a5"
      },
      "outputs": [
        {
          "name": "stdout",
          "output_type": "stream",
          "text": [
            "False\n"
          ]
        }
      ],
      "source": [
        "print(e == f)"
      ]
    },
    {
      "cell_type": "markdown",
      "id": "a9320b22",
      "metadata": {
        "id": "a9320b22"
      },
      "source": [
        "## مثال 5 :"
      ]
    },
    {
      "cell_type": "code",
      "execution_count": null,
      "id": "fc61643d",
      "metadata": {
        "id": "fc61643d"
      },
      "outputs": [],
      "source": [
        "g = ['amir', 'dorsa', 'ayda', 'mohammad']"
      ]
    },
    {
      "cell_type": "code",
      "execution_count": null,
      "id": "fb2e3247",
      "metadata": {
        "id": "fb2e3247",
        "outputId": "0ef9639f-a681-442e-e176-9a8c8b43a3e0"
      },
      "outputs": [
        {
          "name": "stdout",
          "output_type": "stream",
          "text": [
            "amir\n"
          ]
        }
      ],
      "source": [
        "print(g[0])"
      ]
    },
    {
      "cell_type": "code",
      "execution_count": null,
      "id": "c9b57801",
      "metadata": {
        "id": "c9b57801",
        "outputId": "d21d3cc4-63ea-402c-c65e-e869ab9312d3"
      },
      "outputs": [
        {
          "name": "stdout",
          "output_type": "stream",
          "text": [
            "dorsa\n"
          ]
        }
      ],
      "source": [
        "print(g[1])"
      ]
    },
    {
      "cell_type": "code",
      "execution_count": null,
      "id": "f3f1030f",
      "metadata": {
        "id": "f3f1030f",
        "outputId": "27e70a03-c4da-4f56-8993-b56dcec04060"
      },
      "outputs": [
        {
          "name": "stdout",
          "output_type": "stream",
          "text": [
            "ayda\n"
          ]
        }
      ],
      "source": [
        "print(g[2])"
      ]
    },
    {
      "cell_type": "code",
      "execution_count": null,
      "id": "08ae5cc8",
      "metadata": {
        "id": "08ae5cc8",
        "outputId": "1cbf132c-0653-4cb0-d3e3-1a4842b7bd48"
      },
      "outputs": [
        {
          "name": "stdout",
          "output_type": "stream",
          "text": [
            "mohammad\n"
          ]
        }
      ],
      "source": [
        "print(g[3])"
      ]
    },
    {
      "cell_type": "code",
      "execution_count": null,
      "id": "90f08e20",
      "metadata": {
        "id": "90f08e20",
        "outputId": "f3b38cbe-5889-4583-ea41-b50262331a05"
      },
      "outputs": [
        {
          "name": "stdout",
          "output_type": "stream",
          "text": [
            "['dorsa', 'ayda']\n"
          ]
        }
      ],
      "source": [
        "print(g[1:3])"
      ]
    },
    {
      "cell_type": "code",
      "execution_count": null,
      "id": "3e74959e",
      "metadata": {
        "id": "3e74959e",
        "outputId": "76661f7a-b465-4c44-e88d-21fc4f26d47e"
      },
      "outputs": [
        {
          "name": "stdout",
          "output_type": "stream",
          "text": [
            "['amir', 'dorsa']\n"
          ]
        }
      ],
      "source": [
        "print(g[:2])"
      ]
    },
    {
      "cell_type": "code",
      "execution_count": null,
      "id": "af43824e",
      "metadata": {
        "id": "af43824e"
      },
      "outputs": [],
      "source": [
        "g = ['amir', 'dorsa', 'ayda', 'mohammad']"
      ]
    },
    {
      "cell_type": "code",
      "execution_count": null,
      "id": "9a1cf402",
      "metadata": {
        "id": "9a1cf402",
        "outputId": "9f62a588-8859-4b83-ba56-3dea3a43fdb9"
      },
      "outputs": [
        {
          "name": "stdout",
          "output_type": "stream",
          "text": [
            "['ayda', 'mohammad']\n"
          ]
        }
      ],
      "source": [
        "print(g[2:])"
      ]
    },
    {
      "cell_type": "code",
      "execution_count": null,
      "id": "7c8d34cf",
      "metadata": {
        "id": "7c8d34cf",
        "outputId": "efa84bf3-4d4a-4f1a-f920-d30c0f0a1d38"
      },
      "outputs": [
        {
          "name": "stdout",
          "output_type": "stream",
          "text": [
            "['dorsa', 'ayda']\n"
          ]
        }
      ],
      "source": [
        "print(g[1:-1])"
      ]
    },
    {
      "cell_type": "code",
      "execution_count": null,
      "id": "e3b6cd6a",
      "metadata": {
        "id": "e3b6cd6a",
        "outputId": "e2c33b67-284b-4699-f01e-fa1b342160c3"
      },
      "outputs": [
        {
          "name": "stdout",
          "output_type": "stream",
          "text": [
            "['mohammad', 'ayda', 'dorsa', 'amir']\n"
          ]
        }
      ],
      "source": [
        "print(g[::-1])"
      ]
    },
    {
      "cell_type": "code",
      "execution_count": null,
      "id": "e7270793",
      "metadata": {
        "id": "e7270793",
        "outputId": "26371ec1-cded-448c-9d8b-f61b0d26e250"
      },
      "outputs": [
        {
          "name": "stdout",
          "output_type": "stream",
          "text": [
            "['mohammad', 'dorsa']\n"
          ]
        }
      ],
      "source": [
        "print(g[::-2])"
      ]
    },
    {
      "cell_type": "code",
      "execution_count": null,
      "id": "a4de7594",
      "metadata": {
        "id": "a4de7594",
        "outputId": "2a7ab1d3-1a6c-43df-f32d-f21be7a5ab28"
      },
      "outputs": [
        {
          "name": "stdout",
          "output_type": "stream",
          "text": [
            "['mohammad', 'amir']\n"
          ]
        }
      ],
      "source": [
        "print(g[::-3])"
      ]
    },
    {
      "cell_type": "code",
      "execution_count": null,
      "id": "60245774",
      "metadata": {
        "id": "60245774",
        "outputId": "66655f82-8e1a-42a3-fd1e-17ea58884282"
      },
      "outputs": [
        {
          "data": {
            "text/plain": [
              "0"
            ]
          },
          "execution_count": 51,
          "metadata": {},
          "output_type": "execute_result"
        }
      ],
      "source": [
        "g.index('amir')"
      ]
    },
    {
      "cell_type": "code",
      "execution_count": null,
      "id": "05850f30",
      "metadata": {
        "id": "05850f30",
        "outputId": "e3c8c40d-1a2f-4273-901e-594798c1ce08"
      },
      "outputs": [
        {
          "data": {
            "text/plain": [
              "2"
            ]
          },
          "execution_count": 52,
          "metadata": {},
          "output_type": "execute_result"
        }
      ],
      "source": [
        "g.index('ayda')"
      ]
    },
    {
      "cell_type": "code",
      "execution_count": null,
      "id": "14b6917b",
      "metadata": {
        "id": "14b6917b"
      },
      "outputs": [],
      "source": [
        "g = ['amir', 'dorsa', 'ayda', 'mohammad']"
      ]
    },
    {
      "cell_type": "code",
      "execution_count": null,
      "id": "140b587d",
      "metadata": {
        "id": "140b587d",
        "outputId": "2f5116fc-55ef-4326-aafb-663ac229981b"
      },
      "outputs": [
        {
          "data": {
            "text/plain": [
              "['amir', 'dorsa', 'ayda', 'mohammad']"
            ]
          },
          "execution_count": 54,
          "metadata": {},
          "output_type": "execute_result"
        }
      ],
      "source": [
        "g"
      ]
    },
    {
      "cell_type": "code",
      "execution_count": null,
      "id": "c1996516",
      "metadata": {
        "id": "c1996516",
        "outputId": "67b6efd0-5852-41d0-954c-69adc5331ef8"
      },
      "outputs": [
        {
          "name": "stdout",
          "output_type": "stream",
          "text": [
            "hello,  amir\n",
            "hello,  dorsa\n",
            "hello,  ayda\n",
            "hello,  mohammad\n"
          ]
        }
      ],
      "source": [
        "for i in g:\n",
        "    print('hello, ', i)"
      ]
    },
    {
      "cell_type": "code",
      "execution_count": null,
      "id": "6416f3d3",
      "metadata": {
        "id": "6416f3d3"
      },
      "outputs": [],
      "source": [
        "g = ['amir', 'dorsa', 'ayda', 'mohammad']"
      ]
    },
    {
      "cell_type": "code",
      "execution_count": null,
      "id": "0c6e278a",
      "metadata": {
        "id": "0c6e278a",
        "outputId": "d1ed66f5-1660-4be7-d189-400679520361"
      },
      "outputs": [
        {
          "name": "stdout",
          "output_type": "stream",
          "text": [
            "amir\n",
            "<class 'str'>\n",
            "dorsa\n",
            "<class 'str'>\n"
          ]
        }
      ],
      "source": [
        "for i in range(0,2):\n",
        "    print(g[i])\n",
        "    print(type(g[i]))"
      ]
    },
    {
      "cell_type": "code",
      "execution_count": null,
      "id": "7fda4ce8",
      "metadata": {
        "id": "7fda4ce8",
        "outputId": "81c14f62-9a2f-412d-d67f-384b9593680f"
      },
      "outputs": [
        {
          "name": "stdout",
          "output_type": "stream",
          "text": [
            "['amir', 'dorsa']\n"
          ]
        },
        {
          "data": {
            "text/plain": [
              "list"
            ]
          },
          "execution_count": 60,
          "metadata": {},
          "output_type": "execute_result"
        }
      ],
      "source": [
        "l = g[0:2]\n",
        "print(l)\n",
        "type(l)"
      ]
    },
    {
      "cell_type": "code",
      "execution_count": null,
      "id": "bfffe431",
      "metadata": {
        "id": "bfffe431"
      },
      "outputs": [],
      "source": [
        "g[1] = 'omid'"
      ]
    },
    {
      "cell_type": "code",
      "execution_count": null,
      "id": "bd692109",
      "metadata": {
        "id": "bd692109",
        "outputId": "557d6281-b1ee-49a4-81f4-d4b7cbf65fc8"
      },
      "outputs": [
        {
          "data": {
            "text/plain": [
              "['amir', 'omid', 'ayda', 'mohammad']"
            ]
          },
          "execution_count": 62,
          "metadata": {},
          "output_type": "execute_result"
        }
      ],
      "source": [
        "g"
      ]
    },
    {
      "cell_type": "markdown",
      "id": "1ddeaab3",
      "metadata": {
        "id": "1ddeaab3"
      },
      "source": [
        "## تمرین 1 امتیازی :"
      ]
    },
    {
      "cell_type": "markdown",
      "id": "75155ef7",
      "metadata": {
        "id": "75155ef7"
      },
      "source": [
        "## تابعی بنویسید که یک لیست را دریافت کرده و جای اولین و آخرین عضو آن لیست را عوض نماید"
      ]
    },
    {
      "cell_type": "code",
      "execution_count": null,
      "id": "e21f2d26",
      "metadata": {
        "id": "e21f2d26"
      },
      "outputs": [],
      "source": [
        "g = ['amir', 'dorsa', 'ayda', 'mohammad']"
      ]
    },
    {
      "cell_type": "code",
      "execution_count": null,
      "id": "7ad4e365",
      "metadata": {
        "id": "7ad4e365"
      },
      "outputs": [],
      "source": [
        "['mohammad', 'dorsa', 'ayda', 'amir']"
      ]
    },
    {
      "cell_type": "code",
      "execution_count": null,
      "id": "33941bed",
      "metadata": {
        "id": "33941bed"
      },
      "outputs": [],
      "source": []
    },
    {
      "cell_type": "code",
      "execution_count": null,
      "id": "522d0abd",
      "metadata": {
        "id": "522d0abd"
      },
      "outputs": [],
      "source": []
    },
    {
      "cell_type": "code",
      "execution_count": null,
      "id": "cc4a9173",
      "metadata": {
        "id": "cc4a9173"
      },
      "outputs": [],
      "source": []
    },
    {
      "cell_type": "code",
      "execution_count": null,
      "id": "72b96328",
      "metadata": {
        "id": "72b96328"
      },
      "outputs": [],
      "source": []
    },
    {
      "cell_type": "code",
      "execution_count": null,
      "id": "c9094f07",
      "metadata": {
        "id": "c9094f07"
      },
      "outputs": [],
      "source": [
        "def edit_list(my_list):\n",
        "    for i in range(len(my_list)):\n",
        "        if i == 0:\n",
        "            temp = my_list[0]\n",
        "            my_list[0] = my_list[-1]\n",
        "            my_list[-1] = temp\n",
        "    return(my_list)"
      ]
    },
    {
      "cell_type": "code",
      "execution_count": null,
      "id": "690b0229",
      "metadata": {
        "id": "690b0229",
        "outputId": "9558339d-308c-4cb8-86fa-216747baa39b"
      },
      "outputs": [
        {
          "data": {
            "text/plain": [
              "['mohammad', 'omid', 'ayda', 'amir']"
            ]
          },
          "execution_count": 64,
          "metadata": {},
          "output_type": "execute_result"
        }
      ],
      "source": [
        "edit_list(g)"
      ]
    },
    {
      "cell_type": "markdown",
      "id": "e326527a",
      "metadata": {
        "id": "e326527a"
      },
      "source": [
        "## مثال 6 :"
      ]
    },
    {
      "cell_type": "code",
      "execution_count": null,
      "id": "e87ef866",
      "metadata": {
        "id": "e87ef866"
      },
      "outputs": [],
      "source": [
        "h = [1, 2, 3, 4]"
      ]
    },
    {
      "cell_type": "code",
      "execution_count": null,
      "id": "ee6fac43",
      "metadata": {
        "id": "ee6fac43"
      },
      "outputs": [],
      "source": [
        "k = h * 2"
      ]
    },
    {
      "cell_type": "code",
      "execution_count": null,
      "id": "6185ec4e",
      "metadata": {
        "id": "6185ec4e",
        "outputId": "7f48fcfd-dda4-4d65-ffb5-6ec77dcc2150"
      },
      "outputs": [
        {
          "data": {
            "text/plain": [
              "[1, 2, 3, 4, 1, 2, 3, 4]"
            ]
          },
          "execution_count": 67,
          "metadata": {},
          "output_type": "execute_result"
        }
      ],
      "source": [
        "k"
      ]
    },
    {
      "cell_type": "code",
      "execution_count": null,
      "id": "f98236de",
      "metadata": {
        "id": "f98236de",
        "outputId": "e6fc29b9-dcb0-4e7e-ff47-749bd5deed72"
      },
      "outputs": [
        {
          "data": {
            "text/plain": [
              "list"
            ]
          },
          "execution_count": 68,
          "metadata": {},
          "output_type": "execute_result"
        }
      ],
      "source": [
        "type(k)"
      ]
    },
    {
      "cell_type": "code",
      "execution_count": null,
      "id": "427bbac5",
      "metadata": {
        "id": "427bbac5",
        "outputId": "8fd17639-fb4a-4d44-80b3-7f539dcdbfd3"
      },
      "outputs": [
        {
          "data": {
            "text/plain": [
              "list"
            ]
          },
          "execution_count": 69,
          "metadata": {},
          "output_type": "execute_result"
        }
      ],
      "source": [
        "type(h)"
      ]
    },
    {
      "cell_type": "code",
      "execution_count": null,
      "id": "9b5e1e3f",
      "metadata": {
        "id": "9b5e1e3f"
      },
      "outputs": [],
      "source": [
        "l = h + k"
      ]
    },
    {
      "cell_type": "code",
      "execution_count": null,
      "id": "fb08cce5",
      "metadata": {
        "id": "fb08cce5",
        "outputId": "72c54c26-34db-4ce2-e8d8-a467d7caa91b"
      },
      "outputs": [
        {
          "data": {
            "text/plain": [
              "[1, 2, 3, 4, 1, 2, 3, 4, 1, 2, 3, 4]"
            ]
          },
          "execution_count": 71,
          "metadata": {},
          "output_type": "execute_result"
        }
      ],
      "source": [
        "l"
      ]
    },
    {
      "cell_type": "code",
      "execution_count": null,
      "id": "ae18b58b",
      "metadata": {
        "id": "ae18b58b",
        "outputId": "0bafcc4b-9b7b-43ce-b34f-20ddd054a952"
      },
      "outputs": [
        {
          "data": {
            "text/plain": [
              "False"
            ]
          },
          "execution_count": 73,
          "metadata": {},
          "output_type": "execute_result"
        }
      ],
      "source": [
        "5 in h"
      ]
    },
    {
      "cell_type": "code",
      "execution_count": null,
      "id": "bb1cb351",
      "metadata": {
        "id": "bb1cb351",
        "outputId": "b90f989a-94fe-443e-a190-baacb8600998"
      },
      "outputs": [
        {
          "name": "stdout",
          "output_type": "stream",
          "text": [
            "True\n"
          ]
        }
      ],
      "source": [
        "print( 6 not in k)"
      ]
    },
    {
      "cell_type": "markdown",
      "id": "e546f8c2",
      "metadata": {
        "id": "e546f8c2"
      },
      "source": [
        "## تمرین 2 امتیازی  :"
      ]
    },
    {
      "cell_type": "code",
      "execution_count": null,
      "id": "97cda8de",
      "metadata": {
        "id": "97cda8de",
        "outputId": "d5a6eea1-1531-4bf7-ed07-77795b75368e"
      },
      "outputs": [
        {
          "name": "stdout",
          "output_type": "stream",
          "text": [
            "20\n"
          ]
        }
      ],
      "source": [
        "a = [10 , -1 , 5 , 20 , -11 , 15]\n",
        "b = 0\n",
        "\n",
        "for i in a:\n",
        "    if i > b:\n",
        "        b = i\n",
        "\n",
        "print(b)"
      ]
    },
    {
      "cell_type": "markdown",
      "id": "8b4ce242",
      "metadata": {
        "id": "8b4ce242"
      },
      "source": [
        "## مثال 7 :"
      ]
    },
    {
      "cell_type": "code",
      "execution_count": null,
      "id": "e8b2c0e6",
      "metadata": {
        "id": "e8b2c0e6",
        "outputId": "8fb1a548-6198-4b56-a161-4d523b0a355a"
      },
      "outputs": [
        {
          "data": {
            "text/plain": [
              "20"
            ]
          },
          "execution_count": 76,
          "metadata": {},
          "output_type": "execute_result"
        }
      ],
      "source": [
        "max(a)"
      ]
    },
    {
      "cell_type": "code",
      "execution_count": null,
      "id": "8a3e8cec",
      "metadata": {
        "id": "8a3e8cec"
      },
      "outputs": [],
      "source": [
        "a = [10 , -1 , 5 , 20 , -11 , 15]"
      ]
    },
    {
      "cell_type": "code",
      "execution_count": null,
      "id": "cd393d3a",
      "metadata": {
        "id": "cd393d3a",
        "outputId": "2dfc7873-2bc8-4446-896b-ec0b2330cc23"
      },
      "outputs": [
        {
          "data": {
            "text/plain": [
              "-11"
            ]
          },
          "execution_count": 77,
          "metadata": {},
          "output_type": "execute_result"
        }
      ],
      "source": [
        "min(a)"
      ]
    },
    {
      "cell_type": "code",
      "execution_count": null,
      "id": "2e82d8f9",
      "metadata": {
        "id": "2e82d8f9"
      },
      "outputs": [],
      "source": [
        "for i in a:\n",
        "    if i > b:\n",
        "        b = i\n",
        "\n",
        "print(b)"
      ]
    },
    {
      "cell_type": "code",
      "execution_count": null,
      "id": "140e7b91",
      "metadata": {
        "id": "140e7b91",
        "outputId": "c534adf5-aad8-489e-8ba9-da03a90fcce8"
      },
      "outputs": [
        {
          "data": {
            "text/plain": [
              "-11"
            ]
          },
          "execution_count": 78,
          "metadata": {},
          "output_type": "execute_result"
        }
      ],
      "source": [
        "min(a)"
      ]
    },
    {
      "cell_type": "markdown",
      "id": "43247bc2",
      "metadata": {
        "id": "43247bc2"
      },
      "source": [
        "## تمرین 3 امتیازی :"
      ]
    },
    {
      "cell_type": "markdown",
      "id": "435b2b2b",
      "metadata": {
        "id": "435b2b2b"
      },
      "source": [
        "## تابعی بنویسید که لیست زیر را دریافت کرده و مقدار کمینه را نمایش دهد"
      ]
    },
    {
      "cell_type": "code",
      "execution_count": null,
      "id": "62e0605e",
      "metadata": {
        "id": "62e0605e"
      },
      "outputs": [],
      "source": [
        "a = [10 , -1 , 5 , 20 , -11 , 15]"
      ]
    },
    {
      "cell_type": "code",
      "execution_count": null,
      "id": "289780e6",
      "metadata": {
        "id": "289780e6"
      },
      "outputs": [],
      "source": []
    },
    {
      "cell_type": "code",
      "execution_count": null,
      "id": "0cf1f95c",
      "metadata": {
        "id": "0cf1f95c"
      },
      "outputs": [],
      "source": []
    },
    {
      "cell_type": "code",
      "execution_count": null,
      "id": "acc200b7",
      "metadata": {
        "id": "acc200b7"
      },
      "outputs": [],
      "source": []
    },
    {
      "cell_type": "code",
      "execution_count": null,
      "id": "d8479815",
      "metadata": {
        "id": "d8479815"
      },
      "outputs": [],
      "source": []
    },
    {
      "cell_type": "code",
      "execution_count": null,
      "id": "193e2e9a",
      "metadata": {
        "id": "193e2e9a"
      },
      "outputs": [],
      "source": []
    },
    {
      "cell_type": "code",
      "execution_count": null,
      "id": "b09d4279",
      "metadata": {
        "id": "b09d4279"
      },
      "outputs": [],
      "source": [
        "def my_min(my_list):\n",
        "    temp = 0\n",
        "\n",
        "    for i in my_list:\n",
        "        if i < temp:\n",
        "            temp = i\n",
        "\n",
        "    return(temp)"
      ]
    },
    {
      "cell_type": "code",
      "execution_count": null,
      "id": "f9ec4e9e",
      "metadata": {
        "id": "f9ec4e9e"
      },
      "outputs": [],
      "source": [
        "a = [10 , -1 , 5 , 20 , -11 , 15]"
      ]
    },
    {
      "cell_type": "code",
      "execution_count": null,
      "id": "c5940550",
      "metadata": {
        "id": "c5940550",
        "outputId": "0023c079-f9e2-4e21-eca0-25265d35f231"
      },
      "outputs": [
        {
          "data": {
            "text/plain": [
              "-11"
            ]
          },
          "execution_count": 87,
          "metadata": {},
          "output_type": "execute_result"
        }
      ],
      "source": [
        "my_min(a)"
      ]
    },
    {
      "cell_type": "code",
      "execution_count": null,
      "id": "f9c51c3b",
      "metadata": {
        "id": "f9c51c3b",
        "outputId": "84360649-0424-4589-9dfb-c405880c29a5"
      },
      "outputs": [
        {
          "data": {
            "text/plain": [
              "-11"
            ]
          },
          "execution_count": 88,
          "metadata": {},
          "output_type": "execute_result"
        }
      ],
      "source": [
        "min(a)"
      ]
    },
    {
      "cell_type": "code",
      "execution_count": null,
      "id": "025697d5",
      "metadata": {
        "id": "025697d5"
      },
      "outputs": [],
      "source": []
    },
    {
      "cell_type": "markdown",
      "id": "ec7d9c30",
      "metadata": {
        "id": "ec7d9c30"
      },
      "source": [
        "## مثال 8 :"
      ]
    },
    {
      "cell_type": "code",
      "execution_count": null,
      "id": "666f5ea1",
      "metadata": {
        "id": "666f5ea1"
      },
      "outputs": [],
      "source": [
        "a = [1, 2, 3]"
      ]
    },
    {
      "cell_type": "code",
      "execution_count": null,
      "id": "10da0035",
      "metadata": {
        "id": "10da0035",
        "outputId": "4d926e9e-f705-409d-b801-10e2c9a23e77"
      },
      "outputs": [
        {
          "data": {
            "text/plain": [
              "6"
            ]
          },
          "execution_count": 90,
          "metadata": {},
          "output_type": "execute_result"
        }
      ],
      "source": [
        "sum(a)"
      ]
    },
    {
      "cell_type": "code",
      "execution_count": null,
      "id": "32f70cc6",
      "metadata": {
        "id": "32f70cc6"
      },
      "outputs": [],
      "source": []
    },
    {
      "cell_type": "code",
      "execution_count": null,
      "id": "113582b6",
      "metadata": {
        "id": "113582b6"
      },
      "outputs": [],
      "source": []
    },
    {
      "cell_type": "markdown",
      "id": "769c0d12",
      "metadata": {
        "id": "769c0d12"
      },
      "source": [
        "## تمرین 4 امتیازی :"
      ]
    },
    {
      "cell_type": "markdown",
      "id": "1244e909",
      "metadata": {
        "id": "1244e909"
      },
      "source": [
        "## تابع جمع را پیاده سازی نمایید"
      ]
    },
    {
      "cell_type": "code",
      "execution_count": null,
      "id": "900d0f25",
      "metadata": {
        "id": "900d0f25"
      },
      "outputs": [],
      "source": [
        "a = [1, 2, 3]"
      ]
    },
    {
      "cell_type": "code",
      "execution_count": null,
      "id": "da33e806",
      "metadata": {
        "id": "da33e806"
      },
      "outputs": [],
      "source": [
        "def my_sum(my_list):\n",
        "    temp = 0\n",
        "\n",
        "    for i in my_list:\n",
        "        temp = temp + i\n",
        "\n",
        "    return(temp)"
      ]
    },
    {
      "cell_type": "code",
      "execution_count": null,
      "id": "b5a5a5ee",
      "metadata": {
        "id": "b5a5a5ee",
        "outputId": "2a5dcefd-8f12-4a81-8a07-e58a95d5c1fc"
      },
      "outputs": [
        {
          "data": {
            "text/plain": [
              "6"
            ]
          },
          "execution_count": 93,
          "metadata": {},
          "output_type": "execute_result"
        }
      ],
      "source": [
        "my_sum(a)"
      ]
    },
    {
      "cell_type": "code",
      "execution_count": null,
      "id": "979d0546",
      "metadata": {
        "id": "979d0546",
        "outputId": "aa1996ac-c222-4143-cec3-b690158cbf4c"
      },
      "outputs": [
        {
          "data": {
            "text/plain": [
              "6"
            ]
          },
          "execution_count": 94,
          "metadata": {},
          "output_type": "execute_result"
        }
      ],
      "source": [
        "sum(a)"
      ]
    },
    {
      "cell_type": "markdown",
      "id": "152ae8fe",
      "metadata": {
        "id": "152ae8fe"
      },
      "source": [
        "## مثال 9 :"
      ]
    },
    {
      "cell_type": "code",
      "execution_count": null,
      "id": "0546b983",
      "metadata": {
        "id": "0546b983"
      },
      "outputs": [],
      "source": [
        "a = ['انگور', 'سیب', 'موز', 'انگور', 'پرتغال']"
      ]
    },
    {
      "cell_type": "code",
      "execution_count": null,
      "id": "e2ab5c81",
      "metadata": {
        "id": "e2ab5c81",
        "outputId": "007b0a44-2439-4729-ae76-b82edd667bdd"
      },
      "outputs": [
        {
          "data": {
            "text/plain": [
              "2"
            ]
          },
          "execution_count": 96,
          "metadata": {},
          "output_type": "execute_result"
        }
      ],
      "source": [
        "a.count('انگور')"
      ]
    },
    {
      "cell_type": "code",
      "execution_count": null,
      "id": "e8da7904",
      "metadata": {
        "id": "e8da7904",
        "outputId": "8a28dc8a-6d9f-4a4c-fced-27e0d50122ec"
      },
      "outputs": [
        {
          "data": {
            "text/plain": [
              "1"
            ]
          },
          "execution_count": 97,
          "metadata": {},
          "output_type": "execute_result"
        }
      ],
      "source": [
        "a.count('سیب')"
      ]
    },
    {
      "cell_type": "code",
      "execution_count": null,
      "id": "44cea08c",
      "metadata": {
        "id": "44cea08c",
        "outputId": "d59aa75f-6801-4540-fc29-bf665135b0ef"
      },
      "outputs": [
        {
          "data": {
            "text/plain": [
              "0"
            ]
          },
          "execution_count": 98,
          "metadata": {},
          "output_type": "execute_result"
        }
      ],
      "source": [
        "a.count('گلابی')"
      ]
    },
    {
      "cell_type": "code",
      "execution_count": null,
      "id": "95923984",
      "metadata": {
        "id": "95923984"
      },
      "outputs": [],
      "source": []
    },
    {
      "cell_type": "code",
      "execution_count": null,
      "id": "6325fe01",
      "metadata": {
        "id": "6325fe01"
      },
      "outputs": [],
      "source": []
    },
    {
      "cell_type": "code",
      "execution_count": null,
      "id": "b2f765c3",
      "metadata": {
        "id": "b2f765c3"
      },
      "outputs": [],
      "source": []
    },
    {
      "cell_type": "code",
      "execution_count": null,
      "id": "80341084",
      "metadata": {
        "id": "80341084"
      },
      "outputs": [],
      "source": []
    },
    {
      "cell_type": "code",
      "execution_count": null,
      "id": "7673b137",
      "metadata": {
        "id": "7673b137"
      },
      "outputs": [],
      "source": []
    },
    {
      "cell_type": "markdown",
      "id": "653f7944",
      "metadata": {
        "id": "653f7944"
      },
      "source": [
        "## تمرین 4 امتیازی :"
      ]
    },
    {
      "cell_type": "markdown",
      "id": "ddfcbd44",
      "metadata": {
        "id": "ddfcbd44"
      },
      "source": [
        "## پیاده سازی کنید count تابع"
      ]
    },
    {
      "cell_type": "code",
      "execution_count": null,
      "id": "e269c87f",
      "metadata": {
        "id": "e269c87f"
      },
      "outputs": [],
      "source": [
        "a = ['انگور', 'سیب', 'موز', 'انگور', 'پرتغال']"
      ]
    },
    {
      "cell_type": "code",
      "execution_count": null,
      "id": "a1a210fd",
      "metadata": {
        "id": "a1a210fd"
      },
      "outputs": [],
      "source": []
    },
    {
      "cell_type": "code",
      "execution_count": null,
      "id": "d7418211",
      "metadata": {
        "id": "d7418211",
        "outputId": "f0ed630e-3733-4402-af56-df7299196d89"
      },
      "outputs": [
        {
          "data": {
            "text/plain": [
              "2"
            ]
          },
          "execution_count": 8,
          "metadata": {},
          "output_type": "execute_result"
        }
      ],
      "source": [
        "my_count('انگور')"
      ]
    },
    {
      "cell_type": "code",
      "execution_count": null,
      "id": "5329725d",
      "metadata": {
        "id": "5329725d",
        "outputId": "e3431728-38f7-4f50-cb37-697f2671773d"
      },
      "outputs": [
        {
          "data": {
            "text/plain": [
              "1"
            ]
          },
          "execution_count": 9,
          "metadata": {},
          "output_type": "execute_result"
        }
      ],
      "source": [
        "my_count('سیب')"
      ]
    },
    {
      "cell_type": "code",
      "execution_count": null,
      "id": "3c05bc03",
      "metadata": {
        "id": "3c05bc03",
        "outputId": "c3c74e07-1f2d-4082-b002-2eb3c101cebf"
      },
      "outputs": [
        {
          "data": {
            "text/plain": [
              "0"
            ]
          },
          "execution_count": 10,
          "metadata": {},
          "output_type": "execute_result"
        }
      ],
      "source": [
        "my_count('گلابی')"
      ]
    },
    {
      "cell_type": "code",
      "execution_count": null,
      "id": "466abc11",
      "metadata": {
        "id": "466abc11"
      },
      "outputs": [],
      "source": []
    },
    {
      "cell_type": "code",
      "execution_count": null,
      "id": "164e7d2f",
      "metadata": {
        "id": "164e7d2f"
      },
      "outputs": [],
      "source": []
    },
    {
      "cell_type": "code",
      "execution_count": null,
      "id": "0b8a1c01",
      "metadata": {
        "id": "0b8a1c01"
      },
      "outputs": [],
      "source": []
    },
    {
      "cell_type": "code",
      "execution_count": null,
      "id": "455c52c1",
      "metadata": {
        "id": "455c52c1"
      },
      "outputs": [],
      "source": [
        "a = ['انگور', 'سیب', 'موز', 'انگور', 'پرتغال']"
      ]
    },
    {
      "cell_type": "code",
      "execution_count": null,
      "id": "7696f77f",
      "metadata": {
        "id": "7696f77f"
      },
      "outputs": [],
      "source": [
        "example = 'انگور'"
      ]
    },
    {
      "cell_type": "code",
      "execution_count": null,
      "id": "6b4d2306",
      "metadata": {
        "id": "6b4d2306"
      },
      "outputs": [],
      "source": [
        "def my_count(example):\n",
        "    num = 0\n",
        "    for i in a:\n",
        "        if i == example:\n",
        "            num = num + 1\n",
        "    return(num)"
      ]
    },
    {
      "cell_type": "code",
      "execution_count": null,
      "id": "a23265d5",
      "metadata": {
        "id": "a23265d5",
        "outputId": "faf220b3-72eb-47b7-9fe3-7b366369da22"
      },
      "outputs": [
        {
          "data": {
            "text/plain": [
              "2"
            ]
          },
          "execution_count": 101,
          "metadata": {},
          "output_type": "execute_result"
        }
      ],
      "source": [
        "my_count('انگور')"
      ]
    },
    {
      "cell_type": "code",
      "execution_count": null,
      "id": "5d42e2d9",
      "metadata": {
        "id": "5d42e2d9",
        "outputId": "c71ae0b8-0025-4679-eab7-71d803fb4690"
      },
      "outputs": [
        {
          "data": {
            "text/plain": [
              "2"
            ]
          },
          "execution_count": 103,
          "metadata": {},
          "output_type": "execute_result"
        }
      ],
      "source": [
        "a.count('انگور')"
      ]
    },
    {
      "cell_type": "code",
      "execution_count": null,
      "id": "f2bb42cb",
      "metadata": {
        "id": "f2bb42cb"
      },
      "outputs": [],
      "source": []
    },
    {
      "cell_type": "code",
      "execution_count": null,
      "id": "d7ea554c",
      "metadata": {
        "id": "d7ea554c"
      },
      "outputs": [],
      "source": []
    },
    {
      "cell_type": "code",
      "execution_count": null,
      "id": "589fa566",
      "metadata": {
        "id": "589fa566"
      },
      "outputs": [],
      "source": []
    },
    {
      "cell_type": "markdown",
      "id": "f4343647",
      "metadata": {
        "id": "f4343647"
      },
      "source": [
        "## مثال 10 :"
      ]
    },
    {
      "cell_type": "code",
      "execution_count": null,
      "id": "7fbc2f41",
      "metadata": {
        "id": "7fbc2f41"
      },
      "outputs": [],
      "source": [
        "b = [2, 14, 6 , 16 , 3]"
      ]
    },
    {
      "cell_type": "code",
      "execution_count": null,
      "id": "a014229b",
      "metadata": {
        "id": "a014229b"
      },
      "outputs": [],
      "source": [
        "b.insert(2, 10)"
      ]
    },
    {
      "cell_type": "code",
      "execution_count": null,
      "id": "ab13ccd7",
      "metadata": {
        "id": "ab13ccd7",
        "outputId": "28d4f99e-0c22-43a7-d5d5-d2a52ad2de33"
      },
      "outputs": [
        {
          "name": "stdout",
          "output_type": "stream",
          "text": [
            "[2, 14, 10, 6, 16, 3]\n"
          ]
        }
      ],
      "source": [
        "print(b)"
      ]
    },
    {
      "cell_type": "code",
      "execution_count": null,
      "id": "7a366d81",
      "metadata": {
        "id": "7a366d81"
      },
      "outputs": [],
      "source": [
        "b.remove(10)"
      ]
    },
    {
      "cell_type": "code",
      "execution_count": null,
      "id": "13e944fb",
      "metadata": {
        "id": "13e944fb",
        "outputId": "ed8f28b7-0251-4cb9-e3ae-e0de31c2120d"
      },
      "outputs": [
        {
          "name": "stdout",
          "output_type": "stream",
          "text": [
            "[2, 14, 6, 16, 3]\n"
          ]
        }
      ],
      "source": [
        "print(b)"
      ]
    },
    {
      "cell_type": "code",
      "execution_count": null,
      "id": "2ed653a5",
      "metadata": {
        "id": "2ed653a5"
      },
      "outputs": [],
      "source": [
        "b.sort()"
      ]
    },
    {
      "cell_type": "code",
      "execution_count": null,
      "id": "95155b2a",
      "metadata": {
        "id": "95155b2a",
        "outputId": "d4e479b7-7d64-4e73-f7bc-537c2aeaed92"
      },
      "outputs": [
        {
          "name": "stdout",
          "output_type": "stream",
          "text": [
            "[2, 3, 6, 14, 16]\n"
          ]
        }
      ],
      "source": [
        "print(b)"
      ]
    },
    {
      "cell_type": "code",
      "execution_count": null,
      "id": "b2f6923d",
      "metadata": {
        "id": "b2f6923d"
      },
      "outputs": [],
      "source": [
        "del b[2]"
      ]
    },
    {
      "cell_type": "code",
      "execution_count": null,
      "id": "987b6086",
      "metadata": {
        "id": "987b6086",
        "outputId": "741b66c3-59cb-4ef4-999b-5766b30136d0"
      },
      "outputs": [
        {
          "name": "stdout",
          "output_type": "stream",
          "text": [
            "[2, 3, 14, 16]\n"
          ]
        }
      ],
      "source": [
        "print(b)"
      ]
    },
    {
      "cell_type": "code",
      "execution_count": null,
      "id": "e1d8fbed",
      "metadata": {
        "id": "e1d8fbed"
      },
      "outputs": [],
      "source": []
    },
    {
      "cell_type": "code",
      "execution_count": null,
      "id": "a6d105e0",
      "metadata": {
        "id": "a6d105e0"
      },
      "outputs": [],
      "source": []
    },
    {
      "cell_type": "code",
      "execution_count": null,
      "id": "d5de4e93",
      "metadata": {
        "id": "d5de4e93"
      },
      "outputs": [],
      "source": []
    },
    {
      "cell_type": "code",
      "execution_count": null,
      "id": "a813dfb8",
      "metadata": {
        "id": "a813dfb8"
      },
      "outputs": [],
      "source": []
    },
    {
      "cell_type": "markdown",
      "id": "b6bdcd6b",
      "metadata": {
        "id": "b6bdcd6b"
      },
      "source": [
        "## تمرین 5 امتیازی:"
      ]
    },
    {
      "cell_type": "markdown",
      "id": "cde13de5",
      "metadata": {
        "id": "cde13de5"
      },
      "source": [
        "## پیاده سازی کنید remove تابع"
      ]
    },
    {
      "cell_type": "code",
      "execution_count": null,
      "id": "c8965064",
      "metadata": {
        "id": "c8965064"
      },
      "outputs": [],
      "source": [
        "a = [2, 14, 6 , 16 , 3]"
      ]
    },
    {
      "cell_type": "markdown",
      "id": "f6aa3dd7",
      "metadata": {
        "id": "f6aa3dd7"
      },
      "source": [
        "## تابعی پیاده سازی کنید که لیست بالا را دریافت کرده و عدد مورد نظر کاربر را حذف نماید:"
      ]
    },
    {
      "cell_type": "code",
      "execution_count": null,
      "id": "0034c04e",
      "metadata": {
        "id": "0034c04e"
      },
      "outputs": [],
      "source": [
        "a = [2, 14, 6 , 16 , 3]"
      ]
    },
    {
      "cell_type": "code",
      "execution_count": null,
      "id": "e4df70d1",
      "metadata": {
        "id": "e4df70d1",
        "outputId": "edfa40e5-4c9a-4e52-a41a-29bfe8a76f1d"
      },
      "outputs": [
        {
          "data": {
            "text/plain": [
              "[2, 6, 16, 3]"
            ]
          },
          "execution_count": 116,
          "metadata": {},
          "output_type": "execute_result"
        }
      ],
      "source": [
        "my_remove(14,a)"
      ]
    },
    {
      "cell_type": "code",
      "execution_count": null,
      "id": "baf7757a",
      "metadata": {
        "id": "baf7757a"
      },
      "outputs": [],
      "source": []
    },
    {
      "cell_type": "code",
      "execution_count": null,
      "id": "f3974901",
      "metadata": {
        "id": "f3974901"
      },
      "outputs": [],
      "source": []
    },
    {
      "cell_type": "code",
      "execution_count": null,
      "id": "68d5911e",
      "metadata": {
        "id": "68d5911e"
      },
      "outputs": [],
      "source": []
    },
    {
      "cell_type": "code",
      "execution_count": null,
      "id": "779b684b",
      "metadata": {
        "id": "779b684b"
      },
      "outputs": [],
      "source": []
    },
    {
      "cell_type": "code",
      "execution_count": null,
      "id": "3dbbda82",
      "metadata": {
        "id": "3dbbda82"
      },
      "outputs": [],
      "source": []
    },
    {
      "cell_type": "code",
      "execution_count": null,
      "id": "648f6e53",
      "metadata": {
        "id": "648f6e53"
      },
      "outputs": [],
      "source": [
        "def my_remove(a,b):\n",
        "    for i in b:\n",
        "        if i == a:\n",
        "            del b[b.index(a)]\n",
        "    return(b)"
      ]
    },
    {
      "cell_type": "code",
      "execution_count": null,
      "id": "7900e48b",
      "metadata": {
        "id": "7900e48b"
      },
      "outputs": [],
      "source": []
    },
    {
      "cell_type": "code",
      "execution_count": null,
      "id": "763f6614",
      "metadata": {
        "id": "763f6614"
      },
      "outputs": [],
      "source": []
    },
    {
      "cell_type": "code",
      "execution_count": null,
      "id": "54afb224",
      "metadata": {
        "id": "54afb224"
      },
      "outputs": [],
      "source": []
    },
    {
      "cell_type": "markdown",
      "id": "b282dd78",
      "metadata": {
        "id": "b282dd78"
      },
      "source": [
        "## مثال 11 :"
      ]
    },
    {
      "cell_type": "code",
      "execution_count": null,
      "id": "cdee7730",
      "metadata": {
        "id": "cdee7730"
      },
      "outputs": [],
      "source": [
        "a = [1, 2, 3]\n",
        "b = [4, 5, 6]"
      ]
    },
    {
      "cell_type": "code",
      "execution_count": null,
      "id": "e0248a97",
      "metadata": {
        "id": "e0248a97"
      },
      "outputs": [],
      "source": [
        "a.extend(b)"
      ]
    },
    {
      "cell_type": "code",
      "execution_count": null,
      "id": "f27dbc41",
      "metadata": {
        "id": "f27dbc41",
        "outputId": "500ac212-9139-4479-f5f6-717e2aefffd5"
      },
      "outputs": [
        {
          "name": "stdout",
          "output_type": "stream",
          "text": [
            "6\n",
            "[1, 2, 3, 4, 5, 6]\n"
          ]
        }
      ],
      "source": [
        "print(len(a))\n",
        "print(a)"
      ]
    },
    {
      "cell_type": "code",
      "execution_count": null,
      "id": "63cb3383",
      "metadata": {
        "id": "63cb3383"
      },
      "outputs": [],
      "source": []
    },
    {
      "cell_type": "code",
      "execution_count": null,
      "id": "127ae69f",
      "metadata": {
        "id": "127ae69f"
      },
      "outputs": [],
      "source": [
        "a = [1, 2, 3]\n",
        "b = [4, 5, 6]"
      ]
    },
    {
      "cell_type": "code",
      "execution_count": null,
      "id": "a372a305",
      "metadata": {
        "id": "a372a305"
      },
      "outputs": [],
      "source": [
        "b.extend(a)"
      ]
    },
    {
      "cell_type": "code",
      "execution_count": null,
      "id": "fad56d1f",
      "metadata": {
        "id": "fad56d1f",
        "outputId": "5630b017-e8fb-4bc0-f1a0-045d61e6dcbf"
      },
      "outputs": [
        {
          "name": "stdout",
          "output_type": "stream",
          "text": [
            "6\n",
            "[4, 5, 6, 1, 2, 3]\n"
          ]
        }
      ],
      "source": [
        "print(len(b))\n",
        "print(b)"
      ]
    },
    {
      "cell_type": "code",
      "execution_count": null,
      "id": "9b92b8fa",
      "metadata": {
        "id": "9b92b8fa"
      },
      "outputs": [],
      "source": []
    },
    {
      "cell_type": "code",
      "execution_count": null,
      "id": "61b3b03a",
      "metadata": {
        "id": "61b3b03a"
      },
      "outputs": [],
      "source": [
        "a = [1, 2, 3]\n",
        "b = [4, 5, 6]"
      ]
    },
    {
      "cell_type": "code",
      "execution_count": null,
      "id": "0a4a54df",
      "metadata": {
        "id": "0a4a54df"
      },
      "outputs": [],
      "source": [
        "a.append(b)"
      ]
    },
    {
      "cell_type": "code",
      "execution_count": null,
      "id": "7fb47198",
      "metadata": {
        "id": "7fb47198",
        "outputId": "cadd75a7-5790-4337-9162-4195b91967cc"
      },
      "outputs": [
        {
          "name": "stdout",
          "output_type": "stream",
          "text": [
            "4\n",
            "[1, 2, 3, [4, 5, 6]]\n"
          ]
        }
      ],
      "source": [
        "print(len(a))\n",
        "print(a)"
      ]
    },
    {
      "cell_type": "code",
      "execution_count": null,
      "id": "08b7596d",
      "metadata": {
        "id": "08b7596d"
      },
      "outputs": [],
      "source": []
    },
    {
      "cell_type": "code",
      "execution_count": null,
      "id": "0c14d807",
      "metadata": {
        "id": "0c14d807"
      },
      "outputs": [],
      "source": [
        "a = [1, 2, 3]"
      ]
    },
    {
      "cell_type": "code",
      "execution_count": null,
      "id": "1a1b805b",
      "metadata": {
        "id": "1a1b805b"
      },
      "outputs": [],
      "source": [
        "a.append(4)"
      ]
    },
    {
      "cell_type": "code",
      "execution_count": null,
      "id": "731e65d6",
      "metadata": {
        "id": "731e65d6",
        "outputId": "fb07f57d-e274-4b4a-e5ac-317520dd8aaf"
      },
      "outputs": [
        {
          "name": "stdout",
          "output_type": "stream",
          "text": [
            "4\n",
            "[1, 2, 3, 4]\n"
          ]
        }
      ],
      "source": [
        "print(len(a))\n",
        "print(a)"
      ]
    },
    {
      "cell_type": "code",
      "execution_count": null,
      "id": "d67131e2",
      "metadata": {
        "id": "d67131e2"
      },
      "outputs": [],
      "source": []
    },
    {
      "cell_type": "code",
      "execution_count": null,
      "id": "45a83f2e",
      "metadata": {
        "id": "45a83f2e"
      },
      "outputs": [],
      "source": []
    },
    {
      "cell_type": "markdown",
      "id": "5a657b78",
      "metadata": {
        "id": "5a657b78"
      },
      "source": [
        "## تمرین 6 امتیازی :"
      ]
    },
    {
      "cell_type": "markdown",
      "id": "947c77c8",
      "metadata": {
        "id": "947c77c8"
      },
      "source": [
        "## input :  "
      ]
    },
    {
      "cell_type": "code",
      "execution_count": null,
      "id": "4b7f5dd1",
      "metadata": {
        "id": "4b7f5dd1"
      },
      "outputs": [],
      "source": [
        "a = [35, 42, 65 , 12]\n",
        "b = [True, False, True, False]"
      ]
    },
    {
      "cell_type": "markdown",
      "id": "befeec01",
      "metadata": {
        "id": "befeec01"
      },
      "source": [
        "## output:"
      ]
    },
    {
      "cell_type": "code",
      "execution_count": null,
      "id": "5e8d1183",
      "metadata": {
        "id": "5e8d1183"
      },
      "outputs": [],
      "source": [
        "[[35, True], [42, False], [65, True], [12, False]]"
      ]
    },
    {
      "cell_type": "code",
      "execution_count": null,
      "id": "d215356d",
      "metadata": {
        "id": "d215356d"
      },
      "outputs": [],
      "source": []
    },
    {
      "cell_type": "code",
      "execution_count": null,
      "id": "3faa8b0f",
      "metadata": {
        "id": "3faa8b0f"
      },
      "outputs": [],
      "source": []
    },
    {
      "cell_type": "code",
      "execution_count": null,
      "id": "4b02b603",
      "metadata": {
        "id": "4b02b603"
      },
      "outputs": [],
      "source": []
    },
    {
      "cell_type": "code",
      "execution_count": null,
      "id": "93c99bdf",
      "metadata": {
        "id": "93c99bdf"
      },
      "outputs": [],
      "source": []
    },
    {
      "cell_type": "code",
      "execution_count": null,
      "id": "401e1571",
      "metadata": {
        "id": "401e1571"
      },
      "outputs": [],
      "source": []
    },
    {
      "cell_type": "code",
      "execution_count": null,
      "id": "ae37bfd3",
      "metadata": {
        "id": "ae37bfd3"
      },
      "outputs": [],
      "source": []
    },
    {
      "cell_type": "code",
      "execution_count": null,
      "id": "396b54c9",
      "metadata": {
        "id": "396b54c9"
      },
      "outputs": [],
      "source": []
    },
    {
      "cell_type": "code",
      "execution_count": null,
      "id": "28eb83e3",
      "metadata": {
        "id": "28eb83e3"
      },
      "outputs": [],
      "source": []
    },
    {
      "cell_type": "code",
      "execution_count": null,
      "id": "7ed78420",
      "metadata": {
        "id": "7ed78420"
      },
      "outputs": [],
      "source": [
        "def my_def(a, b):\n",
        "    z = []\n",
        "    for i in range(len(a)):\n",
        "        x = a[i]\n",
        "        y = b[i]\n",
        "\n",
        "        temp = [x,y]\n",
        "        z.append(temp)\n",
        "    return(z)"
      ]
    },
    {
      "cell_type": "code",
      "execution_count": null,
      "id": "bfe498f4",
      "metadata": {
        "id": "bfe498f4"
      },
      "outputs": [],
      "source": []
    },
    {
      "cell_type": "code",
      "execution_count": null,
      "id": "2671fe23",
      "metadata": {
        "id": "2671fe23",
        "outputId": "c29e7e26-37ee-4354-bdc0-35009bf0c51e"
      },
      "outputs": [
        {
          "name": "stdout",
          "output_type": "stream",
          "text": [
            "[[35, True], [42, False], [65, True], [12, False]]\n"
          ]
        }
      ],
      "source": [
        "c = my_def(a,b)\n",
        "print(c)"
      ]
    },
    {
      "cell_type": "markdown",
      "id": "092ffd1a",
      "metadata": {
        "id": "092ffd1a"
      },
      "source": [
        "## تمرین 7 امتیازی:"
      ]
    },
    {
      "cell_type": "markdown",
      "id": "f022990b",
      "metadata": {
        "id": "f022990b"
      },
      "source": [
        "## input:"
      ]
    },
    {
      "cell_type": "code",
      "execution_count": null,
      "id": "d5ab3a36",
      "metadata": {
        "id": "d5ab3a36"
      },
      "outputs": [],
      "source": [
        "a = [35, 42, 65 , 12]\n",
        "b = [True, False, True, False]"
      ]
    },
    {
      "cell_type": "markdown",
      "id": "2d3b4cc1",
      "metadata": {
        "id": "2d3b4cc1"
      },
      "source": [
        "## output:"
      ]
    },
    {
      "cell_type": "code",
      "execution_count": null,
      "id": "f41014ff",
      "metadata": {
        "id": "f41014ff"
      },
      "outputs": [],
      "source": [
        "[35, True]  : Yes\n",
        "[42, False]  : No\n",
        "[65, True]  : Yes\n",
        "[12, False]  : No"
      ]
    },
    {
      "cell_type": "markdown",
      "id": "5998932e",
      "metadata": {
        "id": "5998932e"
      },
      "source": [
        "## در تعریف این تابع حتما از تابع تعریف شده در تمرین قبلی استفاده نمایید"
      ]
    },
    {
      "cell_type": "code",
      "execution_count": null,
      "id": "a0f9e50b",
      "metadata": {
        "id": "a0f9e50b"
      },
      "outputs": [],
      "source": [
        "def my_def2(a, b):\n",
        "    c = my_def(a, b)\n",
        "    for i in c:\n",
        "        x = i[0]\n",
        "        y = i[1]\n",
        "        if x >= 35 and y:\n",
        "            print(i, ' : Yes')\n",
        "        else:\n",
        "            print(i, ' : No')"
      ]
    },
    {
      "cell_type": "code",
      "execution_count": null,
      "id": "7d441078",
      "metadata": {
        "id": "7d441078"
      },
      "outputs": [],
      "source": [
        "my_def2(a,b)"
      ]
    },
    {
      "cell_type": "code",
      "source": [],
      "metadata": {
        "id": "QajGsiBvdk_J"
      },
      "id": "QajGsiBvdk_J",
      "execution_count": null,
      "outputs": []
    },
    {
      "cell_type": "markdown",
      "source": [
        "##input:"
      ],
      "metadata": {
        "id": "IWk1GNiudlWR"
      },
      "id": "IWk1GNiudlWR"
    },
    {
      "cell_type": "code",
      "execution_count": null,
      "id": "c92bca25",
      "metadata": {
        "id": "c92bca25"
      },
      "outputs": [],
      "source": [
        "a = ['ahmad', 'omid', 'ali', 'reza', 'omid', 'amir', 'ahmad']"
      ]
    },
    {
      "cell_type": "markdown",
      "id": "68dcc8e6",
      "metadata": {
        "id": "68dcc8e6"
      },
      "source": [
        "## output:"
      ]
    },
    {
      "cell_type": "code",
      "execution_count": null,
      "id": "b786273f",
      "metadata": {
        "id": "b786273f"
      },
      "outputs": [],
      "source": [
        "['ahmad', 'omid', 'ali', 'reza', 'amir']"
      ]
    }
  ],
  "metadata": {
    "kernelspec": {
      "display_name": "Python 3 (ipykernel)",
      "language": "python",
      "name": "python3"
    },
    "language_info": {
      "codemirror_mode": {
        "name": "ipython",
        "version": 3
      },
      "file_extension": ".py",
      "mimetype": "text/x-python",
      "name": "python",
      "nbconvert_exporter": "python",
      "pygments_lexer": "ipython3",
      "version": "3.11.5"
    },
    "colab": {
      "provenance": [],
      "include_colab_link": true
    }
  },
  "nbformat": 4,
  "nbformat_minor": 5
}