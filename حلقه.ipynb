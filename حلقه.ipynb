{
  "cells": [
    {
      "cell_type": "markdown",
      "metadata": {
        "id": "view-in-github",
        "colab_type": "text"
      },
      "source": [
        "<a href=\"https://colab.research.google.com/github/omid-sakaki-ghazvini/Educations/blob/main/%D8%AD%D9%84%D9%82%D9%87.ipynb\" target=\"_parent\"><img src=\"https://colab.research.google.com/assets/colab-badge.svg\" alt=\"Open In Colab\"/></a>"
      ]
    },
    {
      "cell_type": "code",
      "execution_count": null,
      "id": "0df8100a",
      "metadata": {
        "id": "0df8100a"
      },
      "outputs": [],
      "source": [
        "for i in range(3):\n",
        "    print(i)"
      ]
    },
    {
      "cell_type": "code",
      "execution_count": null,
      "id": "ba90ecd6",
      "metadata": {
        "id": "ba90ecd6"
      },
      "outputs": [],
      "source": [
        "SUM = 0\n",
        "\n",
        "for i in range(6):\n",
        "\n",
        "    SUM = SUM + i\n",
        "\n",
        "print(SUM)"
      ]
    },
    {
      "cell_type": "code",
      "execution_count": null,
      "id": "b04c8a48",
      "metadata": {
        "id": "b04c8a48"
      },
      "outputs": [],
      "source": [
        "SUM = 0\n",
        "\n",
        "for i in range(6):\n",
        "\n",
        "    SUM = SUM + i\n",
        "\n",
        "AVE = SUM / 5\n",
        "\n",
        "print(AVE)"
      ]
    },
    {
      "cell_type": "code",
      "execution_count": null,
      "id": "2dabc743",
      "metadata": {
        "id": "2dabc743"
      },
      "outputs": [],
      "source": []
    },
    {
      "cell_type": "code",
      "execution_count": null,
      "id": "2ddcdc81",
      "metadata": {
        "id": "2ddcdc81"
      },
      "outputs": [],
      "source": [
        "SUM = 0\n",
        "a = 0\n",
        "\n",
        "for i in range(3):\n",
        "\n",
        "    a = int(input())\n",
        "\n",
        "    SUM = SUM  + a\n",
        "\n",
        "print(SUM)"
      ]
    },
    {
      "cell_type": "code",
      "execution_count": null,
      "id": "fda60848",
      "metadata": {
        "id": "fda60848"
      },
      "outputs": [],
      "source": []
    },
    {
      "cell_type": "code",
      "execution_count": null,
      "id": "91bc9ee0",
      "metadata": {
        "id": "91bc9ee0"
      },
      "outputs": [],
      "source": [
        "SUM = 0\n",
        "a = 0\n",
        "\n",
        "for i in range(3):\n",
        "\n",
        "    a = int(input())\n",
        "\n",
        "    SUM = SUM + a\n",
        "\n",
        "AVE  = SUM / 3\n",
        "\n",
        "print(AVE)"
      ]
    },
    {
      "cell_type": "code",
      "execution_count": null,
      "id": "52463744",
      "metadata": {
        "id": "52463744"
      },
      "outputs": [],
      "source": []
    },
    {
      "cell_type": "code",
      "execution_count": null,
      "id": "fe4299a4",
      "metadata": {
        "id": "fe4299a4",
        "outputId": "acf80bbf-aa7c-48bd-db4f-103f52391232"
      },
      "outputs": [
        {
          "name": "stdout",
          "output_type": "stream",
          "text": [
            "2\n"
          ]
        },
        {
          "data": {
            "text/plain": [
              "int"
            ]
          },
          "execution_count": 1,
          "metadata": {},
          "output_type": "execute_result"
        }
      ],
      "source": [
        "a = 2\n",
        "\n",
        "print(a)\n",
        "\n",
        "type(a)"
      ]
    },
    {
      "cell_type": "code",
      "execution_count": null,
      "id": "9770b2b2",
      "metadata": {
        "id": "9770b2b2"
      },
      "outputs": [],
      "source": []
    },
    {
      "cell_type": "code",
      "execution_count": null,
      "id": "8a585514",
      "metadata": {
        "id": "8a585514",
        "outputId": "38816151-d397-4e5c-c3d1-96294f6f7d45"
      },
      "outputs": [
        {
          "name": "stdout",
          "output_type": "stream",
          "text": [
            "10.88\n"
          ]
        },
        {
          "data": {
            "text/plain": [
              "float"
            ]
          },
          "execution_count": 2,
          "metadata": {},
          "output_type": "execute_result"
        }
      ],
      "source": [
        "b = 10.88\n",
        "\n",
        "print(b)\n",
        "\n",
        "type(b)"
      ]
    },
    {
      "cell_type": "code",
      "execution_count": null,
      "id": "bfda6627",
      "metadata": {
        "id": "bfda6627"
      },
      "outputs": [],
      "source": []
    },
    {
      "cell_type": "code",
      "execution_count": null,
      "id": "523de7dd",
      "metadata": {
        "id": "523de7dd",
        "outputId": "e5f45328-cc6d-4129-c164-942b3aa76d33"
      },
      "outputs": [
        {
          "name": "stdout",
          "output_type": "stream",
          "text": [
            "ali\n"
          ]
        },
        {
          "data": {
            "text/plain": [
              "str"
            ]
          },
          "execution_count": 3,
          "metadata": {},
          "output_type": "execute_result"
        }
      ],
      "source": [
        "c = 'ali'\n",
        "\n",
        "print(c)\n",
        "\n",
        "type(c)"
      ]
    },
    {
      "cell_type": "code",
      "execution_count": null,
      "id": "7244aecb",
      "metadata": {
        "id": "7244aecb"
      },
      "outputs": [],
      "source": []
    },
    {
      "cell_type": "code",
      "execution_count": null,
      "id": "02d56351",
      "metadata": {
        "id": "02d56351",
        "outputId": "b1d5f0dc-7d9a-460a-f6d4-4eabc84a0a06"
      },
      "outputs": [
        {
          "name": "stdout",
          "output_type": "stream",
          "text": [
            "True\n"
          ]
        },
        {
          "data": {
            "text/plain": [
              "bool"
            ]
          },
          "execution_count": 4,
          "metadata": {},
          "output_type": "execute_result"
        }
      ],
      "source": [
        "d = True\n",
        "\n",
        "print(d)\n",
        "\n",
        "type(d)"
      ]
    },
    {
      "cell_type": "code",
      "execution_count": null,
      "id": "2045b451",
      "metadata": {
        "id": "2045b451"
      },
      "outputs": [],
      "source": [
        "x = [2, 12.88, 'ali', True]"
      ]
    },
    {
      "cell_type": "code",
      "execution_count": null,
      "id": "7bb557ac",
      "metadata": {
        "id": "7bb557ac",
        "outputId": "0c2d3e67-caa4-43f0-a985-0448a98e074d"
      },
      "outputs": [
        {
          "data": {
            "text/plain": [
              "[2, 12.88, 'ali', True]"
            ]
          },
          "execution_count": 6,
          "metadata": {},
          "output_type": "execute_result"
        }
      ],
      "source": [
        "x"
      ]
    },
    {
      "cell_type": "code",
      "execution_count": null,
      "id": "cb89bfd4",
      "metadata": {
        "id": "cb89bfd4",
        "outputId": "b2340a8e-f132-46b0-dff5-b1fef9ebe8d5"
      },
      "outputs": [
        {
          "data": {
            "text/plain": [
              "list"
            ]
          },
          "execution_count": 7,
          "metadata": {},
          "output_type": "execute_result"
        }
      ],
      "source": [
        "type(x)"
      ]
    },
    {
      "cell_type": "code",
      "execution_count": null,
      "id": "a5bbd5cf",
      "metadata": {
        "id": "a5bbd5cf",
        "outputId": "a90ea353-af47-443e-a917-d261a0b0dd75"
      },
      "outputs": [
        {
          "data": {
            "text/plain": [
              "4"
            ]
          },
          "execution_count": 8,
          "metadata": {},
          "output_type": "execute_result"
        }
      ],
      "source": [
        "len(x)"
      ]
    },
    {
      "cell_type": "code",
      "execution_count": null,
      "id": "9656ea07",
      "metadata": {
        "id": "9656ea07",
        "outputId": "69372154-7cb5-4efb-c2ca-67ca90a8491b"
      },
      "outputs": [
        {
          "data": {
            "text/plain": [
              "'ali'"
            ]
          },
          "execution_count": 10,
          "metadata": {},
          "output_type": "execute_result"
        }
      ],
      "source": [
        "x[2]"
      ]
    },
    {
      "cell_type": "code",
      "execution_count": null,
      "id": "421cc7ba",
      "metadata": {
        "id": "421cc7ba",
        "outputId": "46f13337-e7b9-4d84-ec7f-a49c725922fa"
      },
      "outputs": [
        {
          "name": "stdout",
          "output_type": "stream",
          "text": [
            "2\n",
            "12.88\n",
            "ali\n",
            "True\n"
          ]
        }
      ],
      "source": [
        "for i in x:\n",
        "    print(i)"
      ]
    },
    {
      "cell_type": "code",
      "execution_count": null,
      "id": "502e215f",
      "metadata": {
        "id": "502e215f"
      },
      "outputs": [],
      "source": []
    },
    {
      "cell_type": "code",
      "execution_count": null,
      "id": "95e27909",
      "metadata": {
        "id": "95e27909"
      },
      "outputs": [],
      "source": [
        "x = [2, 12.88, 'ali', True]\n",
        "\n",
        "print(x)\n",
        "\n",
        "print(type(x))\n",
        "\n",
        "print(len(x))"
      ]
    },
    {
      "cell_type": "code",
      "execution_count": null,
      "id": "1d0159e9",
      "metadata": {
        "id": "1d0159e9"
      },
      "outputs": [],
      "source": []
    },
    {
      "cell_type": "code",
      "execution_count": null,
      "id": "39e52119",
      "metadata": {
        "id": "39e52119"
      },
      "outputs": [],
      "source": [
        "y = []\n",
        "\n",
        "print(y)\n",
        "\n",
        "print(type(y))\n",
        "\n",
        "print(len(y))"
      ]
    },
    {
      "cell_type": "code",
      "execution_count": null,
      "id": "4eae3f47",
      "metadata": {
        "id": "4eae3f47"
      },
      "outputs": [],
      "source": []
    },
    {
      "cell_type": "code",
      "execution_count": null,
      "id": "0a5202c9",
      "metadata": {
        "id": "0a5202c9"
      },
      "outputs": [],
      "source": [
        "a = 2\n",
        "b = 10.88\n",
        "c = 'ali'\n",
        "d = True"
      ]
    },
    {
      "cell_type": "code",
      "execution_count": null,
      "id": "4ce3035b",
      "metadata": {
        "id": "4ce3035b"
      },
      "outputs": [],
      "source": [
        "x = []"
      ]
    },
    {
      "cell_type": "code",
      "execution_count": null,
      "id": "18062e89",
      "metadata": {
        "id": "18062e89",
        "outputId": "8771e8a2-f4ef-458b-ce06-ba7e41a86b0e"
      },
      "outputs": [
        {
          "name": "stdout",
          "output_type": "stream",
          "text": [
            "[2]\n"
          ]
        }
      ],
      "source": [
        "x.append(a)\n",
        "\n",
        "print(x)"
      ]
    },
    {
      "cell_type": "code",
      "execution_count": null,
      "id": "df8236c9",
      "metadata": {
        "id": "df8236c9",
        "outputId": "cc7a93b0-9b01-4585-8949-af930dde9c17"
      },
      "outputs": [
        {
          "name": "stdout",
          "output_type": "stream",
          "text": [
            "[2, 10.88]\n"
          ]
        }
      ],
      "source": [
        "x.append(b)\n",
        "\n",
        "print(x)"
      ]
    },
    {
      "cell_type": "code",
      "execution_count": null,
      "id": "974c6dd1",
      "metadata": {
        "id": "974c6dd1",
        "outputId": "eb3a78a3-b906-4d4a-e4b7-a99b6b445fce"
      },
      "outputs": [
        {
          "name": "stdout",
          "output_type": "stream",
          "text": [
            "[2, 10.88, 'ali']\n"
          ]
        }
      ],
      "source": [
        "x.append(c)\n",
        "\n",
        "print(x)"
      ]
    },
    {
      "cell_type": "code",
      "execution_count": null,
      "id": "4365e23e",
      "metadata": {
        "id": "4365e23e",
        "outputId": "bdff062f-57c2-45f6-e0cf-68f062774bca"
      },
      "outputs": [
        {
          "name": "stdout",
          "output_type": "stream",
          "text": [
            "[2, 10.88, 'ali', True]\n"
          ]
        }
      ],
      "source": [
        "x.append(d)\n",
        "\n",
        "print(x)"
      ]
    },
    {
      "cell_type": "code",
      "execution_count": null,
      "id": "6670ccf4",
      "metadata": {
        "id": "6670ccf4",
        "outputId": "90ab4452-5368-4bdb-fce1-f038bd6acdbf"
      },
      "outputs": [
        {
          "data": {
            "text/plain": [
              "2"
            ]
          },
          "execution_count": 22,
          "metadata": {},
          "output_type": "execute_result"
        }
      ],
      "source": [
        "x[0]"
      ]
    },
    {
      "cell_type": "code",
      "execution_count": null,
      "id": "e8130145",
      "metadata": {
        "id": "e8130145",
        "outputId": "72857103-4918-45d5-a700-47e020dfb5e7"
      },
      "outputs": [
        {
          "data": {
            "text/plain": [
              "10.88"
            ]
          },
          "execution_count": 23,
          "metadata": {},
          "output_type": "execute_result"
        }
      ],
      "source": [
        "x[1]"
      ]
    },
    {
      "cell_type": "code",
      "execution_count": null,
      "id": "d9c2ee4a",
      "metadata": {
        "id": "d9c2ee4a",
        "outputId": "81a96a8d-ff7d-4dc9-dd75-ecc2d3620eae"
      },
      "outputs": [
        {
          "data": {
            "text/plain": [
              "'ali'"
            ]
          },
          "execution_count": 24,
          "metadata": {},
          "output_type": "execute_result"
        }
      ],
      "source": [
        "x[2]"
      ]
    },
    {
      "cell_type": "code",
      "execution_count": null,
      "id": "47529e50",
      "metadata": {
        "id": "47529e50",
        "outputId": "71013d98-d8d1-489a-ade7-f99f584b6a5f"
      },
      "outputs": [
        {
          "data": {
            "text/plain": [
              "True"
            ]
          },
          "execution_count": 25,
          "metadata": {},
          "output_type": "execute_result"
        }
      ],
      "source": [
        "x[3]"
      ]
    },
    {
      "cell_type": "code",
      "execution_count": null,
      "id": "617e2fb7",
      "metadata": {
        "id": "617e2fb7"
      },
      "outputs": [],
      "source": []
    },
    {
      "cell_type": "markdown",
      "id": "519df3b6",
      "metadata": {
        "id": "519df3b6"
      },
      "source": [
        "# تمرین اول:\n",
        "## لیست زیر را ایجاد نمایید؟\n",
        "## [1, 2, 3, 4]"
      ]
    },
    {
      "cell_type": "code",
      "execution_count": null,
      "id": "ef03175a",
      "metadata": {
        "id": "ef03175a"
      },
      "outputs": [],
      "source": []
    },
    {
      "cell_type": "code",
      "execution_count": null,
      "id": "00f5e235",
      "metadata": {
        "id": "00f5e235"
      },
      "outputs": [],
      "source": []
    },
    {
      "cell_type": "markdown",
      "id": "a3dcc8d8",
      "metadata": {
        "id": "a3dcc8d8"
      },
      "source": [
        "# تمرین دوم:\n",
        "## لیست زیر را ایجاد نمایید؟\n",
        "## [1.2, False, 3, 'omid', 2.9, True, 5]"
      ]
    },
    {
      "cell_type": "code",
      "execution_count": null,
      "id": "d5a77156",
      "metadata": {
        "id": "d5a77156"
      },
      "outputs": [],
      "source": []
    },
    {
      "cell_type": "code",
      "execution_count": null,
      "id": "38e3bb02",
      "metadata": {
        "id": "38e3bb02"
      },
      "outputs": [],
      "source": [
        "a = []\n",
        "b = 0\n",
        "\n",
        "for i in range(3):\n",
        "\n",
        "    b = int(input())\n",
        "\n",
        "    a.append(b)\n",
        "\n",
        "print(a)"
      ]
    },
    {
      "cell_type": "code",
      "execution_count": null,
      "id": "9353f0bc",
      "metadata": {
        "id": "9353f0bc"
      },
      "outputs": [],
      "source": []
    },
    {
      "cell_type": "code",
      "execution_count": null,
      "id": "c1d7f00a",
      "metadata": {
        "id": "c1d7f00a"
      },
      "outputs": [],
      "source": [
        "a = [1, 2, 3]\n",
        "\n",
        "for i in a:\n",
        "\n",
        "    print(i)"
      ]
    },
    {
      "cell_type": "code",
      "execution_count": null,
      "id": "93f100cc",
      "metadata": {
        "id": "93f100cc"
      },
      "outputs": [],
      "source": []
    },
    {
      "cell_type": "code",
      "execution_count": null,
      "id": "f9504b94",
      "metadata": {
        "id": "f9504b94"
      },
      "outputs": [],
      "source": [
        "a = []\n",
        "b = 0\n",
        "MAX = 0\n",
        "\n",
        "for i in range(2):\n",
        "    b = int(input())\n",
        "    a.append(b)\n",
        "\n",
        "for i in range(len(a)):\n",
        "    if a[i]>a[i-1]:\n",
        "        MAX = a[i]\n",
        "    else:\n",
        "        MAX = a[i-1]\n",
        "print(MAX)"
      ]
    },
    {
      "cell_type": "code",
      "execution_count": null,
      "id": "370e8dcf",
      "metadata": {
        "id": "370e8dcf"
      },
      "outputs": [],
      "source": []
    },
    {
      "cell_type": "code",
      "execution_count": null,
      "id": "b8f860a2",
      "metadata": {
        "id": "b8f860a2"
      },
      "outputs": [],
      "source": [
        "a = []\n",
        "b = 0\n",
        "MIN = 0\n",
        "\n",
        "for i in range(3):\n",
        "    b = int(input())\n",
        "    a.append(b)\n",
        "\n",
        "for i in range(len(a)):\n",
        "    if a[i]>a[i-1]:\n",
        "        MIN = a[i-1]\n",
        "    else:\n",
        "        MIN = a[i]\n",
        "print(MIN)"
      ]
    },
    {
      "cell_type": "code",
      "execution_count": null,
      "id": "b4d05dfd",
      "metadata": {
        "id": "b4d05dfd"
      },
      "outputs": [],
      "source": []
    },
    {
      "cell_type": "code",
      "execution_count": null,
      "id": "f0764b45",
      "metadata": {
        "id": "f0764b45",
        "outputId": "9ddeb913-0abe-4535-f000-6100934755c5"
      },
      "outputs": [
        {
          "name": "stdout",
          "output_type": "stream",
          "text": [
            "i : 0\n",
            "i : 1\n",
            "i : 2\n",
            "i : 3\n",
            "i : 4\n",
            "i : 5\n",
            "i : 6\n",
            "i : 7\n",
            "i : 8\n",
            "i : 9\n",
            "SUM : 45\n"
          ]
        }
      ],
      "source": [
        "i = 0\n",
        "SUM = 0\n",
        "\n",
        "while True:\n",
        "\n",
        "    if i < 10:\n",
        "\n",
        "        print('i :',i)\n",
        "\n",
        "        SUM = SUM + i\n",
        "\n",
        "        i = i + 1\n",
        "\n",
        "    else:\n",
        "\n",
        "        break\n",
        "\n",
        "print(\"SUM :\",SUM)"
      ]
    },
    {
      "cell_type": "code",
      "execution_count": null,
      "id": "78bc28bb",
      "metadata": {
        "id": "78bc28bb",
        "outputId": "d5bb57bc-24b9-4940-b39d-822988d87f64"
      },
      "outputs": [
        {
          "name": "stdout",
          "output_type": "stream",
          "text": [
            "please enter number :2\n",
            "please enter number :4\n",
            "please enter number :8\n",
            "14\n"
          ]
        }
      ],
      "source": [
        "i, j = 0 , 0\n",
        "SUM = 0\n",
        "my_list = []\n",
        "\n",
        "while True:\n",
        "\n",
        "    if i < 3 :\n",
        "\n",
        "        my_list.append(int( input('please enter number :')))\n",
        "\n",
        "        i = i + 1\n",
        "\n",
        "    else:\n",
        "\n",
        "        break\n",
        "\n",
        "for j in my_list:\n",
        "\n",
        "    SUM = SUM + j\n",
        "\n",
        "print(SUM)"
      ]
    },
    {
      "cell_type": "code",
      "execution_count": null,
      "id": "2d826b65",
      "metadata": {
        "id": "2d826b65",
        "outputId": "6ddb8f0c-5729-4341-e62e-abcc18f730fd"
      },
      "outputs": [
        {
          "name": "stdout",
          "output_type": "stream",
          "text": [
            "1\n",
            "3\n",
            "4\n",
            "5\n"
          ]
        }
      ],
      "source": [
        "i = 0\n",
        "while i < 5:\n",
        "    i += 1\n",
        "    if i == 2:\n",
        "        continue\n",
        "    print(i)"
      ]
    },
    {
      "cell_type": "code",
      "execution_count": null,
      "id": "f37d650d",
      "metadata": {
        "id": "f37d650d",
        "outputId": "a8b8aa27-b78e-4ef5-f284-be189eec41c2"
      },
      "outputs": [
        {
          "name": "stdout",
          "output_type": "stream",
          "text": [
            "1\n",
            "3\n",
            "5\n"
          ]
        }
      ],
      "source": [
        "i = 0\n",
        "while i < 5:\n",
        "    i += 1\n",
        "    if i == 2:\n",
        "        continue\n",
        "    elif i == 4:\n",
        "        continue\n",
        "    print(i)"
      ]
    },
    {
      "cell_type": "code",
      "execution_count": null,
      "id": "4fb5b131",
      "metadata": {
        "id": "4fb5b131",
        "outputId": "15407d3f-c1c4-455c-f25e-3b7c309c24ca"
      },
      "outputs": [
        {
          "name": "stdout",
          "output_type": "stream",
          "text": [
            "2\n",
            "4\n"
          ]
        }
      ],
      "source": [
        "i = 0\n",
        "while i < 5:\n",
        "    i += 1\n",
        "    if i%2 == 0:\n",
        "        print(i)\n",
        "    else:\n",
        "        continue"
      ]
    },
    {
      "cell_type": "code",
      "execution_count": null,
      "id": "0cc08471",
      "metadata": {
        "id": "0cc08471",
        "outputId": "15204654-0f7d-49a9-80fa-c94bea765035"
      },
      "outputs": [
        {
          "name": "stdout",
          "output_type": "stream",
          "text": [
            "*\n",
            "**\n",
            "***\n",
            "****\n",
            "*****\n"
          ]
        }
      ],
      "source": [
        "for i in range(1, 6):\n",
        "    print('*' * i)"
      ]
    },
    {
      "cell_type": "code",
      "execution_count": null,
      "id": "a3a1fdaf",
      "metadata": {
        "id": "a3a1fdaf",
        "outputId": "bf2fb0ef-b298-48bd-82f4-5e1d09ec8dba"
      },
      "outputs": [
        {
          "name": "stdout",
          "output_type": "stream",
          "text": [
            "* \n",
            "\n",
            "* * \n",
            "\n",
            "* * * \n",
            "\n",
            "* * * * \n",
            "\n",
            "* * * * * \n",
            "\n"
          ]
        }
      ],
      "source": [
        "for i in range(0, 5):\n",
        "\n",
        "    for j in range(0, i + 1):\n",
        "\n",
        "        print(\"*\", end=' ')\n",
        "\n",
        "    print(\"\\n\")"
      ]
    },
    {
      "cell_type": "code",
      "execution_count": null,
      "id": "0eb4bde5",
      "metadata": {
        "id": "0eb4bde5",
        "outputId": "c2c3cce0-0af1-4f90-93f1-301602a3e23d"
      },
      "outputs": [
        {
          "name": "stdout",
          "output_type": "stream",
          "text": [
            "* * * * * \n",
            "*       *  \n",
            "*       *  \n",
            "*       *  \n",
            "*       *  \n",
            "*       *  \n",
            "* * * * * \n"
          ]
        }
      ],
      "source": [
        "print('* ' * 5)\n",
        "for i in range(5):\n",
        "    print ('*  ' + ' '* (5) + '*  ')\n",
        "print('* ' * 5)"
      ]
    }
  ],
  "metadata": {
    "kernelspec": {
      "display_name": "Python 3 (ipykernel)",
      "language": "python",
      "name": "python3"
    },
    "language_info": {
      "codemirror_mode": {
        "name": "ipython",
        "version": 3
      },
      "file_extension": ".py",
      "mimetype": "text/x-python",
      "name": "python",
      "nbconvert_exporter": "python",
      "pygments_lexer": "ipython3",
      "version": "3.11.5"
    },
    "colab": {
      "provenance": [],
      "include_colab_link": true
    }
  },
  "nbformat": 4,
  "nbformat_minor": 5
}