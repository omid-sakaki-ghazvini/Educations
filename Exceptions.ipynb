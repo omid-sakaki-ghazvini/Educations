{
  "cells": [
    {
      "cell_type": "markdown",
      "metadata": {
        "id": "view-in-github",
        "colab_type": "text"
      },
      "source": [
        "<a href=\"https://colab.research.google.com/github/omid-sakaki-ghazvini/Educations/blob/main/Exceptions.ipynb\" target=\"_parent\"><img src=\"https://colab.research.google.com/assets/colab-badge.svg\" alt=\"Open In Colab\"/></a>"
      ]
    },
    {
      "cell_type": "markdown",
      "id": "f81a7e1a",
      "metadata": {
        "id": "f81a7e1a"
      },
      "source": [
        "# Exceptions:"
      ]
    },
    {
      "cell_type": "code",
      "execution_count": null,
      "id": "9a5b0587",
      "metadata": {
        "id": "9a5b0587",
        "outputId": "f1a5e664-3edf-42d4-b848-30ba23da1d5e"
      },
      "outputs": [
        {
          "ename": "NameError",
          "evalue": "name 'a' is not defined",
          "output_type": "error",
          "traceback": [
            "\u001b[1;31m---------------------------------------------------------------------------\u001b[0m",
            "\u001b[1;31mNameError\u001b[0m                                 Traceback (most recent call last)",
            "Cell \u001b[1;32mIn[1], line 1\u001b[0m\n\u001b[1;32m----> 1\u001b[0m \u001b[38;5;28mprint\u001b[39m(a)\n\u001b[0;32m      2\u001b[0m a\n",
            "\u001b[1;31mNameError\u001b[0m: name 'a' is not defined"
          ]
        }
      ],
      "source": [
        "\n",
        "print(a)\n",
        "a"
      ]
    },
    {
      "cell_type": "code",
      "execution_count": null,
      "id": "27f8865a",
      "metadata": {
        "id": "27f8865a",
        "outputId": "3ecb540d-c10e-4302-bad2-f44e53285d81"
      },
      "outputs": [
        {
          "ename": "NameError",
          "evalue": "name 'ali' is not defined",
          "output_type": "error",
          "traceback": [
            "\u001b[1;31m---------------------------------------------------------------------------\u001b[0m",
            "\u001b[1;31mNameError\u001b[0m                                 Traceback (most recent call last)",
            "Cell \u001b[1;32mIn[7], line 1\u001b[0m\n\u001b[1;32m----> 1\u001b[0m lst \u001b[38;5;241m=\u001b[39m [ali]\n",
            "\u001b[1;31mNameError\u001b[0m: name 'ali' is not defined"
          ]
        }
      ],
      "source": [
        "lst = [ali]"
      ]
    },
    {
      "cell_type": "code",
      "execution_count": null,
      "id": "ac43a1c9",
      "metadata": {
        "id": "ac43a1c9",
        "outputId": "2a560aec-7e2b-4815-ccb8-ac32f4b8e47f"
      },
      "outputs": [
        {
          "ename": "TypeError",
          "evalue": "can only concatenate str (not \"int\") to str",
          "output_type": "error",
          "traceback": [
            "\u001b[1;31m---------------------------------------------------------------------------\u001b[0m",
            "\u001b[1;31mTypeError\u001b[0m                                 Traceback (most recent call last)",
            "Cell \u001b[1;32mIn[6], line 2\u001b[0m\n\u001b[0;32m      1\u001b[0m s\u001b[38;5;241m=\u001b[39m \u001b[38;5;124m'\u001b[39m\u001b[38;5;124mali\u001b[39m\u001b[38;5;124m'\u001b[39m\n\u001b[1;32m----> 2\u001b[0m \u001b[38;5;28mprint\u001b[39m(s \u001b[38;5;241m+\u001b[39m \u001b[38;5;241m2\u001b[39m)\n",
            "\u001b[1;31mTypeError\u001b[0m: can only concatenate str (not \"int\") to str"
          ]
        }
      ],
      "source": [
        "s= 'ali'\n",
        "print(s + 2)"
      ]
    },
    {
      "cell_type": "code",
      "execution_count": null,
      "id": "4582f710",
      "metadata": {
        "id": "4582f710",
        "outputId": "f9da392c-510d-40a4-f5ee-a8ae819db640"
      },
      "outputs": [
        {
          "ename": "AttributeError",
          "evalue": "'str' object has no attribute 'append'",
          "output_type": "error",
          "traceback": [
            "\u001b[1;31m---------------------------------------------------------------------------\u001b[0m",
            "\u001b[1;31mAttributeError\u001b[0m                            Traceback (most recent call last)",
            "Cell \u001b[1;32mIn[8], line 1\u001b[0m\n\u001b[1;32m----> 1\u001b[0m s\u001b[38;5;241m.\u001b[39mappend(\u001b[38;5;124m'\u001b[39m\u001b[38;5;124mreza\u001b[39m\u001b[38;5;124m'\u001b[39m)\n",
            "\u001b[1;31mAttributeError\u001b[0m: 'str' object has no attribute 'append'"
          ]
        }
      ],
      "source": [
        "s.append('reza')"
      ]
    },
    {
      "cell_type": "code",
      "execution_count": null,
      "id": "328201be",
      "metadata": {
        "id": "328201be",
        "outputId": "ba7db3d5-ac8e-4f9e-cf28-91f29d79c85a"
      },
      "outputs": [
        {
          "ename": "IndexError",
          "evalue": "list index out of range",
          "output_type": "error",
          "traceback": [
            "\u001b[1;31m---------------------------------------------------------------------------\u001b[0m",
            "\u001b[1;31mIndexError\u001b[0m                                Traceback (most recent call last)",
            "Cell \u001b[1;32mIn[9], line 2\u001b[0m\n\u001b[0;32m      1\u001b[0m lst \u001b[38;5;241m=\u001b[39m [\u001b[38;5;241m15\u001b[39m, \u001b[38;5;241m20\u001b[39m, \u001b[38;5;241m17\u001b[39m]\n\u001b[1;32m----> 2\u001b[0m \u001b[38;5;28mprint\u001b[39m(lst[\u001b[38;5;241m3\u001b[39m])\n",
            "\u001b[1;31mIndexError\u001b[0m: list index out of range"
          ]
        }
      ],
      "source": [
        "lst = [15, 20, 17]\n",
        "print(lst[3])"
      ]
    },
    {
      "cell_type": "code",
      "execution_count": null,
      "id": "482759a8",
      "metadata": {
        "id": "482759a8",
        "outputId": "1e50c766-48ba-4afe-d81d-f0f7c5ac37b8"
      },
      "outputs": [
        {
          "ename": "KeyError",
          "evalue": "'c'",
          "output_type": "error",
          "traceback": [
            "\u001b[1;31m---------------------------------------------------------------------------\u001b[0m",
            "\u001b[1;31mKeyError\u001b[0m                                  Traceback (most recent call last)",
            "Cell \u001b[1;32mIn[10], line 2\u001b[0m\n\u001b[0;32m      1\u001b[0m d \u001b[38;5;241m=\u001b[39m {\u001b[38;5;124m'\u001b[39m\u001b[38;5;124ma\u001b[39m\u001b[38;5;124m'\u001b[39m : \u001b[38;5;241m5\u001b[39m , \u001b[38;5;124m'\u001b[39m\u001b[38;5;124mb\u001b[39m\u001b[38;5;124m'\u001b[39m : \u001b[38;5;241m6\u001b[39m}\n\u001b[1;32m----> 2\u001b[0m \u001b[38;5;28mprint\u001b[39m(d[\u001b[38;5;124m'\u001b[39m\u001b[38;5;124mc\u001b[39m\u001b[38;5;124m'\u001b[39m])\n",
            "\u001b[1;31mKeyError\u001b[0m: 'c'"
          ]
        }
      ],
      "source": [
        "d = {'a' : 5 , 'b' : 6}\n",
        "print(d['c'])"
      ]
    },
    {
      "cell_type": "code",
      "execution_count": null,
      "id": "bb4328ba",
      "metadata": {
        "id": "bb4328ba",
        "outputId": "57d3f177-179a-468c-bfb0-585e34b5232f"
      },
      "outputs": [
        {
          "ename": "ZeroDivisionError",
          "evalue": "division by zero",
          "output_type": "error",
          "traceback": [
            "\u001b[1;31m---------------------------------------------------------------------------\u001b[0m",
            "\u001b[1;31mZeroDivisionError\u001b[0m                         Traceback (most recent call last)",
            "Cell \u001b[1;32mIn[11], line 1\u001b[0m\n\u001b[1;32m----> 1\u001b[0m x \u001b[38;5;241m=\u001b[39m \u001b[38;5;241m8\u001b[39m\u001b[38;5;241m/\u001b[39m\u001b[38;5;241m0\u001b[39m\n",
            "\u001b[1;31mZeroDivisionError\u001b[0m: division by zero"
          ]
        }
      ],
      "source": [
        "x = 8/0"
      ]
    },
    {
      "cell_type": "code",
      "execution_count": null,
      "id": "ed9a0391",
      "metadata": {
        "id": "ed9a0391",
        "outputId": "f058af1d-3ee0-450d-f20d-28d29e64721a"
      },
      "outputs": [
        {
          "ename": "SyntaxError",
          "evalue": "invalid syntax. Maybe you meant '==' or ':=' instead of '='? (3609619292.py, line 1)",
          "output_type": "error",
          "traceback": [
            "\u001b[1;36m  Cell \u001b[1;32mIn[17], line 1\u001b[1;36m\u001b[0m\n\u001b[1;33m    if x=0:\u001b[0m\n\u001b[1;37m       ^\u001b[0m\n\u001b[1;31mSyntaxError\u001b[0m\u001b[1;31m:\u001b[0m invalid syntax. Maybe you meant '==' or ':=' instead of '='?\n"
          ]
        }
      ],
      "source": [
        "if x=0:\n",
        "    print('ali')"
      ]
    },
    {
      "cell_type": "code",
      "execution_count": null,
      "id": "da6d5608",
      "metadata": {
        "id": "da6d5608",
        "outputId": "20b6b2c5-f57c-4b08-d6b3-4a19766a4cce"
      },
      "outputs": [
        {
          "ename": "NameError",
          "evalue": "name 'h' is not defined",
          "output_type": "error",
          "traceback": [
            "\u001b[1;31m---------------------------------------------------------------------------\u001b[0m",
            "\u001b[1;31mNameError\u001b[0m                                 Traceback (most recent call last)",
            "Cell \u001b[1;32mIn[23], line 1\u001b[0m\n\u001b[1;32m----> 1\u001b[0m \u001b[38;5;28mprint\u001b[39m(h)\n",
            "\u001b[1;31mNameError\u001b[0m: name 'h' is not defined"
          ]
        }
      ],
      "source": [
        "print(h)"
      ]
    },
    {
      "cell_type": "code",
      "execution_count": null,
      "id": "890d4d23",
      "metadata": {
        "id": "890d4d23",
        "outputId": "3be639c5-b928-41d6-a2cd-fff1f7b19ccf"
      },
      "outputs": [
        {
          "name": "stdout",
          "output_type": "stream",
          "text": [
            "welcome\n"
          ]
        }
      ],
      "source": [
        "try:\n",
        "    print(h)\n",
        "except NameError:\n",
        "        print('welcome')"
      ]
    },
    {
      "cell_type": "code",
      "execution_count": null,
      "id": "a98f9e19",
      "metadata": {
        "id": "a98f9e19",
        "outputId": "293f5bd6-507c-4d44-bb5d-b9893a528b9a"
      },
      "outputs": [
        {
          "name": "stdout",
          "output_type": "stream",
          "text": [
            "name 'g' is not defined\n"
          ]
        }
      ],
      "source": [
        "try:\n",
        "    print(g)\n",
        "except NameError as ne:\n",
        "    print(ne)"
      ]
    },
    {
      "cell_type": "code",
      "execution_count": null,
      "id": "2f7c2d17",
      "metadata": {
        "id": "2f7c2d17",
        "outputId": "3975a639-dc82-48fb-e198-15411fb96cbb"
      },
      "outputs": [
        {
          "name": "stdout",
          "output_type": "stream",
          "text": [
            "خطا\n"
          ]
        }
      ],
      "source": [
        "try:\n",
        "    print(g)\n",
        "except NameError:\n",
        "    print('خطا')"
      ]
    },
    {
      "cell_type": "code",
      "execution_count": null,
      "id": "090a93fa",
      "metadata": {
        "id": "090a93fa",
        "outputId": "dec64750-7388-40f7-ae77-f9ef68c9fd42"
      },
      "outputs": [
        {
          "ename": "TypeError",
          "evalue": "can only concatenate str (not \"int\") to str",
          "output_type": "error",
          "traceback": [
            "\u001b[1;31m---------------------------------------------------------------------------\u001b[0m",
            "\u001b[1;31mTypeError\u001b[0m                                 Traceback (most recent call last)",
            "Cell \u001b[1;32mIn[27], line 2\u001b[0m\n\u001b[0;32m      1\u001b[0m s\u001b[38;5;241m=\u001b[39m \u001b[38;5;124m'\u001b[39m\u001b[38;5;124mali\u001b[39m\u001b[38;5;124m'\u001b[39m\n\u001b[1;32m----> 2\u001b[0m \u001b[38;5;28mprint\u001b[39m(s \u001b[38;5;241m+\u001b[39m \u001b[38;5;241m2\u001b[39m)\n",
            "\u001b[1;31mTypeError\u001b[0m: can only concatenate str (not \"int\") to str"
          ]
        }
      ],
      "source": [
        "s= 'ali'\n",
        "print(s + 2)"
      ]
    },
    {
      "cell_type": "code",
      "execution_count": null,
      "id": "c86dd505",
      "metadata": {
        "id": "c86dd505",
        "outputId": "051230a0-6afb-4807-def4-d22adb88c164"
      },
      "outputs": [
        {
          "name": "stdout",
          "output_type": "stream",
          "text": [
            "can only concatenate str (not \"int\") to str\n"
          ]
        }
      ],
      "source": [
        "try:\n",
        "    s= 'ali'\n",
        "    print(s + 2)\n",
        "except TypeError as te:\n",
        "    print(te)"
      ]
    },
    {
      "cell_type": "code",
      "execution_count": null,
      "id": "812e1f46",
      "metadata": {
        "id": "812e1f46",
        "outputId": "c433348d-e4e6-410f-92fd-9abac6f95223"
      },
      "outputs": [
        {
          "name": "stdout",
          "output_type": "stream",
          "text": [
            "'str' object has no attribute 'append'\n"
          ]
        }
      ],
      "source": [
        "try:\n",
        "    s= 'ali'\n",
        "    s.append('reza')\n",
        "except AttributeError as ae:\n",
        "    print(ae)"
      ]
    },
    {
      "cell_type": "code",
      "execution_count": null,
      "id": "e18255bd",
      "metadata": {
        "id": "e18255bd",
        "outputId": "0c138af8-b857-4da8-c512-b91f3f917f51"
      },
      "outputs": [
        {
          "name": "stdout",
          "output_type": "stream",
          "text": [
            "list index out of range\n"
          ]
        }
      ],
      "source": [
        "try:\n",
        "    lst = [15, 20, 17]\n",
        "    print(lst[3])\n",
        "except IndexError as ie:\n",
        "    print(ie)"
      ]
    },
    {
      "cell_type": "code",
      "execution_count": null,
      "id": "d3c2205f",
      "metadata": {
        "id": "d3c2205f",
        "outputId": "d6085ea3-6f02-4ff7-cc7f-139480fc33a6"
      },
      "outputs": [
        {
          "ename": "KeyError",
          "evalue": "'c'",
          "output_type": "error",
          "traceback": [
            "\u001b[1;31m---------------------------------------------------------------------------\u001b[0m",
            "\u001b[1;31mKeyError\u001b[0m                                  Traceback (most recent call last)",
            "Cell \u001b[1;32mIn[31], line 2\u001b[0m\n\u001b[0;32m      1\u001b[0m d \u001b[38;5;241m=\u001b[39m {\u001b[38;5;124m'\u001b[39m\u001b[38;5;124ma\u001b[39m\u001b[38;5;124m'\u001b[39m : \u001b[38;5;241m5\u001b[39m , \u001b[38;5;124m'\u001b[39m\u001b[38;5;124mb\u001b[39m\u001b[38;5;124m'\u001b[39m : \u001b[38;5;241m6\u001b[39m}\n\u001b[1;32m----> 2\u001b[0m \u001b[38;5;28mprint\u001b[39m(d[\u001b[38;5;124m'\u001b[39m\u001b[38;5;124mc\u001b[39m\u001b[38;5;124m'\u001b[39m])\n",
            "\u001b[1;31mKeyError\u001b[0m: 'c'"
          ]
        }
      ],
      "source": [
        "d = {'a' : 5 , 'b' : 6}\n",
        "print(d['c'])"
      ]
    },
    {
      "cell_type": "code",
      "execution_count": null,
      "id": "b9f19457",
      "metadata": {
        "id": "b9f19457",
        "outputId": "4237e05e-c70d-40ac-b020-aaa0db648c04"
      },
      "outputs": [
        {
          "name": "stdout",
          "output_type": "stream",
          "text": [
            "'c'\n"
          ]
        }
      ],
      "source": [
        "try:\n",
        "    d = {'a' : 5 , 'b' : 6}\n",
        "    print(d['c'])\n",
        "except KeyError as ke:\n",
        "    print(ke)"
      ]
    },
    {
      "cell_type": "code",
      "execution_count": null,
      "id": "c878cbfd",
      "metadata": {
        "id": "c878cbfd",
        "outputId": "58aed909-f053-4a4f-ccb3-9bead8abdd93"
      },
      "outputs": [
        {
          "name": "stdout",
          "output_type": "stream",
          "text": [
            "division by zero\n"
          ]
        }
      ],
      "source": [
        "try:\n",
        "    x = 8/0\n",
        "except ZeroDivisionError as ze:\n",
        "    print(ze)"
      ]
    },
    {
      "cell_type": "markdown",
      "id": "aed8f16b",
      "metadata": {
        "id": "aed8f16b"
      },
      "source": [
        "## تمرین 1 امتیازی:"
      ]
    },
    {
      "cell_type": "markdown",
      "id": "ca1a8eb5",
      "metadata": {
        "id": "ca1a8eb5"
      },
      "source": [
        "## input:"
      ]
    },
    {
      "cell_type": "code",
      "execution_count": null,
      "id": "7bed14cb",
      "metadata": {
        "id": "7bed14cb"
      },
      "outputs": [],
      "source": [
        " def divide(a,b):\n",
        "        try:\n",
        "            print(a/b)\n",
        "        except ZeroDivisionError:\n",
        "            print(\"تقسیم بر صفر تعریف نشده است\")"
      ]
    },
    {
      "cell_type": "code",
      "execution_count": null,
      "id": "da9cb020",
      "metadata": {
        "id": "da9cb020",
        "outputId": "90c531aa-dc05-49ed-d361-799b8200fbbd"
      },
      "outputs": [
        {
          "name": "stdout",
          "output_type": "stream",
          "text": [
            "2.0\n"
          ]
        }
      ],
      "source": [
        "divide(4, 2)"
      ]
    },
    {
      "cell_type": "code",
      "execution_count": null,
      "id": "66608bad",
      "metadata": {
        "id": "66608bad",
        "outputId": "25912429-6d32-40c2-b536-fc1e9b2839e7"
      },
      "outputs": [
        {
          "name": "stdout",
          "output_type": "stream",
          "text": [
            "تقسیم بر صفر تعریف نشده است\n"
          ]
        }
      ],
      "source": [
        "divide(4, 0)"
      ]
    },
    {
      "cell_type": "markdown",
      "id": "2f982a14",
      "metadata": {
        "id": "2f982a14"
      },
      "source": [
        "## output:"
      ]
    },
    {
      "cell_type": "markdown",
      "id": "d108dac5",
      "metadata": {
        "id": "d108dac5"
      },
      "source": [
        "## تقسیم بر صفر تعریف نشده است"
      ]
    },
    {
      "cell_type": "code",
      "execution_count": null,
      "id": "87a2c6ec",
      "metadata": {
        "id": "87a2c6ec"
      },
      "outputs": [],
      "source": [
        "def divide(x, y):\n",
        "    try:\n",
        "        a = x / y\n",
        "    except  ZeroDivisionError:\n",
        "        print('تقسیم بر صفر تعریف نشده است')\n",
        "    else:\n",
        "        print(a)"
      ]
    },
    {
      "cell_type": "code",
      "execution_count": null,
      "id": "e9436e4f",
      "metadata": {
        "id": "e9436e4f"
      },
      "outputs": [],
      "source": []
    },
    {
      "cell_type": "markdown",
      "id": "7255ad3a",
      "metadata": {
        "id": "7255ad3a"
      },
      "source": [
        "## تمرین 2 امتیازی:"
      ]
    },
    {
      "cell_type": "markdown",
      "id": "3d2c590f",
      "metadata": {
        "id": "3d2c590f"
      },
      "source": [
        "## خروجی کد زیر چیست؟ تحلیل کنید"
      ]
    },
    {
      "cell_type": "code",
      "execution_count": null,
      "id": "021a98e6",
      "metadata": {
        "id": "021a98e6",
        "outputId": "de678cf0-68df-4da3-b126-0a9f9ef97898"
      },
      "outputs": [
        {
          "ename": "TypeError",
          "evalue": "can only concatenate str (not \"int\") to str",
          "output_type": "error",
          "traceback": [
            "\u001b[1;31m---------------------------------------------------------------------------\u001b[0m",
            "\u001b[1;31mTypeError\u001b[0m                                 Traceback (most recent call last)",
            "Cell \u001b[1;32mIn[33], line 2\u001b[0m\n\u001b[0;32m      1\u001b[0m lst \u001b[38;5;241m=\u001b[39m [\u001b[38;5;124m\"\u001b[39m\u001b[38;5;124m2\u001b[39m\u001b[38;5;124m\"\u001b[39m, \u001b[38;5;124m\"\u001b[39m\u001b[38;5;124m4\u001b[39m\u001b[38;5;124m\"\u001b[39m, \u001b[38;5;124m\"\u001b[39m\u001b[38;5;124m5\u001b[39m\u001b[38;5;124m\"\u001b[39m]\n\u001b[1;32m----> 2\u001b[0m \u001b[38;5;28mlist\u001b[39m(\u001b[38;5;28mmap\u001b[39m(\u001b[38;5;28;01mlambda\u001b[39;00m x: x\u001b[38;5;241m+\u001b[39m\u001b[38;5;241m2\u001b[39m , lst))\n",
            "Cell \u001b[1;32mIn[33], line 2\u001b[0m, in \u001b[0;36m<lambda>\u001b[1;34m(x)\u001b[0m\n\u001b[0;32m      1\u001b[0m lst \u001b[38;5;241m=\u001b[39m [\u001b[38;5;124m\"\u001b[39m\u001b[38;5;124m2\u001b[39m\u001b[38;5;124m\"\u001b[39m, \u001b[38;5;124m\"\u001b[39m\u001b[38;5;124m4\u001b[39m\u001b[38;5;124m\"\u001b[39m, \u001b[38;5;124m\"\u001b[39m\u001b[38;5;124m5\u001b[39m\u001b[38;5;124m\"\u001b[39m]\n\u001b[1;32m----> 2\u001b[0m \u001b[38;5;28mlist\u001b[39m(\u001b[38;5;28mmap\u001b[39m(\u001b[38;5;28;01mlambda\u001b[39;00m x: x\u001b[38;5;241m+\u001b[39m\u001b[38;5;241m2\u001b[39m , lst))\n",
            "\u001b[1;31mTypeError\u001b[0m: can only concatenate str (not \"int\") to str"
          ]
        }
      ],
      "source": [
        "lst = [\"2\", \"4\", \"5\"]\n",
        "list(map(lambda x: x+2 , lst))"
      ]
    },
    {
      "cell_type": "markdown",
      "id": "1dd708eb",
      "metadata": {
        "id": "1dd708eb"
      },
      "source": [
        "## با تکنیک گفته شده خطای کد را برطرف کنید"
      ]
    },
    {
      "cell_type": "code",
      "execution_count": null,
      "id": "cedaaa70",
      "metadata": {
        "id": "cedaaa70"
      },
      "outputs": [],
      "source": []
    },
    {
      "cell_type": "code",
      "execution_count": null,
      "id": "8a7a493e",
      "metadata": {
        "id": "8a7a493e"
      },
      "outputs": [],
      "source": [
        "lst = [\"2\", \"4\", \"5\"]\n",
        "try:\n",
        "    print(list(map(lambda x: x+2 , lst)))\n",
        "except TypeError:\n",
        "    print(list(map(lambda x: int(x)+2 , lst)))"
      ]
    },
    {
      "cell_type": "code",
      "execution_count": null,
      "id": "4be68c41",
      "metadata": {
        "id": "4be68c41"
      },
      "outputs": [],
      "source": []
    },
    {
      "cell_type": "code",
      "execution_count": null,
      "id": "570b995a",
      "metadata": {
        "id": "570b995a",
        "outputId": "6a7ccf5d-fa43-4263-e30e-ddceb7322182"
      },
      "outputs": [
        {
          "name": "stdout",
          "output_type": "stream",
          "text": [
            "Please enter a number: 8\n"
          ]
        }
      ],
      "source": [
        "x = int(input(\"Please enter a number: \"))"
      ]
    },
    {
      "cell_type": "code",
      "execution_count": null,
      "id": "70b9ae91",
      "metadata": {
        "id": "70b9ae91",
        "outputId": "d3cf333b-3153-4054-84a3-09d221e4fbe8"
      },
      "outputs": [
        {
          "name": "stdout",
          "output_type": "stream",
          "text": [
            "Please enter a number: g\n"
          ]
        },
        {
          "ename": "ValueError",
          "evalue": "invalid literal for int() with base 10: 'g'",
          "output_type": "error",
          "traceback": [
            "\u001b[1;31m---------------------------------------------------------------------------\u001b[0m",
            "\u001b[1;31mValueError\u001b[0m                                Traceback (most recent call last)",
            "Cell \u001b[1;32mIn[36], line 1\u001b[0m\n\u001b[1;32m----> 1\u001b[0m x \u001b[38;5;241m=\u001b[39m \u001b[38;5;28mint\u001b[39m(\u001b[38;5;28minput\u001b[39m(\u001b[38;5;124m\"\u001b[39m\u001b[38;5;124mPlease enter a number: \u001b[39m\u001b[38;5;124m\"\u001b[39m))\n",
            "\u001b[1;31mValueError\u001b[0m: invalid literal for int() with base 10: 'g'"
          ]
        }
      ],
      "source": [
        "x = int(input(\"Please enter a number: \"))"
      ]
    },
    {
      "cell_type": "markdown",
      "id": "4b9c2192",
      "metadata": {
        "id": "4b9c2192"
      },
      "source": [
        "## مثال:"
      ]
    },
    {
      "cell_type": "code",
      "execution_count": null,
      "id": "9c3a791d",
      "metadata": {
        "id": "9c3a791d",
        "outputId": "4381e9f2-16dd-47f5-9353-2c92a12b83a8"
      },
      "outputs": [
        {
          "name": "stdout",
          "output_type": "stream",
          "text": [
            "Please enter a number: u\n",
            "Oops! Try again...\n",
            "Please enter a number: h\n",
            "Oops! Try again...\n",
            "Please enter a number: i\n",
            "Oops! Try again...\n",
            "Please enter a number: o\n",
            "Oops! Try again...\n",
            "Please enter a number: 7\n"
          ]
        }
      ],
      "source": [
        "while True:\n",
        "    try:\n",
        "        x = int(input(\"Please enter a number: \"))\n",
        "        break\n",
        "    except ValueError:\n",
        "        print(\"Oops! Try again...\")"
      ]
    },
    {
      "cell_type": "code",
      "execution_count": null,
      "id": "80931510",
      "metadata": {
        "id": "80931510"
      },
      "outputs": [],
      "source": []
    },
    {
      "cell_type": "code",
      "execution_count": null,
      "id": "fe40ba8d",
      "metadata": {
        "id": "fe40ba8d",
        "outputId": "349994a6-fcc6-44c0-946d-11d02567c181"
      },
      "outputs": [
        {
          "name": "stdout",
          "output_type": "stream",
          "text": [
            "please enter 5 numbers:r\n",
            "please enter number\n",
            "please enter 5 numbers:t\n",
            "please enter number\n",
            "please enter 5 numbers:1\n",
            "please enter 5 numbers:2\n",
            "please enter 5 numbers:3\n",
            "please enter 5 numbers:g\n",
            "please enter number\n",
            "please enter 5 numbers:4\n",
            "please enter 5 numbers:h\n",
            "please enter number\n",
            "please enter 5 numbers:6\n",
            "[1, 2, 3, 4, 6]\n"
          ]
        }
      ],
      "source": [
        "i=0\n",
        "lst_input = []\n",
        "\n",
        "while True:\n",
        "\n",
        "    x = input('please enter 5 numbers:')\n",
        "    if x.isdigit():\n",
        "        lst_input.append(int(x))\n",
        "        i = i + 1\n",
        "    else:\n",
        "        print('please enter number')\n",
        "\n",
        "\n",
        "    if i == 5:\n",
        "        print(lst_input)\n",
        "        break"
      ]
    },
    {
      "cell_type": "code",
      "execution_count": null,
      "id": "9edba3bb",
      "metadata": {
        "id": "9edba3bb"
      },
      "outputs": [],
      "source": []
    },
    {
      "cell_type": "code",
      "execution_count": null,
      "id": "a9b11242",
      "metadata": {
        "id": "a9b11242"
      },
      "outputs": [],
      "source": [
        "i=0\n",
        "lst_input = []\n",
        "\n",
        "while True:\n",
        "\n",
        "    x = input('please enter 5 numbers:')\n",
        "    if x.isdigit():\n",
        "        lst_input.append(int(x))\n",
        "        i = i + 1\n",
        "    else:\n",
        "        print('please enter number')\n",
        "\n",
        "\n",
        "    if i == 5:\n",
        "        print(lst_input)\n",
        "        break"
      ]
    },
    {
      "cell_type": "code",
      "execution_count": null,
      "id": "beb8af33",
      "metadata": {
        "id": "beb8af33"
      },
      "outputs": [],
      "source": []
    },
    {
      "cell_type": "markdown",
      "id": "cfb74cac",
      "metadata": {
        "id": "cfb74cac"
      },
      "source": [
        "## سوال 7 آزمون:"
      ]
    },
    {
      "cell_type": "markdown",
      "id": "79196657",
      "metadata": {
        "id": "79196657"
      },
      "source": [
        "## از کاربر میخواهیم که 5 عددی را به عنوان ورودی به ما بدهد و ما این اعداد را داخل یک لیست قرار میدهیم. با تکنیک گفته شده، اگر کاربر بجای عدد، حروف وارد کرد به او پیغام خطا داده و از او میخواهیم که مقدار درست را وارد نماید. پس از اینکه 5 عدد وارد شد، لیست اعداد را نمایش داده و برنامه خاتمه پیدا میکند؟  "
      ]
    },
    {
      "cell_type": "code",
      "execution_count": null,
      "id": "58d8bcb2",
      "metadata": {
        "id": "58d8bcb2"
      },
      "outputs": [],
      "source": []
    },
    {
      "cell_type": "code",
      "execution_count": null,
      "id": "eb44d019",
      "metadata": {
        "id": "eb44d019"
      },
      "outputs": [],
      "source": [
        "def input_list():\n",
        "    i=0\n",
        "    lst_input = []\n",
        "    while True:\n",
        "        try:\n",
        "            x=int(input(\"Please enter 5 numbers:\"))\n",
        "            lst_input.append(x)\n",
        "            i = i+1\n",
        "            print(\"number\"f\"{i} :\",x)\n",
        "        except ValueError:\n",
        "                    print(\"Please enter only numbers!\")\n",
        "        if i == 5:\n",
        "            break\n",
        "    return(lst_input)"
      ]
    },
    {
      "cell_type": "code",
      "execution_count": null,
      "id": "4331f3e7",
      "metadata": {
        "id": "4331f3e7"
      },
      "outputs": [],
      "source": [
        "input_list()"
      ]
    }
  ],
  "metadata": {
    "kernelspec": {
      "display_name": "Python 3 (ipykernel)",
      "language": "python",
      "name": "python3"
    },
    "language_info": {
      "codemirror_mode": {
        "name": "ipython",
        "version": 3
      },
      "file_extension": ".py",
      "mimetype": "text/x-python",
      "name": "python",
      "nbconvert_exporter": "python",
      "pygments_lexer": "ipython3",
      "version": "3.11.5"
    },
    "colab": {
      "provenance": [],
      "include_colab_link": true
    }
  },
  "nbformat": 4,
  "nbformat_minor": 5
}