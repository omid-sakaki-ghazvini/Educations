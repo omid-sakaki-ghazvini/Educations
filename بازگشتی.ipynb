{
 "cells": [
  {
   "cell_type": "markdown",
   "id": "8655c6e6",
   "metadata": {},
   "source": [
    "# بازگشتی: "
   ]
  },
  {
   "cell_type": "code",
   "execution_count": null,
   "id": "a76ab52d",
   "metadata": {},
   "outputs": [],
   "source": []
  },
  {
   "cell_type": "markdown",
   "id": "deb33727",
   "metadata": {},
   "source": [
    "## مثال: "
   ]
  },
  {
   "cell_type": "markdown",
   "id": "6693f6df",
   "metadata": {},
   "source": [
    "## فاکتوریل: "
   ]
  },
  {
   "cell_type": "markdown",
   "id": "6b523493",
   "metadata": {},
   "source": [
    "0! = 1"
   ]
  },
  {
   "cell_type": "markdown",
   "id": "2cde1f79",
   "metadata": {},
   "source": [
    "3! = 3 * 2 * 1"
   ]
  },
  {
   "cell_type": "markdown",
   "id": "d4335d6c",
   "metadata": {},
   "source": [
    "6! = 6 * 5 * 4 * 3 * 2 * 1"
   ]
  },
  {
   "cell_type": "markdown",
   "id": "66d9b563",
   "metadata": {},
   "source": [
    "n! = n * (n-1) * (n-2) * ... * 3 * 2 * 1"
   ]
  },
  {
   "cell_type": "code",
   "execution_count": 1,
   "id": "9dc84971",
   "metadata": {},
   "outputs": [],
   "source": [
    "def fact(n):\n",
    "    temp = 1\n",
    "    if n == 0 :\n",
    "        print('1')\n",
    "    else:\n",
    "        for i in range(1, n+1):\n",
    "             temp = temp * i\n",
    "        print(temp)"
   ]
  },
  {
   "cell_type": "code",
   "execution_count": 2,
   "id": "542fde7f",
   "metadata": {},
   "outputs": [
    {
     "name": "stdout",
     "output_type": "stream",
     "text": [
      "6\n"
     ]
    }
   ],
   "source": [
    "fact(3)"
   ]
  },
  {
   "cell_type": "markdown",
   "id": "e3bec8b7",
   "metadata": {},
   "source": [
    "## یادآوری: "
   ]
  },
  {
   "cell_type": "code",
   "execution_count": 3,
   "id": "7ba7b057",
   "metadata": {},
   "outputs": [
    {
     "name": "stdout",
     "output_type": "stream",
     "text": [
      "1\n",
      "2\n",
      "3\n",
      "4\n",
      "5\n",
      "6\n",
      "7\n",
      "8\n",
      "9\n"
     ]
    }
   ],
   "source": [
    "for i in range(1, 10):\n",
    "    print(i)"
   ]
  },
  {
   "cell_type": "code",
   "execution_count": null,
   "id": "f70c7c56",
   "metadata": {},
   "outputs": [],
   "source": []
  },
  {
   "cell_type": "markdown",
   "id": "79695fe7",
   "metadata": {},
   "source": [
    "## نکته: "
   ]
  },
  {
   "cell_type": "markdown",
   "id": "7df20420",
   "metadata": {},
   "source": [
    "## iterative:  "
   ]
  },
  {
   "cell_type": "markdown",
   "id": "39229960",
   "metadata": {},
   "source": [
    "## در حل مثال بالا، تابع فاکتوریل را بصورت تکرار شونده تعریف کردیم"
   ]
  },
  {
   "cell_type": "code",
   "execution_count": null,
   "id": "52fe1c2d",
   "metadata": {},
   "outputs": [],
   "source": []
  },
  {
   "cell_type": "markdown",
   "id": "90c81196",
   "metadata": {},
   "source": [
    "3! = 3 * 2!"
   ]
  },
  {
   "cell_type": "markdown",
   "id": "737b407f",
   "metadata": {},
   "source": [
    "2! = 2 * 1!"
   ]
  },
  {
   "cell_type": "markdown",
   "id": "716089ed",
   "metadata": {},
   "source": [
    "1! = 1"
   ]
  },
  {
   "cell_type": "markdown",
   "id": "0de485cf",
   "metadata": {},
   "source": [
    "3! = 3 * 2 = 6"
   ]
  },
  {
   "cell_type": "markdown",
   "id": "069ec56b",
   "metadata": {},
   "source": [
    "n! = n * (n-1)!"
   ]
  },
  {
   "cell_type": "markdown",
   "id": "770de8c8",
   "metadata": {},
   "source": [
    "## recursive: "
   ]
  },
  {
   "cell_type": "markdown",
   "id": "9b75717b",
   "metadata": {},
   "source": [
    "## حال میخواهیم تابع فاکتوریل را بصورت بازگشتی تعریف کنیم "
   ]
  },
  {
   "cell_type": "code",
   "execution_count": 4,
   "id": "c5c59aef",
   "metadata": {},
   "outputs": [],
   "source": [
    "def fact_rec(n):\n",
    "    if n == 1:\n",
    "        return 1\n",
    "    else:\n",
    "        return n * fact_rec(n-1)"
   ]
  },
  {
   "cell_type": "code",
   "execution_count": 5,
   "id": "dadc4376",
   "metadata": {},
   "outputs": [
    {
     "data": {
      "text/plain": [
       "6"
      ]
     },
     "execution_count": 5,
     "metadata": {},
     "output_type": "execute_result"
    }
   ],
   "source": [
    "fact_rec(3)"
   ]
  },
  {
   "cell_type": "markdown",
   "id": "c159aada",
   "metadata": {},
   "source": [
    "## مثال: "
   ]
  },
  {
   "cell_type": "markdown",
   "id": "a4227397",
   "metadata": {},
   "source": [
    " 2^3 = 2 * 2 * 2"
   ]
  },
  {
   "cell_type": "markdown",
   "id": "9abd9732",
   "metadata": {},
   "source": [
    "5^2 = 5 * 5"
   ]
  },
  {
   "cell_type": "markdown",
   "id": "6f9d8bd8",
   "metadata": {},
   "source": [
    "## iterative:  "
   ]
  },
  {
   "cell_type": "code",
   "execution_count": 1,
   "id": "10a052c7",
   "metadata": {},
   "outputs": [],
   "source": [
    "def power(x,y):\n",
    "    if y == 0:\n",
    "        return(1)\n",
    "    \n",
    "    elif x == 0:\n",
    "        return(0)\n",
    "    \n",
    "    elif y == 1:\n",
    "        return(x)\n",
    "    \n",
    "    else:\n",
    "        temp = 1\n",
    "        while y > 0:\n",
    "            temp = temp * x\n",
    "            y = y - 1\n",
    "        return(temp)"
   ]
  },
  {
   "cell_type": "markdown",
   "id": "3842a9cf",
   "metadata": {},
   "source": [
    "x = 3 , y = 2 , temp = 1\n",
    "...........................\n",
    "1- \n",
    "temp = temp * 3 = 1 * 3 = 3\n",
    "y = 2 - 1 = 1\n",
    "...........................\n",
    "2- \n",
    "temp = temp * 3 = 3 * 3 = 9\n",
    "y = 1 - 1 = 0\n",
    "...........................\n"
   ]
  },
  {
   "cell_type": "code",
   "execution_count": 2,
   "id": "0f3cc509",
   "metadata": {},
   "outputs": [
    {
     "data": {
      "text/plain": [
       "9"
      ]
     },
     "execution_count": 2,
     "metadata": {},
     "output_type": "execute_result"
    }
   ],
   "source": [
    "power(3,2)"
   ]
  },
  {
   "cell_type": "code",
   "execution_count": 3,
   "id": "5882af6f",
   "metadata": {},
   "outputs": [
    {
     "data": {
      "text/plain": [
       "625"
      ]
     },
     "execution_count": 3,
     "metadata": {},
     "output_type": "execute_result"
    }
   ],
   "source": [
    "power(5,4)"
   ]
  },
  {
   "cell_type": "code",
   "execution_count": 4,
   "id": "4f48ee9c",
   "metadata": {},
   "outputs": [
    {
     "data": {
      "text/plain": [
       "16"
      ]
     },
     "execution_count": 4,
     "metadata": {},
     "output_type": "execute_result"
    }
   ],
   "source": [
    "power(2,4)"
   ]
  },
  {
   "cell_type": "code",
   "execution_count": null,
   "id": "11df9d2f",
   "metadata": {},
   "outputs": [],
   "source": [
    "def power(x,y):\n",
    "    if y == 0:\n",
    "        return(1)\n",
    "    \n",
    "    elif x == 0:\n",
    "        return(0)\n",
    "    \n",
    "    elif y == 1:\n",
    "        return(x)\n",
    "    \n",
    "    else:\n",
    "        temp = 1\n",
    "        while y > 0:\n",
    "            temp = temp * x\n",
    "            y = y - 1\n",
    "        return(temp)"
   ]
  },
  {
   "cell_type": "code",
   "execution_count": null,
   "id": "b3627b53",
   "metadata": {},
   "outputs": [],
   "source": []
  },
  {
   "cell_type": "markdown",
   "id": "5734cbe2",
   "metadata": {},
   "source": [
    "## تمرین 1 امتیازی: "
   ]
  },
  {
   "cell_type": "markdown",
   "id": "ffbfb430",
   "metadata": {},
   "source": [
    "## مثال قبلی (به توان رساندن عدد) را بصورت یک تابع بازگشتی بنویسید "
   ]
  },
  {
   "cell_type": "code",
   "execution_count": 5,
   "id": "1a4c726c",
   "metadata": {},
   "outputs": [],
   "source": [
    "def power_rec(x,y):\n",
    "    if y == 0:\n",
    "        return 1\n",
    "    elif x == 0:\n",
    "        return 0\n",
    "    elif y == 1:\n",
    "        return x\n",
    "    else:\n",
    "        return x * power_rec(x,y-1)"
   ]
  },
  {
   "cell_type": "code",
   "execution_count": 6,
   "id": "aad30ba9",
   "metadata": {},
   "outputs": [
    {
     "data": {
      "text/plain": [
       "9"
      ]
     },
     "execution_count": 6,
     "metadata": {},
     "output_type": "execute_result"
    }
   ],
   "source": [
    "power_rec(3,2)"
   ]
  },
  {
   "cell_type": "code",
   "execution_count": 7,
   "id": "7c860d91",
   "metadata": {},
   "outputs": [
    {
     "data": {
      "text/plain": [
       "25"
      ]
     },
     "execution_count": 7,
     "metadata": {},
     "output_type": "execute_result"
    }
   ],
   "source": [
    "power_rec(5,2)"
   ]
  },
  {
   "cell_type": "markdown",
   "id": "22cc0b85",
   "metadata": {},
   "source": [
    "## مثال: "
   ]
  },
  {
   "cell_type": "markdown",
   "id": "ca1f67ae",
   "metadata": {},
   "source": [
    "فیبوناچی دنباله اعداد ادامه دار است.\n",
    "(0,1,1,2,3,5,8,13,21,34,...)\n",
    "در این دنباله به غیر از 2 عدد اول، بقیه اعضا از جمع دو مقدار قبلی بدست می آیند."
   ]
  },
  {
   "cell_type": "markdown",
   "id": "fe45a677",
   "metadata": {},
   "source": [
    "(0,1) => شروع دنباله\n",
    "0+1=1 => مرحله اول\n",
    "..................\n",
    "(0,1,1) => یکبار پیمایش\n",
    "1+1=2 => مرحله دوم\n",
    "..................\n",
    "(0,1,1,2) => پیمایش دوم\n",
    "1+2=3 => مرحله سوم\n",
    "..................\n",
    "\n",
    "(0,1,1,2,3,5,8,...)"
   ]
  },
  {
   "cell_type": "markdown",
   "id": "3d24e9ac",
   "metadata": {},
   "source": [
    "fibonacci (6) : 8"
   ]
  },
  {
   "cell_type": "code",
   "execution_count": 16,
   "id": "58ca173c",
   "metadata": {},
   "outputs": [],
   "source": [
    "def fibo(n):\n",
    "    a = 0\n",
    "    b = 1\n",
    "    if n == 0:\n",
    "        return 0\n",
    "    elif n == 1:\n",
    "        return 1\n",
    "    else:\n",
    "        while a < n-2:\n",
    "            a, b = b, a + b\n",
    "        return b"
   ]
  },
  {
   "cell_type": "code",
   "execution_count": 17,
   "id": "6e27fa16",
   "metadata": {},
   "outputs": [
    {
     "name": "stdout",
     "output_type": "stream",
     "text": [
      "8\n"
     ]
    }
   ],
   "source": [
    "print(fibo(6))"
   ]
  },
  {
   "cell_type": "markdown",
   "id": "49d05f2e",
   "metadata": {},
   "source": [
    "(0,1,1,2,3,5,8,...)\n",
    "..........................\n",
    "fibo(0) = 0\n",
    "fibo(1) = 1\n",
    "fibo(2) = 1\n",
    "fibo(3) = 2\n",
    "fibo(4) = 3\n",
    "fibo(5) = 5\n",
    "fibo(6) = 8"
   ]
  },
  {
   "cell_type": "markdown",
   "id": "61301fab",
   "metadata": {},
   "source": [
    "a = 0 , b = 1, n = 6\n",
    "........................\n",
    "a<n-2 => 0<4\n",
    "a, b = b, a+b => a = 1, b = 1\n",
    "........................\n",
    "1<4\n",
    "a, b = b, a+b => a = 1 , b = 2\n",
    "........................\n",
    "1<4\n",
    "a, b = b, a+b => a = 2 , b = 3\n",
    "........................\n",
    "2<4\n",
    "a, b = b, a+b => a = 3 , b = 5\n",
    "........................\n",
    "3<4\n",
    "a, b = b, a+b => a = 5 , b = 8\n",
    "........................\n",
    "5<4\n",
    "return(8)"
   ]
  },
  {
   "cell_type": "code",
   "execution_count": null,
   "id": "8a727d9d",
   "metadata": {},
   "outputs": [],
   "source": [
    "def fibo(n):\n",
    "    a = 0\n",
    "    b = 1\n",
    "    if n == 0:\n",
    "        return 0\n",
    "    elif n == 1:\n",
    "        return 1\n",
    "    else:\n",
    "        while a < n-2:\n",
    "            a, b = b, a + b\n",
    "        return b"
   ]
  },
  {
   "cell_type": "markdown",
   "id": "54d1ce58",
   "metadata": {},
   "source": [
    "## تمرین 2 امتیازی: "
   ]
  },
  {
   "cell_type": "markdown",
   "id": "68d8fec2",
   "metadata": {},
   "source": [
    "## مثال قبلی (فیبوناچی) را بصورت یک تابع بازگشتی بنویسید "
   ]
  },
  {
   "cell_type": "code",
   "execution_count": 18,
   "id": "1a5567f8",
   "metadata": {},
   "outputs": [],
   "source": [
    "def fibo(n):\n",
    "    if n == 0:\n",
    "        return 0\n",
    "    elif n == 1:\n",
    "        return 1\n",
    "    else:\n",
    "        return fibo(n-1) + fibo(n-2)"
   ]
  },
  {
   "cell_type": "code",
   "execution_count": 19,
   "id": "16c4b8db",
   "metadata": {},
   "outputs": [
    {
     "name": "stdout",
     "output_type": "stream",
     "text": [
      "8\n"
     ]
    }
   ],
   "source": [
    "print(fibo(6))"
   ]
  },
  {
   "cell_type": "markdown",
   "id": "63fc0489",
   "metadata": {},
   "source": [
    "## مثال: "
   ]
  },
  {
   "cell_type": "markdown",
   "id": "a3f2ce88",
   "metadata": {},
   "source": [
    "## input: "
   ]
  },
  {
   "cell_type": "code",
   "execution_count": null,
   "id": "50dce480",
   "metadata": {},
   "outputs": [],
   "source": [
    "n = 123 "
   ]
  },
  {
   "cell_type": "markdown",
   "id": "48a0dedb",
   "metadata": {},
   "source": [
    "## output: "
   ]
  },
  {
   "cell_type": "code",
   "execution_count": null,
   "id": "3ba78b14",
   "metadata": {},
   "outputs": [],
   "source": [
    "6"
   ]
  },
  {
   "cell_type": "code",
   "execution_count": null,
   "id": "02f3990c",
   "metadata": {},
   "outputs": [],
   "source": []
  },
  {
   "cell_type": "code",
   "execution_count": 8,
   "id": "cc7a83af",
   "metadata": {},
   "outputs": [],
   "source": [
    "def sum_digits(n):\n",
    "    if n == 0:\n",
    "        return(0)\n",
    "    else:\n",
    "        temp=0\n",
    "        while n>0:\n",
    "            temp = n % 10 + temp\n",
    "            n = int(n/10)\n",
    "    return(temp)"
   ]
  },
  {
   "cell_type": "code",
   "execution_count": 9,
   "id": "3d3885b0",
   "metadata": {},
   "outputs": [
    {
     "data": {
      "text/plain": [
       "6"
      ]
     },
     "execution_count": 9,
     "metadata": {},
     "output_type": "execute_result"
    }
   ],
   "source": [
    "sum_digits(123)"
   ]
  },
  {
   "cell_type": "markdown",
   "id": "b3dbdad5",
   "metadata": {},
   "source": [
    "n = 123\n",
    "temp = 0\n",
    ".............\n",
    "1- \n",
    "temp = 123 % 10 + temp = 3 + 0 = 3\n",
    "n = int(n/10) = int(123 / 10) = int(12.3) = 12\n",
    ".............\n",
    "2-\n",
    "temp = 12 % 10 + temp = 2 + 3 = 5\n",
    "n = int(n/10) = int(12 / 10) = int(1.2) = 1\n",
    ".............\n",
    "3-\n",
    "temp = 1 % 10 + temp = 1 + 5 = 6\n",
    "n = int(n/10) = int(1 / 10) = int(0.1) = 0\n",
    ".............\n",
    "4-\n",
    "temp = 6\n",
    "n = 0"
   ]
  },
  {
   "cell_type": "code",
   "execution_count": null,
   "id": "5a98fc74",
   "metadata": {},
   "outputs": [],
   "source": []
  },
  {
   "cell_type": "code",
   "execution_count": null,
   "id": "0ee3dde0",
   "metadata": {},
   "outputs": [],
   "source": [
    "def sum_digits(n):\n",
    "    if n == 0:\n",
    "        return(0)\n",
    "    else:\n",
    "        temp=0\n",
    "        while n>0:\n",
    "            temp = n % 10 + temp\n",
    "            n = int(n/10)\n",
    "    return(temp)"
   ]
  },
  {
   "cell_type": "markdown",
   "id": "aae66d8e",
   "metadata": {},
   "source": [
    "## تمرین 3 امتیازی: "
   ]
  },
  {
   "cell_type": "markdown",
   "id": "529950e7",
   "metadata": {},
   "source": [
    "## مثال قبلی را بصورت یک تابع بازگشتی بنویسید "
   ]
  },
  {
   "cell_type": "markdown",
   "id": "4f7abffe",
   "metadata": {},
   "source": [
    "n = 123\n",
    "\n",
    "(123 % 10) +  sum_digits(int(123/10))= 3 + sum_digits(12)\n",
    "\n",
    "3 + ( (12 % 10) + sum_digits(int(12/10)) = 3 + ( 2 + sum_digits(1))\n",
    "\n",
    "3 + ( 2 + ( (1 % 10) + sum_digits(int(1/10)))) = 3 + ( 2 + ( 1 + sum_digits(0)))\n",
    "\n",
    "= 3 + 2 + 1 = 6"
   ]
  },
  {
   "cell_type": "code",
   "execution_count": null,
   "id": "0f54e665",
   "metadata": {},
   "outputs": [],
   "source": []
  },
  {
   "cell_type": "code",
   "execution_count": null,
   "id": "d82dca21",
   "metadata": {},
   "outputs": [],
   "source": [
    "def sum_digits(n):\n",
    "    if n == 0:\n",
    "        return 0\n",
    "    else:\n",
    "        return n % 10 + sum_digits(int(n/10)) "
   ]
  },
  {
   "cell_type": "code",
   "execution_count": null,
   "id": "2628a05d",
   "metadata": {},
   "outputs": [],
   "source": [
    "sum_digits(123)"
   ]
  },
  {
   "cell_type": "markdown",
   "id": "08b96c6a",
   "metadata": {},
   "source": [
    "## مثال: "
   ]
  },
  {
   "cell_type": "markdown",
   "id": "c7e43e8f",
   "metadata": {},
   "source": [
    "## input: "
   ]
  },
  {
   "cell_type": "code",
   "execution_count": 10,
   "id": "90f0605c",
   "metadata": {},
   "outputs": [],
   "source": [
    "n = [1, 2, 3]"
   ]
  },
  {
   "cell_type": "markdown",
   "id": "3620ca27",
   "metadata": {},
   "source": [
    "## output: "
   ]
  },
  {
   "cell_type": "code",
   "execution_count": null,
   "id": "1c9e35f6",
   "metadata": {},
   "outputs": [],
   "source": [
    "6"
   ]
  },
  {
   "cell_type": "code",
   "execution_count": 11,
   "id": "d25db6b1",
   "metadata": {},
   "outputs": [],
   "source": [
    "def test(lst):\n",
    "    if len(lst) == 1:\n",
    "        return(lst[0])\n",
    "    else:\n",
    "        temp = 0\n",
    "        for i in lst:\n",
    "            temp = i + temp\n",
    "        return(temp) "
   ]
  },
  {
   "cell_type": "code",
   "execution_count": 12,
   "id": "482c1429",
   "metadata": {},
   "outputs": [
    {
     "data": {
      "text/plain": [
       "6"
      ]
     },
     "execution_count": 12,
     "metadata": {},
     "output_type": "execute_result"
    }
   ],
   "source": [
    "test(n)"
   ]
  },
  {
   "cell_type": "markdown",
   "id": "3d6b6c9b",
   "metadata": {},
   "source": [
    "## تمرین 4 امتیازی: "
   ]
  },
  {
   "cell_type": "markdown",
   "id": "3a98795f",
   "metadata": {},
   "source": [
    "## مثال قبلی را بصورت یک تابع بازگشتی بنویسید "
   ]
  },
  {
   "cell_type": "code",
   "execution_count": 13,
   "id": "952f8398",
   "metadata": {},
   "outputs": [],
   "source": [
    "def test(lst):\n",
    "    if len(lst) == 1:\n",
    "        return lst[0]\n",
    "    else:\n",
    "        return lst[0] + test(lst[1:]) "
   ]
  },
  {
   "cell_type": "code",
   "execution_count": 14,
   "id": "a2025c80",
   "metadata": {},
   "outputs": [
    {
     "data": {
      "text/plain": [
       "6"
      ]
     },
     "execution_count": 14,
     "metadata": {},
     "output_type": "execute_result"
    }
   ],
   "source": [
    "test(n)"
   ]
  },
  {
   "cell_type": "markdown",
   "id": "ebffbe09",
   "metadata": {},
   "source": [
    "## سوال ششم آزمون: "
   ]
  },
  {
   "cell_type": "markdown",
   "id": "340dadd7",
   "metadata": {},
   "source": [
    "n + (n-2) +(n-4) +..."
   ]
  },
  {
   "cell_type": "markdown",
   "id": "ba977920",
   "metadata": {},
   "source": [
    "## دنباله فوق را بصورت یک تابع بازگشتی تعریف نمایید "
   ]
  },
  {
   "cell_type": "markdown",
   "id": "a530a745",
   "metadata": {},
   "source": [
    "## input: "
   ]
  },
  {
   "cell_type": "markdown",
   "id": "98e3a5c3",
   "metadata": {},
   "source": [
    "10"
   ]
  },
  {
   "cell_type": "markdown",
   "id": "e6cda29d",
   "metadata": {},
   "source": [
    "## output: "
   ]
  },
  {
   "cell_type": "markdown",
   "id": "882a07e2",
   "metadata": {},
   "source": [
    "10 + 8 + 6 + 4 + 2 = 30"
   ]
  },
  {
   "cell_type": "markdown",
   "id": "580418b4",
   "metadata": {},
   "source": [
    "30"
   ]
  },
  {
   "cell_type": "code",
   "execution_count": null,
   "id": "d48f428b",
   "metadata": {},
   "outputs": [],
   "source": [
    "def sum_series(n):\n",
    "    if n < 1 :\n",
    "        return 0\n",
    "    else:\n",
    "        return n + sum_series(n-2)"
   ]
  },
  {
   "cell_type": "code",
   "execution_count": null,
   "id": "cec58949",
   "metadata": {},
   "outputs": [],
   "source": [
    "sum_series(10)"
   ]
  }
 ],
 "metadata": {
  "kernelspec": {
   "display_name": "Python 3 (ipykernel)",
   "language": "python",
   "name": "python3"
  },
  "language_info": {
   "codemirror_mode": {
    "name": "ipython",
    "version": 3
   },
   "file_extension": ".py",
   "mimetype": "text/x-python",
   "name": "python",
   "nbconvert_exporter": "python",
   "pygments_lexer": "ipython3",
   "version": "3.11.5"
  }
 },
 "nbformat": 4,
 "nbformat_minor": 5
}
