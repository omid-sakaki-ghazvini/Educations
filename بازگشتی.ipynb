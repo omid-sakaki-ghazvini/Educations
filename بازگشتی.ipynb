{
  "cells": [
    {
      "cell_type": "markdown",
      "metadata": {
        "id": "view-in-github",
        "colab_type": "text"
      },
      "source": [
        "<a href=\"https://colab.research.google.com/github/omid-sakaki-ghazvini/Educations/blob/main/%D8%A8%D8%A7%D8%B2%DA%AF%D8%B4%D8%AA%DB%8C.ipynb\" target=\"_parent\"><img src=\"https://colab.research.google.com/assets/colab-badge.svg\" alt=\"Open In Colab\"/></a>"
      ]
    },
    {
      "cell_type": "markdown",
      "id": "8655c6e6",
      "metadata": {
        "id": "8655c6e6"
      },
      "source": [
        "# بازگشتی:"
      ]
    },
    {
      "cell_type": "code",
      "execution_count": null,
      "id": "a76ab52d",
      "metadata": {
        "id": "a76ab52d"
      },
      "outputs": [],
      "source": []
    },
    {
      "cell_type": "markdown",
      "id": "deb33727",
      "metadata": {
        "id": "deb33727"
      },
      "source": [
        "## مثال:"
      ]
    },
    {
      "cell_type": "markdown",
      "id": "6693f6df",
      "metadata": {
        "id": "6693f6df"
      },
      "source": [
        "## فاکتوریل:"
      ]
    },
    {
      "cell_type": "markdown",
      "id": "6b523493",
      "metadata": {
        "id": "6b523493"
      },
      "source": [
        "0! = 1"
      ]
    },
    {
      "cell_type": "markdown",
      "id": "2cde1f79",
      "metadata": {
        "id": "2cde1f79"
      },
      "source": [
        "3! = 3 * 2 * 1"
      ]
    },
    {
      "cell_type": "markdown",
      "id": "d4335d6c",
      "metadata": {
        "id": "d4335d6c"
      },
      "source": [
        "6! = 6 * 5 * 4 * 3 * 2 * 1"
      ]
    },
    {
      "cell_type": "markdown",
      "id": "66d9b563",
      "metadata": {
        "id": "66d9b563"
      },
      "source": [
        "n! = n * (n-1) * (n-2) * ... * 3 * 2 * 1"
      ]
    },
    {
      "cell_type": "code",
      "execution_count": null,
      "id": "9dc84971",
      "metadata": {
        "id": "9dc84971"
      },
      "outputs": [],
      "source": [
        "def fact(n):\n",
        "    temp = 1\n",
        "    if n == 0 :\n",
        "        print('1')\n",
        "    else:\n",
        "        for i in range(1, n+1):\n",
        "             temp = temp * i\n",
        "        print(temp)"
      ]
    },
    {
      "cell_type": "code",
      "execution_count": null,
      "id": "542fde7f",
      "metadata": {
        "id": "542fde7f",
        "outputId": "030748fb-d12d-43c9-e716-e41dd98347c2"
      },
      "outputs": [
        {
          "name": "stdout",
          "output_type": "stream",
          "text": [
            "6\n"
          ]
        }
      ],
      "source": [
        "fact(3)"
      ]
    },
    {
      "cell_type": "markdown",
      "id": "e3bec8b7",
      "metadata": {
        "id": "e3bec8b7"
      },
      "source": [
        "## یادآوری:"
      ]
    },
    {
      "cell_type": "code",
      "execution_count": null,
      "id": "7ba7b057",
      "metadata": {
        "id": "7ba7b057",
        "outputId": "bed5151e-4f14-4a9b-e53f-4aacd69f9451"
      },
      "outputs": [
        {
          "name": "stdout",
          "output_type": "stream",
          "text": [
            "1\n",
            "2\n",
            "3\n",
            "4\n",
            "5\n",
            "6\n",
            "7\n",
            "8\n",
            "9\n"
          ]
        }
      ],
      "source": [
        "for i in range(1, 10):\n",
        "    print(i)"
      ]
    },
    {
      "cell_type": "code",
      "execution_count": null,
      "id": "f70c7c56",
      "metadata": {
        "id": "f70c7c56"
      },
      "outputs": [],
      "source": []
    },
    {
      "cell_type": "markdown",
      "id": "79695fe7",
      "metadata": {
        "id": "79695fe7"
      },
      "source": [
        "## نکته:"
      ]
    },
    {
      "cell_type": "markdown",
      "id": "7df20420",
      "metadata": {
        "id": "7df20420"
      },
      "source": [
        "## iterative:  "
      ]
    },
    {
      "cell_type": "markdown",
      "id": "39229960",
      "metadata": {
        "id": "39229960"
      },
      "source": [
        "## در حل مثال بالا، تابع فاکتوریل را بصورت تکرار شونده تعریف کردیم"
      ]
    },
    {
      "cell_type": "code",
      "execution_count": null,
      "id": "52fe1c2d",
      "metadata": {
        "id": "52fe1c2d"
      },
      "outputs": [],
      "source": []
    },
    {
      "cell_type": "markdown",
      "id": "90c81196",
      "metadata": {
        "id": "90c81196"
      },
      "source": [
        "3! = 3 * 2!"
      ]
    },
    {
      "cell_type": "markdown",
      "id": "737b407f",
      "metadata": {
        "id": "737b407f"
      },
      "source": [
        "2! = 2 * 1!"
      ]
    },
    {
      "cell_type": "markdown",
      "id": "716089ed",
      "metadata": {
        "id": "716089ed"
      },
      "source": [
        "1! = 1"
      ]
    },
    {
      "cell_type": "markdown",
      "id": "0de485cf",
      "metadata": {
        "id": "0de485cf"
      },
      "source": [
        "3! = 3 * 2 = 6"
      ]
    },
    {
      "cell_type": "markdown",
      "id": "069ec56b",
      "metadata": {
        "id": "069ec56b"
      },
      "source": [
        "n! = n * (n-1)!"
      ]
    },
    {
      "cell_type": "markdown",
      "id": "770de8c8",
      "metadata": {
        "id": "770de8c8"
      },
      "source": [
        "## recursive:"
      ]
    },
    {
      "cell_type": "markdown",
      "id": "9b75717b",
      "metadata": {
        "id": "9b75717b"
      },
      "source": [
        "## حال میخواهیم تابع فاکتوریل را بصورت بازگشتی تعریف کنیم"
      ]
    },
    {
      "cell_type": "code",
      "execution_count": null,
      "id": "c5c59aef",
      "metadata": {
        "id": "c5c59aef"
      },
      "outputs": [],
      "source": [
        "def fact_rec(n):\n",
        "    if n == 1:\n",
        "        return 1\n",
        "    else:\n",
        "        return n * fact_rec(n-1)"
      ]
    },
    {
      "cell_type": "code",
      "execution_count": null,
      "id": "dadc4376",
      "metadata": {
        "id": "dadc4376",
        "outputId": "3dab616d-103e-49b4-f951-d596e683d770"
      },
      "outputs": [
        {
          "data": {
            "text/plain": [
              "6"
            ]
          },
          "execution_count": 5,
          "metadata": {},
          "output_type": "execute_result"
        }
      ],
      "source": [
        "fact_rec(3)"
      ]
    },
    {
      "cell_type": "markdown",
      "id": "c159aada",
      "metadata": {
        "id": "c159aada"
      },
      "source": [
        "## مثال:"
      ]
    },
    {
      "cell_type": "markdown",
      "id": "a4227397",
      "metadata": {
        "id": "a4227397"
      },
      "source": [
        " 2^3 = 2 * 2 * 2"
      ]
    },
    {
      "cell_type": "markdown",
      "id": "9abd9732",
      "metadata": {
        "id": "9abd9732"
      },
      "source": [
        "5^2 = 5 * 5"
      ]
    },
    {
      "cell_type": "markdown",
      "id": "6f9d8bd8",
      "metadata": {
        "id": "6f9d8bd8"
      },
      "source": [
        "## iterative:  "
      ]
    },
    {
      "cell_type": "code",
      "execution_count": null,
      "id": "10a052c7",
      "metadata": {
        "id": "10a052c7"
      },
      "outputs": [],
      "source": [
        "def power(x,y):\n",
        "    if y == 0:\n",
        "        return(1)\n",
        "\n",
        "    elif x == 0:\n",
        "        return(0)\n",
        "\n",
        "    elif y == 1:\n",
        "        return(x)\n",
        "\n",
        "    else:\n",
        "        temp = 1\n",
        "        while y > 0:\n",
        "            temp = temp * x\n",
        "            y = y - 1\n",
        "        return(temp)"
      ]
    },
    {
      "cell_type": "markdown",
      "id": "3842a9cf",
      "metadata": {
        "id": "3842a9cf"
      },
      "source": [
        "x = 3 , y = 2 , temp = 1\n",
        "...........................\n",
        "1-\n",
        "temp = temp * 3 = 1 * 3 = 3\n",
        "y = 2 - 1 = 1\n",
        "...........................\n",
        "2-\n",
        "temp = temp * 3 = 3 * 3 = 9\n",
        "y = 1 - 1 = 0\n",
        "...........................\n"
      ]
    },
    {
      "cell_type": "code",
      "execution_count": null,
      "id": "0f3cc509",
      "metadata": {
        "id": "0f3cc509",
        "outputId": "273f2600-02f4-4c50-d777-3f29d45f4688"
      },
      "outputs": [
        {
          "data": {
            "text/plain": [
              "9"
            ]
          },
          "execution_count": 2,
          "metadata": {},
          "output_type": "execute_result"
        }
      ],
      "source": [
        "power(3,2)"
      ]
    },
    {
      "cell_type": "code",
      "execution_count": null,
      "id": "5882af6f",
      "metadata": {
        "id": "5882af6f",
        "outputId": "91ee6fa1-98ca-4b29-ac84-9ea0cd5d485a"
      },
      "outputs": [
        {
          "data": {
            "text/plain": [
              "625"
            ]
          },
          "execution_count": 3,
          "metadata": {},
          "output_type": "execute_result"
        }
      ],
      "source": [
        "power(5,4)"
      ]
    },
    {
      "cell_type": "code",
      "execution_count": null,
      "id": "4f48ee9c",
      "metadata": {
        "id": "4f48ee9c",
        "outputId": "2ed98a8c-16df-4b4e-a5a9-292a434099cb"
      },
      "outputs": [
        {
          "data": {
            "text/plain": [
              "16"
            ]
          },
          "execution_count": 4,
          "metadata": {},
          "output_type": "execute_result"
        }
      ],
      "source": [
        "power(2,4)"
      ]
    },
    {
      "cell_type": "code",
      "execution_count": null,
      "id": "11df9d2f",
      "metadata": {
        "id": "11df9d2f"
      },
      "outputs": [],
      "source": [
        "def power(x,y):\n",
        "    if y == 0:\n",
        "        return(1)\n",
        "\n",
        "    elif x == 0:\n",
        "        return(0)\n",
        "\n",
        "    elif y == 1:\n",
        "        return(x)\n",
        "\n",
        "    else:\n",
        "        temp = 1\n",
        "        while y > 0:\n",
        "            temp = temp * x\n",
        "            y = y - 1\n",
        "        return(temp)"
      ]
    },
    {
      "cell_type": "code",
      "execution_count": null,
      "id": "b3627b53",
      "metadata": {
        "id": "b3627b53"
      },
      "outputs": [],
      "source": []
    },
    {
      "cell_type": "markdown",
      "id": "5734cbe2",
      "metadata": {
        "id": "5734cbe2"
      },
      "source": [
        "## تمرین 1 امتیازی:"
      ]
    },
    {
      "cell_type": "markdown",
      "id": "ffbfb430",
      "metadata": {
        "id": "ffbfb430"
      },
      "source": [
        "## مثال قبلی (به توان رساندن عدد) را بصورت یک تابع بازگشتی بنویسید"
      ]
    },
    {
      "cell_type": "code",
      "execution_count": null,
      "id": "1a4c726c",
      "metadata": {
        "id": "1a4c726c"
      },
      "outputs": [],
      "source": [
        "def power_rec(x,y):\n",
        "    if y == 0:\n",
        "        return 1\n",
        "    elif x == 0:\n",
        "        return 0\n",
        "    elif y == 1:\n",
        "        return x\n",
        "    else:\n",
        "        return x * power_rec(x,y-1)"
      ]
    },
    {
      "cell_type": "code",
      "execution_count": null,
      "id": "aad30ba9",
      "metadata": {
        "id": "aad30ba9",
        "outputId": "1d9a54c4-1f9a-49c0-cf72-4f07871d1033"
      },
      "outputs": [
        {
          "data": {
            "text/plain": [
              "9"
            ]
          },
          "execution_count": 6,
          "metadata": {},
          "output_type": "execute_result"
        }
      ],
      "source": [
        "power_rec(3,2)"
      ]
    },
    {
      "cell_type": "code",
      "execution_count": null,
      "id": "7c860d91",
      "metadata": {
        "id": "7c860d91",
        "outputId": "aabe5406-e1d1-4eac-cabd-847794f77653"
      },
      "outputs": [
        {
          "data": {
            "text/plain": [
              "25"
            ]
          },
          "execution_count": 7,
          "metadata": {},
          "output_type": "execute_result"
        }
      ],
      "source": [
        "power_rec(5,2)"
      ]
    },
    {
      "cell_type": "markdown",
      "id": "22cc0b85",
      "metadata": {
        "id": "22cc0b85"
      },
      "source": [
        "## مثال:"
      ]
    },
    {
      "cell_type": "markdown",
      "id": "ca1f67ae",
      "metadata": {
        "id": "ca1f67ae"
      },
      "source": [
        "فیبوناچی دنباله اعداد ادامه دار است.\n",
        "(0,1,1,2,3,5,8,13,21,34,...)\n",
        "در این دنباله به غیر از 2 عدد اول، بقیه اعضا از جمع دو مقدار قبلی بدست می آیند."
      ]
    },
    {
      "cell_type": "markdown",
      "id": "fe45a677",
      "metadata": {
        "id": "fe45a677"
      },
      "source": [
        "(0,1) => شروع دنباله\n",
        "0+1=1 => مرحله اول\n",
        "..................\n",
        "(0,1,1) => یکبار پیمایش\n",
        "1+1=2 => مرحله دوم\n",
        "..................\n",
        "(0,1,1,2) => پیمایش دوم\n",
        "1+2=3 => مرحله سوم\n",
        "..................\n",
        "\n",
        "(0,1,1,2,3,5,8,...)"
      ]
    },
    {
      "cell_type": "markdown",
      "id": "3d24e9ac",
      "metadata": {
        "id": "3d24e9ac"
      },
      "source": [
        "fibonacci (6) : 8"
      ]
    },
    {
      "cell_type": "code",
      "execution_count": null,
      "id": "58ca173c",
      "metadata": {
        "id": "58ca173c"
      },
      "outputs": [],
      "source": [
        "def fibo(n):\n",
        "    a = 0\n",
        "    b = 1\n",
        "    if n == 0:\n",
        "        return 0\n",
        "    elif n == 1:\n",
        "        return 1\n",
        "    else:\n",
        "        while a < n-2:\n",
        "            a, b = b, a + b\n",
        "        return b"
      ]
    },
    {
      "cell_type": "code",
      "execution_count": null,
      "id": "6e27fa16",
      "metadata": {
        "id": "6e27fa16",
        "outputId": "47f92a53-1d1d-4126-f19a-540607963566"
      },
      "outputs": [
        {
          "name": "stdout",
          "output_type": "stream",
          "text": [
            "8\n"
          ]
        }
      ],
      "source": [
        "print(fibo(6))"
      ]
    },
    {
      "cell_type": "markdown",
      "id": "49d05f2e",
      "metadata": {
        "id": "49d05f2e"
      },
      "source": [
        "(0,1,1,2,3,5,8,...)\n",
        "..........................\n",
        "fibo(0) = 0\n",
        "fibo(1) = 1\n",
        "fibo(2) = 1\n",
        "fibo(3) = 2\n",
        "fibo(4) = 3\n",
        "fibo(5) = 5\n",
        "fibo(6) = 8"
      ]
    },
    {
      "cell_type": "markdown",
      "id": "61301fab",
      "metadata": {
        "id": "61301fab"
      },
      "source": [
        "a = 0 , b = 1, n = 6\n",
        "........................\n",
        "a<n-2 => 0<4\n",
        "a, b = b, a+b => a = 1, b = 1\n",
        "........................\n",
        "1<4\n",
        "a, b = b, a+b => a = 1 , b = 2\n",
        "........................\n",
        "1<4\n",
        "a, b = b, a+b => a = 2 , b = 3\n",
        "........................\n",
        "2<4\n",
        "a, b = b, a+b => a = 3 , b = 5\n",
        "........................\n",
        "3<4\n",
        "a, b = b, a+b => a = 5 , b = 8\n",
        "........................\n",
        "5<4\n",
        "return(8)"
      ]
    },
    {
      "cell_type": "code",
      "execution_count": null,
      "id": "8a727d9d",
      "metadata": {
        "id": "8a727d9d"
      },
      "outputs": [],
      "source": [
        "def fibo(n):\n",
        "    a = 0\n",
        "    b = 1\n",
        "    if n == 0:\n",
        "        return 0\n",
        "    elif n == 1:\n",
        "        return 1\n",
        "    else:\n",
        "        while a < n-2:\n",
        "            a, b = b, a + b\n",
        "        return b"
      ]
    },
    {
      "cell_type": "markdown",
      "id": "54d1ce58",
      "metadata": {
        "id": "54d1ce58"
      },
      "source": [
        "## تمرین 2 امتیازی:"
      ]
    },
    {
      "cell_type": "markdown",
      "id": "68d8fec2",
      "metadata": {
        "id": "68d8fec2"
      },
      "source": [
        "## مثال قبلی (فیبوناچی) را بصورت یک تابع بازگشتی بنویسید"
      ]
    },
    {
      "cell_type": "code",
      "execution_count": null,
      "id": "1a5567f8",
      "metadata": {
        "id": "1a5567f8"
      },
      "outputs": [],
      "source": [
        "def fibo(n):\n",
        "    if n == 0:\n",
        "        return 0\n",
        "    elif n == 1:\n",
        "        return 1\n",
        "    else:\n",
        "        return fibo(n-1) + fibo(n-2)"
      ]
    },
    {
      "cell_type": "code",
      "execution_count": null,
      "id": "16c4b8db",
      "metadata": {
        "id": "16c4b8db",
        "outputId": "ec36b82e-dc28-4343-bb92-4c252387bbad"
      },
      "outputs": [
        {
          "name": "stdout",
          "output_type": "stream",
          "text": [
            "8\n"
          ]
        }
      ],
      "source": [
        "print(fibo(6))"
      ]
    },
    {
      "cell_type": "markdown",
      "id": "63fc0489",
      "metadata": {
        "id": "63fc0489"
      },
      "source": [
        "## مثال:"
      ]
    },
    {
      "cell_type": "markdown",
      "id": "a3f2ce88",
      "metadata": {
        "id": "a3f2ce88"
      },
      "source": [
        "## input:"
      ]
    },
    {
      "cell_type": "code",
      "execution_count": null,
      "id": "50dce480",
      "metadata": {
        "id": "50dce480"
      },
      "outputs": [],
      "source": [
        "n = 123"
      ]
    },
    {
      "cell_type": "markdown",
      "id": "48a0dedb",
      "metadata": {
        "id": "48a0dedb"
      },
      "source": [
        "## output:"
      ]
    },
    {
      "cell_type": "code",
      "execution_count": null,
      "id": "3ba78b14",
      "metadata": {
        "id": "3ba78b14"
      },
      "outputs": [],
      "source": [
        "6"
      ]
    },
    {
      "cell_type": "code",
      "execution_count": null,
      "id": "02f3990c",
      "metadata": {
        "id": "02f3990c"
      },
      "outputs": [],
      "source": []
    },
    {
      "cell_type": "code",
      "execution_count": null,
      "id": "cc7a83af",
      "metadata": {
        "id": "cc7a83af"
      },
      "outputs": [],
      "source": [
        "def sum_digits(n):\n",
        "    if n == 0:\n",
        "        return(0)\n",
        "    else:\n",
        "        temp=0\n",
        "        while n>0:\n",
        "            temp = n % 10 + temp\n",
        "            n = int(n/10)\n",
        "    return(temp)"
      ]
    },
    {
      "cell_type": "code",
      "execution_count": null,
      "id": "3d3885b0",
      "metadata": {
        "id": "3d3885b0",
        "outputId": "a5a9180d-2247-4ea8-9c0a-3e760ea4fd9f"
      },
      "outputs": [
        {
          "data": {
            "text/plain": [
              "6"
            ]
          },
          "execution_count": 9,
          "metadata": {},
          "output_type": "execute_result"
        }
      ],
      "source": [
        "sum_digits(123)"
      ]
    },
    {
      "cell_type": "markdown",
      "id": "b3dbdad5",
      "metadata": {
        "id": "b3dbdad5"
      },
      "source": [
        "n = 123\n",
        "temp = 0\n",
        ".............\n",
        "1-\n",
        "temp = 123 % 10 + temp = 3 + 0 = 3\n",
        "n = int(n/10) = int(123 / 10) = int(12.3) = 12\n",
        ".............\n",
        "2-\n",
        "temp = 12 % 10 + temp = 2 + 3 = 5\n",
        "n = int(n/10) = int(12 / 10) = int(1.2) = 1\n",
        ".............\n",
        "3-\n",
        "temp = 1 % 10 + temp = 1 + 5 = 6\n",
        "n = int(n/10) = int(1 / 10) = int(0.1) = 0\n",
        ".............\n",
        "4-\n",
        "temp = 6\n",
        "n = 0"
      ]
    },
    {
      "cell_type": "code",
      "execution_count": null,
      "id": "5a98fc74",
      "metadata": {
        "id": "5a98fc74"
      },
      "outputs": [],
      "source": []
    },
    {
      "cell_type": "code",
      "execution_count": null,
      "id": "0ee3dde0",
      "metadata": {
        "id": "0ee3dde0"
      },
      "outputs": [],
      "source": [
        "def sum_digits(n):\n",
        "    if n == 0:\n",
        "        return(0)\n",
        "    else:\n",
        "        temp=0\n",
        "        while n>0:\n",
        "            temp = n % 10 + temp\n",
        "            n = int(n/10)\n",
        "    return(temp)"
      ]
    },
    {
      "cell_type": "markdown",
      "id": "aae66d8e",
      "metadata": {
        "id": "aae66d8e"
      },
      "source": [
        "## تمرین 3 امتیازی:"
      ]
    },
    {
      "cell_type": "markdown",
      "id": "529950e7",
      "metadata": {
        "id": "529950e7"
      },
      "source": [
        "## مثال قبلی را بصورت یک تابع بازگشتی بنویسید"
      ]
    },
    {
      "cell_type": "markdown",
      "id": "4f7abffe",
      "metadata": {
        "id": "4f7abffe"
      },
      "source": [
        "n = 123\n",
        "\n",
        "(123 % 10) +  sum_digits(int(123/10))= 3 + sum_digits(12)\n",
        "\n",
        "3 + ( (12 % 10) + sum_digits(int(12/10)) = 3 + ( 2 + sum_digits(1))\n",
        "\n",
        "3 + ( 2 + ( (1 % 10) + sum_digits(int(1/10)))) = 3 + ( 2 + ( 1 + sum_digits(0)))\n",
        "\n",
        "= 3 + 2 + 1 = 6"
      ]
    },
    {
      "cell_type": "code",
      "execution_count": null,
      "id": "0f54e665",
      "metadata": {
        "id": "0f54e665"
      },
      "outputs": [],
      "source": []
    },
    {
      "cell_type": "code",
      "execution_count": null,
      "id": "d82dca21",
      "metadata": {
        "id": "d82dca21"
      },
      "outputs": [],
      "source": [
        "def sum_digits(n):\n",
        "    if n == 0:\n",
        "        return 0\n",
        "    else:\n",
        "        return n % 10 + sum_digits(int(n/10))"
      ]
    },
    {
      "cell_type": "code",
      "execution_count": null,
      "id": "2628a05d",
      "metadata": {
        "id": "2628a05d"
      },
      "outputs": [],
      "source": [
        "sum_digits(123)"
      ]
    },
    {
      "cell_type": "markdown",
      "id": "08b96c6a",
      "metadata": {
        "id": "08b96c6a"
      },
      "source": [
        "## مثال:"
      ]
    },
    {
      "cell_type": "markdown",
      "id": "c7e43e8f",
      "metadata": {
        "id": "c7e43e8f"
      },
      "source": [
        "## input:"
      ]
    },
    {
      "cell_type": "code",
      "execution_count": null,
      "id": "90f0605c",
      "metadata": {
        "id": "90f0605c"
      },
      "outputs": [],
      "source": [
        "n = [1, 2, 3]"
      ]
    },
    {
      "cell_type": "markdown",
      "id": "3620ca27",
      "metadata": {
        "id": "3620ca27"
      },
      "source": [
        "## output:"
      ]
    },
    {
      "cell_type": "code",
      "execution_count": null,
      "id": "1c9e35f6",
      "metadata": {
        "id": "1c9e35f6"
      },
      "outputs": [],
      "source": [
        "6"
      ]
    },
    {
      "cell_type": "code",
      "execution_count": null,
      "id": "d25db6b1",
      "metadata": {
        "id": "d25db6b1"
      },
      "outputs": [],
      "source": [
        "def test(lst):\n",
        "    if len(lst) == 1:\n",
        "        return(lst[0])\n",
        "    else:\n",
        "        temp = 0\n",
        "        for i in lst:\n",
        "            temp = i + temp\n",
        "        return(temp)"
      ]
    },
    {
      "cell_type": "code",
      "execution_count": null,
      "id": "482c1429",
      "metadata": {
        "id": "482c1429",
        "outputId": "79619427-6799-4735-de61-d5c7ff52854c"
      },
      "outputs": [
        {
          "data": {
            "text/plain": [
              "6"
            ]
          },
          "execution_count": 12,
          "metadata": {},
          "output_type": "execute_result"
        }
      ],
      "source": [
        "test(n)"
      ]
    },
    {
      "cell_type": "markdown",
      "id": "3d6b6c9b",
      "metadata": {
        "id": "3d6b6c9b"
      },
      "source": [
        "## تمرین 4 امتیازی:"
      ]
    },
    {
      "cell_type": "markdown",
      "id": "3a98795f",
      "metadata": {
        "id": "3a98795f"
      },
      "source": [
        "## مثال قبلی را بصورت یک تابع بازگشتی بنویسید"
      ]
    },
    {
      "cell_type": "code",
      "execution_count": null,
      "id": "952f8398",
      "metadata": {
        "id": "952f8398"
      },
      "outputs": [],
      "source": [
        "def test(lst):\n",
        "    if len(lst) == 1:\n",
        "        return lst[0]\n",
        "    else:\n",
        "        return lst[0] + test(lst[1:])"
      ]
    },
    {
      "cell_type": "code",
      "execution_count": null,
      "id": "a2025c80",
      "metadata": {
        "id": "a2025c80",
        "outputId": "d5ac27ea-0eec-4597-88bf-820418112325"
      },
      "outputs": [
        {
          "data": {
            "text/plain": [
              "6"
            ]
          },
          "execution_count": 14,
          "metadata": {},
          "output_type": "execute_result"
        }
      ],
      "source": [
        "test(n)"
      ]
    },
    {
      "cell_type": "markdown",
      "id": "ebffbe09",
      "metadata": {
        "id": "ebffbe09"
      },
      "source": [
        "## سوال ششم آزمون:"
      ]
    },
    {
      "cell_type": "markdown",
      "id": "340dadd7",
      "metadata": {
        "id": "340dadd7"
      },
      "source": [
        "n + (n-2) +(n-4) +..."
      ]
    },
    {
      "cell_type": "markdown",
      "id": "ba977920",
      "metadata": {
        "id": "ba977920"
      },
      "source": [
        "## دنباله فوق را بصورت یک تابع بازگشتی تعریف نمایید"
      ]
    },
    {
      "cell_type": "markdown",
      "id": "a530a745",
      "metadata": {
        "id": "a530a745"
      },
      "source": [
        "## input:"
      ]
    },
    {
      "cell_type": "markdown",
      "id": "98e3a5c3",
      "metadata": {
        "id": "98e3a5c3"
      },
      "source": [
        "10"
      ]
    },
    {
      "cell_type": "markdown",
      "id": "e6cda29d",
      "metadata": {
        "id": "e6cda29d"
      },
      "source": [
        "## output:"
      ]
    },
    {
      "cell_type": "markdown",
      "id": "882a07e2",
      "metadata": {
        "id": "882a07e2"
      },
      "source": [
        "10 + 8 + 6 + 4 + 2 = 30"
      ]
    },
    {
      "cell_type": "markdown",
      "id": "580418b4",
      "metadata": {
        "id": "580418b4"
      },
      "source": [
        "30"
      ]
    },
    {
      "cell_type": "code",
      "execution_count": null,
      "id": "d48f428b",
      "metadata": {
        "id": "d48f428b"
      },
      "outputs": [],
      "source": [
        "def sum_series(n):\n",
        "    if n < 1 :\n",
        "        return 0\n",
        "    else:\n",
        "        return n + sum_series(n-2)"
      ]
    },
    {
      "cell_type": "code",
      "execution_count": null,
      "id": "cec58949",
      "metadata": {
        "id": "cec58949"
      },
      "outputs": [],
      "source": [
        "sum_series(10)"
      ]
    }
  ],
  "metadata": {
    "kernelspec": {
      "display_name": "Python 3 (ipykernel)",
      "language": "python",
      "name": "python3"
    },
    "language_info": {
      "codemirror_mode": {
        "name": "ipython",
        "version": 3
      },
      "file_extension": ".py",
      "mimetype": "text/x-python",
      "name": "python",
      "nbconvert_exporter": "python",
      "pygments_lexer": "ipython3",
      "version": "3.11.5"
    },
    "colab": {
      "provenance": [],
      "include_colab_link": true
    }
  },
  "nbformat": 4,
  "nbformat_minor": 5
}