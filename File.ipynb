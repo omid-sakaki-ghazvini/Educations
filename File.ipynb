{
  "cells": [
    {
      "cell_type": "markdown",
      "metadata": {
        "id": "view-in-github",
        "colab_type": "text"
      },
      "source": [
        "<a href=\"https://colab.research.google.com/github/omid-sakaki-ghazvini/Educations/blob/main/File.ipynb\" target=\"_parent\"><img src=\"https://colab.research.google.com/assets/colab-badge.svg\" alt=\"Open In Colab\"/></a>"
      ]
    },
    {
      "cell_type": "markdown",
      "id": "4a5bacf2",
      "metadata": {
        "id": "4a5bacf2"
      },
      "source": [
        "# File:"
      ]
    },
    {
      "cell_type": "code",
      "execution_count": null,
      "id": "ef23799e",
      "metadata": {
        "id": "ef23799e"
      },
      "outputs": [],
      "source": [
        "doc = open('./doc_test.txt','w')"
      ]
    },
    {
      "cell_type": "code",
      "execution_count": null,
      "id": "b9098247",
      "metadata": {
        "id": "b9098247"
      },
      "outputs": [],
      "source": [
        "line1 = 'Python\\n'\n",
        "line2 = 'C++\\n'\n",
        "line3 = 'C#\\n'\n",
        "line4 = 'java\\n'"
      ]
    },
    {
      "cell_type": "code",
      "execution_count": null,
      "id": "fb9f9f90",
      "metadata": {
        "id": "fb9f9f90",
        "outputId": "ad127580-e169-4d6e-da4b-094921c58f52"
      },
      "outputs": [
        {
          "data": {
            "text/plain": [
              "5"
            ]
          },
          "execution_count": 18,
          "metadata": {},
          "output_type": "execute_result"
        }
      ],
      "source": [
        "doc.write(line1)\n",
        "doc.write(line2)\n",
        "doc.write(line3)\n",
        "doc.write(line4)"
      ]
    },
    {
      "cell_type": "code",
      "execution_count": null,
      "id": "8e9f9332",
      "metadata": {
        "id": "8e9f9332"
      },
      "outputs": [],
      "source": [
        "doc.close()"
      ]
    },
    {
      "cell_type": "code",
      "execution_count": null,
      "id": "e9db2332",
      "metadata": {
        "id": "e9db2332"
      },
      "outputs": [],
      "source": [
        "doc = open('./doc_test.txt','r')"
      ]
    },
    {
      "cell_type": "code",
      "execution_count": null,
      "id": "117e08cd",
      "metadata": {
        "id": "117e08cd",
        "outputId": "55d07a58-f195-44ae-f760-8fff225d0225"
      },
      "outputs": [
        {
          "name": "stdout",
          "output_type": "stream",
          "text": [
            "[Errno 2] No such file or directory: './doc_tes.txt'\n"
          ]
        }
      ],
      "source": [
        "try:\n",
        "    doc = open('./doc_tes.txt','r')\n",
        "except FileNotFoundError as fe:\n",
        "    print(fe)"
      ]
    },
    {
      "cell_type": "code",
      "execution_count": null,
      "id": "b8b81121",
      "metadata": {
        "id": "b8b81121"
      },
      "outputs": [],
      "source": [
        "with open('./doc_test2.txt','w') as myfile:\n",
        "    line1 = 'Python\\n'\n",
        "    line2 = 'C++\\n'\n",
        "    line3 = 'C#\\n'\n",
        "    line4 = 'java\\n'\n",
        "    myfile.write(line1)\n",
        "    myfile.write(line2)\n",
        "    myfile.write(line3)\n",
        "    myfile.write(line4)"
      ]
    },
    {
      "cell_type": "code",
      "execution_count": null,
      "id": "de20a589",
      "metadata": {
        "id": "de20a589"
      },
      "outputs": [],
      "source": [
        "myfile.close()"
      ]
    },
    {
      "cell_type": "code",
      "execution_count": null,
      "id": "77e4fd4e",
      "metadata": {
        "id": "77e4fd4e"
      },
      "outputs": [],
      "source": [
        "with open('./doc_test3.txt','w') as myfile:\n",
        "    line1 = 'Python\\n'\n",
        "    line2 = 'C++\\n'\n",
        "    line3 = 'C#\\n'\n",
        "    line4 = 'java\\n'\n",
        "    lst = [line1, line2, line3, line4]\n",
        "    myfile.writelines(lst)"
      ]
    },
    {
      "cell_type": "code",
      "execution_count": null,
      "id": "66ed6091",
      "metadata": {
        "id": "66ed6091"
      },
      "outputs": [],
      "source": []
    },
    {
      "cell_type": "code",
      "execution_count": null,
      "id": "73a067a9",
      "metadata": {
        "id": "73a067a9",
        "outputId": "9a3ca532-a484-4512-c643-79853bb9091b"
      },
      "outputs": [
        {
          "name": "stdout",
          "output_type": "stream",
          "text": [
            "['Python\\n', 'C++\\n', 'C#\\n', 'java\\n']\n"
          ]
        }
      ],
      "source": [
        "with open('./doc_test2.txt','r') as myfile:\n",
        "    data = myfile.readlines()\n",
        "    print(data)"
      ]
    },
    {
      "cell_type": "code",
      "execution_count": null,
      "id": "36a608b2",
      "metadata": {
        "id": "36a608b2",
        "outputId": "9cbb6c87-5e8e-4f97-d0ac-cf224eec06f7"
      },
      "outputs": [
        {
          "name": "stdout",
          "output_type": "stream",
          "text": [
            "Python\n",
            "\n"
          ]
        }
      ],
      "source": [
        "with open('./doc_test2.txt','r') as myfile:\n",
        "    print(myfile.readline())"
      ]
    },
    {
      "cell_type": "code",
      "execution_count": null,
      "id": "1da94d48",
      "metadata": {
        "id": "1da94d48",
        "outputId": "263e4f45-d592-43a4-946c-d9d34a53b343"
      },
      "outputs": [
        {
          "name": "stdout",
          "output_type": "stream",
          "text": [
            "Python\n",
            "C+\n"
          ]
        }
      ],
      "source": [
        "with open('./doc_test2.txt','r') as myfile:\n",
        "     print(myfile.read(9))"
      ]
    },
    {
      "cell_type": "code",
      "execution_count": null,
      "id": "d3216fb6",
      "metadata": {
        "id": "d3216fb6",
        "outputId": "d4e1bffa-33b7-43f9-9c4d-e70595e1344d"
      },
      "outputs": [
        {
          "name": "stdout",
          "output_type": "stream",
          "text": [
            "Python\n",
            "C++\n",
            "C#\n",
            "java\n"
          ]
        }
      ],
      "source": [
        "with open('./doc_test2.txt','r') as myfile:\n",
        "    for line in myfile:\n",
        "        print(line, end='')"
      ]
    },
    {
      "cell_type": "code",
      "execution_count": null,
      "id": "35a85ba1",
      "metadata": {
        "id": "35a85ba1"
      },
      "outputs": [],
      "source": []
    },
    {
      "cell_type": "markdown",
      "id": "cbcd839e",
      "metadata": {
        "id": "cbcd839e"
      },
      "source": [
        "## تمرین 1 امتیازی:"
      ]
    },
    {
      "cell_type": "code",
      "execution_count": null,
      "id": "1b734592",
      "metadata": {
        "id": "1b734592"
      },
      "outputs": [],
      "source": [
        "input_lst :[1, 2, 5, 9, 5]\n",
        "------------\n",
        "func :  list(map(lambda x : x *2, input_lst))\n",
        "------------\n",
        "output_lst :[2, 4, 10, 18, 10]"
      ]
    },
    {
      "cell_type": "markdown",
      "id": "21501e51",
      "metadata": {
        "id": "21501e51"
      },
      "source": [
        "## فایلی را ایجاد نمایید و موارد فوق را در آن بنویسید و سپس فراخوانی نمایید . 5 عدد از ورودی بگیرد و ضرب در 2 کند و داخل فایل بنویسد"
      ]
    },
    {
      "cell_type": "code",
      "execution_count": null,
      "id": "59904e66",
      "metadata": {
        "id": "59904e66"
      },
      "outputs": [],
      "source": []
    },
    {
      "cell_type": "code",
      "execution_count": null,
      "id": "fc4a1de1",
      "metadata": {
        "id": "fc4a1de1"
      },
      "outputs": [],
      "source": [
        "def input_list():\n",
        "    i=0\n",
        "    lst_input = []\n",
        "    while True:\n",
        "        try:\n",
        "            x=int(input(\"Please enter 5 numbers:\"))\n",
        "            lst_input.append(x)\n",
        "            i = i+1\n",
        "            print(\"number\"f\"{i} :\",x)\n",
        "        except ValueError:\n",
        "                    print(\"Please enter only numbers!\")\n",
        "        if i == 5:\n",
        "            break\n",
        "    return(lst_input)"
      ]
    },
    {
      "cell_type": "code",
      "execution_count": null,
      "id": "04dd8843",
      "metadata": {
        "id": "04dd8843",
        "outputId": "a6a61d64-54e5-4fdc-e911-1bfad50a2b80"
      },
      "outputs": [
        {
          "name": "stdout",
          "output_type": "stream",
          "text": [
            "Please enter 5 numbers:1\n",
            "number1 : 1\n",
            "Please enter 5 numbers:2\n",
            "number2 : 2\n",
            "Please enter 5 numbers:3\n",
            "number3 : 3\n",
            "Please enter 5 numbers:4\n",
            "number4 : 4\n",
            "Please enter 5 numbers:5\n",
            "number5 : 5\n"
          ]
        }
      ],
      "source": [
        "input_lst = input_list()\n",
        "output_lst = list(map(lambda x : x *2, input_lst))\n",
        "\n",
        "with open('./doc_test3.txt','w') as myfile:\n",
        "    line1 = 'input_lst :'\n",
        "\n",
        "    line2 = f'{input_lst}\\n'\n",
        "\n",
        "    line3 = '------------\\n'\n",
        "\n",
        "    line4 = 'func :'\n",
        "\n",
        "    line5 = '  list(map(lambda x : x *2, input_lst))\\n'\n",
        "\n",
        "    line6 = '------------\\n'\n",
        "\n",
        "    line7 = 'output_lst :'\n",
        "\n",
        "    line8 = f'{output_lst}\\n'\n",
        "\n",
        "    myfile.write(line1)\n",
        "    myfile.write(line2)\n",
        "    myfile.write(line3)\n",
        "    myfile.write(line4)\n",
        "    myfile.write(line5)\n",
        "    myfile.write(line6)\n",
        "    myfile.write(line7)\n",
        "    myfile.write(line8)\n",
        "\n",
        "myfile.close()"
      ]
    },
    {
      "cell_type": "code",
      "execution_count": null,
      "id": "15e32316",
      "metadata": {
        "id": "15e32316",
        "outputId": "8859f609-d2f3-4fe8-b566-4eac830731d9"
      },
      "outputs": [
        {
          "name": "stdout",
          "output_type": "stream",
          "text": [
            "input_lst :[1, 2, 3, 4, 5]\n",
            "------------\n",
            "func :  list(map(lambda x : x *2, input_lst))\n",
            "------------\n",
            "output_lst :[2, 4, 6, 8, 10]\n"
          ]
        }
      ],
      "source": [
        "with open('./doc_test3.txt','r') as myfile:\n",
        "    for line in myfile:\n",
        "        print(line, end='')"
      ]
    },
    {
      "cell_type": "code",
      "execution_count": null,
      "id": "98596e3e",
      "metadata": {
        "id": "98596e3e"
      },
      "outputs": [],
      "source": []
    },
    {
      "cell_type": "markdown",
      "id": "30640593",
      "metadata": {
        "id": "30640593"
      },
      "source": [
        "## مثال 1:"
      ]
    },
    {
      "cell_type": "code",
      "execution_count": null,
      "id": "4cd61db0",
      "metadata": {
        "id": "4cd61db0"
      },
      "outputs": [],
      "source": [
        "name1 = './doc_test3.txt'\n",
        "name2 = './doc_test4.txt'\n",
        "\n",
        "with open(name1,'r') as f1 , open(name2, 'w') as f2:\n",
        "    for line in f1:\n",
        "        f2.write(line)"
      ]
    },
    {
      "cell_type": "code",
      "execution_count": null,
      "id": "52288dd5",
      "metadata": {
        "id": "52288dd5"
      },
      "outputs": [],
      "source": [
        "with open('./doc_test4.txt','r') as myfile:\n",
        "    for line in myfile:\n",
        "        print(line, end='')"
      ]
    },
    {
      "cell_type": "code",
      "execution_count": null,
      "id": "03c903fe",
      "metadata": {
        "id": "03c903fe"
      },
      "outputs": [],
      "source": []
    },
    {
      "cell_type": "code",
      "execution_count": null,
      "id": "11237c98",
      "metadata": {
        "id": "11237c98"
      },
      "outputs": [],
      "source": [
        "name1 = './x.txt'\n",
        "name2 = './y.txt'\n",
        "name3 = './z.txt'\n",
        "\n",
        "with open(name1, 'w') as f1:\n",
        "    f1.write('ali\\n')\n",
        "    f1.write('sara\\n')\n",
        "\n",
        "with open(name2, 'w') as f2:\n",
        "    f2.write('taha\\n')\n",
        "    f2.write('omid\\n')\n",
        "    f2.write('mahsa\\n')\n",
        "\n",
        "with open(name1) as f1 , open(name2) as f2:\n",
        "      data1 = f1.read()\n",
        "      data2 = f2.read()\n",
        "\n",
        "with open(name3,'w')  as f3:\n",
        "    f3.write(data1 + data2)"
      ]
    },
    {
      "cell_type": "code",
      "execution_count": null,
      "id": "24d9b2a6",
      "metadata": {
        "id": "24d9b2a6"
      },
      "outputs": [],
      "source": [
        "with open('./z.txt','r') as myfile:\n",
        "    data = myfile.readlines()\n",
        "    print(data)"
      ]
    },
    {
      "cell_type": "code",
      "execution_count": null,
      "id": "c5104c7e",
      "metadata": {
        "id": "c5104c7e"
      },
      "outputs": [],
      "source": []
    },
    {
      "cell_type": "markdown",
      "id": "a2d46608",
      "metadata": {
        "id": "a2d46608"
      },
      "source": [
        "## مثال 2:"
      ]
    },
    {
      "cell_type": "code",
      "execution_count": null,
      "id": "0027d109",
      "metadata": {
        "id": "0027d109"
      },
      "outputs": [],
      "source": [
        "def count(filename):\n",
        "    with open(filename) as f:\n",
        "        x = f.read()\n",
        "    c = len(x.split())\n",
        "    print(f'{filename} : {c}')"
      ]
    },
    {
      "cell_type": "code",
      "execution_count": null,
      "id": "e762ae5f",
      "metadata": {
        "id": "e762ae5f"
      },
      "outputs": [],
      "source": []
    },
    {
      "cell_type": "markdown",
      "id": "535f0a28",
      "metadata": {
        "id": "535f0a28"
      },
      "source": [
        "## تمرین 2 امتیازی:"
      ]
    },
    {
      "cell_type": "markdown",
      "id": "039490ed",
      "metadata": {
        "id": "039490ed"
      },
      "source": [
        "## از تابع فوق استفاده کنید و برنامه ای بنویسید که لیست آدرس فایلهایی از ورودی بگیرد و طول آنها را به ما بدهد"
      ]
    },
    {
      "cell_type": "code",
      "execution_count": null,
      "id": "dbf48adc",
      "metadata": {
        "id": "dbf48adc"
      },
      "outputs": [],
      "source": []
    },
    {
      "cell_type": "code",
      "execution_count": null,
      "id": "c997a059",
      "metadata": {
        "id": "c997a059"
      },
      "outputs": [],
      "source": [
        "lst = ['./x.txt' , './y.txt' ,'./z.txt' ]\n",
        "for i in lst:\n",
        "    count(i)"
      ]
    }
  ],
  "metadata": {
    "kernelspec": {
      "display_name": "Python 3 (ipykernel)",
      "language": "python",
      "name": "python3"
    },
    "language_info": {
      "codemirror_mode": {
        "name": "ipython",
        "version": 3
      },
      "file_extension": ".py",
      "mimetype": "text/x-python",
      "name": "python",
      "nbconvert_exporter": "python",
      "pygments_lexer": "ipython3",
      "version": "3.11.5"
    },
    "colab": {
      "provenance": [],
      "include_colab_link": true
    }
  },
  "nbformat": 4,
  "nbformat_minor": 5
}