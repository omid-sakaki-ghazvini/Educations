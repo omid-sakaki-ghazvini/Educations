{
  "cells": [
    {
      "cell_type": "markdown",
      "metadata": {
        "id": "view-in-github",
        "colab_type": "text"
      },
      "source": [
        "<a href=\"https://colab.research.google.com/github/omid-sakaki-ghazvini/Educations/blob/main/Numpy.ipynb\" target=\"_parent\"><img src=\"https://colab.research.google.com/assets/colab-badge.svg\" alt=\"Open In Colab\"/></a>"
      ]
    },
    {
      "cell_type": "markdown",
      "id": "e735f387",
      "metadata": {
        "id": "e735f387"
      },
      "source": [
        "# Numpy:"
      ]
    },
    {
      "cell_type": "code",
      "execution_count": null,
      "id": "a6cc2ef1",
      "metadata": {
        "id": "a6cc2ef1"
      },
      "outputs": [],
      "source": [
        "import numpy as np"
      ]
    },
    {
      "cell_type": "markdown",
      "id": "ac3b3864",
      "metadata": {
        "id": "ac3b3864"
      },
      "source": [
        "<div style=\"direction:rtl\">\n",
        "<font color='red' size=\"5px\">\n",
        " مثال:\n",
        "    </font>\n",
        "</div>"
      ]
    },
    {
      "cell_type": "code",
      "execution_count": null,
      "id": "c0d9dc28",
      "metadata": {
        "id": "c0d9dc28"
      },
      "outputs": [],
      "source": [
        "a = np.array([1,2,3])"
      ]
    },
    {
      "cell_type": "code",
      "execution_count": null,
      "id": "7a6e5785",
      "metadata": {
        "id": "7a6e5785"
      },
      "outputs": [],
      "source": [
        "b = np.array([[1],[2],[3]])"
      ]
    },
    {
      "cell_type": "code",
      "execution_count": null,
      "id": "217452d4",
      "metadata": {
        "id": "217452d4"
      },
      "outputs": [],
      "source": [
        "c = np.array([[1,2,3]])"
      ]
    },
    {
      "cell_type": "code",
      "execution_count": null,
      "id": "f472441c",
      "metadata": {
        "id": "f472441c",
        "outputId": "801e5d4c-531d-4c65-ef0f-8bb68b645e7c"
      },
      "outputs": [
        {
          "data": {
            "text/plain": [
              "array([1, 2, 3])"
            ]
          },
          "execution_count": 6,
          "metadata": {},
          "output_type": "execute_result"
        }
      ],
      "source": [
        "a"
      ]
    },
    {
      "cell_type": "code",
      "execution_count": null,
      "id": "4d7b65e6",
      "metadata": {
        "id": "4d7b65e6",
        "outputId": "161287c1-b286-4eba-9628-6366c4646c1c"
      },
      "outputs": [
        {
          "data": {
            "text/plain": [
              "array([[1],\n",
              "       [2],\n",
              "       [3]])"
            ]
          },
          "execution_count": 7,
          "metadata": {},
          "output_type": "execute_result"
        }
      ],
      "source": [
        "b"
      ]
    },
    {
      "cell_type": "code",
      "execution_count": null,
      "id": "ec2c86ed",
      "metadata": {
        "id": "ec2c86ed",
        "outputId": "ec98cb20-0452-4257-de5d-040f2d9785e6"
      },
      "outputs": [
        {
          "data": {
            "text/plain": [
              "array([[1, 2, 3]])"
            ]
          },
          "execution_count": 8,
          "metadata": {},
          "output_type": "execute_result"
        }
      ],
      "source": [
        "c"
      ]
    },
    {
      "cell_type": "code",
      "execution_count": null,
      "id": "6a219bc8",
      "metadata": {
        "id": "6a219bc8",
        "outputId": "16adfbaf-8f9b-4d2e-9751-bddd9c9b7502"
      },
      "outputs": [
        {
          "name": "stdout",
          "output_type": "stream",
          "text": [
            "3 3 1\n"
          ]
        }
      ],
      "source": [
        "print(len(a), len(b), len(c))"
      ]
    },
    {
      "cell_type": "code",
      "execution_count": null,
      "id": "2f9cc8d9",
      "metadata": {
        "id": "2f9cc8d9",
        "outputId": "220d03ac-ed06-4417-ba1c-515b003b390f"
      },
      "outputs": [
        {
          "name": "stdout",
          "output_type": "stream",
          "text": [
            "3 3 3\n"
          ]
        }
      ],
      "source": [
        "print(a.size, b.size, c.size)"
      ]
    },
    {
      "cell_type": "code",
      "execution_count": null,
      "id": "9d88f330",
      "metadata": {
        "id": "9d88f330",
        "outputId": "a75e7dea-e026-49d0-9742-5f0ac094bf77"
      },
      "outputs": [
        {
          "name": "stdout",
          "output_type": "stream",
          "text": [
            "(3,) (3, 1) (1, 3)\n"
          ]
        }
      ],
      "source": [
        "print(a.shape, b.shape, c.shape)"
      ]
    },
    {
      "cell_type": "code",
      "execution_count": null,
      "id": "f1741846",
      "metadata": {
        "id": "f1741846",
        "outputId": "0d20f78e-6aa4-4810-c262-0b37d3f2af17"
      },
      "outputs": [
        {
          "name": "stdout",
          "output_type": "stream",
          "text": [
            "int32 int32 int32\n"
          ]
        }
      ],
      "source": [
        "print(a.dtype, b.dtype, c.dtype)"
      ]
    },
    {
      "cell_type": "markdown",
      "id": "4a9fe40f",
      "metadata": {
        "id": "4a9fe40f"
      },
      "source": [
        "<div style=\"direction:rtl\">\n",
        "<font color='green' size=\"5px\">\n",
        " بعضی توابع در\n",
        "    numpy\n",
        "    وجود دارد که با استفاده از آن می توانیم آرایه های با طول و عرض مشخص ایجاد نماییم\n",
        "    </font>\n",
        "</div>"
      ]
    },
    {
      "cell_type": "code",
      "execution_count": null,
      "id": "d3822c06",
      "metadata": {
        "id": "d3822c06",
        "outputId": "1927b4bd-df9e-43b3-d62b-7ac5d3b89095"
      },
      "outputs": [
        {
          "data": {
            "text/plain": [
              "array([[-1603008848,         509],\n",
              "       [          0,           0],\n",
              "       [     131074,           0]])"
            ]
          },
          "execution_count": 14,
          "metadata": {},
          "output_type": "execute_result"
        }
      ],
      "source": [
        "np.empty([3,2], dtype=int)"
      ]
    },
    {
      "cell_type": "markdown",
      "id": "adb79799",
      "metadata": {
        "id": "adb79799"
      },
      "source": [
        "<div style=\"direction:rtl\">\n",
        "<font color='green' size=\"5px\">\n",
        " یک آرایه با 3 سطر و 2 ستون ایجاد میکند که با مقادیر تصادفی مقداردهی شده است.\n",
        "    </font>\n",
        "</div>"
      ]
    },
    {
      "cell_type": "code",
      "execution_count": null,
      "id": "708b1db9",
      "metadata": {
        "id": "708b1db9",
        "outputId": "a99c523f-0eb4-4ea3-a13f-e7621e50b48f"
      },
      "outputs": [
        {
          "data": {
            "text/plain": [
              "array([[0., 0., 0., 0.],\n",
              "       [0., 0., 0., 0.],\n",
              "       [0., 0., 0., 0.],\n",
              "       [0., 0., 0., 0.],\n",
              "       [0., 0., 0., 0.],\n",
              "       [0., 0., 0., 0.]])"
            ]
          },
          "execution_count": 17,
          "metadata": {},
          "output_type": "execute_result"
        }
      ],
      "source": [
        "np.zeros([6,4])"
      ]
    },
    {
      "cell_type": "code",
      "execution_count": null,
      "id": "08fe143e",
      "metadata": {
        "id": "08fe143e",
        "outputId": "e7cc520c-ae0d-4466-ff70-c06c89ef2d85"
      },
      "outputs": [
        {
          "data": {
            "text/plain": [
              "array([[1., 1., 1., 1., 1., 1., 1., 1., 1., 1.],\n",
              "       [1., 1., 1., 1., 1., 1., 1., 1., 1., 1.],\n",
              "       [1., 1., 1., 1., 1., 1., 1., 1., 1., 1.],\n",
              "       [1., 1., 1., 1., 1., 1., 1., 1., 1., 1.]])"
            ]
          },
          "execution_count": 18,
          "metadata": {},
          "output_type": "execute_result"
        }
      ],
      "source": [
        "np.ones([4,10])"
      ]
    },
    {
      "cell_type": "code",
      "execution_count": null,
      "id": "59bfb26f",
      "metadata": {
        "id": "59bfb26f",
        "outputId": "168e6888-b43a-4e62-c7b1-0ebf3335994d"
      },
      "outputs": [
        {
          "data": {
            "text/plain": [
              "array([[1., 0., 0.],\n",
              "       [0., 1., 0.],\n",
              "       [0., 0., 1.]])"
            ]
          },
          "execution_count": 18,
          "metadata": {},
          "output_type": "execute_result"
        }
      ],
      "source": [
        "np.eye(3)"
      ]
    },
    {
      "cell_type": "code",
      "execution_count": null,
      "id": "ac975590",
      "metadata": {
        "id": "ac975590",
        "outputId": "4455e3cd-0a34-4264-829f-f5c71357d851"
      },
      "outputs": [
        {
          "data": {
            "text/plain": [
              "array([[1., 0., 0., 0., 0.],\n",
              "       [0., 1., 0., 0., 0.],\n",
              "       [0., 0., 1., 0., 0.],\n",
              "       [0., 0., 0., 1., 0.],\n",
              "       [0., 0., 0., 0., 1.]])"
            ]
          },
          "execution_count": 19,
          "metadata": {},
          "output_type": "execute_result"
        }
      ],
      "source": [
        "np.identity(5)"
      ]
    },
    {
      "cell_type": "code",
      "execution_count": null,
      "id": "4d4dba75",
      "metadata": {
        "id": "4d4dba75",
        "outputId": "33bfd0fc-e303-4ef9-9e37-435751a32db1"
      },
      "outputs": [
        {
          "data": {
            "text/plain": [
              "array([[0.3, 0.3, 0.3, 0.3, 0.3, 0.3, 0.3, 0.3, 0.3, 0.3],\n",
              "       [0.3, 0.3, 0.3, 0.3, 0.3, 0.3, 0.3, 0.3, 0.3, 0.3],\n",
              "       [0.3, 0.3, 0.3, 0.3, 0.3, 0.3, 0.3, 0.3, 0.3, 0.3]])"
            ]
          },
          "execution_count": 20,
          "metadata": {},
          "output_type": "execute_result"
        }
      ],
      "source": [
        "np.full([3,10], 0.3)"
      ]
    },
    {
      "cell_type": "markdown",
      "id": "7b663c91",
      "metadata": {
        "id": "7b663c91"
      },
      "source": [
        "<div style=\"direction:rtl\">\n",
        "<font color='green' size=\"5px\">\n",
        " میتوانیم لیست را تبدیل به آرایه numpy کنیم\n",
        "    </font>\n",
        "</div>"
      ]
    },
    {
      "cell_type": "code",
      "execution_count": null,
      "id": "cc05f4a5",
      "metadata": {
        "id": "cc05f4a5"
      },
      "outputs": [],
      "source": [
        "x = [1,2,3]"
      ]
    },
    {
      "cell_type": "code",
      "execution_count": null,
      "id": "ae910f0b",
      "metadata": {
        "id": "ae910f0b",
        "outputId": "f6d69384-7c54-44d2-ea10-7e435f299608"
      },
      "outputs": [
        {
          "data": {
            "text/plain": [
              "list"
            ]
          },
          "execution_count": 22,
          "metadata": {},
          "output_type": "execute_result"
        }
      ],
      "source": [
        "type(x)"
      ]
    },
    {
      "cell_type": "code",
      "execution_count": null,
      "id": "d84ff806",
      "metadata": {
        "id": "d84ff806"
      },
      "outputs": [],
      "source": [
        "y = np.asarray(x)"
      ]
    },
    {
      "cell_type": "code",
      "execution_count": null,
      "id": "6ca9139c",
      "metadata": {
        "id": "6ca9139c",
        "outputId": "1585fd48-5315-4ccd-cb5d-c707ba42b077"
      },
      "outputs": [
        {
          "data": {
            "text/plain": [
              "numpy.ndarray"
            ]
          },
          "execution_count": 24,
          "metadata": {},
          "output_type": "execute_result"
        }
      ],
      "source": [
        "type(y)"
      ]
    },
    {
      "cell_type": "code",
      "execution_count": null,
      "id": "666e5422",
      "metadata": {
        "id": "666e5422",
        "outputId": "4cdb8db8-02f6-4a49-d28a-5074d1985b5b"
      },
      "outputs": [
        {
          "name": "stdout",
          "output_type": "stream",
          "text": [
            "1\n",
            "2\n",
            "3\n"
          ]
        }
      ],
      "source": [
        "for i in y:\n",
        "    print(i)"
      ]
    },
    {
      "cell_type": "markdown",
      "id": "89f12259",
      "metadata": {
        "id": "89f12259"
      },
      "source": [
        "<div style=\"direction:rtl\">\n",
        "<font color='green' size=\"5px\">\n",
        " ایجاد آرایه در یک رنج مشخص\n",
        "    </font>\n",
        "</div>"
      ]
    },
    {
      "cell_type": "code",
      "execution_count": null,
      "id": "072751e4",
      "metadata": {
        "id": "072751e4",
        "outputId": "e0a0ca4e-5f76-4c3f-9e6e-3049d6c5770c"
      },
      "outputs": [
        {
          "data": {
            "text/plain": [
              "array([0, 1, 2, 3, 4, 5, 6, 7, 8, 9])"
            ]
          },
          "execution_count": 26,
          "metadata": {},
          "output_type": "execute_result"
        }
      ],
      "source": [
        "np.array(range(10))"
      ]
    },
    {
      "cell_type": "markdown",
      "id": "6502bc48",
      "metadata": {
        "id": "6502bc48"
      },
      "source": [
        "<div style=\"direction:rtl\">\n",
        "<font color='green' size=\"5px\">\n",
        " یک آرایه در رنج بین 10 تا 20 که با گام 2 حرکت کند\n",
        "    </font>\n",
        "</div>"
      ]
    },
    {
      "cell_type": "code",
      "execution_count": null,
      "id": "92f4e495",
      "metadata": {
        "id": "92f4e495",
        "outputId": "7a26b643-0fa1-4d13-b9c6-9ff3c5c93f04"
      },
      "outputs": [
        {
          "data": {
            "text/plain": [
              "array([10, 12, 14, 16, 18])"
            ]
          },
          "execution_count": 27,
          "metadata": {},
          "output_type": "execute_result"
        }
      ],
      "source": [
        "np.arange(10,20,2)"
      ]
    },
    {
      "cell_type": "markdown",
      "id": "58888435",
      "metadata": {
        "id": "58888435"
      },
      "source": [
        "<div style=\"direction:rtl\">\n",
        "<font color='green' size=\"5px\">\n",
        " یک آرایه در رنج بین 0 تا 15 که شامل 3 سطر و 5 ستون است، ایجاد کنید\n",
        "    </font>\n",
        "</div>"
      ]
    },
    {
      "cell_type": "code",
      "execution_count": null,
      "id": "2377d18f",
      "metadata": {
        "id": "2377d18f",
        "outputId": "5908b277-49cd-41a6-b75f-53d07e1de354"
      },
      "outputs": [
        {
          "data": {
            "text/plain": [
              "array([[ 0,  1,  2,  3,  4],\n",
              "       [ 5,  6,  7,  8,  9],\n",
              "       [10, 11, 12, 13, 14]])"
            ]
          },
          "execution_count": 32,
          "metadata": {},
          "output_type": "execute_result"
        }
      ],
      "source": [
        "np.arange(15).reshape(3,5)"
      ]
    },
    {
      "cell_type": "markdown",
      "id": "cb9fa506",
      "metadata": {
        "id": "cb9fa506"
      },
      "source": [
        "<div style=\"direction:rtl\">\n",
        "<font color='green' size=\"5px\">\n",
        " یک آرایه در رنج بین 0 تا 15 ایجاد کرده و سپس به 3 آرایه تقسیم میکنیم\n",
        "    </font>\n",
        "</div>"
      ]
    },
    {
      "cell_type": "code",
      "execution_count": null,
      "id": "d169f23e",
      "metadata": {
        "id": "d169f23e",
        "outputId": "87af9ab8-0386-4837-a0d8-f829b3cb1a27"
      },
      "outputs": [
        {
          "data": {
            "text/plain": [
              "array([ 0,  1,  2,  3,  4,  5,  6,  7,  8,  9, 10, 11, 12, 13, 14])"
            ]
          },
          "execution_count": 33,
          "metadata": {},
          "output_type": "execute_result"
        }
      ],
      "source": [
        "np.arange(15)"
      ]
    },
    {
      "cell_type": "code",
      "execution_count": null,
      "id": "cb4ab645",
      "metadata": {
        "id": "cb4ab645",
        "outputId": "eb281746-58c0-4990-8963-a6c6e05e63a4"
      },
      "outputs": [
        {
          "data": {
            "text/plain": [
              "[array([0, 1, 2, 3, 4]), array([5, 6, 7, 8, 9]), array([10, 11, 12, 13, 14])]"
            ]
          },
          "execution_count": 34,
          "metadata": {},
          "output_type": "execute_result"
        }
      ],
      "source": [
        "np.split(np.arange(15),3)"
      ]
    },
    {
      "cell_type": "markdown",
      "id": "3b09089f",
      "metadata": {
        "id": "3b09089f"
      },
      "source": [
        "<div style=\"direction:rtl\">\n",
        "<font color='green' size=\"5px\">\n",
        " یک آرایه در رنج بین 10 تا 20 که با 5 اعداد تصادفی، ایجاد میکند\n",
        "    </font>\n",
        "</div>"
      ]
    },
    {
      "cell_type": "code",
      "execution_count": null,
      "id": "5dfba080",
      "metadata": {
        "id": "5dfba080",
        "outputId": "4691cb38-58af-48a2-ee10-ccf1ad37eb92"
      },
      "outputs": [
        {
          "data": {
            "text/plain": [
              "array([10. , 12.5, 15. , 17.5, 20. ])"
            ]
          },
          "execution_count": 35,
          "metadata": {},
          "output_type": "execute_result"
        }
      ],
      "source": [
        "np.linspace(10,20,5)"
      ]
    },
    {
      "cell_type": "markdown",
      "id": "6e504129",
      "metadata": {
        "id": "6e504129"
      },
      "source": [
        "<div style=\"direction:rtl\">\n",
        "<font color='red' size=\"5px\">\n",
        " مثال:\n",
        "    </font>\n",
        "</div>"
      ]
    },
    {
      "cell_type": "code",
      "execution_count": null,
      "id": "a9180605",
      "metadata": {
        "id": "a9180605",
        "outputId": "63214db0-fed8-4fcd-9191-a328a5cbc25b"
      },
      "outputs": [
        {
          "data": {
            "text/plain": [
              "array([10, 15, 20, 25, 30, 35])"
            ]
          },
          "execution_count": 29,
          "metadata": {},
          "output_type": "execute_result"
        }
      ],
      "source": [
        "a = np.arange(10,40,5)\n",
        "a"
      ]
    },
    {
      "cell_type": "code",
      "execution_count": null,
      "id": "9fe09b52",
      "metadata": {
        "id": "9fe09b52",
        "outputId": "8fc8f4be-db1b-4dbd-ba76-8e31ff60e09f"
      },
      "outputs": [
        {
          "data": {
            "text/plain": [
              "[20, 30, 40, 50, 60, 70]"
            ]
          },
          "execution_count": 30,
          "metadata": {},
          "output_type": "execute_result"
        }
      ],
      "source": [
        "b = list(map(lambda x: x*2, a))\n",
        "b"
      ]
    },
    {
      "cell_type": "markdown",
      "id": "d29f1c46",
      "metadata": {
        "id": "d29f1c46"
      },
      "source": [
        "<div style=\"direction:rtl\">\n",
        "<font color='blue' size=\"5px\">\n",
        "تمرین 1 امتیازی: یک آرایه ایجاد کنید در رنج اعداد 10 تا 50 که شامل 10 عدد تصادفی است و از این آرایه اعدادی که کمتر از 25 هست را حذف کنید\n",
        "    </font>\n",
        "</div>"
      ]
    },
    {
      "cell_type": "code",
      "execution_count": null,
      "id": "b4911e23",
      "metadata": {
        "id": "b4911e23"
      },
      "outputs": [],
      "source": []
    },
    {
      "cell_type": "code",
      "execution_count": null,
      "id": "f803ff97",
      "metadata": {
        "id": "f803ff97"
      },
      "outputs": [],
      "source": [
        "a = np.linspace(10,50,10)\n",
        "a"
      ]
    },
    {
      "cell_type": "code",
      "execution_count": null,
      "id": "33184f33",
      "metadata": {
        "id": "33184f33"
      },
      "outputs": [],
      "source": [
        "b = list(filter(lambda x : x > 25, a))\n",
        "b"
      ]
    },
    {
      "cell_type": "markdown",
      "id": "0bc9027f",
      "metadata": {
        "id": "0bc9027f"
      },
      "source": [
        "<div style=\"direction:rtl\">\n",
        "<font color='green' size=\"5px\">\n",
        " دسترسی به درایه های یک آرایه:\n",
        "    </font>\n",
        "</div>"
      ]
    },
    {
      "cell_type": "code",
      "execution_count": null,
      "id": "4216378b",
      "metadata": {
        "id": "4216378b",
        "outputId": "a7e2eb83-1da4-4313-fc29-d9e490f91e2f"
      },
      "outputs": [
        {
          "data": {
            "text/plain": [
              "array([0, 1, 2, 3, 4, 5, 6, 7, 8, 9])"
            ]
          },
          "execution_count": 31,
          "metadata": {},
          "output_type": "execute_result"
        }
      ],
      "source": [
        "a= np.arange(10)\n",
        "a"
      ]
    },
    {
      "cell_type": "code",
      "execution_count": null,
      "id": "92d42c54",
      "metadata": {
        "id": "92d42c54",
        "outputId": "6a02014b-040e-4e73-9e77-991bc5556da7"
      },
      "outputs": [
        {
          "data": {
            "text/plain": [
              "2"
            ]
          },
          "execution_count": 32,
          "metadata": {},
          "output_type": "execute_result"
        }
      ],
      "source": [
        "a[2]"
      ]
    },
    {
      "cell_type": "code",
      "execution_count": null,
      "id": "e76a0a2b",
      "metadata": {
        "id": "e76a0a2b",
        "outputId": "404708c4-a66e-4692-b6fa-db7c40a064a7"
      },
      "outputs": [
        {
          "data": {
            "text/plain": [
              "array([2, 3, 4])"
            ]
          },
          "execution_count": 33,
          "metadata": {},
          "output_type": "execute_result"
        }
      ],
      "source": [
        "a[2:5]"
      ]
    },
    {
      "cell_type": "code",
      "execution_count": null,
      "id": "213b349b",
      "metadata": {
        "id": "213b349b"
      },
      "outputs": [],
      "source": []
    },
    {
      "cell_type": "code",
      "execution_count": null,
      "id": "8f1e4a2e",
      "metadata": {
        "id": "8f1e4a2e",
        "outputId": "53ac3d63-f1d5-4c99-a700-400777f56bb4"
      },
      "outputs": [
        {
          "data": {
            "text/plain": [
              "array([[0, 1, 2],\n",
              "       [3, 4, 5],\n",
              "       [6, 7, 8]])"
            ]
          },
          "execution_count": 34,
          "metadata": {},
          "output_type": "execute_result"
        }
      ],
      "source": [
        "b = np.arange(9).reshape(3,3)\n",
        "b"
      ]
    },
    {
      "cell_type": "code",
      "execution_count": null,
      "id": "141868a1",
      "metadata": {
        "scrolled": true,
        "id": "141868a1",
        "outputId": "fc9f0d93-f3f3-46f0-9011-a5ad00ab7d00"
      },
      "outputs": [
        {
          "data": {
            "text/plain": [
              "array([3, 4, 5])"
            ]
          },
          "execution_count": 37,
          "metadata": {},
          "output_type": "execute_result"
        }
      ],
      "source": [
        "b[1]"
      ]
    },
    {
      "cell_type": "code",
      "execution_count": null,
      "id": "eb94d463",
      "metadata": {
        "id": "eb94d463",
        "outputId": "9bd39eaa-8763-46e1-b780-2dc8cca233ed"
      },
      "outputs": [
        {
          "data": {
            "text/plain": [
              "5"
            ]
          },
          "execution_count": 38,
          "metadata": {},
          "output_type": "execute_result"
        }
      ],
      "source": [
        "b[1,2]"
      ]
    },
    {
      "cell_type": "code",
      "execution_count": null,
      "id": "1e8a0c3e",
      "metadata": {
        "id": "1e8a0c3e",
        "outputId": "d2541167-c830-4d8e-b173-ff3d21319837"
      },
      "outputs": [
        {
          "data": {
            "text/plain": [
              "array([1, 4, 7])"
            ]
          },
          "execution_count": 39,
          "metadata": {},
          "output_type": "execute_result"
        }
      ],
      "source": [
        "b[:,1]"
      ]
    },
    {
      "cell_type": "markdown",
      "id": "af0eb714",
      "metadata": {
        "id": "af0eb714"
      },
      "source": [
        "<div style=\"direction:rtl\">\n",
        "<font color='blue' size=\"5px\">\n",
        "تمرین 2 امتیازی: یک آرایه ایجاد کنید در رنج اعداد 10، سپس به 2 آرایه تقسیم نمایید و خروجی [(0, 5), (1, 6), (2, 7), (3, 8), (4, 9)] را تولید کنید\n",
        "    </font>\n",
        "</div>"
      ]
    },
    {
      "cell_type": "markdown",
      "id": "17221a00",
      "metadata": {
        "id": "17221a00"
      },
      "source": [
        "# output: [(0, 5), (1, 6), (2, 7), (3, 8), (4, 9)]"
      ]
    },
    {
      "cell_type": "code",
      "execution_count": null,
      "id": "d5cf43bc",
      "metadata": {
        "id": "d5cf43bc"
      },
      "outputs": [],
      "source": []
    },
    {
      "cell_type": "code",
      "execution_count": null,
      "id": "1f1eaa3b",
      "metadata": {
        "id": "1f1eaa3b",
        "outputId": "a171cc89-21d0-4e62-e7b8-fed4cbf3b903"
      },
      "outputs": [
        {
          "data": {
            "text/plain": [
              "[array([0, 1, 2, 3, 4]), array([5, 6, 7, 8, 9])]"
            ]
          },
          "execution_count": 41,
          "metadata": {},
          "output_type": "execute_result"
        }
      ],
      "source": [
        "a = np.split(np.arange(10),2)\n",
        "a"
      ]
    },
    {
      "cell_type": "code",
      "execution_count": null,
      "id": "ba43d4ec",
      "metadata": {
        "id": "ba43d4ec",
        "outputId": "5500a017-11f6-4799-bdae-12842a8e53fa"
      },
      "outputs": [
        {
          "data": {
            "text/plain": [
              "array([0, 1, 2, 3, 4])"
            ]
          },
          "execution_count": 42,
          "metadata": {},
          "output_type": "execute_result"
        }
      ],
      "source": [
        "a[0]"
      ]
    },
    {
      "cell_type": "code",
      "execution_count": null,
      "id": "8d7289d9",
      "metadata": {
        "id": "8d7289d9",
        "outputId": "b1d7b719-cf6f-4f1a-e797-8204126410f7"
      },
      "outputs": [
        {
          "data": {
            "text/plain": [
              "[(0, 5), (1, 6), (2, 7), (3, 8), (4, 9)]"
            ]
          },
          "execution_count": 44,
          "metadata": {},
          "output_type": "execute_result"
        }
      ],
      "source": [
        "b= list(zip(a[0],a[1]))\n",
        "b"
      ]
    },
    {
      "cell_type": "code",
      "execution_count": null,
      "id": "c4fca1de",
      "metadata": {
        "id": "c4fca1de"
      },
      "outputs": [],
      "source": []
    },
    {
      "cell_type": "code",
      "execution_count": null,
      "id": "87d2ec34",
      "metadata": {
        "id": "87d2ec34"
      },
      "outputs": [],
      "source": []
    },
    {
      "cell_type": "markdown",
      "id": "e58440fe",
      "metadata": {
        "id": "e58440fe"
      },
      "source": [
        "<div style=\"direction:rtl\">\n",
        "<font color='red' size=\"5px\">\n",
        " مثال:\n",
        "    </font>\n",
        "</div>"
      ]
    },
    {
      "cell_type": "code",
      "execution_count": null,
      "id": "c6ab140a",
      "metadata": {
        "id": "c6ab140a",
        "outputId": "af240f40-7d82-491c-e2d4-4362f5c501d1"
      },
      "outputs": [
        {
          "data": {
            "text/plain": [
              "array([0, 1, 2, 3, 4, 5, 6, 7, 8])"
            ]
          },
          "execution_count": 45,
          "metadata": {},
          "output_type": "execute_result"
        }
      ],
      "source": [
        "a = np.arange(9)\n",
        "a"
      ]
    },
    {
      "cell_type": "code",
      "execution_count": null,
      "id": "00fb96f6",
      "metadata": {
        "id": "00fb96f6",
        "outputId": "7fda5678-e430-455d-d140-9feb340d70a4"
      },
      "outputs": [
        {
          "data": {
            "text/plain": [
              "array([[0, 1, 2],\n",
              "       [3, 4, 5],\n",
              "       [6, 7, 8]])"
            ]
          },
          "execution_count": 46,
          "metadata": {},
          "output_type": "execute_result"
        }
      ],
      "source": [
        "b = a.reshape(3,3)\n",
        "b"
      ]
    },
    {
      "cell_type": "code",
      "execution_count": null,
      "id": "13da0ab4",
      "metadata": {
        "id": "13da0ab4",
        "outputId": "507d6da5-ea6d-4559-d1c5-374a11eb62c4"
      },
      "outputs": [
        {
          "data": {
            "text/plain": [
              "array([0, 1, 2, 3, 4, 5, 6, 7, 8])"
            ]
          },
          "execution_count": 47,
          "metadata": {},
          "output_type": "execute_result"
        }
      ],
      "source": [
        "b.flatten()"
      ]
    },
    {
      "cell_type": "code",
      "execution_count": null,
      "id": "7e97936e",
      "metadata": {
        "id": "7e97936e",
        "outputId": "dcfbba29-2e77-4bac-d578-848848ac2f7a"
      },
      "outputs": [
        {
          "data": {
            "text/plain": [
              "array([[0, 1, 2],\n",
              "       [3, 4, 5],\n",
              "       [6, 7, 8]])"
            ]
          },
          "execution_count": 48,
          "metadata": {},
          "output_type": "execute_result"
        }
      ],
      "source": [
        "b.resize((3,3))\n",
        "b"
      ]
    },
    {
      "cell_type": "markdown",
      "id": "7e9df6d0",
      "metadata": {
        "id": "7e9df6d0"
      },
      "source": [
        "<div style=\"direction:rtl\">\n",
        "<font color='red' size=\"5px\">\n",
        " مثال:\n",
        "    </font>\n",
        "</div>"
      ]
    },
    {
      "cell_type": "code",
      "execution_count": null,
      "id": "0ef58a9b",
      "metadata": {
        "id": "0ef58a9b",
        "outputId": "4bcf826b-6198-4454-bdaf-c8917a42d007"
      },
      "outputs": [
        {
          "name": "stdout",
          "output_type": "stream",
          "text": [
            "[[1 2 3]\n",
            " [4 5 6]]\n"
          ]
        },
        {
          "data": {
            "text/plain": [
              "(2, 3)"
            ]
          },
          "execution_count": 49,
          "metadata": {},
          "output_type": "execute_result"
        }
      ],
      "source": [
        "a = np.array(([1,2,3],[4,5,6]))\n",
        "\n",
        "print(a)\n",
        "a.shape"
      ]
    },
    {
      "cell_type": "code",
      "execution_count": null,
      "id": "e8965985",
      "metadata": {
        "id": "e8965985",
        "outputId": "7828f2f6-4b2f-43be-dbd8-13abf8d79787"
      },
      "outputs": [
        {
          "name": "stdout",
          "output_type": "stream",
          "text": [
            "[[ 7  8  9]\n",
            " [10 11 12]]\n"
          ]
        },
        {
          "data": {
            "text/plain": [
              "(2, 3)"
            ]
          },
          "execution_count": 50,
          "metadata": {},
          "output_type": "execute_result"
        }
      ],
      "source": [
        "b = np.array(([7,8,9],[10,11,12]))\n",
        "\n",
        "print(b)\n",
        "b.shape"
      ]
    },
    {
      "cell_type": "code",
      "execution_count": null,
      "id": "10350db9",
      "metadata": {
        "id": "10350db9",
        "outputId": "4b46f7c7-0713-4c27-8c85-98600ea9fcb4"
      },
      "outputs": [
        {
          "name": "stdout",
          "output_type": "stream",
          "text": [
            "[[ 1  2  3  7  8  9]\n",
            " [ 4  5  6 10 11 12]]\n"
          ]
        },
        {
          "data": {
            "text/plain": [
              "(2, 6)"
            ]
          },
          "execution_count": 51,
          "metadata": {},
          "output_type": "execute_result"
        }
      ],
      "source": [
        "x = np.concatenate((a,b), axis = 1)\n",
        "\n",
        "print(x)\n",
        "x.shape"
      ]
    },
    {
      "cell_type": "code",
      "execution_count": null,
      "id": "542ebf45",
      "metadata": {
        "id": "542ebf45",
        "outputId": "110ff78e-0c2d-4030-d4dd-a3f424242c5b"
      },
      "outputs": [
        {
          "name": "stdout",
          "output_type": "stream",
          "text": [
            "[[ 1  2]\n",
            " [ 3  7]\n",
            " [ 8  9]\n",
            " [ 4  5]\n",
            " [ 6 10]\n",
            " [11 12]]\n"
          ]
        },
        {
          "data": {
            "text/plain": [
              "(6, 2)"
            ]
          },
          "execution_count": 52,
          "metadata": {},
          "output_type": "execute_result"
        }
      ],
      "source": [
        "x = np.resize(x, (6,2))\n",
        "\n",
        "print(x)\n",
        "x.shape"
      ]
    },
    {
      "cell_type": "code",
      "execution_count": null,
      "id": "fd2f8682",
      "metadata": {
        "id": "fd2f8682",
        "outputId": "df7dc773-7903-4eca-d590-87f4b4817726"
      },
      "outputs": [
        {
          "name": "stdout",
          "output_type": "stream",
          "text": [
            "[[ 1  2  3]\n",
            " [ 4  5  6]\n",
            " [ 7  8  9]\n",
            " [10 11 12]]\n"
          ]
        },
        {
          "data": {
            "text/plain": [
              "(4, 3)"
            ]
          },
          "execution_count": 53,
          "metadata": {},
          "output_type": "execute_result"
        }
      ],
      "source": [
        "y = np.concatenate((a,b), axis = 0)\n",
        "\n",
        "print(y)\n",
        "y.shape"
      ]
    },
    {
      "cell_type": "code",
      "execution_count": null,
      "id": "eaa648e0",
      "metadata": {
        "id": "eaa648e0",
        "outputId": "7f8b64de-8ab0-4996-b045-f8283848f12b"
      },
      "outputs": [
        {
          "data": {
            "text/plain": [
              "array([1, 5, 9])"
            ]
          },
          "execution_count": 54,
          "metadata": {},
          "output_type": "execute_result"
        }
      ],
      "source": [
        "y.diagonal()"
      ]
    },
    {
      "cell_type": "code",
      "execution_count": null,
      "id": "6d05f0ed",
      "metadata": {
        "id": "6d05f0ed"
      },
      "outputs": [],
      "source": []
    },
    {
      "cell_type": "code",
      "execution_count": null,
      "id": "40cf537c",
      "metadata": {
        "id": "40cf537c",
        "outputId": "961018d4-1f8d-4761-b7eb-1bce8f49a9d5"
      },
      "outputs": [
        {
          "name": "stdout",
          "output_type": "stream",
          "text": [
            "[[1 2 3]\n",
            " [4 5 6]]\n"
          ]
        },
        {
          "data": {
            "text/plain": [
              "(2, 3)"
            ]
          },
          "execution_count": 55,
          "metadata": {},
          "output_type": "execute_result"
        }
      ],
      "source": [
        "a = np.array(([1,2,3],[4,5,6]))\n",
        "\n",
        "print(a)\n",
        "a.shape"
      ]
    },
    {
      "cell_type": "code",
      "execution_count": null,
      "id": "d88d1d16",
      "metadata": {
        "id": "d88d1d16",
        "outputId": "bd7fd726-5c93-48af-f2e0-c2337252e92c"
      },
      "outputs": [
        {
          "name": "stdout",
          "output_type": "stream",
          "text": [
            "[[1 3]\n",
            " [4 6]]\n"
          ]
        },
        {
          "data": {
            "text/plain": [
              "(2, 2)"
            ]
          },
          "execution_count": 56,
          "metadata": {},
          "output_type": "execute_result"
        }
      ],
      "source": [
        "b = np.delete(a,1, axis=1)\n",
        "\n",
        "print(b)\n",
        "b.shape"
      ]
    },
    {
      "cell_type": "code",
      "execution_count": null,
      "id": "d4cb5d4a",
      "metadata": {
        "id": "d4cb5d4a",
        "outputId": "0233e726-f9c6-47ac-85ff-6ea9327bfca9"
      },
      "outputs": [
        {
          "data": {
            "text/plain": [
              "array([[1, 3],\n",
              "       [4, 6],\n",
              "       [7, 8]])"
            ]
          },
          "execution_count": 58,
          "metadata": {},
          "output_type": "execute_result"
        }
      ],
      "source": [
        "np.append(b,[[7,8]], axis=0)"
      ]
    },
    {
      "cell_type": "code",
      "execution_count": null,
      "id": "f70995dc",
      "metadata": {
        "id": "f70995dc",
        "outputId": "033fefbd-7f82-4ca8-a980-152e881839eb"
      },
      "outputs": [
        {
          "name": "stdout",
          "output_type": "stream",
          "text": [
            "[[1 2 3]\n",
            " [4 5 6]]\n"
          ]
        },
        {
          "data": {
            "text/plain": [
              "(2, 3)"
            ]
          },
          "execution_count": 59,
          "metadata": {},
          "output_type": "execute_result"
        }
      ],
      "source": [
        "a = np.array(([1,2,3],[4,5,6]))\n",
        "\n",
        "print(a)\n",
        "a.shape"
      ]
    },
    {
      "cell_type": "code",
      "execution_count": null,
      "id": "36c6d85d",
      "metadata": {
        "id": "36c6d85d",
        "outputId": "96cce014-42d8-4878-b681-ccce6087fcb3"
      },
      "outputs": [
        {
          "name": "stdout",
          "output_type": "stream",
          "text": [
            "[[1 2 3]]\n"
          ]
        },
        {
          "data": {
            "text/plain": [
              "(1, 3)"
            ]
          },
          "execution_count": 60,
          "metadata": {},
          "output_type": "execute_result"
        }
      ],
      "source": [
        "b = np.delete(a,1, axis=0)\n",
        "\n",
        "print(b)\n",
        "b.shape"
      ]
    },
    {
      "cell_type": "code",
      "execution_count": null,
      "id": "ce89ecea",
      "metadata": {
        "id": "ce89ecea",
        "outputId": "7136ebaa-0a4d-4406-f677-f1fcbd80a86e"
      },
      "outputs": [
        {
          "data": {
            "text/plain": [
              "array([[1, 2, 3, 7, 8, 9]])"
            ]
          },
          "execution_count": 63,
          "metadata": {},
          "output_type": "execute_result"
        }
      ],
      "source": [
        "np.append(b,[[7,8,9]], axis=1)"
      ]
    },
    {
      "cell_type": "code",
      "execution_count": null,
      "id": "7e01c699",
      "metadata": {
        "id": "7e01c699"
      },
      "outputs": [],
      "source": []
    },
    {
      "cell_type": "code",
      "execution_count": null,
      "id": "f77ed43f",
      "metadata": {
        "id": "f77ed43f",
        "outputId": "cc040961-1a57-4ee3-c756-b58f925f9fb6"
      },
      "outputs": [
        {
          "name": "stdout",
          "output_type": "stream",
          "text": [
            "[[1 2 3]\n",
            " [4 5 6]]\n"
          ]
        }
      ],
      "source": [
        "a = np.array(([1,2,3],[4,5,6]))\n",
        "print(a)"
      ]
    },
    {
      "cell_type": "code",
      "execution_count": null,
      "id": "99d76a3f",
      "metadata": {
        "id": "99d76a3f",
        "outputId": "c7511bc8-9578-44e6-fee4-5e16ca6ad968"
      },
      "outputs": [
        {
          "data": {
            "text/plain": [
              "array([[ 1, 11,  2,  3],\n",
              "       [ 4, 11,  5,  6]])"
            ]
          },
          "execution_count": 65,
          "metadata": {},
          "output_type": "execute_result"
        }
      ],
      "source": [
        "np.insert(a,1,[11], axis=1)"
      ]
    },
    {
      "cell_type": "code",
      "execution_count": null,
      "id": "1d357344",
      "metadata": {
        "id": "1d357344",
        "outputId": "b777753f-807f-4e6e-ab94-1feadc8fffd5"
      },
      "outputs": [
        {
          "data": {
            "text/plain": [
              "array([[ 1,  2,  3],\n",
              "       [11, 11, 11],\n",
              "       [ 4,  5,  6]])"
            ]
          },
          "execution_count": 66,
          "metadata": {},
          "output_type": "execute_result"
        }
      ],
      "source": [
        "np.insert(a,1,[11], axis=0)"
      ]
    },
    {
      "cell_type": "code",
      "execution_count": null,
      "id": "e042c640",
      "metadata": {
        "id": "e042c640"
      },
      "outputs": [],
      "source": []
    },
    {
      "cell_type": "markdown",
      "id": "ae5f56cf",
      "metadata": {
        "id": "ae5f56cf"
      },
      "source": [
        "<div style=\"direction:rtl\">\n",
        "<font color='green' size=\"5px\">\n",
        " عملگرها در آرایه ها:\n",
        "    </font>\n",
        "</div>"
      ]
    },
    {
      "cell_type": "code",
      "execution_count": null,
      "id": "38c75562",
      "metadata": {
        "id": "38c75562",
        "outputId": "668d318c-d60e-41cb-c3bc-9aa4f9fcbbe2"
      },
      "outputs": [
        {
          "name": "stdout",
          "output_type": "stream",
          "text": [
            "a array: [[1 2 3]\n",
            " [4 5 6]]\n",
            "b array:  [[ 7  8  9]\n",
            " [10 11 12]]\n",
            "a+b array:  [[ 8 10 12]\n",
            " [14 16 18]]\n",
            "np.add(a,b) array:  [[ 8 10 12]\n",
            " [14 16 18]]\n",
            "np.add(a,b) = a+b\n"
          ]
        }
      ],
      "source": [
        "a = np.array(([1,2,3],[4,5,6]))\n",
        "\n",
        "b = np.array(([7,8,9],[10,11,12]))\n",
        "\n",
        "print(\"a array:\", a)\n",
        "print(\"b array: \", b)\n",
        "\n",
        "c = a+b\n",
        "\n",
        "d = np.add(a,b)\n",
        "\n",
        "print(\"a+b array: \", c)\n",
        "print(\"np.add(a,b) array: \", d)\n",
        "\n",
        "if c.all() == d.all():\n",
        "    print(\"np.add(a,b) = a+b\")"
      ]
    },
    {
      "cell_type": "code",
      "execution_count": null,
      "id": "8ee03416",
      "metadata": {
        "id": "8ee03416",
        "outputId": "91b7565d-6452-45c5-dbc7-d2224a8c240d"
      },
      "outputs": [
        {
          "name": "stdout",
          "output_type": "stream",
          "text": [
            "a array: [[1 2 3]\n",
            " [4 5 6]]\n",
            "b array:  [[ 7  8  9]\n",
            " [10 11 12]]\n",
            "a-b array:  [[-6 -6 -6]\n",
            " [-6 -6 -6]]\n",
            "np.subtract(a,b) array:  [[-6 -6 -6]\n",
            " [-6 -6 -6]]\n",
            "np.subtract(a,b) = a-b\n"
          ]
        }
      ],
      "source": [
        "a = np.array(([1,2,3],[4,5,6]))\n",
        "b = np.array(([7,8,9],[10,11,12]))\n",
        "\n",
        "print(\"a array:\", a)\n",
        "print(\"b array: \", b)\n",
        "\n",
        "c = a-b\n",
        "d = np.subtract(a,b)\n",
        "\n",
        "print(\"a-b array: \", c)\n",
        "print(\"np.subtract(a,b) array: \", d)\n",
        "\n",
        "if c.all() == d.all():\n",
        "    print(\"np.subtract(a,b) = a-b\")"
      ]
    },
    {
      "cell_type": "code",
      "execution_count": null,
      "id": "1b24e3ea",
      "metadata": {
        "id": "1b24e3ea",
        "outputId": "7d12dde8-f6d0-4650-9259-7fb5a8ea8ddc"
      },
      "outputs": [
        {
          "name": "stdout",
          "output_type": "stream",
          "text": [
            "a array: [[1 2 3]\n",
            " [4 5 6]]\n",
            "b array:  [[ 7  8  9]\n",
            " [10 11 12]]\n",
            "a*b array:  [[ 7 16 27]\n",
            " [40 55 72]]\n",
            "np.multiply(a,b) array:  [[ 7 16 27]\n",
            " [40 55 72]]\n",
            "np.multiply(a,b) = a*b\n"
          ]
        }
      ],
      "source": [
        "a = np.array(([1,2,3],[4,5,6]))\n",
        "b = np.array(([7,8,9],[10,11,12]))\n",
        "\n",
        "print(\"a array:\", a)\n",
        "print(\"b array: \", b)\n",
        "\n",
        "c = a*b\n",
        "d = np.multiply(a,b)\n",
        "\n",
        "print(\"a*b array: \", c)\n",
        "print(\"np.multiply(a,b) array: \", d)\n",
        "\n",
        "if c.all() == d.all():\n",
        "    print(\"np.multiply(a,b) = a*b\")"
      ]
    },
    {
      "cell_type": "code",
      "execution_count": null,
      "id": "bda05624",
      "metadata": {
        "id": "bda05624",
        "outputId": "f8dae9ca-b2da-4f54-8882-935f7d2a6bdc"
      },
      "outputs": [
        {
          "name": "stdout",
          "output_type": "stream",
          "text": [
            "a array: [[1 2 3]\n",
            " [4 5 6]]\n",
            "b array:  [[ 7  8  9]\n",
            " [10 11 12]]\n",
            "a/b array:  [[0.14285714 0.25       0.33333333]\n",
            " [0.4        0.45454545 0.5       ]]\n",
            "np.divide(a,b) array:  [[0.14285714 0.25       0.33333333]\n",
            " [0.4        0.45454545 0.5       ]]\n",
            "np.divide(a,b) = a/b\n"
          ]
        }
      ],
      "source": [
        "a = np.array(([1,2,3],[4,5,6]))\n",
        "b = np.array(([7,8,9],[10,11,12]))\n",
        "\n",
        "print(\"a array:\", a)\n",
        "print(\"b array: \", b)\n",
        "\n",
        "c = a/b\n",
        "d = np.divide(a,b)\n",
        "\n",
        "print(\"a/b array: \", c)\n",
        "print(\"np.divide(a,b) array: \", d)\n",
        "\n",
        "if c.all() == d.all():\n",
        "    print(\"np.divide(a,b) = a/b\")"
      ]
    },
    {
      "cell_type": "code",
      "execution_count": null,
      "id": "80e65684",
      "metadata": {
        "id": "80e65684"
      },
      "outputs": [],
      "source": []
    },
    {
      "cell_type": "markdown",
      "id": "4cad1994",
      "metadata": {
        "id": "4cad1994"
      },
      "source": [
        "<div style=\"direction:rtl\">\n",
        "<font color='blue' size=\"5px\">\n",
        " تمرین:\n",
        "    خروجی کد زیر چیست؟\n",
        "    </font>\n",
        "</div>"
      ]
    },
    {
      "cell_type": "code",
      "execution_count": null,
      "id": "b7318307",
      "metadata": {
        "id": "b7318307",
        "outputId": "10dff234-edce-4780-b201-dd700919d087"
      },
      "outputs": [
        {
          "name": "stdout",
          "output_type": "stream",
          "text": [
            "[ 3 -4]\n"
          ]
        }
      ],
      "source": [
        "a = np.arange(21,30)\n",
        "\n",
        "b = a.reshape(3,3)\n",
        "\n",
        "c = b.diagonal()\n",
        "\n",
        "d = np.delete(c,1, axis=0)\n",
        "\n",
        "e = b[1:-1]\n",
        "\n",
        "f = e.flatten()\n",
        "\n",
        "g = np.delete(f,2, axis=0)\n",
        "\n",
        "h = g-d\n",
        "\n",
        "print(h)"
      ]
    },
    {
      "cell_type": "code",
      "execution_count": null,
      "id": "539cf5c1",
      "metadata": {
        "id": "539cf5c1"
      },
      "outputs": [],
      "source": []
    },
    {
      "cell_type": "markdown",
      "id": "d4c07fa2",
      "metadata": {
        "id": "d4c07fa2"
      },
      "source": [
        "<div style=\"direction:rtl\">\n",
        "<font color='red' size=\"5px\">\n",
        " مثال:\n",
        "    </font>\n",
        "</div>"
      ]
    },
    {
      "cell_type": "code",
      "execution_count": null,
      "id": "a86725ef",
      "metadata": {
        "id": "a86725ef",
        "outputId": "1f619819-d4a7-45da-c327-ad333ee3fe51"
      },
      "outputs": [
        {
          "name": "stdout",
          "output_type": "stream",
          "text": [
            "[5 7 9]\n",
            "[ 6 15]\n"
          ]
        }
      ],
      "source": [
        "a = np.array(([1,2,3],[4,5,6]))\n",
        "\n",
        "print(np.sum(a,axis=0))\n",
        "\n",
        "print(np.sum(a,axis=1))"
      ]
    },
    {
      "cell_type": "code",
      "execution_count": null,
      "id": "9931bd11",
      "metadata": {
        "id": "9931bd11"
      },
      "outputs": [],
      "source": []
    },
    {
      "cell_type": "markdown",
      "id": "6d3f291f",
      "metadata": {
        "id": "6d3f291f"
      },
      "source": [
        "<div style=\"direction:rtl\">\n",
        "<font color='blue' size=\"5px\">\n",
        " تمرین:\n",
        "    خروجی کد زیر چیست؟\n",
        "    </font>\n",
        "</div>"
      ]
    },
    {
      "cell_type": "code",
      "execution_count": null,
      "id": "191d554b",
      "metadata": {
        "id": "191d554b"
      },
      "outputs": [],
      "source": [
        "a = np.array(([1,2,3],[4,5,6]))\n",
        "\n",
        "b = np.split(a,2)\n",
        "\n",
        "c = np.sum(a,axis=0)\n",
        "\n",
        "d = b[0] + b[1]\n",
        "\n",
        "if c.all() == d.all():\n",
        "    print('yes')\n",
        "else:\n",
        "    print('no')"
      ]
    },
    {
      "cell_type": "code",
      "execution_count": null,
      "id": "372a151f",
      "metadata": {
        "id": "372a151f"
      },
      "outputs": [],
      "source": []
    },
    {
      "cell_type": "markdown",
      "id": "373860fe",
      "metadata": {
        "id": "373860fe"
      },
      "source": [
        "<div style=\"direction:rtl\">\n",
        "<font color='red' size=\"5px\">\n",
        " مثال:\n",
        "    </font>\n",
        "</div>"
      ]
    },
    {
      "cell_type": "code",
      "execution_count": null,
      "id": "47cc7a28",
      "metadata": {
        "id": "47cc7a28",
        "outputId": "7bcb269e-b7e1-434d-8dee-eef1214ef970"
      },
      "outputs": [
        {
          "name": "stdout",
          "output_type": "stream",
          "text": [
            "a array: [[1 2 3]\n",
            " [4 5 6]] \n",
            "\n",
            "(2, 3) \n",
            "\n",
            "b array: [[[1 2 3]\n",
            "  [4 5 6]]] \n",
            "\n",
            "(1, 2, 3) \n",
            "\n",
            "c array: [[1 2 3]\n",
            " [4 5 6]] \n",
            "\n",
            "(2, 3) \n",
            "\n"
          ]
        }
      ],
      "source": [
        "a = np.array(([1,2,3],[4,5,6]))\n",
        "print('a array:', a, '\\n')\n",
        "\n",
        "print(a.shape,'\\n')\n",
        "\n",
        "b = np.expand_dims(a, axis = 0)\n",
        "print('b array:', b, '\\n')\n",
        "\n",
        "print(b.shape,'\\n')\n",
        "\n",
        "c = np.squeeze(b, axis = 0)\n",
        "print('c array:', c, '\\n')\n",
        "\n",
        "print(c.shape,'\\n')"
      ]
    },
    {
      "cell_type": "code",
      "execution_count": null,
      "id": "752c0a5e",
      "metadata": {
        "id": "752c0a5e"
      },
      "outputs": [],
      "source": []
    },
    {
      "cell_type": "markdown",
      "id": "779de83a",
      "metadata": {
        "id": "779de83a"
      },
      "source": [
        "<div style=\"direction:rtl\">\n",
        "<font color='blue' size=\"5px\">\n",
        " تمرین:\n",
        "    خروجی کد زیر چیست؟\n",
        "    </font>\n",
        "</div>"
      ]
    },
    {
      "cell_type": "code",
      "execution_count": null,
      "id": "a2fbfcf6",
      "metadata": {
        "id": "a2fbfcf6"
      },
      "outputs": [],
      "source": []
    },
    {
      "cell_type": "code",
      "execution_count": null,
      "id": "b4b0b9f6",
      "metadata": {
        "id": "b4b0b9f6",
        "outputId": "8803ad4f-c57b-4cd0-cf8c-b80caec9a3eb"
      },
      "outputs": [
        {
          "name": "stdout",
          "output_type": "stream",
          "text": [
            "no\n"
          ]
        }
      ],
      "source": [
        "a = np.array(([1,2,3],[4,5,6]))\n",
        "\n",
        "b = np.expand_dims(a, axis = 0)\n",
        "\n",
        "c = a.reshape(3,2,1)\n",
        "\n",
        "if c.shape == b.shape:\n",
        "    print('yes')\n",
        "else:\n",
        "    print('no')"
      ]
    },
    {
      "cell_type": "code",
      "execution_count": null,
      "id": "358afc03",
      "metadata": {
        "id": "358afc03"
      },
      "outputs": [],
      "source": []
    },
    {
      "cell_type": "code",
      "execution_count": null,
      "id": "2296b8c5",
      "metadata": {
        "id": "2296b8c5",
        "outputId": "8a9fd6ce-04bb-4776-dc86-e948959adce8"
      },
      "outputs": [
        {
          "name": "stdout",
          "output_type": "stream",
          "text": [
            "(1, 2, 3)\n"
          ]
        }
      ],
      "source": [
        "a = np.array(([1,2,3],[4,5,6]))\n",
        "\n",
        "b = np.expand_dims(a, axis = 0)\n",
        "\n",
        "print(b.shape)"
      ]
    },
    {
      "cell_type": "code",
      "execution_count": null,
      "id": "bcbfc2ed",
      "metadata": {
        "id": "bcbfc2ed",
        "outputId": "bcff02d4-bc2a-4a25-953d-f8d452ca9e2e"
      },
      "outputs": [
        {
          "name": "stdout",
          "output_type": "stream",
          "text": [
            "yes\n"
          ]
        }
      ],
      "source": [
        "a = np.array(([1,2,3],[4,5,6]))\n",
        "\n",
        "b = np.expand_dims(a, axis = 0)\n",
        "\n",
        "c = a.reshape(1,2,3)\n",
        "\n",
        "if c.shape == b.shape:\n",
        "    print('yes')\n",
        "else:\n",
        "    print('no')"
      ]
    },
    {
      "cell_type": "code",
      "execution_count": null,
      "id": "de00b306",
      "metadata": {
        "id": "de00b306"
      },
      "outputs": [],
      "source": []
    },
    {
      "cell_type": "markdown",
      "id": "a8e0763d",
      "metadata": {
        "id": "a8e0763d"
      },
      "source": [
        "<div style=\"direction:rtl\">\n",
        "<font color='green' size=\"5px\">\n",
        " کار کردن با رشته ها:\n",
        "    </font>\n",
        "</div>"
      ]
    },
    {
      "cell_type": "code",
      "execution_count": null,
      "id": "9c90dde4",
      "metadata": {
        "id": "9c90dde4",
        "outputId": "8c15486c-cbc9-4192-b808-d0f17d2f83eb"
      },
      "outputs": [
        {
          "data": {
            "text/plain": [
              "array(['hello omid'], dtype='<U10')"
            ]
          },
          "execution_count": 77,
          "metadata": {},
          "output_type": "execute_result"
        }
      ],
      "source": [
        "np.char.add(['hello '], ['omid'])"
      ]
    },
    {
      "cell_type": "code",
      "execution_count": null,
      "id": "f32f7fc4",
      "metadata": {
        "id": "f32f7fc4",
        "outputId": "64166943-840a-4923-867f-e30ea444acb1"
      },
      "outputs": [
        {
          "data": {
            "text/plain": [
              "array('hello hello hello hello hello ', dtype='<U30')"
            ]
          },
          "execution_count": 78,
          "metadata": {},
          "output_type": "execute_result"
        }
      ],
      "source": [
        "np.char.multiply('hello ', 5)"
      ]
    },
    {
      "cell_type": "code",
      "execution_count": null,
      "id": "2399ce06",
      "metadata": {
        "id": "2399ce06",
        "outputId": "54b7c589-acae-4344-92e3-146dbaeb22cf"
      },
      "outputs": [
        {
          "data": {
            "text/plain": [
              "array('                      hello                       ', dtype='<U50')"
            ]
          },
          "execution_count": 79,
          "metadata": {},
          "output_type": "execute_result"
        }
      ],
      "source": [
        "np.char.center('hello', 50)"
      ]
    },
    {
      "cell_type": "code",
      "execution_count": null,
      "id": "807ad8f3",
      "metadata": {
        "id": "807ad8f3",
        "outputId": "ab886807-0efd-436c-a4bf-8cb0642cf686"
      },
      "outputs": [
        {
          "data": {
            "text/plain": [
              "array('Hello omid', dtype='<U10')"
            ]
          },
          "execution_count": 80,
          "metadata": {},
          "output_type": "execute_result"
        }
      ],
      "source": [
        "np.char.capitalize('hello omid')"
      ]
    },
    {
      "cell_type": "code",
      "execution_count": null,
      "id": "88a5019a",
      "metadata": {
        "id": "88a5019a",
        "outputId": "8e083553-32a2-419b-a40b-79b51be2f9cf"
      },
      "outputs": [
        {
          "data": {
            "text/plain": [
              "array('Hello Omid', dtype='<U10')"
            ]
          },
          "execution_count": 81,
          "metadata": {},
          "output_type": "execute_result"
        }
      ],
      "source": [
        "np.char.title('hello omid')"
      ]
    },
    {
      "cell_type": "code",
      "execution_count": null,
      "id": "584f716a",
      "metadata": {
        "id": "584f716a",
        "outputId": "5186beeb-1983-4a27-c388-ad78ec483917"
      },
      "outputs": [
        {
          "data": {
            "text/plain": [
              "array('HELLO OMID', dtype='<U10')"
            ]
          },
          "execution_count": 82,
          "metadata": {},
          "output_type": "execute_result"
        }
      ],
      "source": [
        "np.char.upper('hello omid')"
      ]
    },
    {
      "cell_type": "code",
      "execution_count": null,
      "id": "0efe6b7b",
      "metadata": {
        "id": "0efe6b7b",
        "outputId": "e05ef906-9843-4e05-d68a-342b3aa1578b"
      },
      "outputs": [
        {
          "data": {
            "text/plain": [
              "array('hello omid', dtype='<U10')"
            ]
          },
          "execution_count": 83,
          "metadata": {},
          "output_type": "execute_result"
        }
      ],
      "source": [
        "np.char.lower('HELLO OMID')"
      ]
    },
    {
      "cell_type": "code",
      "execution_count": null,
      "id": "3591a37a",
      "metadata": {
        "id": "3591a37a",
        "outputId": "1ad19fc5-7079-4856-85c4-2a6b3a6d944e"
      },
      "outputs": [
        {
          "data": {
            "text/plain": [
              "array(list(['hello', 'omid']), dtype=object)"
            ]
          },
          "execution_count": 84,
          "metadata": {},
          "output_type": "execute_result"
        }
      ],
      "source": [
        "np.char.split('hello omid')"
      ]
    },
    {
      "cell_type": "code",
      "execution_count": null,
      "id": "680b5b36",
      "metadata": {
        "id": "680b5b36",
        "outputId": "b1682cce-da49-4b34-c5e8-c9d9ccdf1159"
      },
      "outputs": [
        {
          "data": {
            "text/plain": [
              "array('h_e_l_l_o', dtype='<U9')"
            ]
          },
          "execution_count": 85,
          "metadata": {},
          "output_type": "execute_result"
        }
      ],
      "source": [
        "np.char.join('_', 'hello')"
      ]
    },
    {
      "cell_type": "code",
      "execution_count": null,
      "id": "b388ff63",
      "metadata": {
        "id": "b388ff63",
        "outputId": "a4006d10-fbf4-4ece-ff1d-53ff5e078bc2"
      },
      "outputs": [
        {
          "data": {
            "text/plain": [
              "array('hello amir', dtype='<U10')"
            ]
          },
          "execution_count": 86,
          "metadata": {},
          "output_type": "execute_result"
        }
      ],
      "source": [
        "np.char.replace('hello omid', 'omid', 'amir')"
      ]
    },
    {
      "cell_type": "code",
      "execution_count": null,
      "id": "abdccc0e",
      "metadata": {
        "id": "abdccc0e"
      },
      "outputs": [],
      "source": []
    },
    {
      "cell_type": "markdown",
      "id": "41a6235b",
      "metadata": {
        "id": "41a6235b"
      },
      "source": [
        "<div style=\"direction:rtl\">\n",
        "<font color='green' size=\"5px\">\n",
        " جبر خطی:\n",
        "    </font>\n",
        "</div>"
      ]
    },
    {
      "cell_type": "markdown",
      "id": "8a2d38a5",
      "metadata": {
        "id": "8a2d38a5"
      },
      "source": [
        "<div style=\"direction:rtl\">\n",
        "<font color='red' size=\"5px\">\n",
        " ضرب ماتریسی:\n",
        "    </font>\n",
        "</div>"
      ]
    },
    {
      "cell_type": "code",
      "execution_count": null,
      "id": "953acd66",
      "metadata": {
        "id": "953acd66"
      },
      "outputs": [],
      "source": [
        "a = np.array(([1,2],[3,4]))\n",
        "b = np.array(([5,6],[7,8]))\n",
        "\n",
        "c = a*b\n",
        "\n",
        "d = np.dot(a,b)\n",
        "\n",
        "print(\"a*b array: \", c, '\\n')\n",
        "\n",
        "print(\"np.dot(a,b) array: \", d, '\\n')"
      ]
    },
    {
      "cell_type": "markdown",
      "id": "31a68b2d",
      "metadata": {
        "id": "31a68b2d"
      },
      "source": [
        "<div style=\"direction:rtl\">\n",
        "<font color='red' size=\"5px\">\n",
        " ضرب داخلی:\n",
        "    </font>\n",
        "</div>"
      ]
    },
    {
      "cell_type": "code",
      "execution_count": null,
      "id": "595325a0",
      "metadata": {
        "id": "595325a0"
      },
      "outputs": [],
      "source": [
        "a = np.array(([1,2],[3,4]))\n",
        "b = np.array(([5,6],[7,8]))\n",
        "\n",
        "c = a*b\n",
        "\n",
        "d = np.inner(a,b)\n",
        "\n",
        "print(\"a*b array: \", c, '\\n')\n",
        "\n",
        "print(\"np.inner(a,b) array: \", d, '\\n')"
      ]
    },
    {
      "cell_type": "markdown",
      "id": "9acc13f1",
      "metadata": {
        "id": "9acc13f1"
      },
      "source": [
        "a*b array: [ [ 1 * 5 , 2 * 6 ], [ 3 * 7 , 4 * 8 ] ]\n",
        "\n",
        "np.dot(a,b) array: [ [ ( 1 * 5 ) + ( 2 * 7 ) , ( 1 * 6 ) + ( 2 * 8 ) ] , [ ( 3 * 5 ) + ( 4 * 7 ) , ( 3 * 6 ) + ( 4 * 8 ) ] ]\n",
        "\n",
        "np.inner(a,b) array: [ [ ( 1 * 5 ) + ( 2 * 6 ) , ( 1 * 7 ) + ( 2 * 8 ) ] , [ ( 3 * 5 ) + ( 4 * 6 ) , ( 3 * 7 ) + ( 4 * 8 ) ] ]"
      ]
    },
    {
      "cell_type": "code",
      "execution_count": null,
      "id": "f35fad54",
      "metadata": {
        "id": "f35fad54"
      },
      "outputs": [],
      "source": []
    }
  ],
  "metadata": {
    "kernelspec": {
      "display_name": "Python 3 (ipykernel)",
      "language": "python",
      "name": "python3"
    },
    "language_info": {
      "codemirror_mode": {
        "name": "ipython",
        "version": 3
      },
      "file_extension": ".py",
      "mimetype": "text/x-python",
      "name": "python",
      "nbconvert_exporter": "python",
      "pygments_lexer": "ipython3",
      "version": "3.11.5"
    },
    "colab": {
      "provenance": [],
      "include_colab_link": true
    }
  },
  "nbformat": 4,
  "nbformat_minor": 5
}