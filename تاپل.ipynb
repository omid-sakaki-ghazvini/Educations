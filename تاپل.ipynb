{
  "cells": [
    {
      "cell_type": "markdown",
      "metadata": {
        "id": "view-in-github",
        "colab_type": "text"
      },
      "source": [
        "<a href=\"https://colab.research.google.com/github/omid-sakaki-ghazvini/Educations/blob/main/%D8%AA%D8%A7%D9%BE%D9%84.ipynb\" target=\"_parent\"><img src=\"https://colab.research.google.com/assets/colab-badge.svg\" alt=\"Open In Colab\"/></a>"
      ]
    },
    {
      "cell_type": "markdown",
      "id": "8c22fd92",
      "metadata": {
        "id": "8c22fd92"
      },
      "source": [
        "# tuple:"
      ]
    },
    {
      "cell_type": "markdown",
      "id": "4d29ca9c",
      "metadata": {
        "id": "4d29ca9c"
      },
      "source": [
        "## تاپل: همانند لیست ها هستند با این تفاوت که تاپل بعد از مقداردهی قابل تغییر نیست. مزیت استفاده از تاپل ها به جای لیست ها، سادگی و عدم تغییرپذیری آنهاست"
      ]
    },
    {
      "cell_type": "markdown",
      "id": "b6973286",
      "metadata": {
        "id": "b6973286"
      },
      "source": [
        "## مثال:"
      ]
    },
    {
      "cell_type": "code",
      "execution_count": null,
      "id": "64fc9333",
      "metadata": {
        "id": "64fc9333"
      },
      "outputs": [],
      "source": [
        "a = ('omid', 'amir', 'ehsan', 'iman', 'ali')"
      ]
    },
    {
      "cell_type": "code",
      "execution_count": null,
      "id": "26fa8d34",
      "metadata": {
        "id": "26fa8d34",
        "outputId": "004995e0-c2f6-4a57-abb3-6426353d82b3"
      },
      "outputs": [
        {
          "name": "stdout",
          "output_type": "stream",
          "text": [
            "('omid', 'amir', 'ehsan', 'iman', 'ali')\n",
            "<class 'tuple'>\n",
            "5\n"
          ]
        }
      ],
      "source": [
        "print(a)\n",
        "print(type(a))\n",
        "print(len(a))"
      ]
    },
    {
      "cell_type": "code",
      "execution_count": null,
      "id": "1b3f3951",
      "metadata": {
        "id": "1b3f3951"
      },
      "outputs": [],
      "source": [
        "b = ['omid', 'amir', 'ehsan', 'iman', 'ali']"
      ]
    },
    {
      "cell_type": "code",
      "execution_count": null,
      "id": "64ffbddc",
      "metadata": {
        "id": "64ffbddc",
        "outputId": "4f789dee-71e2-4aa5-e91a-53fdb8bead44"
      },
      "outputs": [
        {
          "name": "stdout",
          "output_type": "stream",
          "text": [
            "['omid', 'amir', 'ehsan', 'iman', 'ali']\n",
            "<class 'list'>\n",
            "5\n"
          ]
        }
      ],
      "source": [
        "print(b)\n",
        "print(type(b))\n",
        "print(len(b))"
      ]
    },
    {
      "cell_type": "code",
      "execution_count": null,
      "id": "7b7ac4be",
      "metadata": {
        "id": "7b7ac4be"
      },
      "outputs": [],
      "source": []
    },
    {
      "cell_type": "code",
      "execution_count": null,
      "id": "dbd2e647",
      "metadata": {
        "id": "dbd2e647",
        "outputId": "3fbfc9b6-3284-4021-d360-3e356bf72b81"
      },
      "outputs": [
        {
          "name": "stdout",
          "output_type": "stream",
          "text": [
            "('amir', 'ehsan')\n"
          ]
        },
        {
          "data": {
            "text/plain": [
              "tuple"
            ]
          },
          "execution_count": 5,
          "metadata": {},
          "output_type": "execute_result"
        }
      ],
      "source": [
        "x = a[1:3]\n",
        "print(x)\n",
        "type(x)"
      ]
    },
    {
      "cell_type": "code",
      "execution_count": null,
      "id": "ef14f4c2",
      "metadata": {
        "id": "ef14f4c2",
        "outputId": "cf6be51b-31a6-4a80-c2f2-3a92613f6b9a"
      },
      "outputs": [
        {
          "name": "stdout",
          "output_type": "stream",
          "text": [
            "['amir', 'ehsan']\n"
          ]
        },
        {
          "data": {
            "text/plain": [
              "list"
            ]
          },
          "execution_count": 6,
          "metadata": {},
          "output_type": "execute_result"
        }
      ],
      "source": [
        "y = b[1:3]\n",
        "print(y)\n",
        "type(y)"
      ]
    },
    {
      "cell_type": "code",
      "execution_count": null,
      "id": "e88f9d81",
      "metadata": {
        "id": "e88f9d81"
      },
      "outputs": [],
      "source": []
    },
    {
      "cell_type": "code",
      "execution_count": null,
      "id": "128f9713",
      "metadata": {
        "id": "128f9713",
        "outputId": "4a4089b9-80d4-49dd-d457-53835aa34176"
      },
      "outputs": [
        {
          "data": {
            "text/plain": [
              "4"
            ]
          },
          "execution_count": 7,
          "metadata": {},
          "output_type": "execute_result"
        }
      ],
      "source": [
        "a.index('ali')"
      ]
    },
    {
      "cell_type": "code",
      "execution_count": null,
      "id": "ef020554",
      "metadata": {
        "id": "ef020554",
        "outputId": "18b02b05-be2d-4105-ef7a-3bce024bf0f5"
      },
      "outputs": [
        {
          "data": {
            "text/plain": [
              "4"
            ]
          },
          "execution_count": 8,
          "metadata": {},
          "output_type": "execute_result"
        }
      ],
      "source": [
        "b.index('ali')"
      ]
    },
    {
      "cell_type": "code",
      "execution_count": null,
      "id": "7f2349d8",
      "metadata": {
        "id": "7f2349d8"
      },
      "outputs": [],
      "source": []
    },
    {
      "cell_type": "code",
      "execution_count": null,
      "id": "b680ef8b",
      "metadata": {
        "id": "b680ef8b",
        "outputId": "57569448-4a6a-45ce-a9cf-360f9bba703d"
      },
      "outputs": [
        {
          "name": "stdout",
          "output_type": "stream",
          "text": [
            "omid Hello!\n",
            "amir Hello!\n",
            "ehsan Hello!\n",
            "iman Hello!\n",
            "ali Hello!\n"
          ]
        }
      ],
      "source": [
        "for i in a:\n",
        "    print(i, 'Hello!')"
      ]
    },
    {
      "cell_type": "code",
      "execution_count": null,
      "id": "30c31f04",
      "metadata": {
        "id": "30c31f04",
        "outputId": "d77c570b-6699-4ab2-8859-1d00a0002bd8"
      },
      "outputs": [
        {
          "name": "stdout",
          "output_type": "stream",
          "text": [
            "omid Hello!\n",
            "amir Hello!\n",
            "ehsan Hello!\n",
            "iman Hello!\n",
            "ali Hello!\n"
          ]
        }
      ],
      "source": [
        "for i in b:\n",
        "    print(i, 'Hello!')"
      ]
    },
    {
      "cell_type": "code",
      "execution_count": null,
      "id": "3733ae06",
      "metadata": {
        "id": "3733ae06"
      },
      "outputs": [],
      "source": []
    },
    {
      "cell_type": "markdown",
      "id": "7cd9f6b3",
      "metadata": {
        "id": "7cd9f6b3"
      },
      "source": [
        "## مثال:"
      ]
    },
    {
      "cell_type": "code",
      "execution_count": null,
      "id": "ea89496b",
      "metadata": {
        "id": "ea89496b"
      },
      "outputs": [],
      "source": [
        "a = (2, 4, 6)"
      ]
    },
    {
      "cell_type": "code",
      "execution_count": null,
      "id": "916f3d2d",
      "metadata": {
        "id": "916f3d2d",
        "outputId": "7bcc3ff5-0a73-4162-bc26-0d739ecc356c"
      },
      "outputs": [
        {
          "name": "stdout",
          "output_type": "stream",
          "text": [
            "12\n",
            "6\n",
            "2\n"
          ]
        }
      ],
      "source": [
        "print(sum(a))\n",
        "print(max(a))\n",
        "print(min(a))"
      ]
    },
    {
      "cell_type": "code",
      "execution_count": null,
      "id": "62bf3f2b",
      "metadata": {
        "id": "62bf3f2b"
      },
      "outputs": [],
      "source": []
    },
    {
      "cell_type": "markdown",
      "id": "53a6831c",
      "metadata": {
        "id": "53a6831c"
      },
      "source": [
        "## مثال:"
      ]
    },
    {
      "cell_type": "code",
      "execution_count": null,
      "id": "c51aa1d3",
      "metadata": {
        "id": "c51aa1d3"
      },
      "outputs": [],
      "source": [
        "a = (2, 4, 6)"
      ]
    },
    {
      "cell_type": "code",
      "execution_count": null,
      "id": "6ac82d15",
      "metadata": {
        "id": "6ac82d15",
        "outputId": "f7c8ae99-d9f7-4c0a-847f-9b13d436f553"
      },
      "outputs": [
        {
          "ename": "AttributeError",
          "evalue": "'tuple' object has no attribute 'insert'",
          "output_type": "error",
          "traceback": [
            "\u001b[1;31m---------------------------------------------------------------------------\u001b[0m",
            "\u001b[1;31mAttributeError\u001b[0m                            Traceback (most recent call last)",
            "Cell \u001b[1;32mIn[15], line 1\u001b[0m\n\u001b[1;32m----> 1\u001b[0m a\u001b[38;5;241m.\u001b[39minsert(\u001b[38;5;241m2\u001b[39m,\u001b[38;5;241m8\u001b[39m)\n",
            "\u001b[1;31mAttributeError\u001b[0m: 'tuple' object has no attribute 'insert'"
          ]
        }
      ],
      "source": [
        "a.insert(2,8)"
      ]
    },
    {
      "cell_type": "code",
      "execution_count": null,
      "id": "21f41074",
      "metadata": {
        "id": "21f41074",
        "outputId": "c7df60a2-0ea3-4f5c-90a5-9ead78f82447"
      },
      "outputs": [
        {
          "ename": "AttributeError",
          "evalue": "'tuple' object has no attribute 'append'",
          "output_type": "error",
          "traceback": [
            "\u001b[1;31m---------------------------------------------------------------------------\u001b[0m",
            "\u001b[1;31mAttributeError\u001b[0m                            Traceback (most recent call last)",
            "Cell \u001b[1;32mIn[14], line 1\u001b[0m\n\u001b[1;32m----> 1\u001b[0m a\u001b[38;5;241m.\u001b[39mappend(\u001b[38;5;241m8\u001b[39m)\n",
            "\u001b[1;31mAttributeError\u001b[0m: 'tuple' object has no attribute 'append'"
          ]
        }
      ],
      "source": [
        "a.append(8)"
      ]
    },
    {
      "cell_type": "code",
      "execution_count": null,
      "id": "ec728809",
      "metadata": {
        "id": "ec728809"
      },
      "outputs": [],
      "source": []
    },
    {
      "cell_type": "code",
      "execution_count": null,
      "id": "85f8b06e",
      "metadata": {
        "id": "85f8b06e",
        "outputId": "b6116eea-6be3-454c-c529-d38964a4a70d"
      },
      "outputs": [
        {
          "name": "stdout",
          "output_type": "stream",
          "text": [
            "(2, 4, 6)\n",
            "<class 'tuple'>\n"
          ]
        }
      ],
      "source": [
        "a = (2, 4, 6)\n",
        "print(a)\n",
        "print(type(a))"
      ]
    },
    {
      "cell_type": "code",
      "execution_count": null,
      "id": "b0081c99",
      "metadata": {
        "id": "b0081c99"
      },
      "outputs": [],
      "source": [
        "b = list(a)"
      ]
    },
    {
      "cell_type": "code",
      "execution_count": null,
      "id": "f9110ce5",
      "metadata": {
        "id": "f9110ce5",
        "outputId": "b20b35c2-f9e3-4169-b1f6-c8e25758afe7"
      },
      "outputs": [
        {
          "data": {
            "text/plain": [
              "[2, 4, 6]"
            ]
          },
          "execution_count": 18,
          "metadata": {},
          "output_type": "execute_result"
        }
      ],
      "source": [
        "b"
      ]
    },
    {
      "cell_type": "code",
      "execution_count": null,
      "id": "92a3acc2",
      "metadata": {
        "id": "92a3acc2"
      },
      "outputs": [],
      "source": [
        "b.append(8)"
      ]
    },
    {
      "cell_type": "code",
      "execution_count": null,
      "id": "e3c15cdf",
      "metadata": {
        "id": "e3c15cdf",
        "outputId": "61603b68-d283-4b70-fdd9-86b0dd6fbd8a"
      },
      "outputs": [
        {
          "name": "stdout",
          "output_type": "stream",
          "text": [
            "[2, 4, 6, 8]\n",
            "<class 'list'>\n"
          ]
        }
      ],
      "source": [
        "print(b)\n",
        "print(type(b))"
      ]
    },
    {
      "cell_type": "code",
      "execution_count": null,
      "id": "96babfe8",
      "metadata": {
        "id": "96babfe8"
      },
      "outputs": [],
      "source": [
        "b = list(a)\n",
        "b.append(8)\n",
        "print(b)\n",
        "print(type(b))"
      ]
    },
    {
      "cell_type": "code",
      "execution_count": null,
      "id": "8293bdea",
      "metadata": {
        "id": "8293bdea",
        "outputId": "7a4cc58a-6f8d-4fff-8e6e-59e50dc2f943"
      },
      "outputs": [
        {
          "name": "stdout",
          "output_type": "stream",
          "text": [
            "(2, 4, 6, 8)\n",
            "<class 'tuple'>\n"
          ]
        }
      ],
      "source": [
        "a = tuple(b)\n",
        "print(a)\n",
        "print(type(a))"
      ]
    },
    {
      "cell_type": "code",
      "execution_count": null,
      "id": "e5b0732d",
      "metadata": {
        "id": "e5b0732d"
      },
      "outputs": [],
      "source": []
    },
    {
      "cell_type": "code",
      "execution_count": null,
      "id": "a7da6938",
      "metadata": {
        "id": "a7da6938"
      },
      "outputs": [],
      "source": [
        "a = (2, 4, 6)"
      ]
    },
    {
      "cell_type": "code",
      "execution_count": null,
      "id": "802bbbd2",
      "metadata": {
        "id": "802bbbd2",
        "outputId": "e9aa4197-9761-4a89-ef46-453c2634c7f4"
      },
      "outputs": [
        {
          "name": "stdout",
          "output_type": "stream",
          "text": [
            "(2, 4, 6, 8)\n"
          ]
        }
      ],
      "source": [
        "a = a + (8,)\n",
        "print(a)"
      ]
    },
    {
      "cell_type": "markdown",
      "id": "97f0175b",
      "metadata": {
        "id": "97f0175b"
      },
      "source": [
        "## مثال:"
      ]
    },
    {
      "cell_type": "code",
      "execution_count": null,
      "id": "3c8ddd30",
      "metadata": {
        "id": "3c8ddd30",
        "outputId": "3ced7e65-94e0-4634-e900-39258e44c20f"
      },
      "outputs": [
        {
          "name": "stdout",
          "output_type": "stream",
          "text": [
            "(2, 4, 6, 8)\n"
          ]
        },
        {
          "data": {
            "text/plain": [
              "tuple"
            ]
          },
          "execution_count": 25,
          "metadata": {},
          "output_type": "execute_result"
        }
      ],
      "source": [
        "a = (2, 4, 6, 8)\n",
        "print(a)\n",
        "type(a)"
      ]
    },
    {
      "cell_type": "code",
      "execution_count": null,
      "id": "99470367",
      "metadata": {
        "id": "99470367",
        "outputId": "b9426919-b242-430b-caac-18837f6d60fe"
      },
      "outputs": [
        {
          "ename": "AttributeError",
          "evalue": "'tuple' object has no attribute 'remove'",
          "output_type": "error",
          "traceback": [
            "\u001b[1;31m---------------------------------------------------------------------------\u001b[0m",
            "\u001b[1;31mAttributeError\u001b[0m                            Traceback (most recent call last)",
            "Cell \u001b[1;32mIn[26], line 1\u001b[0m\n\u001b[1;32m----> 1\u001b[0m a\u001b[38;5;241m.\u001b[39mremove(\u001b[38;5;241m4\u001b[39m)\n",
            "\u001b[1;31mAttributeError\u001b[0m: 'tuple' object has no attribute 'remove'"
          ]
        }
      ],
      "source": [
        "a.remove(4)"
      ]
    },
    {
      "cell_type": "code",
      "execution_count": null,
      "id": "e720a0b1",
      "metadata": {
        "id": "e720a0b1"
      },
      "outputs": [],
      "source": []
    },
    {
      "cell_type": "code",
      "execution_count": null,
      "id": "ddfeb0e2",
      "metadata": {
        "id": "ddfeb0e2",
        "outputId": "94f1fa10-6cb8-49d0-c874-c41664e2fbe5"
      },
      "outputs": [
        {
          "name": "stdout",
          "output_type": "stream",
          "text": [
            "[2, 4, 6, 8]\n"
          ]
        },
        {
          "data": {
            "text/plain": [
              "list"
            ]
          },
          "execution_count": 27,
          "metadata": {},
          "output_type": "execute_result"
        }
      ],
      "source": [
        "a = list(a)\n",
        "print(a)\n",
        "type(a)"
      ]
    },
    {
      "cell_type": "code",
      "execution_count": null,
      "id": "5ec3a3ac",
      "metadata": {
        "id": "5ec3a3ac",
        "outputId": "58d852aa-fb84-42f8-e2f9-f40e6f439a44"
      },
      "outputs": [
        {
          "name": "stdout",
          "output_type": "stream",
          "text": [
            "[4, 6, 8]\n"
          ]
        }
      ],
      "source": [
        "a.remove(2)\n",
        "print(a)"
      ]
    },
    {
      "cell_type": "code",
      "execution_count": null,
      "id": "46330080",
      "metadata": {
        "id": "46330080",
        "outputId": "88a6d1c0-d72d-4a91-9bc7-8562928956e2"
      },
      "outputs": [
        {
          "name": "stdout",
          "output_type": "stream",
          "text": [
            "(4, 6, 8)\n"
          ]
        },
        {
          "data": {
            "text/plain": [
              "tuple"
            ]
          },
          "execution_count": 29,
          "metadata": {},
          "output_type": "execute_result"
        }
      ],
      "source": [
        "a = tuple(a)\n",
        "print(a)\n",
        "type(a)"
      ]
    },
    {
      "cell_type": "code",
      "execution_count": null,
      "id": "75d77425",
      "metadata": {
        "id": "75d77425"
      },
      "outputs": [],
      "source": []
    },
    {
      "cell_type": "code",
      "execution_count": null,
      "id": "f004153a",
      "metadata": {
        "id": "f004153a"
      },
      "outputs": [],
      "source": []
    },
    {
      "cell_type": "markdown",
      "id": "e6a6393f",
      "metadata": {
        "id": "e6a6393f"
      },
      "source": [
        "## مثال:"
      ]
    },
    {
      "cell_type": "code",
      "execution_count": null,
      "id": "09dc759c",
      "metadata": {
        "id": "09dc759c"
      },
      "outputs": [],
      "source": [
        "a = (1, 2, 3)\n",
        "b = (4, 5, 6)"
      ]
    },
    {
      "cell_type": "code",
      "execution_count": null,
      "id": "39ae4406",
      "metadata": {
        "id": "39ae4406"
      },
      "outputs": [],
      "source": [
        "c = zip(a,b)"
      ]
    },
    {
      "cell_type": "code",
      "execution_count": null,
      "id": "784a6a14",
      "metadata": {
        "id": "784a6a14",
        "outputId": "05f40e54-00cf-404f-b89d-3dd49195569c"
      },
      "outputs": [
        {
          "data": {
            "text/plain": [
              "<zip at 0x1e78f3fd640>"
            ]
          },
          "execution_count": 32,
          "metadata": {},
          "output_type": "execute_result"
        }
      ],
      "source": [
        "c"
      ]
    },
    {
      "cell_type": "code",
      "execution_count": null,
      "id": "270957e7",
      "metadata": {
        "id": "270957e7"
      },
      "outputs": [],
      "source": [
        "x = list(c)"
      ]
    },
    {
      "cell_type": "code",
      "execution_count": null,
      "id": "ce84f634",
      "metadata": {
        "id": "ce84f634",
        "outputId": "8361a1a5-0cd7-40a0-aef1-3684c788b824"
      },
      "outputs": [
        {
          "name": "stdout",
          "output_type": "stream",
          "text": [
            "[(1, 4), (2, 5), (3, 6)]\n"
          ]
        }
      ],
      "source": [
        "print(x)"
      ]
    },
    {
      "cell_type": "code",
      "execution_count": null,
      "id": "57e086f4",
      "metadata": {
        "id": "57e086f4",
        "outputId": "46728af9-21c5-4747-fed5-4a02137dc7bd"
      },
      "outputs": [
        {
          "data": {
            "text/plain": [
              "list"
            ]
          },
          "execution_count": 35,
          "metadata": {},
          "output_type": "execute_result"
        }
      ],
      "source": [
        "type(x)"
      ]
    },
    {
      "cell_type": "code",
      "execution_count": null,
      "id": "4781df2b",
      "metadata": {
        "id": "4781df2b"
      },
      "outputs": [],
      "source": []
    },
    {
      "cell_type": "code",
      "execution_count": null,
      "id": "2db1d9ff",
      "metadata": {
        "id": "2db1d9ff"
      },
      "outputs": [],
      "source": []
    },
    {
      "cell_type": "markdown",
      "id": "20817fb0",
      "metadata": {
        "id": "20817fb0"
      },
      "source": [
        "## تمرین 5 امتیازی:"
      ]
    },
    {
      "cell_type": "markdown",
      "id": "38fdd189",
      "metadata": {
        "id": "38fdd189"
      },
      "source": [
        "## input"
      ]
    },
    {
      "cell_type": "code",
      "execution_count": null,
      "id": "e79fc795",
      "metadata": {
        "id": "e79fc795"
      },
      "outputs": [],
      "source": [
        "a = (35, 42, 65 , 12)\n",
        "b = (True, False, True, False)"
      ]
    },
    {
      "cell_type": "markdown",
      "id": "243cfbca",
      "metadata": {
        "id": "243cfbca"
      },
      "source": [
        "## output:"
      ]
    },
    {
      "cell_type": "markdown",
      "id": "5d731679",
      "metadata": {
        "id": "5d731679"
      },
      "source": [
        "(35, True)  : Yes\n",
        "(42, False)  : No\n",
        "(65, True)  : Yes\n",
        "(12, False)  : No"
      ]
    },
    {
      "cell_type": "code",
      "execution_count": null,
      "id": "bbeac144",
      "metadata": {
        "id": "bbeac144"
      },
      "outputs": [],
      "source": []
    },
    {
      "cell_type": "code",
      "execution_count": null,
      "id": "076ca3ec",
      "metadata": {
        "id": "076ca3ec"
      },
      "outputs": [],
      "source": []
    },
    {
      "cell_type": "code",
      "execution_count": null,
      "id": "2338c079",
      "metadata": {
        "id": "2338c079"
      },
      "outputs": [],
      "source": [
        "def my_def2(a, b):\n",
        "    c = zip(a,b)\n",
        "    x = list(c)\n",
        "    for i in x:\n",
        "        a = i[0]\n",
        "        b = i[1]\n",
        "        if a >= 35 and b:\n",
        "            print(i, ' : Yes')\n",
        "        else:\n",
        "            print(i, ' : No')"
      ]
    },
    {
      "cell_type": "code",
      "execution_count": null,
      "id": "985f25a4",
      "metadata": {
        "id": "985f25a4",
        "outputId": "8918cee4-7dee-46f1-8a0a-c6dabbb1360a"
      },
      "outputs": [
        {
          "name": "stdout",
          "output_type": "stream",
          "text": [
            "(35, True)  : Yes\n",
            "(42, False)  : No\n",
            "(65, True)  : Yes\n",
            "(12, False)  : No\n"
          ]
        }
      ],
      "source": [
        "my_def2(a,b)"
      ]
    }
  ],
  "metadata": {
    "kernelspec": {
      "display_name": "Python 3 (ipykernel)",
      "language": "python",
      "name": "python3"
    },
    "language_info": {
      "codemirror_mode": {
        "name": "ipython",
        "version": 3
      },
      "file_extension": ".py",
      "mimetype": "text/x-python",
      "name": "python",
      "nbconvert_exporter": "python",
      "pygments_lexer": "ipython3",
      "version": "3.11.5"
    },
    "colab": {
      "provenance": [],
      "include_colab_link": true
    }
  },
  "nbformat": 4,
  "nbformat_minor": 5
}