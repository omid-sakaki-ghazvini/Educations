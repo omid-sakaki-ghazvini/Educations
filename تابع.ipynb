{
  "cells": [
    {
      "cell_type": "markdown",
      "metadata": {
        "id": "view-in-github",
        "colab_type": "text"
      },
      "source": [
        "<a href=\"https://colab.research.google.com/github/omid-sakaki-ghazvini/Educations/blob/main/%D8%AA%D8%A7%D8%A8%D8%B9.ipynb\" target=\"_parent\"><img src=\"https://colab.research.google.com/assets/colab-badge.svg\" alt=\"Open In Colab\"/></a>"
      ]
    },
    {
      "cell_type": "markdown",
      "id": "946cd4fe",
      "metadata": {
        "id": "946cd4fe"
      },
      "source": [
        "# تابع :"
      ]
    },
    {
      "cell_type": "markdown",
      "id": "cad122f2",
      "metadata": {
        "id": "cad122f2"
      },
      "source": [
        "## چیست print ?!"
      ]
    },
    {
      "cell_type": "markdown",
      "id": "3b564861",
      "metadata": {
        "id": "3b564861"
      },
      "source": [
        "## پایتون توابع بسیار زیادی دارد و تعریف توابع خود بخش بزرگی از برنامه نویسی پایتون است"
      ]
    },
    {
      "cell_type": "markdown",
      "id": "a315cc19",
      "metadata": {
        "id": "a315cc19"
      },
      "source": [
        "## به یکسری از کدها برای اجرای یک هدف خاص با قابلیت استفاده مجدد، تابع میگوییم"
      ]
    },
    {
      "cell_type": "markdown",
      "id": "1ea5991e",
      "metadata": {
        "id": "1ea5991e"
      },
      "source": [
        "# توابع به دو دسته کلی تقسیم میشوند :"
      ]
    },
    {
      "cell_type": "markdown",
      "id": "bec3550d",
      "metadata": {
        "id": "bec3550d"
      },
      "source": [
        "#  دسته اول) توابع توکار : توابعی که به صورت توکار در پایتون هستند"
      ]
    },
    {
      "cell_type": "markdown",
      "id": "561fedb0",
      "metadata": {
        "id": "561fedb0"
      },
      "source": [
        "## تابع help() :"
      ]
    },
    {
      "cell_type": "markdown",
      "id": "bc61ded1",
      "metadata": {
        "id": "bc61ded1"
      },
      "source": [
        "مهمترین تابع پایتون است که می توانید یاد بگیرید"
      ]
    },
    {
      "cell_type": "code",
      "execution_count": null,
      "id": "57457fb4",
      "metadata": {
        "id": "57457fb4",
        "outputId": "cc1af0f1-72a5-4d13-b18e-e72ad6cacc17"
      },
      "outputs": [
        {
          "name": "stdout",
          "output_type": "stream",
          "text": [
            "Help on built-in function print in module builtins:\n",
            "\n",
            "print(*args, sep=' ', end='\\n', file=None, flush=False)\n",
            "    Prints the values to a stream, or to sys.stdout by default.\n",
            "    \n",
            "    sep\n",
            "      string inserted between values, default a space.\n",
            "    end\n",
            "      string appended after the last value, default a newline.\n",
            "    file\n",
            "      a file-like object (stream); defaults to the current sys.stdout.\n",
            "    flush\n",
            "      whether to forcibly flush the stream.\n",
            "\n"
          ]
        }
      ],
      "source": [
        "help(print)"
      ]
    },
    {
      "cell_type": "code",
      "execution_count": null,
      "id": "1f5376be",
      "metadata": {
        "id": "1f5376be",
        "outputId": "8e3d6323-5268-45e4-b7bf-16c545e38be5"
      },
      "outputs": [
        {
          "name": "stdout",
          "output_type": "stream",
          "text": [
            "Help on built-in function round in module builtins:\n",
            "\n",
            "round(number, ndigits=None)\n",
            "    Round a number to a given precision in decimal digits.\n",
            "    \n",
            "    The return value is an integer if ndigits is omitted or None.  Otherwise\n",
            "    the return value has the same type as the number.  ndigits may be negative.\n",
            "\n"
          ]
        }
      ],
      "source": [
        "help(round)"
      ]
    },
    {
      "cell_type": "code",
      "execution_count": null,
      "id": "dc2980e0",
      "metadata": {
        "id": "dc2980e0",
        "outputId": "c04ef6d3-2d99-48ad-9e08-cfc404f38d3c"
      },
      "outputs": [
        {
          "data": {
            "text/plain": [
              "-2.0"
            ]
          },
          "execution_count": 37,
          "metadata": {},
          "output_type": "execute_result"
        }
      ],
      "source": [
        "round(-2.01, ndigits=1)"
      ]
    },
    {
      "cell_type": "code",
      "execution_count": null,
      "id": "5c52968a",
      "metadata": {
        "id": "5c52968a",
        "outputId": "537a6147-da4d-42a4-c328-cf3e73571da4"
      },
      "outputs": [
        {
          "data": {
            "text/plain": [
              "-2.011"
            ]
          },
          "execution_count": 40,
          "metadata": {},
          "output_type": "execute_result"
        }
      ],
      "source": [
        "round(-2.0111, 3)"
      ]
    },
    {
      "cell_type": "code",
      "execution_count": null,
      "id": "08499662",
      "metadata": {
        "id": "08499662",
        "outputId": "b45fc483-9038-4503-e47d-5478081eeaf0"
      },
      "outputs": [
        {
          "data": {
            "text/plain": [
              "-2"
            ]
          },
          "execution_count": 39,
          "metadata": {},
          "output_type": "execute_result"
        }
      ],
      "source": [
        "round(-2.0111)"
      ]
    },
    {
      "cell_type": "code",
      "execution_count": null,
      "id": "c69845b4",
      "metadata": {
        "id": "c69845b4",
        "outputId": "55a28ddb-2987-44a5-eed6-b673a03fd992"
      },
      "outputs": [
        {
          "data": {
            "text/plain": [
              "-2.01"
            ]
          },
          "execution_count": 44,
          "metadata": {},
          "output_type": "execute_result"
        }
      ],
      "source": [
        "round(-2.0111, ndigits=2)"
      ]
    },
    {
      "cell_type": "markdown",
      "id": "11555585",
      "metadata": {
        "id": "11555585"
      },
      "source": [
        ""
      ]
    },
    {
      "cell_type": "markdown",
      "id": "a4486455",
      "metadata": {
        "id": "a4486455"
      },
      "source": [
        "."
      ]
    },
    {
      "cell_type": "markdown",
      "id": "8f608b31",
      "metadata": {
        "id": "8f608b31"
      },
      "source": [
        "."
      ]
    },
    {
      "cell_type": "markdown",
      "id": "f3c9788b",
      "metadata": {
        "id": "f3c9788b"
      },
      "source": [
        "."
      ]
    },
    {
      "cell_type": "markdown",
      "id": "72269952",
      "metadata": {
        "id": "72269952"
      },
      "source": [
        "."
      ]
    },
    {
      "cell_type": "markdown",
      "id": "589a8036",
      "metadata": {
        "id": "589a8036"
      },
      "source": [
        "# دسته دوم) توابع تعریف شده توسط کاربر : توابعی که توسط خود کاربران تعریف میشوند"
      ]
    },
    {
      "cell_type": "markdown",
      "id": "87f33c2e",
      "metadata": {
        "id": "87f33c2e"
      },
      "source": [
        "# تعریف تابع"
      ]
    },
    {
      "cell_type": "markdown",
      "id": "4d9b2a5b",
      "metadata": {
        "id": "4d9b2a5b"
      },
      "source": [
        "## توابع ساخته شده بسیار خوب هستند اما گاهی ما نیاز داریم برخی توابع را نسبت به نیازهای برنامه تعریف کنیم"
      ]
    },
    {
      "cell_type": "markdown",
      "id": "9d11189b",
      "metadata": {
        "id": "9d11189b"
      },
      "source": [
        "## چگونه یک تابع تعریف کنیم؟"
      ]
    },
    {
      "cell_type": "markdown",
      "id": "9726d8d9",
      "metadata": {
        "id": "9726d8d9"
      },
      "source": [
        "## def \"function_name\" ():\n",
        "    codel\n",
        "    code2\n",
        "    .\n",
        "    .\n",
        "    ."
      ]
    },
    {
      "cell_type": "markdown",
      "id": "3613b96a",
      "metadata": {
        "id": "3613b96a"
      },
      "source": [
        "."
      ]
    },
    {
      "cell_type": "markdown",
      "id": "b9e82448",
      "metadata": {
        "id": "b9e82448"
      },
      "source": [
        "."
      ]
    },
    {
      "cell_type": "markdown",
      "id": "37ce69d3",
      "metadata": {
        "id": "37ce69d3"
      },
      "source": [
        "."
      ]
    },
    {
      "cell_type": "markdown",
      "id": "acf0bbad",
      "metadata": {
        "id": "acf0bbad"
      },
      "source": [
        "function_"
      ]
    },
    {
      "cell_type": "markdown",
      "id": "061e5d43",
      "metadata": {
        "id": "061e5d43"
      },
      "source": [
        "....................................."
      ]
    },
    {
      "cell_type": "markdown",
      "id": "30aca338",
      "metadata": {
        "id": "30aca338"
      },
      "source": [
        "## مثال:"
      ]
    },
    {
      "cell_type": "markdown",
      "id": "d6dc8469",
      "metadata": {
        "id": "d6dc8469"
      },
      "source": [
        "## تابعی بنویسید که با فراخوانی آن یک پیغام خوشآمد گویی در خروجی نمایش داده شود"
      ]
    },
    {
      "cell_type": "code",
      "execution_count": null,
      "id": "8083d5ef",
      "metadata": {
        "id": "8083d5ef"
      },
      "outputs": [],
      "source": [
        "def welcome():\n",
        "    print(\"Hello python\")"
      ]
    },
    {
      "cell_type": "code",
      "execution_count": null,
      "id": "5461223a",
      "metadata": {
        "id": "5461223a",
        "outputId": "27054402-be6b-49f1-90bc-f9eb31d2637a"
      },
      "outputs": [
        {
          "name": "stdout",
          "output_type": "stream",
          "text": [
            "Hello python\n"
          ]
        }
      ],
      "source": [
        "welcome()"
      ]
    },
    {
      "cell_type": "markdown",
      "id": "27ce0c15",
      "metadata": {
        "id": "27ce0c15"
      },
      "source": [
        ".........................................."
      ]
    },
    {
      "cell_type": "code",
      "execution_count": null,
      "id": "0f2aad80",
      "metadata": {
        "id": "0f2aad80"
      },
      "outputs": [],
      "source": [
        "def omid():\n",
        "    a='hello'\n",
        "    print(len(a))"
      ]
    },
    {
      "cell_type": "code",
      "execution_count": null,
      "id": "f5e68510",
      "metadata": {
        "id": "f5e68510",
        "outputId": "304b4075-8730-43cb-bafc-778675fb2bb5"
      },
      "outputs": [
        {
          "name": "stdout",
          "output_type": "stream",
          "text": [
            "5\n"
          ]
        }
      ],
      "source": [
        "omid()"
      ]
    },
    {
      "cell_type": "code",
      "execution_count": null,
      "id": "16bf4ca6",
      "metadata": {
        "id": "16bf4ca6"
      },
      "outputs": [],
      "source": [
        "def welcome():\n",
        "    print(\"Hello python\")"
      ]
    },
    {
      "cell_type": "markdown",
      "id": "9561db06",
      "metadata": {
        "id": "9561db06"
      },
      "source": [
        "## تمرین یک امتیازی:"
      ]
    },
    {
      "cell_type": "markdown",
      "id": "20d227ec",
      "metadata": {
        "id": "20d227ec"
      },
      "source": [
        "##  تابعی بنویسید که نام شما را گرفته و پیغام زیر را در خروجی نمایش دهد:"
      ]
    },
    {
      "cell_type": "markdown",
      "id": "cb779675",
      "metadata": {
        "id": "cb779675"
      },
      "source": [
        "## Hello omid welcome"
      ]
    },
    {
      "cell_type": "code",
      "execution_count": null,
      "id": "964c6e0c",
      "metadata": {
        "id": "964c6e0c"
      },
      "outputs": [],
      "source": [
        "def welcome(name):\n",
        "    print(\"Hello \" + name + \" welcome\")"
      ]
    },
    {
      "cell_type": "code",
      "execution_count": null,
      "id": "86407eb1",
      "metadata": {
        "id": "86407eb1",
        "outputId": "24ce6e44-d77c-4215-fcc8-256347cfbd25"
      },
      "outputs": [
        {
          "name": "stdout",
          "output_type": "stream",
          "text": [
            "Hello amir welcome\n"
          ]
        }
      ],
      "source": [
        "welcome(\"amir\")"
      ]
    },
    {
      "cell_type": "markdown",
      "id": "555a8ac6",
      "metadata": {
        "id": "555a8ac6"
      },
      "source": [
        "."
      ]
    },
    {
      "cell_type": "markdown",
      "id": "779db920",
      "metadata": {
        "id": "779db920"
      },
      "source": [
        "."
      ]
    },
    {
      "cell_type": "markdown",
      "id": "9f83c131",
      "metadata": {
        "id": "9f83c131"
      },
      "source": [
        "."
      ]
    },
    {
      "cell_type": "markdown",
      "id": "30282826",
      "metadata": {
        "id": "30282826"
      },
      "source": [
        "## مثال:"
      ]
    },
    {
      "cell_type": "markdown",
      "id": "95c29004",
      "metadata": {
        "id": "95c29004"
      },
      "source": [
        "## تابعی بنویسید که 2 عدد را از ورودی گرفته و سپس حاصل جمع آنها را در خروجی نمایش دهد"
      ]
    },
    {
      "cell_type": "code",
      "execution_count": null,
      "id": "2cd7cde9",
      "metadata": {
        "id": "2cd7cde9"
      },
      "outputs": [],
      "source": [
        "def welcome(name):\n",
        "    print(\"Hello \" + name + \" welcome\")"
      ]
    },
    {
      "cell_type": "code",
      "execution_count": null,
      "id": "517a9699",
      "metadata": {
        "id": "517a9699"
      },
      "outputs": [],
      "source": [
        "def sum(a,b):\n",
        "\n",
        "    x = a + b\n",
        "\n",
        "    return(x)"
      ]
    },
    {
      "cell_type": "code",
      "execution_count": null,
      "id": "a73ba119",
      "metadata": {
        "id": "a73ba119"
      },
      "outputs": [],
      "source": [
        "d=sum(1,2)"
      ]
    },
    {
      "cell_type": "code",
      "execution_count": null,
      "id": "c94ea554",
      "metadata": {
        "id": "c94ea554",
        "outputId": "7766a86c-d61d-4a19-da3d-1f784fb8d7f5"
      },
      "outputs": [
        {
          "data": {
            "text/plain": [
              "3"
            ]
          },
          "execution_count": 13,
          "metadata": {},
          "output_type": "execute_result"
        }
      ],
      "source": [
        "d"
      ]
    },
    {
      "cell_type": "code",
      "execution_count": null,
      "id": "cd84911a",
      "metadata": {
        "id": "cd84911a",
        "outputId": "cd8918ac-5d3e-48b5-9c35-5649fd596071"
      },
      "outputs": [
        {
          "data": {
            "text/plain": [
              "5"
            ]
          },
          "execution_count": 14,
          "metadata": {},
          "output_type": "execute_result"
        }
      ],
      "source": [
        "sum(1,4)"
      ]
    },
    {
      "cell_type": "markdown",
      "id": "a09e73d7",
      "metadata": {
        "id": "a09e73d7"
      },
      "source": [
        "."
      ]
    },
    {
      "cell_type": "markdown",
      "id": "f9e9dd0e",
      "metadata": {
        "id": "f9e9dd0e"
      },
      "source": [
        "."
      ]
    },
    {
      "cell_type": "code",
      "execution_count": null,
      "id": "bce9805b",
      "metadata": {
        "id": "bce9805b",
        "outputId": "c5cabb59-6d40-4d71-b552-a3d00b22f23c"
      },
      "outputs": [
        {
          "data": {
            "text/plain": [
              "5"
            ]
          },
          "execution_count": 15,
          "metadata": {},
          "output_type": "execute_result"
        }
      ],
      "source": [
        "sum(2,3)"
      ]
    },
    {
      "cell_type": "markdown",
      "id": "4c9fffbe",
      "metadata": {
        "id": "4c9fffbe"
      },
      "source": [
        "."
      ]
    },
    {
      "cell_type": "markdown",
      "id": "efdb2e47",
      "metadata": {
        "id": "efdb2e47"
      },
      "source": [
        "."
      ]
    },
    {
      "cell_type": "markdown",
      "id": "d664fdc9",
      "metadata": {
        "id": "d664fdc9"
      },
      "source": [
        "## تمرین دو امتیازی:"
      ]
    },
    {
      "cell_type": "markdown",
      "id": "55e8fa59",
      "metadata": {
        "id": "55e8fa59"
      },
      "source": [
        "## تابعی بنویسید که 3 عدد را از ورودی گرفته و سپس حاصل تفریق آنها را در خروجی نمایش دهد"
      ]
    },
    {
      "cell_type": "markdown",
      "id": "0f0ed00a",
      "metadata": {
        "id": "0f0ed00a"
      },
      "source": [
        "."
      ]
    },
    {
      "cell_type": "markdown",
      "id": "e1882267",
      "metadata": {
        "id": "e1882267"
      },
      "source": [
        "."
      ]
    },
    {
      "cell_type": "code",
      "execution_count": null,
      "id": "94a12475",
      "metadata": {
        "id": "94a12475"
      },
      "outputs": [],
      "source": [
        "def sum(a,b):\n",
        "\n",
        "    x = a + b\n",
        "\n",
        "    return(x)"
      ]
    },
    {
      "cell_type": "markdown",
      "id": "7c889b64",
      "metadata": {
        "id": "7c889b64"
      },
      "source": [
        "."
      ]
    },
    {
      "cell_type": "markdown",
      "id": "efbd6bca",
      "metadata": {
        "id": "efbd6bca"
      },
      "source": [
        "."
      ]
    },
    {
      "cell_type": "markdown",
      "id": "cf6d5db4",
      "metadata": {
        "id": "cf6d5db4"
      },
      "source": [
        "."
      ]
    },
    {
      "cell_type": "code",
      "execution_count": null,
      "id": "b0d507a4",
      "metadata": {
        "id": "b0d507a4"
      },
      "outputs": [],
      "source": [
        "def diff(a,b,c):\n",
        "\n",
        "    x = a - b -c\n",
        "\n",
        "    return(x)"
      ]
    },
    {
      "cell_type": "code",
      "execution_count": null,
      "id": "f22313c2",
      "metadata": {
        "id": "f22313c2"
      },
      "outputs": [],
      "source": [
        "diff(5,2,1)"
      ]
    },
    {
      "cell_type": "markdown",
      "id": "5d85bc65",
      "metadata": {
        "id": "5d85bc65"
      },
      "source": [
        "."
      ]
    },
    {
      "cell_type": "markdown",
      "id": "330101de",
      "metadata": {
        "id": "330101de"
      },
      "source": [
        "."
      ]
    },
    {
      "cell_type": "markdown",
      "id": "bfbd41ba",
      "metadata": {
        "id": "bfbd41ba"
      },
      "source": [
        "."
      ]
    },
    {
      "cell_type": "markdown",
      "id": "448bfa47",
      "metadata": {
        "id": "448bfa47"
      },
      "source": [
        "."
      ]
    },
    {
      "cell_type": "markdown",
      "id": "1a5cb2ca",
      "metadata": {
        "id": "1a5cb2ca"
      },
      "source": [
        "."
      ]
    },
    {
      "cell_type": "code",
      "execution_count": null,
      "id": "655a5cce",
      "metadata": {
        "id": "655a5cce",
        "outputId": "3c48de91-88e9-4e34-d50d-5579188efef3"
      },
      "outputs": [
        {
          "name": "stdout",
          "output_type": "stream",
          "text": [
            "high!\n"
          ]
        }
      ],
      "source": [
        "temp=40\n",
        "\n",
        "if temp > 38:\n",
        "    message = \"high!\"\n",
        "elif temp > 35:\n",
        "    message = \"Normal\"\n",
        "else:\n",
        "    message = \"Low\"\n",
        "\n",
        "\n",
        "print(message)"
      ]
    },
    {
      "cell_type": "markdown",
      "id": "53dd6194",
      "metadata": {
        "id": "53dd6194"
      },
      "source": [
        "## قطعه کد بالا را به شکل تابع تعریف نمایید.  "
      ]
    },
    {
      "cell_type": "code",
      "execution_count": null,
      "id": "099528f0",
      "metadata": {
        "id": "099528f0"
      },
      "outputs": [],
      "source": [
        "def example(temp):\n",
        "    if temp > 38:\n",
        "        message = \"high!\"\n",
        "    elif temp > 35:\n",
        "        message = \"Normal\"\n",
        "    else:\n",
        "        message = \"Low\"\n",
        "\n",
        "    return(message)"
      ]
    },
    {
      "cell_type": "code",
      "execution_count": null,
      "id": "09999c01",
      "metadata": {
        "id": "09999c01"
      },
      "outputs": [],
      "source": []
    },
    {
      "cell_type": "code",
      "execution_count": null,
      "id": "9b3dbec1",
      "metadata": {
        "id": "9b3dbec1",
        "outputId": "dd7438aa-43df-4f25-bc25-146998c0e295"
      },
      "outputs": [
        {
          "data": {
            "text/plain": [
              "'high!'"
            ]
          },
          "execution_count": 2,
          "metadata": {},
          "output_type": "execute_result"
        }
      ],
      "source": [
        "example(40)"
      ]
    },
    {
      "cell_type": "markdown",
      "id": "4ac95c09",
      "metadata": {
        "id": "4ac95c09"
      },
      "source": [
        "## مثال:"
      ]
    },
    {
      "cell_type": "markdown",
      "id": "1066a411",
      "metadata": {
        "id": "1066a411"
      },
      "source": [
        "## تابعی بنویسید که 2 عدد از ورودی گرفته و عملیات جمع یا تفریق را روی آنها انجام دهد"
      ]
    },
    {
      "cell_type": "code",
      "execution_count": null,
      "id": "f1805b6a",
      "metadata": {
        "id": "f1805b6a"
      },
      "outputs": [],
      "source": [
        "def SAndD(a,b,c):\n",
        "\n",
        "    if c == '+' :\n",
        "        x = a + b\n",
        "\n",
        "    elif c == '-' :\n",
        "        x = a - b\n",
        "\n",
        "    return x"
      ]
    },
    {
      "cell_type": "code",
      "execution_count": null,
      "id": "c804391d",
      "metadata": {
        "id": "c804391d",
        "outputId": "ae72215c-5a08-49de-f243-f8390302122a"
      },
      "outputs": [
        {
          "data": {
            "text/plain": [
              "6"
            ]
          },
          "execution_count": 4,
          "metadata": {},
          "output_type": "execute_result"
        }
      ],
      "source": [
        "SAndD(1,5,'+')"
      ]
    },
    {
      "cell_type": "code",
      "execution_count": null,
      "id": "b1d9c2a5",
      "metadata": {
        "id": "b1d9c2a5",
        "outputId": "ee86a1d6-1c7f-4865-c6d0-1a0f9d1104d0"
      },
      "outputs": [
        {
          "data": {
            "text/plain": [
              "6"
            ]
          },
          "execution_count": 5,
          "metadata": {},
          "output_type": "execute_result"
        }
      ],
      "source": [
        "SAndD(7,1,'-')"
      ]
    },
    {
      "cell_type": "markdown",
      "id": "99b193bc",
      "metadata": {
        "id": "99b193bc"
      },
      "source": [
        "."
      ]
    },
    {
      "cell_type": "markdown",
      "id": "e5b9e74c",
      "metadata": {
        "id": "e5b9e74c"
      },
      "source": [
        "."
      ]
    },
    {
      "cell_type": "markdown",
      "id": "21941376",
      "metadata": {
        "id": "21941376"
      },
      "source": [
        "."
      ]
    },
    {
      "cell_type": "markdown",
      "id": "af326e26",
      "metadata": {
        "id": "af326e26"
      },
      "source": [
        "."
      ]
    },
    {
      "cell_type": "markdown",
      "id": "8da92751",
      "metadata": {
        "id": "8da92751"
      },
      "source": [
        "."
      ]
    },
    {
      "cell_type": "markdown",
      "id": "5b934622",
      "metadata": {
        "id": "5b934622"
      },
      "source": [
        "## تمرین چهار امتیازی:"
      ]
    },
    {
      "cell_type": "markdown",
      "id": "48591e86",
      "metadata": {
        "id": "48591e86"
      },
      "source": [
        "## تابعی بنویسید که 2 عدد از ورودی گرفته و یکی از چهار عملیات اصلی ریاضی (جمع، تفریق، ضرب و تقسیم) را روی آنها انجام داده و نتیجه را در خروجی نمایش دهد"
      ]
    },
    {
      "cell_type": "markdown",
      "id": "eeb1bb71",
      "metadata": {
        "id": "eeb1bb71"
      },
      "source": [
        "."
      ]
    },
    {
      "cell_type": "markdown",
      "id": "994e50b6",
      "metadata": {
        "id": "994e50b6"
      },
      "source": [
        "."
      ]
    },
    {
      "cell_type": "markdown",
      "id": "31ad71f2",
      "metadata": {
        "id": "31ad71f2"
      },
      "source": [
        "."
      ]
    },
    {
      "cell_type": "code",
      "execution_count": null,
      "id": "c997a2cf",
      "metadata": {
        "id": "c997a2cf"
      },
      "outputs": [],
      "source": [
        "def SAndD(a,b,c):\n",
        "\n",
        "    if c == '+' :\n",
        "        x = a + b\n",
        "\n",
        "    elif c == '-' :\n",
        "        x = a - b\n",
        "\n",
        "    return x"
      ]
    },
    {
      "cell_type": "markdown",
      "id": "d6194d2c",
      "metadata": {
        "id": "d6194d2c"
      },
      "source": [
        "."
      ]
    },
    {
      "cell_type": "markdown",
      "id": "c49a4834",
      "metadata": {
        "id": "c49a4834"
      },
      "source": [
        "."
      ]
    },
    {
      "cell_type": "markdown",
      "id": "3027e149",
      "metadata": {
        "id": "3027e149"
      },
      "source": [
        "."
      ]
    },
    {
      "cell_type": "code",
      "execution_count": null,
      "id": "6ee960a4",
      "metadata": {
        "id": "6ee960a4"
      },
      "outputs": [],
      "source": [
        "def calcute(a,b,c):\n",
        "\n",
        "    if c == '+' :\n",
        "        x = a + b\n",
        "\n",
        "    elif c == '-' :\n",
        "        x = a - b\n",
        "\n",
        "    elif c == '*' :\n",
        "        x = a * b\n",
        "\n",
        "    elif c == '/':\n",
        "        x = a / b\n",
        "\n",
        "    return x"
      ]
    },
    {
      "cell_type": "markdown",
      "id": "ce5d6dc7",
      "metadata": {
        "id": "ce5d6dc7"
      },
      "source": [
        "."
      ]
    },
    {
      "cell_type": "markdown",
      "id": "22504c8f",
      "metadata": {
        "id": "22504c8f"
      },
      "source": [
        "."
      ]
    },
    {
      "cell_type": "code",
      "execution_count": null,
      "id": "f8629ca8",
      "metadata": {
        "id": "f8629ca8",
        "outputId": "6dce6b82-6705-4402-cd6c-f2799a2e169c"
      },
      "outputs": [
        {
          "data": {
            "text/plain": [
              "4"
            ]
          },
          "execution_count": 26,
          "metadata": {},
          "output_type": "execute_result"
        }
      ],
      "source": [
        "calcute(2,2,'+')"
      ]
    },
    {
      "cell_type": "code",
      "execution_count": null,
      "id": "4275742c",
      "metadata": {
        "id": "4275742c",
        "outputId": "110e3e85-2884-44d5-f8ab-aac8f9b15537"
      },
      "outputs": [
        {
          "data": {
            "text/plain": [
              "0"
            ]
          },
          "execution_count": 27,
          "metadata": {},
          "output_type": "execute_result"
        }
      ],
      "source": [
        "calcute(2,2,'-')"
      ]
    },
    {
      "cell_type": "code",
      "execution_count": null,
      "id": "74df1742",
      "metadata": {
        "id": "74df1742",
        "outputId": "ca760308-a106-46f0-849a-64c776b73fc4"
      },
      "outputs": [
        {
          "data": {
            "text/plain": [
              "4"
            ]
          },
          "execution_count": 28,
          "metadata": {},
          "output_type": "execute_result"
        }
      ],
      "source": [
        "calcute(2,2,'*')"
      ]
    },
    {
      "cell_type": "code",
      "execution_count": null,
      "id": "e3a83924",
      "metadata": {
        "id": "e3a83924",
        "outputId": "1c4536f1-99d5-4d59-d9cd-1c6a7d217b00"
      },
      "outputs": [
        {
          "data": {
            "text/plain": [
              "1.0"
            ]
          },
          "execution_count": 29,
          "metadata": {},
          "output_type": "execute_result"
        }
      ],
      "source": [
        "calcute(2,2,'/')"
      ]
    }
  ],
  "metadata": {
    "kernelspec": {
      "display_name": "Python 3 (ipykernel)",
      "language": "python",
      "name": "python3"
    },
    "language_info": {
      "codemirror_mode": {
        "name": "ipython",
        "version": 3
      },
      "file_extension": ".py",
      "mimetype": "text/x-python",
      "name": "python",
      "nbconvert_exporter": "python",
      "pygments_lexer": "ipython3",
      "version": "3.11.5"
    },
    "colab": {
      "provenance": [],
      "include_colab_link": true
    }
  },
  "nbformat": 4,
  "nbformat_minor": 5
}