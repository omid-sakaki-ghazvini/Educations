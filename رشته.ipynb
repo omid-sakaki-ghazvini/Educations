{
  "cells": [
    {
      "cell_type": "markdown",
      "metadata": {
        "id": "view-in-github",
        "colab_type": "text"
      },
      "source": [
        "<a href=\"https://colab.research.google.com/github/omid-sakaki-ghazvini/Educations/blob/main/%D8%B1%D8%B4%D8%AA%D9%87.ipynb\" target=\"_parent\"><img src=\"https://colab.research.google.com/assets/colab-badge.svg\" alt=\"Open In Colab\"/></a>"
      ]
    },
    {
      "cell_type": "markdown",
      "id": "5307fe25",
      "metadata": {
        "id": "5307fe25"
      },
      "source": [
        "# رشته :"
      ]
    },
    {
      "cell_type": "code",
      "execution_count": null,
      "id": "5976848e",
      "metadata": {
        "id": "5976848e"
      },
      "outputs": [],
      "source": [
        "x = 'abcde'"
      ]
    },
    {
      "cell_type": "code",
      "execution_count": null,
      "id": "8637ddff",
      "metadata": {
        "id": "8637ddff",
        "outputId": "d369556e-caf2-4d51-a910-4ff1abd71795"
      },
      "outputs": [
        {
          "name": "stdout",
          "output_type": "stream",
          "text": [
            "abcde\n"
          ]
        }
      ],
      "source": [
        "print(x)"
      ]
    },
    {
      "cell_type": "code",
      "execution_count": null,
      "id": "cf71f955",
      "metadata": {
        "id": "cf71f955",
        "outputId": "913eb7f5-0a35-40f5-8a26-59b742e72608"
      },
      "outputs": [
        {
          "data": {
            "text/plain": [
              "str"
            ]
          },
          "execution_count": 12,
          "metadata": {},
          "output_type": "execute_result"
        }
      ],
      "source": [
        "type(x)"
      ]
    },
    {
      "cell_type": "code",
      "execution_count": null,
      "id": "9fe56f1a",
      "metadata": {
        "id": "9fe56f1a",
        "outputId": "3f9f1f12-8f85-46a4-e628-023cd2867a71"
      },
      "outputs": [
        {
          "data": {
            "text/plain": [
              "5"
            ]
          },
          "execution_count": 13,
          "metadata": {},
          "output_type": "execute_result"
        }
      ],
      "source": [
        "len(x)"
      ]
    },
    {
      "cell_type": "code",
      "execution_count": null,
      "id": "8b2ecb8a",
      "metadata": {
        "id": "8b2ecb8a",
        "outputId": "5db582c2-1e23-404d-9b76-3ced58af5dd2"
      },
      "outputs": [
        {
          "data": {
            "text/plain": [
              "'a'"
            ]
          },
          "execution_count": 14,
          "metadata": {},
          "output_type": "execute_result"
        }
      ],
      "source": [
        "x[0]"
      ]
    },
    {
      "cell_type": "code",
      "execution_count": null,
      "id": "af3a80d7",
      "metadata": {
        "id": "af3a80d7",
        "outputId": "2d5df1ec-30ef-452d-fe3a-dd6cf67574c8"
      },
      "outputs": [
        {
          "data": {
            "text/plain": [
              "'e'"
            ]
          },
          "execution_count": 15,
          "metadata": {},
          "output_type": "execute_result"
        }
      ],
      "source": [
        "x[-1]"
      ]
    },
    {
      "cell_type": "code",
      "execution_count": null,
      "id": "ae33e58b",
      "metadata": {
        "id": "ae33e58b",
        "outputId": "92d57274-c398-4a15-d399-01cda96f8977"
      },
      "outputs": [
        {
          "data": {
            "text/plain": [
              "'bc'"
            ]
          },
          "execution_count": 16,
          "metadata": {},
          "output_type": "execute_result"
        }
      ],
      "source": [
        "x[1:3]"
      ]
    },
    {
      "cell_type": "code",
      "execution_count": null,
      "id": "43a82f52",
      "metadata": {
        "id": "43a82f52",
        "outputId": "04789fa4-96d5-4894-b1f3-3c6c408ea890"
      },
      "outputs": [
        {
          "name": "stdout",
          "output_type": "stream",
          "text": [
            "True\n"
          ]
        }
      ],
      "source": [
        "print( x == 'abcde')"
      ]
    },
    {
      "cell_type": "code",
      "execution_count": null,
      "id": "b803b21c",
      "metadata": {
        "id": "b803b21c"
      },
      "outputs": [],
      "source": [
        "x = 'abcde'"
      ]
    },
    {
      "cell_type": "code",
      "execution_count": null,
      "id": "037fd827",
      "metadata": {
        "id": "037fd827",
        "outputId": "0a7dffc2-b40d-40bb-afe9-1ac823d91003"
      },
      "outputs": [
        {
          "name": "stdout",
          "output_type": "stream",
          "text": [
            "True\n"
          ]
        }
      ],
      "source": [
        "print(x.islower())"
      ]
    },
    {
      "cell_type": "code",
      "execution_count": null,
      "id": "4e572ba9",
      "metadata": {
        "id": "4e572ba9",
        "outputId": "c2693fcd-25e6-4947-aef7-cc4a88e9c0a6"
      },
      "outputs": [
        {
          "name": "stdout",
          "output_type": "stream",
          "text": [
            "False\n"
          ]
        }
      ],
      "source": [
        "print(x.isupper())"
      ]
    },
    {
      "cell_type": "code",
      "execution_count": null,
      "id": "5a948306",
      "metadata": {
        "id": "5a948306",
        "outputId": "f7576014-d754-49ab-f0e9-fd9dabe09fbb"
      },
      "outputs": [
        {
          "name": "stdout",
          "output_type": "stream",
          "text": [
            "ABCDE\n"
          ]
        }
      ],
      "source": [
        "print(x.upper())"
      ]
    },
    {
      "cell_type": "code",
      "execution_count": null,
      "id": "d429483b",
      "metadata": {
        "id": "d429483b",
        "outputId": "0305130c-c13c-4e9b-aa23-f8b1c94ad806"
      },
      "outputs": [
        {
          "name": "stdout",
          "output_type": "stream",
          "text": [
            "abcde\n"
          ]
        }
      ],
      "source": [
        "print(x.lower())"
      ]
    },
    {
      "cell_type": "code",
      "execution_count": null,
      "id": "e24cc9a2",
      "metadata": {
        "id": "e24cc9a2",
        "outputId": "062e5b2e-0a33-4b22-fefa-24812d5ad1b3"
      },
      "outputs": [
        {
          "name": "stdout",
          "output_type": "stream",
          "text": [
            "Abcde\n"
          ]
        }
      ],
      "source": [
        "print(x.capitalize())"
      ]
    },
    {
      "cell_type": "markdown",
      "id": "62056520",
      "metadata": {
        "id": "62056520"
      },
      "source": [
        ".................................."
      ]
    },
    {
      "cell_type": "code",
      "execution_count": null,
      "id": "54807259",
      "metadata": {
        "id": "54807259"
      },
      "outputs": [],
      "source": [
        "y = '123'"
      ]
    },
    {
      "cell_type": "code",
      "execution_count": null,
      "id": "9d0c9fe7",
      "metadata": {
        "id": "9d0c9fe7",
        "outputId": "147dbd64-f3b6-4a98-df11-080e453907d3"
      },
      "outputs": [
        {
          "name": "stdout",
          "output_type": "stream",
          "text": [
            "123\n",
            "3\n",
            "<class 'str'>\n"
          ]
        }
      ],
      "source": [
        "print(y)\n",
        "print(len(y))\n",
        "print(type(y))"
      ]
    },
    {
      "cell_type": "code",
      "execution_count": null,
      "id": "441bb255",
      "metadata": {
        "id": "441bb255",
        "outputId": "5a271357-5ca6-499d-bfa5-6f44dba53ebc"
      },
      "outputs": [
        {
          "name": "stdout",
          "output_type": "stream",
          "text": [
            "False\n",
            "True\n"
          ]
        }
      ],
      "source": [
        "print(y.isalpha())\n",
        "print(y.isdigit())"
      ]
    },
    {
      "cell_type": "code",
      "execution_count": null,
      "id": "548c23c9",
      "metadata": {
        "id": "548c23c9",
        "outputId": "3e69ec08-c57a-4e56-8678-78e9e56ef6a5"
      },
      "outputs": [
        {
          "data": {
            "text/plain": [
              "'abcde'"
            ]
          },
          "execution_count": 31,
          "metadata": {},
          "output_type": "execute_result"
        }
      ],
      "source": [
        "x"
      ]
    },
    {
      "cell_type": "code",
      "execution_count": null,
      "id": "50222b85",
      "metadata": {
        "id": "50222b85",
        "outputId": "001129a8-2de0-4518-fddf-1717320b5d5f"
      },
      "outputs": [
        {
          "name": "stdout",
          "output_type": "stream",
          "text": [
            "True\n",
            "False\n"
          ]
        }
      ],
      "source": [
        "print(x.isalpha())\n",
        "print(x.isdigit())"
      ]
    },
    {
      "cell_type": "markdown",
      "id": "38c7f2ae",
      "metadata": {
        "id": "38c7f2ae"
      },
      "source": [
        ".................................."
      ]
    },
    {
      "cell_type": "markdown",
      "id": "0f7aa963",
      "metadata": {
        "id": "0f7aa963"
      },
      "source": [
        "## مثال 1:"
      ]
    },
    {
      "cell_type": "markdown",
      "id": "d61de9db",
      "metadata": {
        "id": "d61de9db"
      },
      "source": [
        "## تابعی بنویسید که رشته از ورودی دریافت کند، اگر طول رشته برابر 5 بود و کل رشته عددی بود مقدار\n",
        "## True\n",
        "## برگرداند"
      ]
    },
    {
      "cell_type": "code",
      "execution_count": null,
      "id": "d8858f75",
      "metadata": {
        "id": "d8858f75"
      },
      "outputs": [],
      "source": [
        "def test(x):\n",
        "    return len(x)==5 and x.isdigit()"
      ]
    },
    {
      "cell_type": "code",
      "execution_count": null,
      "id": "50e1534b",
      "metadata": {
        "id": "50e1534b"
      },
      "outputs": [],
      "source": [
        "x ='abcde'"
      ]
    },
    {
      "cell_type": "code",
      "execution_count": null,
      "id": "5ea937a2",
      "metadata": {
        "id": "5ea937a2",
        "outputId": "c19dad2c-bfd6-40ab-fdff-27927636dd84"
      },
      "outputs": [
        {
          "data": {
            "text/plain": [
              "False"
            ]
          },
          "execution_count": 3,
          "metadata": {},
          "output_type": "execute_result"
        }
      ],
      "source": [
        "test(x)"
      ]
    },
    {
      "cell_type": "code",
      "execution_count": null,
      "id": "86108d3a",
      "metadata": {
        "id": "86108d3a"
      },
      "outputs": [],
      "source": [
        "x = str(input('enter string:'))"
      ]
    },
    {
      "cell_type": "code",
      "execution_count": null,
      "id": "740f1092",
      "metadata": {
        "id": "740f1092"
      },
      "outputs": [],
      "source": [
        "test(x)"
      ]
    },
    {
      "cell_type": "code",
      "execution_count": null,
      "id": "d4de6bc2",
      "metadata": {
        "id": "d4de6bc2"
      },
      "outputs": [],
      "source": [
        "test('12345')"
      ]
    },
    {
      "cell_type": "markdown",
      "id": "ea3afc4f",
      "metadata": {
        "id": "ea3afc4f"
      },
      "source": [
        ".................................."
      ]
    },
    {
      "cell_type": "code",
      "execution_count": null,
      "id": "eba44369",
      "metadata": {
        "id": "eba44369"
      },
      "outputs": [],
      "source": []
    },
    {
      "cell_type": "markdown",
      "id": "8b9856b7",
      "metadata": {
        "id": "8b9856b7"
      },
      "source": [
        "## تمرین 1 امتیازی:"
      ]
    },
    {
      "cell_type": "markdown",
      "id": "ac7b5c77",
      "metadata": {
        "id": "ac7b5c77"
      },
      "source": [
        "## تابعی بنویسید که یک رشته شامل اعداد و حروف را دریافت میکند، و سپس اعداد موجود در رشته را با هم جمع کرده و به خروجی ببرد"
      ]
    },
    {
      "cell_type": "markdown",
      "id": "4fff15e9",
      "metadata": {
        "id": "4fff15e9"
      },
      "source": [
        "## input:"
      ]
    },
    {
      "cell_type": "code",
      "execution_count": null,
      "id": "014c52a3",
      "metadata": {
        "id": "014c52a3"
      },
      "outputs": [],
      "source": [
        "a = '1a2b3c4d'"
      ]
    },
    {
      "cell_type": "markdown",
      "id": "7b497b41",
      "metadata": {
        "id": "7b497b41"
      },
      "source": [
        "## output:"
      ]
    },
    {
      "cell_type": "code",
      "execution_count": null,
      "id": "b4ba1baa",
      "metadata": {
        "id": "b4ba1baa"
      },
      "outputs": [],
      "source": [
        "10"
      ]
    },
    {
      "cell_type": "code",
      "execution_count": null,
      "id": "9dabba88",
      "metadata": {
        "id": "9dabba88"
      },
      "outputs": [],
      "source": []
    },
    {
      "cell_type": "code",
      "execution_count": null,
      "id": "09cf1308",
      "metadata": {
        "id": "09cf1308",
        "outputId": "9de9c75a-b634-4ebf-8a4b-eebe2959bd96"
      },
      "outputs": [
        {
          "data": {
            "text/plain": [
              "'1a2b3c4d'"
            ]
          },
          "execution_count": 2,
          "metadata": {},
          "output_type": "execute_result"
        }
      ],
      "source": [
        "a"
      ]
    },
    {
      "cell_type": "code",
      "execution_count": null,
      "id": "8637fd16",
      "metadata": {
        "id": "8637fd16"
      },
      "outputs": [],
      "source": [
        "def test2(x):\n",
        "    temp=0\n",
        "    for i in x:\n",
        "        if i.isdigit()==True:\n",
        "            temp = temp + int(i)\n",
        "    return(temp)"
      ]
    },
    {
      "cell_type": "code",
      "execution_count": null,
      "id": "76ccbe67",
      "metadata": {
        "id": "76ccbe67"
      },
      "outputs": [],
      "source": []
    },
    {
      "cell_type": "code",
      "execution_count": null,
      "id": "a102ae8f",
      "metadata": {
        "id": "a102ae8f"
      },
      "outputs": [],
      "source": [
        "a = '1a2b3c4d'"
      ]
    },
    {
      "cell_type": "code",
      "execution_count": null,
      "id": "05bffc9c",
      "metadata": {
        "id": "05bffc9c",
        "outputId": "ef633346-30b8-49bd-b2c9-608d39b78751"
      },
      "outputs": [
        {
          "data": {
            "text/plain": [
              "10"
            ]
          },
          "execution_count": 5,
          "metadata": {},
          "output_type": "execute_result"
        }
      ],
      "source": [
        "test2(a)"
      ]
    },
    {
      "cell_type": "code",
      "execution_count": null,
      "id": "ac600b1b",
      "metadata": {
        "id": "ac600b1b"
      },
      "outputs": [],
      "source": []
    },
    {
      "cell_type": "markdown",
      "id": "9984d4c3",
      "metadata": {
        "id": "9984d4c3"
      },
      "source": [
        ".........................................."
      ]
    },
    {
      "cell_type": "code",
      "execution_count": null,
      "id": "b9fb4cf7",
      "metadata": {
        "id": "b9fb4cf7"
      },
      "outputs": [],
      "source": [
        "x = '# hello omid !'"
      ]
    },
    {
      "cell_type": "code",
      "execution_count": null,
      "id": "4b67c8d4",
      "metadata": {
        "id": "4b67c8d4",
        "outputId": "9dac84e0-2427-45de-8d46-c3e0865cdaf4"
      },
      "outputs": [
        {
          "data": {
            "text/plain": [
              "'# hello omid !'"
            ]
          },
          "execution_count": 8,
          "metadata": {},
          "output_type": "execute_result"
        }
      ],
      "source": [
        "x"
      ]
    },
    {
      "cell_type": "code",
      "execution_count": null,
      "id": "ad6268e9",
      "metadata": {
        "id": "ad6268e9",
        "outputId": "a48da615-feb7-45b1-831a-f7e94f821360"
      },
      "outputs": [
        {
          "name": "stdout",
          "output_type": "stream",
          "text": [
            "False\n",
            "False\n"
          ]
        }
      ],
      "source": [
        "print(x.startswith('hello'))\n",
        "print(x.endswith('omid'))"
      ]
    },
    {
      "cell_type": "code",
      "execution_count": null,
      "id": "ca0f50f2",
      "metadata": {
        "id": "ca0f50f2",
        "outputId": "477acb2f-64ad-41d9-db35-a8c87d46b6fa"
      },
      "outputs": [
        {
          "name": "stdout",
          "output_type": "stream",
          "text": [
            "hello omid \n"
          ]
        }
      ],
      "source": [
        "x = x.lstrip(' ')\n",
        "print(x)"
      ]
    },
    {
      "cell_type": "code",
      "execution_count": null,
      "id": "62038064",
      "metadata": {
        "id": "62038064",
        "outputId": "4876064b-0a86-4082-83bf-234adf7af0a8"
      },
      "outputs": [
        {
          "name": "stdout",
          "output_type": "stream",
          "text": [
            "hello omid\n"
          ]
        }
      ],
      "source": [
        "x = x.rstrip(' ')\n",
        "print(x)"
      ]
    },
    {
      "cell_type": "code",
      "execution_count": null,
      "id": "b3568f0c",
      "metadata": {
        "id": "b3568f0c",
        "outputId": "8e6be3eb-e45c-408a-a33a-c56897a29161"
      },
      "outputs": [
        {
          "name": "stdout",
          "output_type": "stream",
          "text": [
            "True\n",
            "True\n"
          ]
        }
      ],
      "source": [
        "print(x.startswith('hello'))\n",
        "print(x.endswith('omid'))"
      ]
    },
    {
      "cell_type": "code",
      "execution_count": null,
      "id": "bf903c08",
      "metadata": {
        "id": "bf903c08",
        "outputId": "b5527668-a479-44d8-99c8-b99b7865783f"
      },
      "outputs": [
        {
          "name": "stdout",
          "output_type": "stream",
          "text": [
            "6\n",
            "6\n"
          ]
        }
      ],
      "source": [
        "print(x.find('omid'))\n",
        "print(x.index('omid'))"
      ]
    },
    {
      "cell_type": "code",
      "execution_count": null,
      "id": "8478ae3c",
      "metadata": {
        "id": "8478ae3c",
        "outputId": "4fc14b33-f9ae-4c29-d8b1-759ac07603b1"
      },
      "outputs": [
        {
          "name": "stdout",
          "output_type": "stream",
          "text": [
            "hello amir\n"
          ]
        }
      ],
      "source": [
        "print(x.replace('omid','amir'))"
      ]
    },
    {
      "cell_type": "code",
      "execution_count": null,
      "id": "ecbfcdf1",
      "metadata": {
        "id": "ecbfcdf1",
        "outputId": "e1b1a5bf-4b30-42b9-d096-9e419948ab87"
      },
      "outputs": [
        {
          "name": "stdout",
          "output_type": "stream",
          "text": [
            "['hello', 'omid']\n"
          ]
        }
      ],
      "source": [
        "print(x.split(' '))"
      ]
    },
    {
      "cell_type": "code",
      "execution_count": null,
      "id": "9494270a",
      "metadata": {
        "id": "9494270a"
      },
      "outputs": [],
      "source": []
    },
    {
      "cell_type": "code",
      "execution_count": null,
      "id": "16f9d257",
      "metadata": {
        "id": "16f9d257",
        "outputId": "9e6fcc3a-f60a-43c1-c8c8-311075ace10b"
      },
      "outputs": [
        {
          "name": "stdout",
          "output_type": "stream",
          "text": [
            "['hello', 'omid']\n"
          ]
        }
      ],
      "source": [
        "a = x.split(' ')\n",
        "print(a)"
      ]
    },
    {
      "cell_type": "code",
      "execution_count": null,
      "id": "4c1bdfde",
      "metadata": {
        "id": "4c1bdfde",
        "outputId": "2d061a5c-2081-432e-9949-5519260d7053"
      },
      "outputs": [
        {
          "name": "stdout",
          "output_type": "stream",
          "text": [
            "hello omid\n"
          ]
        }
      ],
      "source": [
        "b = ' '.join(a)\n",
        "print(b)"
      ]
    },
    {
      "cell_type": "markdown",
      "id": "1406d341",
      "metadata": {
        "id": "1406d341"
      },
      "source": [
        "..............................."
      ]
    },
    {
      "cell_type": "markdown",
      "id": "6e74fe58",
      "metadata": {
        "id": "6e74fe58"
      },
      "source": [
        "## مثال 2 :"
      ]
    },
    {
      "cell_type": "code",
      "execution_count": null,
      "id": "934583cc",
      "metadata": {
        "id": "934583cc"
      },
      "outputs": [],
      "source": [
        "zip"
      ]
    },
    {
      "cell_type": "code",
      "execution_count": null,
      "id": "f41653f2",
      "metadata": {
        "id": "f41653f2"
      },
      "outputs": [],
      "source": [
        "a = (1,2,3)\n",
        "b = (4,5,6)"
      ]
    },
    {
      "cell_type": "code",
      "execution_count": null,
      "id": "5ad52d6b",
      "metadata": {
        "id": "5ad52d6b"
      },
      "outputs": [],
      "source": [
        "c = zip(a,b)"
      ]
    },
    {
      "cell_type": "code",
      "execution_count": null,
      "id": "842e6dd4",
      "metadata": {
        "id": "842e6dd4",
        "outputId": "13dda283-c093-4d7f-960e-5db4580e3541"
      },
      "outputs": [
        {
          "data": {
            "text/plain": [
              "<zip at 0x1e930a20f80>"
            ]
          },
          "execution_count": 6,
          "metadata": {},
          "output_type": "execute_result"
        }
      ],
      "source": [
        "c"
      ]
    },
    {
      "cell_type": "code",
      "execution_count": null,
      "id": "bec81467",
      "metadata": {
        "id": "bec81467"
      },
      "outputs": [],
      "source": [
        "c = list(c)"
      ]
    },
    {
      "cell_type": "code",
      "execution_count": null,
      "id": "d35322d5",
      "metadata": {
        "id": "d35322d5",
        "outputId": "b58edc7f-4042-44f2-98ff-caa8b3395ec3"
      },
      "outputs": [
        {
          "data": {
            "text/plain": [
              "[(1, 4), (2, 5), (3, 6)]"
            ]
          },
          "execution_count": 8,
          "metadata": {},
          "output_type": "execute_result"
        }
      ],
      "source": [
        "c"
      ]
    },
    {
      "cell_type": "code",
      "execution_count": null,
      "id": "002c8072",
      "metadata": {
        "id": "002c8072"
      },
      "outputs": [],
      "source": []
    },
    {
      "cell_type": "code",
      "execution_count": null,
      "id": "9e91d9b4",
      "metadata": {
        "id": "9e91d9b4"
      },
      "outputs": [],
      "source": []
    },
    {
      "cell_type": "code",
      "execution_count": null,
      "id": "a9b00b00",
      "metadata": {
        "id": "a9b00b00",
        "outputId": "01bf8c9f-1e69-41ea-ccab-bc8da4ee3883"
      },
      "outputs": [
        {
          "name": "stdout",
          "output_type": "stream",
          "text": [
            "[(0, 'omid'), (1, 'amir'), (2, 'iman')]\n"
          ]
        }
      ],
      "source": [
        "doc = ['omid', 'amir', 'iman']\n",
        "x = enumerate(doc)\n",
        "print(list(x))"
      ]
    },
    {
      "cell_type": "code",
      "execution_count": null,
      "id": "024b8c15",
      "metadata": {
        "id": "024b8c15",
        "outputId": "ea78fb99-f28b-4816-df9e-1eed969fe242"
      },
      "outputs": [
        {
          "data": {
            "text/plain": [
              "<enumerate at 0x1e930a28d10>"
            ]
          },
          "execution_count": 10,
          "metadata": {},
          "output_type": "execute_result"
        }
      ],
      "source": [
        "x = enumerate(doc)\n",
        "x"
      ]
    },
    {
      "cell_type": "code",
      "execution_count": null,
      "id": "64992be7",
      "metadata": {
        "id": "64992be7",
        "outputId": "4e649601-b816-4a8e-f4a3-bd8f5370c7a3"
      },
      "outputs": [
        {
          "name": "stdout",
          "output_type": "stream",
          "text": [
            "[(0, 'omid'), (1, 'amir'), (2, 'ehsan'), (3, 'ali'), (4, 'zahra'), (5, 'iman')]\n"
          ]
        }
      ],
      "source": [
        "print(list(x))"
      ]
    },
    {
      "cell_type": "code",
      "execution_count": null,
      "id": "07d5657f",
      "metadata": {
        "id": "07d5657f"
      },
      "outputs": [],
      "source": []
    },
    {
      "cell_type": "markdown",
      "id": "ec8b91c2",
      "metadata": {
        "id": "ec8b91c2"
      },
      "source": [
        "..............................."
      ]
    },
    {
      "cell_type": "markdown",
      "id": "f5153d99",
      "metadata": {
        "id": "f5153d99"
      },
      "source": [
        "## مثال 3:"
      ]
    },
    {
      "cell_type": "markdown",
      "id": "c884fbaf",
      "metadata": {
        "id": "c884fbaf"
      },
      "source": [
        "## تابعی بنویسید که از ورودی یک لیست از کلمات را دریافت میکند و یک لغت (برحسب درخواست کاربر) در داخل لیست جستجو میکند و اندیس آن کلمه در داخل لیست را به عنوان خروجی برمیگرداند."
      ]
    },
    {
      "cell_type": "code",
      "execution_count": null,
      "id": "7bff478f",
      "metadata": {
        "id": "7bff478f"
      },
      "outputs": [],
      "source": [
        "doc = ['omid','Python','useful']"
      ]
    },
    {
      "cell_type": "code",
      "execution_count": null,
      "id": "5cfcdc73",
      "metadata": {
        "id": "5cfcdc73"
      },
      "outputs": [],
      "source": []
    },
    {
      "cell_type": "code",
      "execution_count": null,
      "id": "be5fdae4",
      "metadata": {
        "id": "be5fdae4",
        "outputId": "7c7d7b7a-5f3d-4201-c99e-518b560890ca"
      },
      "outputs": [
        {
          "data": {
            "text/plain": [
              "['omid', 'Python', 'useful']"
            ]
          },
          "execution_count": 13,
          "metadata": {},
          "output_type": "execute_result"
        }
      ],
      "source": [
        "doc"
      ]
    },
    {
      "cell_type": "code",
      "execution_count": null,
      "id": "9cfa3e6d",
      "metadata": {
        "id": "9cfa3e6d",
        "outputId": "32fd3d4b-ba80-4ee1-e795-3403e0099bfb"
      },
      "outputs": [
        {
          "data": {
            "text/plain": [
              "3"
            ]
          },
          "execution_count": 14,
          "metadata": {},
          "output_type": "execute_result"
        }
      ],
      "source": [
        "len(doc)"
      ]
    },
    {
      "cell_type": "code",
      "execution_count": null,
      "id": "41440c30",
      "metadata": {
        "id": "41440c30"
      },
      "outputs": [],
      "source": []
    },
    {
      "cell_type": "code",
      "execution_count": null,
      "id": "45191cbb",
      "metadata": {
        "id": "45191cbb",
        "outputId": "2af9f1bc-553b-4356-ed77-a051e82ee399"
      },
      "outputs": [
        {
          "name": "stdout",
          "output_type": "stream",
          "text": [
            "[(0, 'omid'), (1, 'Python'), (2, 'useful')]\n"
          ]
        }
      ],
      "source": [
        "x = enumerate(doc)\n",
        "y = list(x)\n",
        "print(y)"
      ]
    },
    {
      "cell_type": "code",
      "execution_count": null,
      "id": "9cdfcede",
      "metadata": {
        "id": "9cdfcede"
      },
      "outputs": [],
      "source": []
    },
    {
      "cell_type": "code",
      "execution_count": null,
      "id": "2f543ae9",
      "metadata": {
        "id": "2f543ae9",
        "outputId": "1552c7c7-d675-45e5-fdb7-83d947d664a1"
      },
      "outputs": [
        {
          "data": {
            "text/plain": [
              "(0, 'omid')"
            ]
          },
          "execution_count": 16,
          "metadata": {},
          "output_type": "execute_result"
        }
      ],
      "source": [
        "y[0]"
      ]
    },
    {
      "cell_type": "code",
      "execution_count": null,
      "id": "ca95947a",
      "metadata": {
        "id": "ca95947a",
        "outputId": "2656b141-ce72-4a37-bc86-664a1412892d"
      },
      "outputs": [
        {
          "data": {
            "text/plain": [
              "'omid'"
            ]
          },
          "execution_count": 17,
          "metadata": {},
          "output_type": "execute_result"
        }
      ],
      "source": [
        "y[0][1]"
      ]
    },
    {
      "cell_type": "code",
      "execution_count": null,
      "id": "4e6d18d6",
      "metadata": {
        "id": "4e6d18d6",
        "outputId": "cbf39a45-9b0d-4a2b-f25c-4088d3399792"
      },
      "outputs": [
        {
          "data": {
            "text/plain": [
              "['omid']"
            ]
          },
          "execution_count": 18,
          "metadata": {},
          "output_type": "execute_result"
        }
      ],
      "source": [
        "z = y[0][1].split()\n",
        "z"
      ]
    },
    {
      "cell_type": "code",
      "execution_count": null,
      "id": "1bbbe1ee",
      "metadata": {
        "id": "1bbbe1ee",
        "outputId": "b0a1d158-544b-472d-e04d-71c514e630f2"
      },
      "outputs": [
        {
          "data": {
            "text/plain": [
              "['hello omid .',\n",
              " 'Welcome to the Python class .',\n",
              " 'I hope this class is useful for you .']"
            ]
          },
          "execution_count": 30,
          "metadata": {},
          "output_type": "execute_result"
        }
      ],
      "source": [
        "doc"
      ]
    },
    {
      "cell_type": "code",
      "execution_count": null,
      "id": "775bc020",
      "metadata": {
        "id": "775bc020"
      },
      "outputs": [],
      "source": []
    },
    {
      "cell_type": "code",
      "execution_count": null,
      "id": "698cb3c2",
      "metadata": {
        "id": "698cb3c2"
      },
      "outputs": [],
      "source": []
    },
    {
      "cell_type": "code",
      "execution_count": null,
      "id": "e327a7bd",
      "metadata": {
        "id": "e327a7bd"
      },
      "outputs": [],
      "source": [
        "def search(doc, keyword):\n",
        "    ind=[]\n",
        "    for i,j in enumerate(doc):\n",
        "        tokens = j.split()\n",
        "        normal = [token.lower() for token in tokens]\n",
        "        if keyword.lower() in normal:\n",
        "            ind.append(i)\n",
        "    return(ind)"
      ]
    },
    {
      "cell_type": "code",
      "execution_count": null,
      "id": "6b1cc43c",
      "metadata": {
        "id": "6b1cc43c"
      },
      "outputs": [],
      "source": [
        "doc = ['useful for job aaa',\n",
        "       'omid hi',\n",
        "       'Python very good bbb',\n",
        "       'omid hi',\n",
        "       'useful for job aaa']"
      ]
    },
    {
      "cell_type": "code",
      "execution_count": null,
      "id": "6b94bc3c",
      "metadata": {
        "id": "6b94bc3c"
      },
      "outputs": [],
      "source": []
    },
    {
      "cell_type": "code",
      "execution_count": null,
      "id": "4d526553",
      "metadata": {
        "id": "4d526553"
      },
      "outputs": [],
      "source": []
    },
    {
      "cell_type": "code",
      "execution_count": null,
      "id": "be325340",
      "metadata": {
        "id": "be325340",
        "outputId": "5f55c57f-b89e-408e-f7e3-69d3e31561cd"
      },
      "outputs": [
        {
          "data": {
            "text/plain": [
              "[]"
            ]
          },
          "execution_count": 32,
          "metadata": {},
          "output_type": "execute_result"
        }
      ],
      "source": [
        "search(doc, 'pthon')"
      ]
    },
    {
      "cell_type": "code",
      "execution_count": null,
      "id": "95376fd2",
      "metadata": {
        "id": "95376fd2",
        "outputId": "81f8b6e2-23ab-47eb-8804-f170d0dd3777"
      },
      "outputs": [
        {
          "data": {
            "text/plain": [
              "[1, 3]"
            ]
          },
          "execution_count": 30,
          "metadata": {},
          "output_type": "execute_result"
        }
      ],
      "source": [
        "search(doc, 'omid')"
      ]
    },
    {
      "cell_type": "code",
      "execution_count": null,
      "id": "9312c737",
      "metadata": {
        "id": "9312c737",
        "outputId": "2b709222-3910-40af-d772-2806f84211e6"
      },
      "outputs": [
        {
          "data": {
            "text/plain": [
              "[0, 4]"
            ]
          },
          "execution_count": 31,
          "metadata": {},
          "output_type": "execute_result"
        }
      ],
      "source": [
        "search(doc, 'useful')"
      ]
    },
    {
      "cell_type": "code",
      "execution_count": null,
      "id": "3fca08b2",
      "metadata": {
        "id": "3fca08b2"
      },
      "outputs": [],
      "source": []
    },
    {
      "cell_type": "code",
      "execution_count": null,
      "id": "d4cfadbb",
      "metadata": {
        "id": "d4cfadbb"
      },
      "outputs": [],
      "source": []
    },
    {
      "cell_type": "markdown",
      "id": "62ecaaee",
      "metadata": {
        "id": "62ecaaee"
      },
      "source": [
        ".............................................."
      ]
    },
    {
      "cell_type": "markdown",
      "id": "61795b11",
      "metadata": {
        "id": "61795b11"
      },
      "source": [
        "# سوال پنجم آزمون:"
      ]
    },
    {
      "cell_type": "markdown",
      "id": "baf1b4ad",
      "metadata": {
        "id": "baf1b4ad"
      },
      "source": [
        "## تابعی بنویسید که از ورودی یک لیست از کلمات را دریافت میکند و *چند* لغت (برحسب درخواست کاربر) در داخل لیست جستجو میکند و اندیس آن کلمه در داخل لیست را به عنوان خروجی برمیگرداند"
      ]
    },
    {
      "cell_type": "markdown",
      "id": "1320042d",
      "metadata": {
        "id": "1320042d"
      },
      "source": [
        "## میتوانید از تابع مثال قبلی در بدنه تابع خود استفاده نمایید!"
      ]
    },
    {
      "cell_type": "code",
      "execution_count": null,
      "id": "ccbdcecb",
      "metadata": {
        "id": "ccbdcecb"
      },
      "outputs": [],
      "source": []
    },
    {
      "cell_type": "markdown",
      "id": "9b822c3e",
      "metadata": {
        "id": "9b822c3e"
      },
      "source": [
        "## input:"
      ]
    },
    {
      "cell_type": "code",
      "execution_count": null,
      "id": "739c8a50",
      "metadata": {
        "id": "739c8a50"
      },
      "outputs": [],
      "source": [
        "doc = ['hello omid .',\n",
        "       'Welcome to the Python class .',\n",
        "       'I hope this class is useful for you .']"
      ]
    },
    {
      "cell_type": "code",
      "execution_count": null,
      "id": "f89abce4",
      "metadata": {
        "id": "f89abce4",
        "outputId": "9d5e47ca-be2b-40a4-f1b2-7b606300bee5"
      },
      "outputs": [
        {
          "data": {
            "text/plain": [
              "['hello omid .',\n",
              " 'Welcome to the Python class .',\n",
              " 'I hope this class is useful for you .']"
            ]
          },
          "execution_count": 34,
          "metadata": {},
          "output_type": "execute_result"
        }
      ],
      "source": [
        "doc"
      ]
    },
    {
      "cell_type": "markdown",
      "id": "82b90db0",
      "metadata": {
        "id": "82b90db0"
      },
      "source": [
        "## output:"
      ]
    },
    {
      "cell_type": "code",
      "execution_count": null,
      "id": "def7d2b4",
      "metadata": {
        "id": "def7d2b4",
        "outputId": "893b5b20-9bbb-4d7c-bcbe-4f0a79a8c7ed"
      },
      "outputs": [
        {
          "data": {
            "text/plain": [
              "{'omid': [0], 'python': [1]}"
            ]
          },
          "execution_count": 37,
          "metadata": {},
          "output_type": "execute_result"
        }
      ],
      "source": [
        "multi_search(doc, ['omid','python'])"
      ]
    },
    {
      "cell_type": "code",
      "execution_count": null,
      "id": "3def3b3d",
      "metadata": {
        "id": "3def3b3d"
      },
      "outputs": [],
      "source": [
        "{'omid': [0], 'python': [1]}"
      ]
    },
    {
      "cell_type": "code",
      "execution_count": null,
      "id": "05790e50",
      "metadata": {
        "id": "05790e50"
      },
      "outputs": [],
      "source": []
    },
    {
      "cell_type": "code",
      "execution_count": null,
      "id": "d23190bc",
      "metadata": {
        "id": "d23190bc"
      },
      "outputs": [],
      "source": []
    },
    {
      "cell_type": "code",
      "execution_count": null,
      "id": "a520c4d1",
      "metadata": {
        "id": "a520c4d1"
      },
      "outputs": [],
      "source": [
        "def search(doc, keyword):\n",
        "    ind=[]\n",
        "    for i,j in enumerate(doc):\n",
        "        tokens = j.split()\n",
        "        normal = [token.lower() for token in tokens]\n",
        "        if keyword.lower() in normal:\n",
        "            ind.append(i)\n",
        "    return(ind)"
      ]
    },
    {
      "cell_type": "code",
      "execution_count": null,
      "id": "2b4a20e7",
      "metadata": {
        "id": "2b4a20e7"
      },
      "outputs": [],
      "source": []
    },
    {
      "cell_type": "code",
      "execution_count": null,
      "id": "fa9082e2",
      "metadata": {
        "id": "fa9082e2"
      },
      "outputs": [],
      "source": [
        "def multi_search(doc, keywords):\n",
        "    ind = {}\n",
        "    for i in keywords:\n",
        "        ind[i] = search(doc, i)\n",
        "\n",
        "    return(ind)"
      ]
    },
    {
      "cell_type": "code",
      "execution_count": null,
      "id": "a59d223a",
      "metadata": {
        "id": "a59d223a"
      },
      "outputs": [],
      "source": []
    }
  ],
  "metadata": {
    "kernelspec": {
      "display_name": "Python 3 (ipykernel)",
      "language": "python",
      "name": "python3"
    },
    "language_info": {
      "codemirror_mode": {
        "name": "ipython",
        "version": 3
      },
      "file_extension": ".py",
      "mimetype": "text/x-python",
      "name": "python",
      "nbconvert_exporter": "python",
      "pygments_lexer": "ipython3",
      "version": "3.11.5"
    },
    "colab": {
      "provenance": [],
      "include_colab_link": true
    }
  },
  "nbformat": 4,
  "nbformat_minor": 5
}