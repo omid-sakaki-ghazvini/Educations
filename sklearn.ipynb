{
  "cells": [
    {
      "cell_type": "markdown",
      "metadata": {
        "id": "view-in-github",
        "colab_type": "text"
      },
      "source": [
        "<a href=\"https://colab.research.google.com/github/omid-sakaki-ghazvini/Educations/blob/main/sklearn.ipynb\" target=\"_parent\"><img src=\"https://colab.research.google.com/assets/colab-badge.svg\" alt=\"Open In Colab\"/></a>"
      ]
    },
    {
      "cell_type": "markdown",
      "id": "ec4b05f2",
      "metadata": {
        "id": "ec4b05f2"
      },
      "source": [
        "# sklearn:"
      ]
    },
    {
      "cell_type": "markdown",
      "id": "9825af62",
      "metadata": {
        "id": "9825af62"
      },
      "source": [
        "## load iris dataset :"
      ]
    },
    {
      "cell_type": "code",
      "execution_count": null,
      "id": "a947f858",
      "metadata": {
        "id": "a947f858"
      },
      "outputs": [],
      "source": [
        "from sklearn.datasets import load_iris\n",
        "import pandas as pd\n",
        "\n",
        "iris = load_iris()\n",
        "df_iris = pd.DataFrame(iris.data, columns = iris.feature_names)\n",
        "df_iris['target'] = iris.target"
      ]
    },
    {
      "cell_type": "code",
      "execution_count": null,
      "id": "05266223",
      "metadata": {
        "id": "05266223"
      },
      "outputs": [],
      "source": [
        "target_names = {\n",
        "    0:'setosa',\n",
        "    1:'versicolor',\n",
        "    2:'virginica'\n",
        "}"
      ]
    },
    {
      "cell_type": "code",
      "execution_count": null,
      "id": "9a3dd019",
      "metadata": {
        "id": "9a3dd019"
      },
      "outputs": [],
      "source": [
        "df_iris['target_names'] = df_iris['target'].map(target_names)\n",
        "\n",
        "df_iris"
      ]
    },
    {
      "cell_type": "code",
      "execution_count": null,
      "id": "d4b2d269",
      "metadata": {
        "id": "d4b2d269"
      },
      "outputs": [],
      "source": [
        "df_iris.head()"
      ]
    },
    {
      "cell_type": "code",
      "execution_count": null,
      "id": "0d1821ad",
      "metadata": {
        "id": "0d1821ad"
      },
      "outputs": [],
      "source": [
        "df_iris.describe()"
      ]
    },
    {
      "cell_type": "markdown",
      "id": "5410a3f7",
      "metadata": {
        "id": "5410a3f7"
      },
      "source": [
        "## Selecting The Prediction Target :"
      ]
    },
    {
      "cell_type": "code",
      "execution_count": null,
      "id": "f5663a84",
      "metadata": {
        "id": "f5663a84"
      },
      "outputs": [],
      "source": [
        "y = df_iris['target']\n",
        "\n",
        "y"
      ]
    },
    {
      "cell_type": "markdown",
      "id": "bb98bfcd",
      "metadata": {
        "id": "bb98bfcd"
      },
      "source": [
        "## Choosing \"Features\" :"
      ]
    },
    {
      "cell_type": "code",
      "execution_count": null,
      "id": "0bf7a71f",
      "metadata": {
        "id": "0bf7a71f"
      },
      "outputs": [],
      "source": [
        "iris_features = ['sepal length (cm)', 'sepal width (cm)', 'petal length (cm)', 'petal width (cm)']"
      ]
    },
    {
      "cell_type": "code",
      "execution_count": null,
      "id": "d3f98ecb",
      "metadata": {
        "id": "d3f98ecb"
      },
      "outputs": [],
      "source": [
        "x = df_iris[iris_features]\n",
        "\n",
        "x"
      ]
    },
    {
      "cell_type": "markdown",
      "id": "5b3c5835",
      "metadata": {
        "id": "5b3c5835"
      },
      "source": [
        "# Building Your Model :"
      ]
    },
    {
      "cell_type": "markdown",
      "id": "abf54ec1",
      "metadata": {
        "id": "abf54ec1"
      },
      "source": [
        "## Decision Tree :"
      ]
    },
    {
      "cell_type": "markdown",
      "id": "c98b7d37",
      "metadata": {
        "id": "c98b7d37"
      },
      "source": [
        "<div style=\"direction:rtl\">\n",
        "<font color='red' size=\"5px\">\n",
        " مثال:\n",
        "    </font>\n",
        "</div>"
      ]
    },
    {
      "cell_type": "code",
      "execution_count": null,
      "id": "5a8cba4b",
      "metadata": {
        "id": "5a8cba4b"
      },
      "outputs": [],
      "source": [
        "from sklearn.tree import DecisionTreeRegressor"
      ]
    },
    {
      "cell_type": "markdown",
      "id": "6ee2a388",
      "metadata": {
        "id": "6ee2a388"
      },
      "source": [
        "## Define model:"
      ]
    },
    {
      "cell_type": "code",
      "execution_count": null,
      "id": "81bfa60a",
      "metadata": {
        "id": "81bfa60a"
      },
      "outputs": [],
      "source": [
        "tree_model = DecisionTreeRegressor(random_state = 1)"
      ]
    },
    {
      "cell_type": "markdown",
      "id": "c0ed704c",
      "metadata": {
        "id": "c0ed704c"
      },
      "source": [
        "## Fit model:"
      ]
    },
    {
      "cell_type": "code",
      "execution_count": null,
      "id": "831ac2de",
      "metadata": {
        "id": "831ac2de"
      },
      "outputs": [],
      "source": [
        "tree_model.fit(x,y)"
      ]
    },
    {
      "cell_type": "markdown",
      "id": "60660e25",
      "metadata": {
        "id": "60660e25"
      },
      "source": [
        "## Predict :"
      ]
    },
    {
      "cell_type": "code",
      "execution_count": null,
      "id": "7d74d8a5",
      "metadata": {
        "id": "7d74d8a5"
      },
      "outputs": [],
      "source": [
        "df_iris.head()"
      ]
    },
    {
      "cell_type": "code",
      "execution_count": null,
      "id": "a8d2aaca",
      "metadata": {
        "id": "a8d2aaca"
      },
      "outputs": [],
      "source": [
        "x.head()"
      ]
    },
    {
      "cell_type": "code",
      "execution_count": null,
      "id": "bf3e8d57",
      "metadata": {
        "id": "bf3e8d57"
      },
      "outputs": [],
      "source": [
        "tree_model.predict(x.head())"
      ]
    },
    {
      "cell_type": "code",
      "execution_count": null,
      "id": "57791b28",
      "metadata": {
        "id": "57791b28"
      },
      "outputs": [],
      "source": []
    },
    {
      "cell_type": "code",
      "execution_count": null,
      "id": "52b15bee",
      "metadata": {
        "id": "52b15bee"
      },
      "outputs": [],
      "source": [
        "df_iris.tail()"
      ]
    },
    {
      "cell_type": "code",
      "execution_count": null,
      "id": "12c9231f",
      "metadata": {
        "id": "12c9231f"
      },
      "outputs": [],
      "source": [
        "x.tail()"
      ]
    },
    {
      "cell_type": "code",
      "execution_count": null,
      "id": "a88a030f",
      "metadata": {
        "id": "a88a030f"
      },
      "outputs": [],
      "source": [
        "tree_model.predict(x.tail())"
      ]
    },
    {
      "cell_type": "code",
      "execution_count": null,
      "id": "d40fe013",
      "metadata": {
        "id": "d40fe013"
      },
      "outputs": [],
      "source": []
    },
    {
      "cell_type": "code",
      "execution_count": null,
      "id": "8cf41d58",
      "metadata": {
        "id": "8cf41d58"
      },
      "outputs": [],
      "source": [
        "df_iris.loc[[110]]"
      ]
    },
    {
      "cell_type": "code",
      "execution_count": null,
      "id": "c488ea28",
      "metadata": {
        "id": "c488ea28"
      },
      "outputs": [],
      "source": [
        "x.loc[[110]]"
      ]
    },
    {
      "cell_type": "code",
      "execution_count": null,
      "id": "07747e87",
      "metadata": {
        "id": "07747e87"
      },
      "outputs": [],
      "source": [
        "a = tree_model.predict(x.loc[[110]])\n",
        "\n",
        "if a == 0:\n",
        "    print('setosa')\n",
        "elif a == 1:\n",
        "    print('versicolor')\n",
        "else:\n",
        "    print('virginica')"
      ]
    },
    {
      "cell_type": "code",
      "execution_count": null,
      "id": "54234ffe",
      "metadata": {
        "id": "54234ffe"
      },
      "outputs": [],
      "source": []
    },
    {
      "cell_type": "markdown",
      "id": "e79b1886",
      "metadata": {
        "id": "e79b1886"
      },
      "source": [
        "<div style=\"direction:rtl\">\n",
        "<font color='blue' size=\"5px\">\n",
        "تمرین 1 امتیازی: خروجی قطعه کد زیر چیست؟\n",
        "    </font>\n",
        "</div>"
      ]
    },
    {
      "cell_type": "code",
      "execution_count": null,
      "id": "7e28fbdd",
      "metadata": {
        "id": "7e28fbdd"
      },
      "outputs": [],
      "source": [
        "from sklearn.datasets import load_iris\n",
        "from sklearn.tree import DecisionTreeRegressor\n",
        "import pandas as pd\n",
        "\n",
        "iris = load_iris()\n",
        "df_iris = pd.DataFrame(iris.data, columns = iris.feature_names)\n",
        "df_iris['target'] = iris.target\n",
        "\n",
        "y = df_iris['target']\n",
        "\n",
        "iris_features = ['sepal length (cm)', 'sepal width (cm)', 'petal length (cm)', 'petal width (cm)']\n",
        "x = df_iris[iris_features]\n",
        "\n",
        "tree_model = DecisionTreeRegressor(random_state = 1)\n",
        "\n",
        "tree_model.fit(x,y)\n",
        "\n",
        "a = tree_model.predict(x.loc[[70]])\n",
        "\n",
        "if a == 0:\n",
        "    print('setosa')\n",
        "elif a == 1:\n",
        "    print('versicolor')\n",
        "else:\n",
        "    print('virginica')"
      ]
    },
    {
      "cell_type": "code",
      "execution_count": null,
      "id": "72cc0132",
      "metadata": {
        "id": "72cc0132"
      },
      "outputs": [],
      "source": []
    },
    {
      "cell_type": "markdown",
      "id": "217afeef",
      "metadata": {
        "id": "217afeef"
      },
      "source": [
        "## Model Validation :"
      ]
    },
    {
      "cell_type": "code",
      "execution_count": null,
      "id": "95e64df1",
      "metadata": {
        "id": "95e64df1"
      },
      "outputs": [],
      "source": [
        "from sklearn.metrics import accuracy_score"
      ]
    },
    {
      "cell_type": "code",
      "execution_count": null,
      "id": "f6f46da5",
      "metadata": {
        "id": "f6f46da5"
      },
      "outputs": [],
      "source": [
        "predict = tree_model.predict(x.tail())"
      ]
    },
    {
      "cell_type": "code",
      "execution_count": null,
      "id": "e50348c2",
      "metadata": {
        "id": "e50348c2"
      },
      "outputs": [],
      "source": [
        "accuracy_score(y.tail(), predict)"
      ]
    },
    {
      "cell_type": "code",
      "execution_count": null,
      "id": "89c10ca0",
      "metadata": {
        "id": "89c10ca0"
      },
      "outputs": [],
      "source": []
    },
    {
      "cell_type": "code",
      "execution_count": null,
      "id": "0021002e",
      "metadata": {
        "id": "0021002e"
      },
      "outputs": [],
      "source": [
        "from sklearn.model_selection import train_test_split"
      ]
    },
    {
      "cell_type": "code",
      "execution_count": null,
      "id": "789d7cdc",
      "metadata": {
        "id": "789d7cdc"
      },
      "outputs": [],
      "source": [
        "x_train, x_test, y_train, y_test = train_test_split(x, y , test_size = 0.2 , shuffle=True)"
      ]
    },
    {
      "cell_type": "code",
      "execution_count": null,
      "id": "2a805b24",
      "metadata": {
        "id": "2a805b24"
      },
      "outputs": [],
      "source": [
        "print(x_train.shape)\n",
        "print(y_train.shape)\n",
        "print(x_test.shape)\n",
        "print(y_test.shape)"
      ]
    },
    {
      "cell_type": "code",
      "execution_count": null,
      "id": "8a6d406b",
      "metadata": {
        "id": "8a6d406b"
      },
      "outputs": [],
      "source": [
        "tree_model2 = DecisionTreeClassifier(random_state = 1)"
      ]
    },
    {
      "cell_type": "code",
      "execution_count": null,
      "id": "67bbbc0c",
      "metadata": {
        "id": "67bbbc0c"
      },
      "outputs": [],
      "source": [
        "tree_model2.fit(x_train, y_train)"
      ]
    },
    {
      "cell_type": "code",
      "execution_count": null,
      "id": "d5004aa6",
      "metadata": {
        "id": "d5004aa6"
      },
      "outputs": [],
      "source": [
        "test_predict = tree_model2.predict(x_test)"
      ]
    },
    {
      "cell_type": "code",
      "execution_count": null,
      "id": "6b2bc3aa",
      "metadata": {
        "id": "6b2bc3aa"
      },
      "outputs": [],
      "source": [
        "accuracy_score(y_test, test_predict)"
      ]
    },
    {
      "cell_type": "code",
      "execution_count": null,
      "id": "d7717fcf",
      "metadata": {
        "id": "d7717fcf"
      },
      "outputs": [],
      "source": []
    },
    {
      "cell_type": "markdown",
      "id": "b5d150dd",
      "metadata": {
        "id": "b5d150dd"
      },
      "source": [
        "## RandomForest:"
      ]
    },
    {
      "cell_type": "markdown",
      "id": "e821c178",
      "metadata": {
        "id": "e821c178"
      },
      "source": [
        "<div style=\"direction:rtl\">\n",
        "<font color='red' size=\"5px\">\n",
        " مثال:\n",
        "    </font>\n",
        "</div>"
      ]
    },
    {
      "cell_type": "code",
      "execution_count": null,
      "id": "fc547132",
      "metadata": {
        "id": "fc547132"
      },
      "outputs": [],
      "source": [
        "from sklearn.ensemble import RandomForestClassifier"
      ]
    },
    {
      "cell_type": "code",
      "execution_count": null,
      "id": "3773983b",
      "metadata": {
        "id": "3773983b"
      },
      "outputs": [],
      "source": [
        "RF_model = RandomForestClassifier(random_state = 1)"
      ]
    },
    {
      "cell_type": "code",
      "execution_count": null,
      "id": "f0114533",
      "metadata": {
        "id": "f0114533"
      },
      "outputs": [],
      "source": [
        "RF_model.fit(x_train, y_train)"
      ]
    },
    {
      "cell_type": "code",
      "execution_count": null,
      "id": "5b9d3550",
      "metadata": {
        "id": "5b9d3550"
      },
      "outputs": [],
      "source": [
        "rf_predict = RF_model.predict(x_test)"
      ]
    },
    {
      "cell_type": "code",
      "execution_count": null,
      "id": "7ae0a30a",
      "metadata": {
        "id": "7ae0a30a"
      },
      "outputs": [],
      "source": [
        "accuracy_score(y_test, rf_predict)"
      ]
    },
    {
      "cell_type": "code",
      "execution_count": null,
      "id": "4f9e9709",
      "metadata": {
        "id": "4f9e9709"
      },
      "outputs": [],
      "source": []
    },
    {
      "cell_type": "markdown",
      "id": "1678a613",
      "metadata": {
        "id": "1678a613"
      },
      "source": [
        "<div style=\"direction:rtl\">\n",
        "<font color='red' size=\"5px\">\n",
        " مثال:\n",
        "    </font>\n",
        "</div>"
      ]
    },
    {
      "cell_type": "code",
      "execution_count": null,
      "id": "63e7aa2f",
      "metadata": {
        "id": "63e7aa2f"
      },
      "outputs": [],
      "source": [
        "from sklearn.datasets import load_breast_cancer"
      ]
    },
    {
      "cell_type": "code",
      "execution_count": null,
      "id": "1985ee95",
      "metadata": {
        "id": "1985ee95"
      },
      "outputs": [],
      "source": [
        "dataset = load_breast_cancer()\n",
        "\n",
        "dataset"
      ]
    },
    {
      "cell_type": "code",
      "execution_count": null,
      "id": "8fe0dd8f",
      "metadata": {
        "id": "8fe0dd8f"
      },
      "outputs": [],
      "source": [
        "dataset.keys()"
      ]
    },
    {
      "cell_type": "code",
      "execution_count": null,
      "id": "7c6fa23d",
      "metadata": {
        "id": "7c6fa23d"
      },
      "outputs": [],
      "source": [
        "print(data['target_names'])"
      ]
    },
    {
      "cell_type": "code",
      "execution_count": null,
      "id": "7690fde9",
      "metadata": {
        "id": "7690fde9"
      },
      "outputs": [],
      "source": [
        "df_BC = pd.DataFrame(dataset.data, columns = dataset.feature_names)\n",
        "\n",
        "df_BC['target'] = dataset.target\n",
        "\n",
        "df_BC"
      ]
    },
    {
      "cell_type": "code",
      "execution_count": null,
      "id": "18f64345",
      "metadata": {
        "id": "18f64345"
      },
      "outputs": [],
      "source": [
        "df_BC.info()"
      ]
    },
    {
      "cell_type": "code",
      "execution_count": null,
      "id": "2ac5b999",
      "metadata": {
        "id": "2ac5b999"
      },
      "outputs": [],
      "source": [
        "df_BC.describe()"
      ]
    },
    {
      "cell_type": "code",
      "execution_count": null,
      "id": "27a86e09",
      "metadata": {
        "id": "27a86e09"
      },
      "outputs": [],
      "source": []
    },
    {
      "cell_type": "markdown",
      "id": "39aed94e",
      "metadata": {
        "id": "39aed94e"
      },
      "source": [
        "<div style=\"direction:rtl\">\n",
        "<font color='blue' size=\"5px\">\n",
        "تمرین 2 امتیازی: خروجی قطعه کد زیر چیست؟\n",
        "    </font>\n",
        "</div>"
      ]
    },
    {
      "cell_type": "code",
      "execution_count": null,
      "id": "8e8cd6e8",
      "metadata": {
        "id": "8e8cd6e8"
      },
      "outputs": [],
      "source": [
        "from sklearn.datasets import load_breast_cancer\n",
        "from sklearn.ensemble import RandomForestClassifier\n",
        "from sklearn.model_selection import train_test_split\n",
        "\n",
        "dataset = load_breast_cancer()\n",
        "\n",
        "x = dataset['data']\n",
        "\n",
        "y = dataset['target']\n",
        "\n",
        "x_train, x_test, y_train, y_test = train_test_split(x, y, test_size = 0.2, shuffle=True)\n",
        "\n",
        "RF_model2 = RandomForestClassifier(random_state=1)\n",
        "\n",
        "RF_model2.fit(x_train, y_train)\n",
        "\n",
        "RF_predict2 = RF_model2.predict(x_test)\n",
        "\n",
        "accuracy_score(y_test, RF_predict2)"
      ]
    },
    {
      "cell_type": "code",
      "execution_count": null,
      "id": "97717361",
      "metadata": {
        "id": "97717361"
      },
      "outputs": [],
      "source": []
    },
    {
      "cell_type": "markdown",
      "id": "6db11396",
      "metadata": {
        "id": "6db11396"
      },
      "source": [
        "# preprocessing :"
      ]
    },
    {
      "cell_type": "markdown",
      "id": "677a3f8b",
      "metadata": {
        "id": "677a3f8b"
      },
      "source": [
        "## MinMaxScaler , StandardScaler :"
      ]
    },
    {
      "cell_type": "code",
      "execution_count": null,
      "id": "43b63d89",
      "metadata": {
        "id": "43b63d89"
      },
      "outputs": [],
      "source": [
        "from sklearn.datasets import load_breast_cancer\n",
        "\n",
        "dataset = load_breast_cancer()\n",
        "dataset"
      ]
    },
    {
      "cell_type": "code",
      "execution_count": null,
      "id": "130bfbaa",
      "metadata": {
        "id": "130bfbaa"
      },
      "outputs": [],
      "source": [
        "import pandas as pd\n",
        "\n",
        "df_BC = pd.DataFrame(dataset.data, columns = dataset.feature_names)\n",
        "\n",
        "df_BC['target'] = dataset.target\n",
        "\n",
        "df_BC.head(10)"
      ]
    },
    {
      "cell_type": "code",
      "execution_count": null,
      "id": "a91bd557",
      "metadata": {
        "id": "a91bd557"
      },
      "outputs": [],
      "source": [
        "df_BC.describe()"
      ]
    },
    {
      "cell_type": "code",
      "execution_count": null,
      "id": "0b6703f0",
      "metadata": {
        "id": "0b6703f0"
      },
      "outputs": [],
      "source": [
        "from sklearn import preprocessing\n",
        "\n",
        "scaler_data = preprocessing.MinMaxScaler(feature_range = (0,1))"
      ]
    },
    {
      "cell_type": "code",
      "execution_count": null,
      "id": "d6136b35",
      "metadata": {
        "id": "d6136b35"
      },
      "outputs": [],
      "source": [
        "data_rescaled = scaler_data.fit_transform(dataset.data)"
      ]
    },
    {
      "cell_type": "code",
      "execution_count": null,
      "id": "9628d5cd",
      "metadata": {
        "id": "9628d5cd"
      },
      "outputs": [],
      "source": [
        "df_BC_scaler = pd.DataFrame(data_rescaled, columns = dataset.feature_names)\n",
        "\n",
        "df_BC_scaler.describe()"
      ]
    },
    {
      "cell_type": "code",
      "execution_count": null,
      "id": "87c9bc74",
      "metadata": {
        "id": "87c9bc74"
      },
      "outputs": [],
      "source": [
        "x = data_rescaled\n",
        "y = dataset.target"
      ]
    },
    {
      "cell_type": "code",
      "execution_count": null,
      "id": "db9c9633",
      "metadata": {
        "id": "db9c9633"
      },
      "outputs": [],
      "source": [
        "from sklearn.model_selection import train_test_split\n",
        "\n",
        "x_train, x_test, y_train, y_test = train_test_split(x,y, test_size=0.2)\n",
        "\n",
        "print(x_train.shape)\n",
        "print(y_train.shape)\n",
        "print(x_test.shape)\n",
        "print(y_test.shape)"
      ]
    },
    {
      "cell_type": "code",
      "execution_count": null,
      "id": "9cada36e",
      "metadata": {
        "id": "9cada36e"
      },
      "outputs": [],
      "source": [
        "from sklearn.ensemble import RandomForestClassifier\n",
        "\n",
        "RF_model3 = RandomForestClassifier(random_state=1)\n",
        "\n",
        "RF_model3.fit(x_train, y_train)\n",
        "\n",
        "RF_predict = RF_model3.predict(x_test)"
      ]
    },
    {
      "cell_type": "code",
      "execution_count": null,
      "id": "b9813d18",
      "metadata": {
        "id": "b9813d18"
      },
      "outputs": [],
      "source": [
        "from sklearn.metrics import accuracy_score, confusion_matrix, ConfusionMatrixDisplay\n",
        "\n",
        "accuracy_score(y_test, RF_predict)"
      ]
    },
    {
      "cell_type": "code",
      "execution_count": null,
      "id": "0c1251b9",
      "metadata": {
        "id": "0c1251b9"
      },
      "outputs": [],
      "source": [
        "print(dataset.target_names)"
      ]
    },
    {
      "cell_type": "code",
      "execution_count": null,
      "id": "f96a94fb",
      "metadata": {
        "id": "f96a94fb"
      },
      "outputs": [],
      "source": [
        "import matplotlib.pyplot as plt\n",
        "\n",
        "confu = ConfusionMatrixDisplay(confusion_matrix(y_test, RF_predict), display_labels=['malignant', 'benign'])\n",
        "\n",
        "confu.plot()\n",
        "\n",
        "plt.show()"
      ]
    },
    {
      "cell_type": "code",
      "execution_count": null,
      "id": "134eb8c1",
      "metadata": {
        "id": "134eb8c1"
      },
      "outputs": [],
      "source": []
    },
    {
      "cell_type": "code",
      "execution_count": null,
      "id": "b687acff",
      "metadata": {
        "id": "b687acff"
      },
      "outputs": [],
      "source": []
    },
    {
      "cell_type": "code",
      "execution_count": null,
      "id": "be0b58ec",
      "metadata": {
        "id": "be0b58ec"
      },
      "outputs": [],
      "source": []
    },
    {
      "cell_type": "code",
      "execution_count": null,
      "id": "673893f0",
      "metadata": {
        "id": "673893f0"
      },
      "outputs": [],
      "source": [
        "from sklearn import preprocessing\n",
        "\n",
        "scaler_data = preprocessing.MinMaxScaler(feature_range = (0,1))"
      ]
    },
    {
      "cell_type": "code",
      "execution_count": null,
      "id": "4c130cca",
      "metadata": {
        "id": "4c130cca"
      },
      "outputs": [],
      "source": [
        "x = dataset.data\n",
        "y = dataset.target"
      ]
    },
    {
      "cell_type": "code",
      "execution_count": null,
      "id": "5d449cd7",
      "metadata": {
        "id": "5d449cd7"
      },
      "outputs": [],
      "source": [
        "from sklearn.model_selection import train_test_split\n",
        "\n",
        "x_train, x_test, y_train, y_test = train_test_split(x,y, test_size=0.2)\n",
        "\n",
        "print(x_train.shape)\n",
        "print(y_train.shape)\n",
        "print(x_test.shape)\n",
        "print(y_test.shape)"
      ]
    },
    {
      "cell_type": "code",
      "execution_count": null,
      "id": "296d0102",
      "metadata": {
        "id": "296d0102"
      },
      "outputs": [],
      "source": [
        "x_train = scaler_data.fit_transform(x_train)"
      ]
    },
    {
      "cell_type": "code",
      "execution_count": null,
      "id": "5d35b314",
      "metadata": {
        "id": "5d35b314"
      },
      "outputs": [],
      "source": [
        "from sklearn.ensemble import RandomForestClassifier\n",
        "\n",
        "RF_model4 = RandomForestClassifier(random_state=1)\n",
        "\n",
        "RF_model4.fit(x_train, y_train)\n",
        "\n",
        "x_test = scaler_data.fit_transform(x_test)\n",
        "\n",
        "RF_predict = RF_model4.predict(x_test)"
      ]
    },
    {
      "cell_type": "code",
      "execution_count": null,
      "id": "2e0482b0",
      "metadata": {
        "id": "2e0482b0"
      },
      "outputs": [],
      "source": [
        "from sklearn.metrics import accuracy_score, confusion_matrix, ConfusionMatrixDisplay\n",
        "\n",
        "accuracy_score(y_test, RF_predict)"
      ]
    },
    {
      "cell_type": "code",
      "execution_count": null,
      "id": "bbd0d2d9",
      "metadata": {
        "id": "bbd0d2d9"
      },
      "outputs": [],
      "source": [
        "import matplotlib.pyplot as plt\n",
        "\n",
        "confu = ConfusionMatrixDisplay(confusion_matrix(y_test, RF_predict), display_labels=['malignant', 'benign'])\n",
        "\n",
        "confu.plot()\n",
        "\n",
        "plt.show()"
      ]
    },
    {
      "cell_type": "code",
      "execution_count": null,
      "id": "baa21bdc",
      "metadata": {
        "id": "baa21bdc"
      },
      "outputs": [],
      "source": []
    },
    {
      "cell_type": "markdown",
      "id": "7e150b1d",
      "metadata": {
        "id": "7e150b1d"
      },
      "source": [
        "# feature selection :"
      ]
    },
    {
      "cell_type": "code",
      "execution_count": null,
      "id": "d5068536",
      "metadata": {
        "id": "d5068536"
      },
      "outputs": [],
      "source": [
        "from sklearn.feature_selection import SelectKBest\n",
        "from sklearn.feature_selection import f_classif"
      ]
    },
    {
      "cell_type": "code",
      "execution_count": null,
      "id": "2722d3f4",
      "metadata": {
        "id": "2722d3f4"
      },
      "outputs": [],
      "source": [
        "x = dataset.data\n",
        "y = dataset.target\n",
        "\n",
        "print(x.shape)\n",
        "print(y.shape)"
      ]
    },
    {
      "cell_type": "code",
      "execution_count": null,
      "id": "75ed0bbc",
      "metadata": {
        "id": "75ed0bbc"
      },
      "outputs": [],
      "source": [
        "x_new = SelectKBest(f_classif, k=10).fit_transform(x, y)\n",
        "\n",
        "print(x_new.shape)"
      ]
    },
    {
      "cell_type": "code",
      "execution_count": null,
      "id": "e7994577",
      "metadata": {
        "id": "e7994577"
      },
      "outputs": [],
      "source": [
        "from sklearn.model_selection import train_test_split\n",
        "\n",
        "x_train, x_test, y_train, y_test = train_test_split(x_new,y, test_size=0.2)\n",
        "\n",
        "print(x_train.shape)\n",
        "print(y_train.shape)\n",
        "print(x_test.shape)\n",
        "print(y_test.shape)"
      ]
    },
    {
      "cell_type": "code",
      "execution_count": null,
      "id": "577d3f7e",
      "metadata": {
        "id": "577d3f7e"
      },
      "outputs": [],
      "source": [
        "scaler_data = preprocessing.MinMaxScaler(feature_range = (0,1))\n",
        "\n",
        "x_train = scaler_data.fit_transform(x_train)"
      ]
    },
    {
      "cell_type": "code",
      "execution_count": null,
      "id": "d5fddb03",
      "metadata": {
        "id": "d5fddb03"
      },
      "outputs": [],
      "source": [
        "RF_model4 = RandomForestClassifier(random_state=1)\n",
        "\n",
        "RF_model4.fit(x_train, y_train)\n",
        "\n",
        "x_test = scaler_data.fit_transform(x_test)\n",
        "\n",
        "RF_predict = RF_model4.predict(x_test)"
      ]
    },
    {
      "cell_type": "code",
      "execution_count": null,
      "id": "54885752",
      "metadata": {
        "id": "54885752"
      },
      "outputs": [],
      "source": [
        "from sklearn.metrics import accuracy_score, confusion_matrix, ConfusionMatrixDisplay\n",
        "\n",
        "accuracy_score(y_test, RF_predict)"
      ]
    },
    {
      "cell_type": "code",
      "execution_count": null,
      "id": "467bf937",
      "metadata": {
        "id": "467bf937"
      },
      "outputs": [],
      "source": [
        "import matplotlib.pyplot as plt\n",
        "\n",
        "confu = ConfusionMatrixDisplay(confusion_matrix(y_test, RF_predict), display_labels=['malignant', 'benign'])\n",
        "\n",
        "confu.plot()\n",
        "\n",
        "plt.show()"
      ]
    },
    {
      "cell_type": "code",
      "execution_count": null,
      "id": "00a87ba5",
      "metadata": {
        "id": "00a87ba5"
      },
      "outputs": [],
      "source": []
    },
    {
      "cell_type": "code",
      "execution_count": null,
      "id": "32ad296a",
      "metadata": {
        "id": "32ad296a"
      },
      "outputs": [],
      "source": []
    },
    {
      "cell_type": "code",
      "execution_count": null,
      "id": "242f42ed",
      "metadata": {
        "id": "242f42ed"
      },
      "outputs": [],
      "source": []
    },
    {
      "cell_type": "code",
      "execution_count": null,
      "id": "870b3f22",
      "metadata": {
        "id": "870b3f22"
      },
      "outputs": [],
      "source": [
        "x = dataset.data\n",
        "y = dataset.target\n",
        "\n",
        "print(x.shape)\n",
        "print(y.shape)"
      ]
    },
    {
      "cell_type": "code",
      "execution_count": null,
      "id": "f347bd7b",
      "metadata": {
        "id": "f347bd7b"
      },
      "outputs": [],
      "source": [
        "x_new = SelectKBest(f_classif, k=10).fit_transform(x, y)\n",
        "\n",
        "print(x_new.shape)"
      ]
    },
    {
      "cell_type": "code",
      "execution_count": null,
      "id": "30f5bedc",
      "metadata": {
        "id": "30f5bedc"
      },
      "outputs": [],
      "source": [
        "from sklearn.model_selection import train_test_split\n",
        "\n",
        "x_train, x_test, y_train, y_test = train_test_split(x_new,y, test_size=0.2)\n",
        "\n",
        "print(x_train.shape)\n",
        "print(y_train.shape)\n",
        "print(x_test.shape)\n",
        "print(y_test.shape)"
      ]
    },
    {
      "cell_type": "code",
      "execution_count": null,
      "id": "ba271ce0",
      "metadata": {
        "id": "ba271ce0"
      },
      "outputs": [],
      "source": [
        "scaler_data = preprocessing.StandardScaler()\n",
        "\n",
        "x_train = scaler_data.fit_transform(x_train)"
      ]
    },
    {
      "cell_type": "code",
      "execution_count": null,
      "id": "bf706ce0",
      "metadata": {
        "id": "bf706ce0"
      },
      "outputs": [],
      "source": [
        "RF_model4 = RandomForestClassifier(random_state=1)\n",
        "\n",
        "RF_model4.fit(x_train, y_train)\n",
        "\n",
        "x_test = scaler_data.fit_transform(x_test)\n",
        "\n",
        "RF_predict = RF_model4.predict(x_test)"
      ]
    },
    {
      "cell_type": "code",
      "execution_count": null,
      "id": "3a331b87",
      "metadata": {
        "id": "3a331b87"
      },
      "outputs": [],
      "source": [
        "from sklearn.metrics import accuracy_score, confusion_matrix, ConfusionMatrixDisplay\n",
        "\n",
        "accuracy_score(y_test, RF_predict)"
      ]
    },
    {
      "cell_type": "code",
      "execution_count": null,
      "id": "9561ddc3",
      "metadata": {
        "id": "9561ddc3"
      },
      "outputs": [],
      "source": [
        "import matplotlib.pyplot as plt\n",
        "\n",
        "confu = ConfusionMatrixDisplay(confusion_matrix(y_test, RF_predict), display_labels=['malignant', 'benign'])\n",
        "\n",
        "confu.plot()\n",
        "\n",
        "plt.show()"
      ]
    },
    {
      "cell_type": "code",
      "execution_count": null,
      "id": "6d77fc97",
      "metadata": {
        "id": "6d77fc97"
      },
      "outputs": [],
      "source": []
    },
    {
      "cell_type": "markdown",
      "id": "4196327a",
      "metadata": {
        "id": "4196327a"
      },
      "source": [
        "## pipline:"
      ]
    },
    {
      "cell_type": "code",
      "execution_count": null,
      "id": "a1aa0a63",
      "metadata": {
        "id": "a1aa0a63"
      },
      "outputs": [],
      "source": [
        "from sklearn.pipeline import Pipeline\n",
        "\n",
        "from sklearn.preprocessing import StandardScaler"
      ]
    },
    {
      "cell_type": "code",
      "execution_count": null,
      "id": "4bb8a420",
      "metadata": {
        "id": "4bb8a420"
      },
      "outputs": [],
      "source": [
        "pipe = Pipeline([('scaler', StandardScaler()), ('RF', RandomForestClassifier())])"
      ]
    },
    {
      "cell_type": "code",
      "execution_count": null,
      "id": "36367a56",
      "metadata": {
        "id": "36367a56"
      },
      "outputs": [],
      "source": [
        "pipe.fit(x_train, y_train).score(x_test, y_test)"
      ]
    },
    {
      "cell_type": "code",
      "execution_count": null,
      "id": "af3004be",
      "metadata": {
        "id": "af3004be"
      },
      "outputs": [],
      "source": []
    },
    {
      "cell_type": "markdown",
      "id": "49f9c489",
      "metadata": {
        "id": "49f9c489"
      },
      "source": [
        "# KNN :"
      ]
    },
    {
      "cell_type": "markdown",
      "id": "2d7acfae",
      "metadata": {
        "id": "2d7acfae"
      },
      "source": [
        "<div style=\"direction:rtl\">\n",
        "<font color='blue' size=\"5px\">\n",
        "تمرین 3 امتیازی: خروجی قطعه کد زیر چیست؟\n",
        "    </font>\n",
        "</div>"
      ]
    },
    {
      "cell_type": "code",
      "execution_count": null,
      "id": "4af3ac25",
      "metadata": {
        "id": "4af3ac25"
      },
      "outputs": [],
      "source": [
        "from sklearn.neighbors import NeighborhoodComponentsAnalysis, KNeighborsClassifier\n",
        "\n",
        "from sklearn.datasets import load_breast_cancer"
      ]
    },
    {
      "cell_type": "code",
      "execution_count": null,
      "id": "38f417ff",
      "metadata": {
        "id": "38f417ff"
      },
      "outputs": [],
      "source": [
        "x, y = load_breast_cancer(return_X_y=True)\n",
        "\n",
        "x_train, x_test, y_train, y_test = train_test_split(x, y, test_size=0.2)\n",
        "\n",
        "nca = NeighborhoodComponentsAnalysis()\n",
        "\n",
        "knn = KNeighborsClassifier(n_neighbors=5)\n",
        "\n",
        "nca_pipe = Pipeline([('nca', nca), ('knn', knn)])\n",
        "\n",
        "nca_pipe.fit(x_train, y_train).score(x_test, y_test)"
      ]
    },
    {
      "cell_type": "code",
      "execution_count": null,
      "id": "719b5ce5",
      "metadata": {
        "id": "719b5ce5"
      },
      "outputs": [],
      "source": []
    },
    {
      "cell_type": "markdown",
      "id": "cdda1ce3",
      "metadata": {
        "id": "cdda1ce3"
      },
      "source": [
        "# SVM:"
      ]
    },
    {
      "cell_type": "markdown",
      "id": "cd84d829",
      "metadata": {
        "id": "cd84d829"
      },
      "source": [
        "<div style=\"direction:rtl\">\n",
        "<font color='blue' size=\"5px\">\n",
        "تمرین 4 امتیازی: خروجی قطعه کد زیر چیست؟\n",
        "    </font>\n",
        "</div>"
      ]
    },
    {
      "cell_type": "code",
      "execution_count": null,
      "id": "6c34775b",
      "metadata": {
        "id": "6c34775b"
      },
      "outputs": [],
      "source": [
        "from sklearn.svm import SVC\n",
        "\n",
        "pipe = Pipeline([('scaler', StandardScaler()), ('svm', SVC())])\n",
        "\n",
        "pipe.fit(x_train, y_train).score(x_test, y_test)"
      ]
    }
  ],
  "metadata": {
    "kernelspec": {
      "display_name": "Python 3 (ipykernel)",
      "language": "python",
      "name": "python3"
    },
    "language_info": {
      "codemirror_mode": {
        "name": "ipython",
        "version": 3
      },
      "file_extension": ".py",
      "mimetype": "text/x-python",
      "name": "python",
      "nbconvert_exporter": "python",
      "pygments_lexer": "ipython3",
      "version": "3.11.5"
    },
    "colab": {
      "provenance": [],
      "include_colab_link": true
    }
  },
  "nbformat": 4,
  "nbformat_minor": 5
}