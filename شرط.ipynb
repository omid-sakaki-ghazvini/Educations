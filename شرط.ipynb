{
  "cells": [
    {
      "cell_type": "markdown",
      "metadata": {
        "id": "view-in-github",
        "colab_type": "text"
      },
      "source": [
        "<a href=\"https://colab.research.google.com/github/omid-sakaki-ghazvini/Educations/blob/main/%D8%B4%D8%B1%D8%B7.ipynb\" target=\"_parent\"><img src=\"https://colab.research.google.com/assets/colab-badge.svg\" alt=\"Open In Colab\"/></a>"
      ]
    },
    {
      "cell_type": "markdown",
      "id": "7bb1fc07",
      "metadata": {
        "id": "7bb1fc07"
      },
      "source": [
        "# جملات شرطی در پایتون:"
      ]
    },
    {
      "cell_type": "markdown",
      "id": "dd5ed73b",
      "metadata": {
        "id": "dd5ed73b"
      },
      "source": [
        "## if\n",
        "## else"
      ]
    },
    {
      "cell_type": "markdown",
      "id": "b955dbc2",
      "metadata": {
        "id": "b955dbc2"
      },
      "source": [
        "## مثال اول: برنامه ای بنویسید که دو مقدار از ورودی خوانده، مقدار بزرگتر را در خروجی چاپ میکند"
      ]
    },
    {
      "cell_type": "code",
      "execution_count": null,
      "id": "fb007017",
      "metadata": {
        "id": "fb007017",
        "outputId": "9bb4b383-2edd-4cb5-addf-b514c53e8efd"
      },
      "outputs": [
        {
          "name": "stdout",
          "output_type": "stream",
          "text": [
            "2\n",
            "1\n",
            "2\n"
          ]
        }
      ],
      "source": [
        "A = int( input() )\n",
        "B = int( input() )\n",
        "\n",
        "if A > B :\n",
        "\n",
        "    MAX = A\n",
        "\n",
        "else:\n",
        "\n",
        "    MAX = B\n",
        "\n",
        "print(MAX)"
      ]
    },
    {
      "cell_type": "markdown",
      "id": "c65b9f65",
      "metadata": {
        "id": "c65b9f65"
      },
      "source": [
        "## تمرین 1 امتیازی: برنامه ای  بنویسید که عددی را دریافت کند و اگر عدد زوج بود کلمه زوج و اگر فرد بود کلمه فرد را در خروجی چاپ کند"
      ]
    },
    {
      "cell_type": "code",
      "execution_count": null,
      "id": "971d106a",
      "metadata": {
        "id": "971d106a"
      },
      "outputs": [],
      "source": []
    },
    {
      "cell_type": "code",
      "execution_count": null,
      "id": "7319c871",
      "metadata": {
        "id": "7319c871",
        "outputId": "a5375920-9604-4560-bd75-fb3daea7a9f7"
      },
      "outputs": [
        {
          "name": "stdout",
          "output_type": "stream",
          "text": [
            "7\n",
            "فرد\n"
          ]
        }
      ],
      "source": [
        "A = int( input() )\n",
        "D = A%2\n",
        "\n",
        "if D==0 :\n",
        "    print(\"زوج\")\n",
        "else:\n",
        "    print(\"فرد\")"
      ]
    },
    {
      "cell_type": "code",
      "execution_count": null,
      "id": "3582f23e",
      "metadata": {
        "id": "3582f23e"
      },
      "outputs": [],
      "source": []
    },
    {
      "cell_type": "markdown",
      "id": "5b032faa",
      "metadata": {
        "id": "5b032faa"
      },
      "source": [
        "## تمرین 2 امتیازی: برنامه ای بنویسید که عددی را خوانده و قدر مطلق آن را در خروجی چاپ میکند"
      ]
    },
    {
      "cell_type": "code",
      "execution_count": null,
      "id": "4502eb44",
      "metadata": {
        "id": "4502eb44",
        "outputId": "0756e069-4a25-43d9-80a1-3c19dbee9411"
      },
      "outputs": [
        {
          "name": "stdout",
          "output_type": "stream",
          "text": [
            "-2\n",
            "2\n"
          ]
        }
      ],
      "source": [
        "A = int( input() )\n",
        "\n",
        "if A>=0 :\n",
        "    print(A)\n",
        "else:\n",
        "    print(-A)"
      ]
    },
    {
      "cell_type": "code",
      "execution_count": null,
      "id": "46fa76d2",
      "metadata": {
        "id": "46fa76d2"
      },
      "outputs": [],
      "source": []
    },
    {
      "cell_type": "markdown",
      "id": "92c9879b",
      "metadata": {
        "id": "92c9879b"
      },
      "source": [
        "# if\n",
        "# elif\n",
        "# else"
      ]
    },
    {
      "cell_type": "markdown",
      "id": "7fbefdf9",
      "metadata": {
        "id": "7fbefdf9"
      },
      "source": [
        "## مثال دوم: برنامه ای بنویسید که سه مقدار از ورودی خوانده، مقدار بزرگتر را در خروجی چاپ میکند"
      ]
    },
    {
      "cell_type": "code",
      "execution_count": null,
      "id": "2f432c7a",
      "metadata": {
        "id": "2f432c7a",
        "outputId": "3755afe8-2382-490e-aff3-5474b8b09fda"
      },
      "outputs": [
        {
          "name": "stdout",
          "output_type": "stream",
          "text": [
            "1\n",
            "10\n",
            "100\n",
            "1 10 100\n",
            "max : 100\n"
          ]
        }
      ],
      "source": [
        "A = int(input())\n",
        "B = int(input())\n",
        "C = int(input())\n",
        "\n",
        "print(A, B, C)\n",
        "\n",
        "if A>B:\n",
        "    if A>C:\n",
        "        MAX = A\n",
        "    else:\n",
        "        MAX = C\n",
        "elif B>C:\n",
        "    MAX = B\n",
        "else:\n",
        "    MAX = C\n",
        "\n",
        "print(\"max :\", MAX)"
      ]
    },
    {
      "cell_type": "code",
      "execution_count": null,
      "id": "80f7bdcf",
      "metadata": {
        "id": "80f7bdcf"
      },
      "outputs": [],
      "source": []
    },
    {
      "cell_type": "markdown",
      "id": "de8e7811",
      "metadata": {
        "id": "de8e7811"
      },
      "source": [
        "## تمرین 1 امتیازی: برنامه ای بنویسید که سه مقدار از ورودی خوانده، مقدار کوچکتر را در خروجی چاپ میکند"
      ]
    },
    {
      "cell_type": "code",
      "execution_count": null,
      "id": "d194e050",
      "metadata": {
        "id": "d194e050"
      },
      "outputs": [],
      "source": []
    },
    {
      "cell_type": "code",
      "execution_count": null,
      "id": "a23e2f94",
      "metadata": {
        "id": "a23e2f94",
        "outputId": "e538c0b8-6e6f-4c07-df7b-eb062fc6e944"
      },
      "outputs": [
        {
          "name": "stdout",
          "output_type": "stream",
          "text": [
            "2\n",
            "10\n",
            "5\n",
            "min: 2\n"
          ]
        }
      ],
      "source": [
        "A = int(input())\n",
        "B = int(input())\n",
        "C = int(input())\n",
        "\n",
        "if A<B:\n",
        "    if A<C:\n",
        "        MIN = A\n",
        "    else:\n",
        "        MIN = C\n",
        "elif B<C:\n",
        "    MIN = B\n",
        "else:\n",
        "    MIN = C\n",
        "\n",
        "print(\"min:\", MIN)"
      ]
    },
    {
      "cell_type": "code",
      "execution_count": null,
      "id": "735ec0dc",
      "metadata": {
        "id": "735ec0dc"
      },
      "outputs": [],
      "source": []
    },
    {
      "cell_type": "markdown",
      "id": "900d742c",
      "metadata": {
        "id": "900d742c"
      },
      "source": [
        "## تمرین 2 امتیازی: برنامه ای بنویسید که عددی را خوانده، تشخیص میدهد، مثبت، صفر یا منفی است"
      ]
    },
    {
      "cell_type": "code",
      "execution_count": null,
      "id": "e78b81a4",
      "metadata": {
        "id": "e78b81a4"
      },
      "outputs": [],
      "source": []
    },
    {
      "cell_type": "code",
      "execution_count": null,
      "id": "26a26863",
      "metadata": {
        "id": "26a26863",
        "outputId": "2561748c-1e10-49a8-dbc2-f565a33287fc"
      },
      "outputs": [
        {
          "name": "stdout",
          "output_type": "stream",
          "text": [
            "2\n",
            "مثبت\n"
          ]
        }
      ],
      "source": [
        "A = int(input())\n",
        "\n",
        "if A>0:\n",
        "    print(\"مثبت\")\n",
        "elif A<0:\n",
        "    print(\"منفی\")\n",
        "else:\n",
        "    print(\"صفر\")"
      ]
    },
    {
      "cell_type": "code",
      "execution_count": null,
      "id": "b0308be4",
      "metadata": {
        "id": "b0308be4"
      },
      "outputs": [],
      "source": []
    },
    {
      "cell_type": "markdown",
      "id": "7906e71a",
      "metadata": {
        "id": "7906e71a"
      },
      "source": [
        "## تمرین 3 امتیازی: برنامه ای بنویسید که نمره عدد دانش آموزی را بر مبنای 100 خوانده و اگر نمره دانش آموز بین 90 تا 100 باشد نمره حرفی دانش آموز عالی، و اگر بین 80 تا 90 باشد نمره حرفی خیلی خوب و اگر بین 80 تا 70 باشد نمره حرفی خوب و در غیر اینصورت نمره حرفی ضعیف را نمایش میدهد."
      ]
    },
    {
      "cell_type": "code",
      "execution_count": null,
      "id": "60dde500",
      "metadata": {
        "id": "60dde500"
      },
      "outputs": [],
      "source": []
    },
    {
      "cell_type": "code",
      "execution_count": null,
      "id": "0734d513",
      "metadata": {
        "id": "0734d513",
        "outputId": "3c5a1b76-4e49-4634-daa6-931c527b8732"
      },
      "outputs": [
        {
          "name": "stdout",
          "output_type": "stream",
          "text": [
            "76\n",
            "خوب\n"
          ]
        }
      ],
      "source": [
        "A = int(input())\n",
        "\n",
        "if(90<=A<=100):\n",
        "    print(\"عالی\")\n",
        "elif(80<=A<90):\n",
        "    print(\"خیلی خوب\")\n",
        "elif(70<=A<80):\n",
        "    print(\"خوب\")\n",
        "else:\n",
        "    print(\"ضعیف\")"
      ]
    },
    {
      "cell_type": "code",
      "execution_count": null,
      "id": "8a0ebf4e",
      "metadata": {
        "id": "8a0ebf4e"
      },
      "outputs": [],
      "source": []
    },
    {
      "cell_type": "markdown",
      "id": "23ee06fd",
      "metadata": {
        "id": "23ee06fd"
      },
      "source": [
        "## سوال آزمون: برنامه ای بنویسید که سه مقدار از ورودی خوانده، مقدار کوچکتر را در خروجی چاپ میکند. در حل این تمرین از عملگرهای منطقی استفاده نمایید."
      ]
    },
    {
      "cell_type": "code",
      "execution_count": null,
      "id": "4554c06c",
      "metadata": {
        "id": "4554c06c"
      },
      "outputs": [],
      "source": []
    },
    {
      "cell_type": "code",
      "execution_count": null,
      "id": "aa86291a",
      "metadata": {
        "id": "aa86291a",
        "outputId": "ab7af1ee-5285-465a-fb32-30421c9a9ea2"
      },
      "outputs": [
        {
          "name": "stdout",
          "output_type": "stream",
          "text": [
            "100\n",
            "10\n",
            "1\n",
            "100 10 1\n",
            "max: 100\n"
          ]
        }
      ],
      "source": [
        "A = int(input())\n",
        "B = int(input())\n",
        "C = int(input())\n",
        "\n",
        "print(A, B, C)\n",
        "\n",
        "if (A>B and A>C):\n",
        "    MAX = A\n",
        "elif (B>A and B>C):\n",
        "    MAX = B\n",
        "else:\n",
        "    MAX = C\n",
        "\n",
        "print(\"max:\", MAX)"
      ]
    }
  ],
  "metadata": {
    "kernelspec": {
      "display_name": "Python 3 (ipykernel)",
      "language": "python",
      "name": "python3"
    },
    "language_info": {
      "codemirror_mode": {
        "name": "ipython",
        "version": 3
      },
      "file_extension": ".py",
      "mimetype": "text/x-python",
      "name": "python",
      "nbconvert_exporter": "python",
      "pygments_lexer": "ipython3",
      "version": "3.11.5"
    },
    "colab": {
      "provenance": [],
      "include_colab_link": true
    }
  },
  "nbformat": 4,
  "nbformat_minor": 5
}