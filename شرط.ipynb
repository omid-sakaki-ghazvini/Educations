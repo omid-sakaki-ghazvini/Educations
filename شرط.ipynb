{
  "cells": [
    {
      "cell_type": "markdown",
      "metadata": {
        "id": "view-in-github",
        "colab_type": "text"
      },
      "source": [
        "<a href=\"https://colab.research.google.com/github/omid-sakaki-ghazvini/Educations/blob/main/%D8%B4%D8%B1%D8%B7.ipynb\" target=\"_parent\"><img src=\"https://colab.research.google.com/assets/colab-badge.svg\" alt=\"Open In Colab\"/></a>"
      ]
    },
    {
      "cell_type": "markdown",
      "id": "1a9e87d4",
      "metadata": {
        "id": "1a9e87d4"
      },
      "source": [
        "# جملات شرطی در پایتون:"
      ]
    },
    {
      "cell_type": "markdown",
      "id": "5baf1d91",
      "metadata": {
        "id": "5baf1d91"
      },
      "source": [
        "## if\n",
        "## else"
      ]
    },
    {
      "cell_type": "markdown",
      "id": "70f60956",
      "metadata": {
        "id": "70f60956"
      },
      "source": [
        "## مثال اول: برنامه ای بنویسید که دو مقدار از ورودی خوانده، مقدار بزرگتر را در خروجی چاپ میکند"
      ]
    },
    {
      "cell_type": "markdown",
      "id": "81ca8417",
      "metadata": {
        "id": "81ca8417"
      },
      "source": [
        "![if_else.jpg](attachment:if_else.jpg)"
      ]
    },
    {
      "cell_type": "code",
      "execution_count": null,
      "id": "4bbb4b11",
      "metadata": {
        "id": "4bbb4b11",
        "outputId": "e4ccdf44-72a7-4545-fa52-30d8ada5d9af"
      },
      "outputs": [
        {
          "name": "stdout",
          "output_type": "stream",
          "text": [
            "2\n",
            "1\n",
            "2\n"
          ]
        }
      ],
      "source": [
        "A = int( input() )\n",
        "B = int( input() )\n",
        "\n",
        "if A > B :\n",
        "\n",
        "    MAX = A\n",
        "\n",
        "else:\n",
        "\n",
        "    MAX = B\n",
        "\n",
        "print(MAX)"
      ]
    },
    {
      "cell_type": "markdown",
      "id": "96bcc501",
      "metadata": {
        "id": "96bcc501"
      },
      "source": [
        "## تمرین 1 امتیازی: برنامه ای  بنویسید که عددی را دریافت کند و اگر عدد زوج بود کلمه زوج و اگر فرد بود کلمه فرد را در خروجی چاپ کند"
      ]
    },
    {
      "cell_type": "code",
      "execution_count": null,
      "id": "72eb2749",
      "metadata": {
        "id": "72eb2749"
      },
      "outputs": [],
      "source": []
    },
    {
      "cell_type": "code",
      "execution_count": null,
      "id": "2f6a2e9a",
      "metadata": {
        "id": "2f6a2e9a",
        "outputId": "0561a7c5-fd99-4239-c900-c0a25126e368"
      },
      "outputs": [
        {
          "name": "stdout",
          "output_type": "stream",
          "text": [
            "7\n",
            "فرد\n"
          ]
        }
      ],
      "source": [
        "A = int( input() )\n",
        "D = A%2\n",
        "\n",
        "if D==0 :\n",
        "    print(\"زوج\")\n",
        "else:\n",
        "    print(\"فرد\")"
      ]
    },
    {
      "cell_type": "code",
      "execution_count": null,
      "id": "22dfaa2c",
      "metadata": {
        "id": "22dfaa2c"
      },
      "outputs": [],
      "source": []
    },
    {
      "cell_type": "markdown",
      "id": "0a7c4ed3",
      "metadata": {
        "id": "0a7c4ed3"
      },
      "source": [
        "## تمرین 2 امتیازی: برنامه ای بنویسید که عددی را خوانده و قدر مطلق آن را در خروجی چاپ میکند"
      ]
    },
    {
      "cell_type": "code",
      "execution_count": null,
      "id": "2a3853bd",
      "metadata": {
        "id": "2a3853bd",
        "outputId": "04774ba1-e469-4d8c-99d0-b7c39692a274"
      },
      "outputs": [
        {
          "name": "stdout",
          "output_type": "stream",
          "text": [
            "-2\n",
            "2\n"
          ]
        }
      ],
      "source": [
        "A = int( input() )\n",
        "\n",
        "if A>=0 :\n",
        "    print(A)\n",
        "else:\n",
        "    print(-A)"
      ]
    },
    {
      "cell_type": "code",
      "execution_count": null,
      "id": "9dd28b1e",
      "metadata": {
        "id": "9dd28b1e"
      },
      "outputs": [],
      "source": []
    },
    {
      "cell_type": "markdown",
      "id": "12267b8a",
      "metadata": {
        "id": "12267b8a"
      },
      "source": [
        "# if\n",
        "# elif\n",
        "# else"
      ]
    },
    {
      "cell_type": "markdown",
      "id": "bf2b111e",
      "metadata": {
        "id": "bf2b111e"
      },
      "source": [
        "## مثال دوم: برنامه ای بنویسید که سه مقدار از ورودی خوانده، مقدار بزرگتر را در خروجی چاپ میکند"
      ]
    },
    {
      "cell_type": "markdown",
      "id": "f7aaadce",
      "metadata": {
        "id": "f7aaadce"
      },
      "source": [
        "![elif_if.jpg](attachment:elif_if.jpg)"
      ]
    },
    {
      "cell_type": "code",
      "execution_count": null,
      "id": "2f432c7a",
      "metadata": {
        "id": "2f432c7a",
        "outputId": "6434a70f-c769-4c91-dc83-ef229375d09d"
      },
      "outputs": [
        {
          "name": "stdout",
          "output_type": "stream",
          "text": [
            "1\n",
            "10\n",
            "100\n",
            "1 10 100\n",
            "max : 100\n"
          ]
        }
      ],
      "source": [
        "A = int(input())\n",
        "B = int(input())\n",
        "C = int(input())\n",
        "\n",
        "print(A, B, C)\n",
        "\n",
        "if A>B:\n",
        "    if A>C:\n",
        "        MAX = A\n",
        "    else:\n",
        "        MAX = C\n",
        "elif B>C:\n",
        "    MAX = B\n",
        "else:\n",
        "    MAX = C\n",
        "\n",
        "print(\"max :\", MAX)"
      ]
    },
    {
      "cell_type": "code",
      "execution_count": null,
      "id": "48b41b5a",
      "metadata": {
        "id": "48b41b5a"
      },
      "outputs": [],
      "source": []
    },
    {
      "cell_type": "markdown",
      "id": "65257e67",
      "metadata": {
        "id": "65257e67"
      },
      "source": [
        "## تمرین 1 امتیازی: برنامه ای بنویسید که سه مقدار از ورودی خوانده، مقدار کوچکتر را در خروجی چاپ میکند"
      ]
    },
    {
      "cell_type": "code",
      "execution_count": null,
      "id": "d194e050",
      "metadata": {
        "id": "d194e050"
      },
      "outputs": [],
      "source": []
    },
    {
      "cell_type": "code",
      "execution_count": null,
      "id": "a23e2f94",
      "metadata": {
        "id": "a23e2f94",
        "outputId": "64702449-4d88-489d-ea6b-839dfa6a40a8"
      },
      "outputs": [
        {
          "name": "stdout",
          "output_type": "stream",
          "text": [
            "2\n",
            "10\n",
            "5\n",
            "min: 2\n"
          ]
        }
      ],
      "source": [
        "A = int(input())\n",
        "B = int(input())\n",
        "C = int(input())\n",
        "\n",
        "if A<B:\n",
        "    if A<C:\n",
        "        MIN = A\n",
        "    else:\n",
        "        MIN = C\n",
        "elif B<C:\n",
        "    MIN = B\n",
        "else:\n",
        "    MIN = C\n",
        "\n",
        "print(\"min:\", MIN)"
      ]
    },
    {
      "cell_type": "code",
      "execution_count": null,
      "id": "735ec0dc",
      "metadata": {
        "id": "735ec0dc"
      },
      "outputs": [],
      "source": []
    },
    {
      "cell_type": "markdown",
      "id": "6adf16d2",
      "metadata": {
        "id": "6adf16d2"
      },
      "source": [
        "## تمرین 2 امتیازی: برنامه ای بنویسید که عددی را خوانده، تشخیص میدهد، مثبت، صفر یا منفی است"
      ]
    },
    {
      "cell_type": "code",
      "execution_count": null,
      "id": "e78b81a4",
      "metadata": {
        "id": "e78b81a4"
      },
      "outputs": [],
      "source": []
    },
    {
      "cell_type": "code",
      "execution_count": null,
      "id": "26a26863",
      "metadata": {
        "id": "26a26863",
        "outputId": "7bfe1b7b-007d-4e3c-d383-b07d8c58a868"
      },
      "outputs": [
        {
          "name": "stdout",
          "output_type": "stream",
          "text": [
            "2\n",
            "مثبت\n"
          ]
        }
      ],
      "source": [
        "A = int(input())\n",
        "\n",
        "if A>0:\n",
        "    print(\"مثبت\")\n",
        "elif A<0:\n",
        "    print(\"منفی\")\n",
        "else:\n",
        "    print(\"صفر\")"
      ]
    },
    {
      "cell_type": "code",
      "execution_count": null,
      "id": "b0308be4",
      "metadata": {
        "id": "b0308be4"
      },
      "outputs": [],
      "source": []
    },
    {
      "cell_type": "markdown",
      "id": "997f94c2",
      "metadata": {
        "id": "997f94c2"
      },
      "source": [
        "## تمرین 3 امتیازی: برنامه ای بنویسید که نمره عدد دانش آموزی را بر مبنای 100 خوانده و اگر نمره دانش آموز بین 90 تا 100 باشد نمره حرفی دانش آموز عالی، و اگر بین 80 تا 90 باشد نمره حرفی خیلی خوب و اگر بین 80 تا 70 باشد نمره حرفی خوب و در غیر اینصورت نمره حرفی ضعیف را نمایش میدهد."
      ]
    },
    {
      "cell_type": "code",
      "execution_count": null,
      "id": "60dde500",
      "metadata": {
        "id": "60dde500"
      },
      "outputs": [],
      "source": []
    },
    {
      "cell_type": "code",
      "execution_count": null,
      "id": "0734d513",
      "metadata": {
        "id": "0734d513",
        "outputId": "c2b5d3ae-adae-4a6a-f979-ed1c6aa157db"
      },
      "outputs": [
        {
          "name": "stdout",
          "output_type": "stream",
          "text": [
            "76\n",
            "خوب\n"
          ]
        }
      ],
      "source": [
        "A = int(input())\n",
        "\n",
        "if(90<=A<=100):\n",
        "    print(\"عالی\")\n",
        "elif(80<=A<90):\n",
        "    print(\"خیلی خوب\")\n",
        "elif(70<=A<80):\n",
        "    print(\"خوب\")\n",
        "else:\n",
        "    print(\"ضعیف\")"
      ]
    },
    {
      "cell_type": "code",
      "execution_count": null,
      "id": "8a0ebf4e",
      "metadata": {
        "id": "8a0ebf4e"
      },
      "outputs": [],
      "source": []
    },
    {
      "cell_type": "markdown",
      "id": "c2d2395f",
      "metadata": {
        "id": "c2d2395f"
      },
      "source": [
        "## سوال آزمون: برنامه ای بنویسید که سه مقدار از ورودی خوانده، مقدار کوچکتر را در خروجی چاپ میکند. در حل این تمرین از عملگرهای منطقی استفاده نمایید."
      ]
    },
    {
      "cell_type": "code",
      "execution_count": null,
      "id": "18bb1f10",
      "metadata": {
        "id": "18bb1f10"
      },
      "outputs": [],
      "source": []
    },
    {
      "cell_type": "code",
      "execution_count": null,
      "id": "aa86291a",
      "metadata": {
        "id": "aa86291a",
        "outputId": "2aa75787-fae8-4522-c0f7-877f391d4adb"
      },
      "outputs": [
        {
          "name": "stdout",
          "output_type": "stream",
          "text": [
            "100\n",
            "10\n",
            "1\n",
            "100 10 1\n",
            "max: 100\n"
          ]
        }
      ],
      "source": [
        "A = int(input())\n",
        "B = int(input())\n",
        "C = int(input())\n",
        "\n",
        "print(A, B, C)\n",
        "\n",
        "if (A>B and A>C):\n",
        "    MAX = A\n",
        "elif (B>A and B>C):\n",
        "    MAX = B\n",
        "else:\n",
        "    MAX = C\n",
        "\n",
        "print(\"max:\", MAX)"
      ]
    }
  ],
  "metadata": {
    "kernelspec": {
      "display_name": "Python 3 (ipykernel)",
      "language": "python",
      "name": "python3"
    },
    "language_info": {
      "codemirror_mode": {
        "name": "ipython",
        "version": 3
      },
      "file_extension": ".py",
      "mimetype": "text/x-python",
      "name": "python",
      "nbconvert_exporter": "python",
      "pygments_lexer": "ipython3",
      "version": "3.11.5"
    },
    "colab": {
      "provenance": [],
      "include_colab_link": true
    }
  },
  "nbformat": 4,
  "nbformat_minor": 5
}